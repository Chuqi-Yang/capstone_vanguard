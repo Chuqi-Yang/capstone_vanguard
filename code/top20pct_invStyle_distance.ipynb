{
  "nbformat": 4,
  "nbformat_minor": 0,
  "metadata": {
    "colab": {
      "name": "top20pct_invStyle_distance.ipynb",
      "provenance": [],
      "toc_visible": true
    },
    "kernelspec": {
      "name": "python3",
      "display_name": "Python 3"
    }
  },
  "cells": [
    {
      "cell_type": "code",
      "metadata": {
        "id": "jtccaylvk2d8",
        "outputId": "dbef0c8d-59d6-41a0-e8a4-468595dcbbe1",
        "colab": {
          "base_uri": "https://localhost:8080/"
        }
      },
      "source": [
        "from google.colab import drive\n",
        "drive.mount('/content/gdrive')"
      ],
      "execution_count": 1,
      "outputs": [
        {
          "output_type": "stream",
          "text": [
            "Mounted at /content/gdrive\n"
          ],
          "name": "stdout"
        }
      ]
    },
    {
      "cell_type": "code",
      "metadata": {
        "id": "UVyE53fYlJ1n"
      },
      "source": [
        "import pandas as pd\n",
        "import numpy as np\n",
        "import matplotlib.pyplot as plt\n",
        "\n",
        "%matplotlib inline"
      ],
      "execution_count": 2,
      "outputs": []
    },
    {
      "cell_type": "code",
      "metadata": {
        "id": "B6hDaXjBlMk9"
      },
      "source": [
        "# read in 13F results\n",
        "file_name = '/content/gdrive/My Drive/capstone/full database/Results_20160630_20200630.csv'\n",
        "df = pd.read_csv(file_name)"
      ],
      "execution_count": 3,
      "outputs": []
    },
    {
      "cell_type": "code",
      "metadata": {
        "id": "AfmtXfhEFKF2",
        "outputId": "5a3403d4-5a5e-4a91-ab8a-f09e793c5b74",
        "colab": {
          "base_uri": "https://localhost:8080/"
        }
      },
      "source": [
        "n_investors = df.LGCYINVESTORID.nunique()\n",
        "print('There are {} investors in 13F data.'.format(n_investors))"
      ],
      "execution_count": 4,
      "outputs": [
        {
          "output_type": "stream",
          "text": [
            "There are 6537 investors in 13F data.\n"
          ],
          "name": "stdout"
        }
      ]
    },
    {
      "cell_type": "code",
      "metadata": {
        "id": "NdXuee6cLPw5",
        "outputId": "c01f840c-6221-4e32-8c85-95a7d01be6a4",
        "colab": {
          "base_uri": "https://localhost:8080/"
        }
      },
      "source": [
        "# read in list of investors of interest\n",
        "ls_investors = pd.read_csv('/content/gdrive/My Drive/capstone/full database/ListOfInvestor.csv').LgcyInvestorID.to_list()\n",
        "print('There are {} investors which are we interested in.'.format(len(ls_investors)))"
      ],
      "execution_count": 5,
      "outputs": [
        {
          "output_type": "stream",
          "text": [
            "There are 229 investors which are we interested in.\n"
          ],
          "name": "stdout"
        }
      ]
    },
    {
      "cell_type": "code",
      "metadata": {
        "id": "JI1iP6aqDER5"
      },
      "source": [
        "# get those in 13F\n",
        "df_sub = df.loc[df['LGCYINVESTORID'].isin(ls_investors),['INSTRID', 'COMNAME', 'LGCYINVESTORID', 'FULLNAME', 'HOLDDATE', 'SHSHLDVAL']]\n",
        "\n",
        "# calculate the sum of SHSHLDVAL for each investor in each quarter\n",
        "df_sub['SHSHLDVAL_Sum_ByQuarter'] = df_sub.groupby(['LGCYINVESTORID','HOLDDATE']).transform('sum').drop(['INSTRID', 'FULLNAME'], axis = 1)\n",
        "\n",
        "# calculate the (13F only) pct of the SHSHLDVAL of each instrument in its investor's sum of SHSHLDVAL for each quarter \n",
        "# (i.e. revised version of 'PCTPORTFOLIO', so that sum up to 1)\n",
        "df_sub['PCTPORTFOLIO_13F'] = df_sub['SHSHLDVAL'] / df_sub['SHSHLDVAL_Sum_ByQuarter']"
      ],
      "execution_count": 6,
      "outputs": []
    },
    {
      "cell_type": "code",
      "metadata": {
        "id": "q3xJ3Xqmyvse"
      },
      "source": [
        "vanguard_id = '2004260'"
      ],
      "execution_count": 7,
      "outputs": []
    },
    {
      "cell_type": "markdown",
      "metadata": {
        "id": "jr87pV7JlVOf"
      },
      "source": [
        "## Feature: Top 20% pct\n",
        "\n",
        "Definition: the porportion of investment on top 20% of instruments.\n",
        "This represents the concentration of the investment. In other words, if this score is low, the investor prefers  distributed investment. Otherwise, the investor prefers concentrated investment."
      ]
    },
    {
      "cell_type": "markdown",
      "metadata": {
        "id": "G6vV4vCNZWax"
      },
      "source": [
        "### Create features for the listed investors"
      ]
    },
    {
      "cell_type": "code",
      "metadata": {
        "id": "Vep4KyKCl_4W"
      },
      "source": [
        "def topPct(df, pct=0.2 ,k=10):\n",
        "  n = len(df)\n",
        "  k = int(pct * n)\n",
        "  if k == 0:\n",
        "    k = 1\n",
        "  return sum(sorted(df)[-k:])/sum(df)\n",
        "\n",
        "df_toppct = df_sub.groupby(['LGCYINVESTORID','FULLNAME','HOLDDATE']).agg({'SHSHLDVAL': topPct}).reset_index()\n",
        "\n",
        "df_toppct.rename(columns={'SHSHLDVAL':'TOP20%SHSHLDVALpct'},inplace=True)"
      ],
      "execution_count": 8,
      "outputs": []
    },
    {
      "cell_type": "code",
      "metadata": {
        "id": "VeXQj_0FmDBz",
        "outputId": "9a104bb0-6c8b-4b68-e982-fb3050739ac2",
        "colab": {
          "base_uri": "https://localhost:8080/"
        }
      },
      "source": [
        "df_toppct.LGCYINVESTORID.nunique()"
      ],
      "execution_count": 14,
      "outputs": [
        {
          "output_type": "execute_result",
          "data": {
            "text/plain": [
              "229"
            ]
          },
          "metadata": {
            "tags": []
          },
          "execution_count": 14
        }
      ]
    },
    {
      "cell_type": "code",
      "metadata": {
        "id": "qPKmuFdpmG59"
      },
      "source": [
        "# df_toppct.to_csv('/content/gdrive/My Drive/capstone/full database/TOP20%SHSHLDVALpct_20160630_20200630.csv',index=False)"
      ],
      "execution_count": null,
      "outputs": []
    },
    {
      "cell_type": "markdown",
      "metadata": {
        "id": "E3jfUcAjZfND"
      },
      "source": [
        "### Compute DTW distance to vanguard\n"
      ]
    },
    {
      "cell_type": "code",
      "metadata": {
        "id": "BU4UmLRtWS0v"
      },
      "source": [
        "! pip install tslearn\n",
        "from tslearn.clustering import TimeSeriesKMeans\n",
        "from tslearn.metrics import dtw, dtw_path\n",
        "from tslearn.utils import to_time_series_dataset"
      ],
      "execution_count": null,
      "outputs": []
    },
    {
      "cell_type": "code",
      "metadata": {
        "id": "fW4uoOJqXogS"
      },
      "source": [
        "def DTW_distance(invID_1, invID_2, inves_instr_pivot):\n",
        "  # get the time-series holding data of the two investors for this instrument\n",
        "  ts_inv_1 = inves_instr_pivot[inves_instr_pivot.LGCYINVESTORID==int(invID_1)][\"TOP20%SHSHLDVALpct\"]\n",
        "  ts_inv_2 = inves_instr_pivot[inves_instr_pivot.LGCYINVESTORID==int(invID_2)][\"TOP20%SHSHLDVALpct\"]\n",
        "  DTW_score = dtw(ts_inv_1, ts_inv_2)\n",
        "  return DTW_score"
      ],
      "execution_count": 12,
      "outputs": []
    },
    {
      "cell_type": "code",
      "metadata": {
        "id": "FUFSNFgLYhuL"
      },
      "source": [
        "investor_list = list(df_toppct.LGCYINVESTORID.unique())\n",
        "\n",
        "distance_to_vanguard_list = []\n",
        "\n",
        "for investor in investor_list:\n",
        "  distance_to_vanguard = DTW_distance(investor, vanguard_id, inves_instr_pivot = df_toppct)\n",
        "  distance_to_vanguard_list.append(distance_to_vanguard)\n",
        "\n",
        "\n",
        "distance_to_vanguard_df = pd.DataFrame({\n",
        "    'investor_id': investor_list,\n",
        "    'TOP20%SHSHLDVALpct_distance_to_vanguard': distance_to_vanguard_list\n",
        "})"
      ],
      "execution_count": 16,
      "outputs": []
    },
    {
      "cell_type": "code",
      "metadata": {
        "id": "Mwi-zdLqbuH3"
      },
      "source": [
        "merged = pd.merge(distance_to_vanguard_df, df_sub[['LGCYINVESTORID','FULLNAME']], 'left', left_on='investor_id', right_on='LGCYINVESTORID')\n",
        "merged = merged.drop_duplicates(subset='LGCYINVESTORID').drop(['investor_id'], axis=1)\n",
        "merged = merged.sort_values(by = ['TOP20%SHSHLDVALpct_distance_to_vanguard'])"
      ],
      "execution_count": 17,
      "outputs": []
    },
    {
      "cell_type": "code",
      "metadata": {
        "id": "MF6EnIsJceI7",
        "outputId": "5c221988-f917-42ce-f529-c8494084f637",
        "colab": {
          "base_uri": "https://localhost:8080/",
          "height": 419
        }
      },
      "source": [
        "merged"
      ],
      "execution_count": null,
      "outputs": [
        {
          "output_type": "execute_result",
          "data": {
            "text/html": [
              "<div>\n",
              "<style scoped>\n",
              "    .dataframe tbody tr th:only-of-type {\n",
              "        vertical-align: middle;\n",
              "    }\n",
              "\n",
              "    .dataframe tbody tr th {\n",
              "        vertical-align: top;\n",
              "    }\n",
              "\n",
              "    .dataframe thead th {\n",
              "        text-align: right;\n",
              "    }\n",
              "</style>\n",
              "<table border=\"1\" class=\"dataframe\">\n",
              "  <thead>\n",
              "    <tr style=\"text-align: right;\">\n",
              "      <th></th>\n",
              "      <th>TOP20%SHSHLDVALpct_distance_to_vanguard</th>\n",
              "      <th>LGCYINVESTORID</th>\n",
              "      <th>FULLNAME</th>\n",
              "    </tr>\n",
              "  </thead>\n",
              "  <tbody>\n",
              "    <tr>\n",
              "      <th>2169490</th>\n",
              "      <td>0.000000</td>\n",
              "      <td>2004260</td>\n",
              "      <td>The Vanguard Group, Inc.</td>\n",
              "    </tr>\n",
              "    <tr>\n",
              "      <th>1130332</th>\n",
              "      <td>0.019160</td>\n",
              "      <td>2003003</td>\n",
              "      <td>BlackRock Investment Management, LLC</td>\n",
              "    </tr>\n",
              "    <tr>\n",
              "      <th>892525</th>\n",
              "      <td>0.020221</td>\n",
              "      <td>2002848</td>\n",
              "      <td>Columbia Threadneedle Investments (US)</td>\n",
              "    </tr>\n",
              "    <tr>\n",
              "      <th>459494</th>\n",
              "      <td>0.031636</td>\n",
              "      <td>2002506</td>\n",
              "      <td>BNY Mellon Asset Management</td>\n",
              "    </tr>\n",
              "    <tr>\n",
              "      <th>1763709</th>\n",
              "      <td>0.035371</td>\n",
              "      <td>2003354</td>\n",
              "      <td>Wellington Management Company, LLP</td>\n",
              "    </tr>\n",
              "    <tr>\n",
              "      <th>...</th>\n",
              "      <td>...</td>\n",
              "      <td>...</td>\n",
              "      <td>...</td>\n",
              "    </tr>\n",
              "    <tr>\n",
              "      <th>0</th>\n",
              "      <td>2.210230</td>\n",
              "      <td>2000264</td>\n",
              "      <td>Lone Pine Capital, L.L.C.</td>\n",
              "    </tr>\n",
              "    <tr>\n",
              "      <th>2719794</th>\n",
              "      <td>2.211626</td>\n",
              "      <td>2275507</td>\n",
              "      <td>Franklin Templeton Investimentos (Brasil), Ltda.</td>\n",
              "    </tr>\n",
              "    <tr>\n",
              "      <th>2716708</th>\n",
              "      <td>2.237419</td>\n",
              "      <td>2113769</td>\n",
              "      <td>Legg Mason Asset Management (Japan) Co., Ltd.</td>\n",
              "    </tr>\n",
              "    <tr>\n",
              "      <th>3508495</th>\n",
              "      <td>2.338202</td>\n",
              "      <td>4040011</td>\n",
              "      <td>Trian Fund Management, L.P.</td>\n",
              "    </tr>\n",
              "    <tr>\n",
              "      <th>3493762</th>\n",
              "      <td>2.608739</td>\n",
              "      <td>3676543</td>\n",
              "      <td>Pershing Square Capital Management, L.P.</td>\n",
              "    </tr>\n",
              "  </tbody>\n",
              "</table>\n",
              "<p>227 rows × 3 columns</p>\n",
              "</div>"
            ],
            "text/plain": [
              "         TOP20%SHSHLDVALpct_distance_to_vanguard  ...                                          FULLNAME\n",
              "2169490                                 0.000000  ...                          The Vanguard Group, Inc.\n",
              "1130332                                 0.019160  ...              BlackRock Investment Management, LLC\n",
              "892525                                  0.020221  ...            Columbia Threadneedle Investments (US)\n",
              "459494                                  0.031636  ...                       BNY Mellon Asset Management\n",
              "1763709                                 0.035371  ...                Wellington Management Company, LLP\n",
              "...                                          ...  ...                                               ...\n",
              "0                                       2.210230  ...                         Lone Pine Capital, L.L.C.\n",
              "2719794                                 2.211626  ...  Franklin Templeton Investimentos (Brasil), Ltda.\n",
              "2716708                                 2.237419  ...     Legg Mason Asset Management (Japan) Co., Ltd.\n",
              "3508495                                 2.338202  ...                       Trian Fund Management, L.P.\n",
              "3493762                                 2.608739  ...          Pershing Square Capital Management, L.P.\n",
              "\n",
              "[227 rows x 3 columns]"
            ]
          },
          "metadata": {
            "tags": []
          },
          "execution_count": 224
        }
      ]
    },
    {
      "cell_type": "code",
      "metadata": {
        "id": "ZRpvUM9icQHk"
      },
      "source": [
        "# df_toppct.to_csv('/content/gdrive/My Drive/capstone_own/TOP20%SHSHLDVALpct_list.csv')\n",
        "# merged.to_csv('/content/gdrive/My Drive/capstone_own/TOP20%SHSHLDVALpct_distance_to_vanguard_df.csv')"
      ],
      "execution_count": 20,
      "outputs": []
    },
    {
      "cell_type": "code",
      "metadata": {
        "id": "lkE_RZr1bo01",
        "outputId": "df35cbc7-8abe-4007-d826-59d18961a847",
        "colab": {
          "base_uri": "https://localhost:8080/",
          "height": 419
        }
      },
      "source": [
        "df_toppct"
      ],
      "execution_count": 161,
      "outputs": [
        {
          "output_type": "execute_result",
          "data": {
            "text/html": [
              "<div>\n",
              "<style scoped>\n",
              "    .dataframe tbody tr th:only-of-type {\n",
              "        vertical-align: middle;\n",
              "    }\n",
              "\n",
              "    .dataframe tbody tr th {\n",
              "        vertical-align: top;\n",
              "    }\n",
              "\n",
              "    .dataframe thead th {\n",
              "        text-align: right;\n",
              "    }\n",
              "</style>\n",
              "<table border=\"1\" class=\"dataframe\">\n",
              "  <thead>\n",
              "    <tr style=\"text-align: right;\">\n",
              "      <th></th>\n",
              "      <th>LGCYINVESTORID</th>\n",
              "      <th>FULLNAME</th>\n",
              "      <th>HOLDDATE</th>\n",
              "      <th>TOP20%SHSHLDVALpct</th>\n",
              "    </tr>\n",
              "  </thead>\n",
              "  <tbody>\n",
              "    <tr>\n",
              "      <th>0</th>\n",
              "      <td>2000264</td>\n",
              "      <td>Lone Pine Capital, L.L.C.</td>\n",
              "      <td>2016-06-30 00:00:00</td>\n",
              "      <td>0.383612</td>\n",
              "    </tr>\n",
              "    <tr>\n",
              "      <th>1</th>\n",
              "      <td>2000264</td>\n",
              "      <td>Lone Pine Capital, L.L.C.</td>\n",
              "      <td>2016-09-30 00:00:00</td>\n",
              "      <td>0.335504</td>\n",
              "    </tr>\n",
              "    <tr>\n",
              "      <th>2</th>\n",
              "      <td>2000264</td>\n",
              "      <td>Lone Pine Capital, L.L.C.</td>\n",
              "      <td>2016-12-31 00:00:00</td>\n",
              "      <td>0.338615</td>\n",
              "    </tr>\n",
              "    <tr>\n",
              "      <th>3</th>\n",
              "      <td>2000264</td>\n",
              "      <td>Lone Pine Capital, L.L.C.</td>\n",
              "      <td>2017-03-31 00:00:00</td>\n",
              "      <td>0.398285</td>\n",
              "    </tr>\n",
              "    <tr>\n",
              "      <th>4</th>\n",
              "      <td>2000264</td>\n",
              "      <td>Lone Pine Capital, L.L.C.</td>\n",
              "      <td>2017-06-30 00:00:00</td>\n",
              "      <td>0.397128</td>\n",
              "    </tr>\n",
              "    <tr>\n",
              "      <th>...</th>\n",
              "      <td>...</td>\n",
              "      <td>...</td>\n",
              "      <td>...</td>\n",
              "      <td>...</td>\n",
              "    </tr>\n",
              "    <tr>\n",
              "      <th>3684</th>\n",
              "      <td>10233291</td>\n",
              "      <td>Lighthouse Wealth Management</td>\n",
              "      <td>2020-03-31 00:00:00</td>\n",
              "      <td>0.565941</td>\n",
              "    </tr>\n",
              "    <tr>\n",
              "      <th>3685</th>\n",
              "      <td>10233291</td>\n",
              "      <td>Lighthouse Wealth Management</td>\n",
              "      <td>2020-06-30 00:00:00</td>\n",
              "      <td>0.622533</td>\n",
              "    </tr>\n",
              "    <tr>\n",
              "      <th>3686</th>\n",
              "      <td>10235680</td>\n",
              "      <td>Quilter Cheviot Europe Ltd</td>\n",
              "      <td>2019-12-31 00:00:00</td>\n",
              "      <td>0.761452</td>\n",
              "    </tr>\n",
              "    <tr>\n",
              "      <th>3687</th>\n",
              "      <td>10235680</td>\n",
              "      <td>Quilter Cheviot Europe Ltd</td>\n",
              "      <td>2020-03-31 00:00:00</td>\n",
              "      <td>0.793639</td>\n",
              "    </tr>\n",
              "    <tr>\n",
              "      <th>3688</th>\n",
              "      <td>10235680</td>\n",
              "      <td>Quilter Cheviot Europe Ltd</td>\n",
              "      <td>2020-06-30 00:00:00</td>\n",
              "      <td>0.789465</td>\n",
              "    </tr>\n",
              "  </tbody>\n",
              "</table>\n",
              "<p>3689 rows × 4 columns</p>\n",
              "</div>"
            ],
            "text/plain": [
              "      LGCYINVESTORID  ... TOP20%SHSHLDVALpct\n",
              "0            2000264  ...           0.383612\n",
              "1            2000264  ...           0.335504\n",
              "2            2000264  ...           0.338615\n",
              "3            2000264  ...           0.398285\n",
              "4            2000264  ...           0.397128\n",
              "...              ...  ...                ...\n",
              "3684        10233291  ...           0.565941\n",
              "3685        10233291  ...           0.622533\n",
              "3686        10235680  ...           0.761452\n",
              "3687        10235680  ...           0.793639\n",
              "3688        10235680  ...           0.789465\n",
              "\n",
              "[3689 rows x 4 columns]"
            ]
          },
          "metadata": {
            "tags": []
          },
          "execution_count": 161
        }
      ]
    },
    {
      "cell_type": "markdown",
      "metadata": {
        "id": "jjarw0qcsFmk"
      },
      "source": [
        "## Feature: investment style, Industry, market of Investors' contacts"
      ]
    },
    {
      "cell_type": "markdown",
      "metadata": {
        "id": "blf3AdqrsnyR"
      },
      "source": [
        "### Get description of different specialized code\n",
        "\n",
        "We need to map with Own2Code(Type_=13) to get the description of the SpecCode.\n",
        "SpecCat:\n",
        "  - SpecCap == 1: Industry\n",
        "    - Code in Own2Code: IS (201 different)\n",
        "    - Code in data: xx\n",
        "    - **Problem: IS193,IS194,IS195,IS196**\n",
        "  - SpecCap == 3: Market Capitalization range in which the Investor Contact specializes\n",
        "    - Code in Own2Code: MCS1 - MCS4\n",
        "    - Code in data: 224 225 226 227\n",
        "  - SpecCap == 4: Investment Style \n",
        "    - Code in Own2Code: ISS1 - ISS20(ISS19 not exists)\n",
        "    - Code in data: 201 - 220 \n",
        "    - **Problem: ISS19 not exists**"
      ]
    },
    {
      "cell_type": "code",
      "metadata": {
        "id": "9SLBFjnvsnJ5"
      },
      "source": [
        "# read in contacts info for investors in 13F\n",
        "contact_info = '/content/gdrive/My Drive/capstone/full database/ContactResults.csv'\n",
        "contact_df = pd.read_csv(contact_info)"
      ],
      "execution_count": 21,
      "outputs": []
    },
    {
      "cell_type": "code",
      "metadata": {
        "id": "q2zrvUFmwYKA",
        "outputId": "bdd417bf-fba9-429b-f7e2-72af67d90943",
        "colab": {
          "base_uri": "https://localhost:8080/",
          "height": 289
        }
      },
      "source": [
        "contact_df.head()"
      ],
      "execution_count": 22,
      "outputs": [
        {
          "output_type": "execute_result",
          "data": {
            "text/html": [
              "<div>\n",
              "<style scoped>\n",
              "    .dataframe tbody tr th:only-of-type {\n",
              "        vertical-align: middle;\n",
              "    }\n",
              "\n",
              "    .dataframe tbody tr th {\n",
              "        vertical-align: top;\n",
              "    }\n",
              "\n",
              "    .dataframe thead th {\n",
              "        text-align: right;\n",
              "    }\n",
              "</style>\n",
              "<table border=\"1\" class=\"dataframe\">\n",
              "  <thead>\n",
              "    <tr style=\"text-align: right;\">\n",
              "      <th></th>\n",
              "      <th>LgcyInvestorId</th>\n",
              "      <th>LgcyPersonId</th>\n",
              "      <th>ContRole</th>\n",
              "      <th>ContRank</th>\n",
              "      <th>FirstName</th>\n",
              "      <th>LastName</th>\n",
              "      <th>Gender</th>\n",
              "      <th>SpecCat</th>\n",
              "      <th>SpecCode</th>\n",
              "    </tr>\n",
              "  </thead>\n",
              "  <tbody>\n",
              "    <tr>\n",
              "      <th>0</th>\n",
              "      <td>2002008</td>\n",
              "      <td>9</td>\n",
              "      <td>Chief Investment Officer</td>\n",
              "      <td>1</td>\n",
              "      <td>Howard</td>\n",
              "      <td>Abner</td>\n",
              "      <td>M</td>\n",
              "      <td>1</td>\n",
              "      <td>95</td>\n",
              "    </tr>\n",
              "    <tr>\n",
              "      <th>1</th>\n",
              "      <td>2002008</td>\n",
              "      <td>9</td>\n",
              "      <td>Chief Investment Officer</td>\n",
              "      <td>1</td>\n",
              "      <td>Howard</td>\n",
              "      <td>Abner</td>\n",
              "      <td>M</td>\n",
              "      <td>4</td>\n",
              "      <td>202</td>\n",
              "    </tr>\n",
              "    <tr>\n",
              "      <th>2</th>\n",
              "      <td>2002008</td>\n",
              "      <td>9</td>\n",
              "      <td>Chief Investment Officer</td>\n",
              "      <td>1</td>\n",
              "      <td>Howard</td>\n",
              "      <td>Abner</td>\n",
              "      <td>M</td>\n",
              "      <td>4</td>\n",
              "      <td>208</td>\n",
              "    </tr>\n",
              "    <tr>\n",
              "      <th>3</th>\n",
              "      <td>2002008</td>\n",
              "      <td>9</td>\n",
              "      <td>Chief Investment Officer</td>\n",
              "      <td>1</td>\n",
              "      <td>Howard</td>\n",
              "      <td>Abner</td>\n",
              "      <td>M</td>\n",
              "      <td>4</td>\n",
              "      <td>216</td>\n",
              "    </tr>\n",
              "    <tr>\n",
              "      <th>4</th>\n",
              "      <td>2002008</td>\n",
              "      <td>9</td>\n",
              "      <td>Chief Investment Officer</td>\n",
              "      <td>1</td>\n",
              "      <td>Howard</td>\n",
              "      <td>Abner</td>\n",
              "      <td>M</td>\n",
              "      <td>4</td>\n",
              "      <td>217</td>\n",
              "    </tr>\n",
              "  </tbody>\n",
              "</table>\n",
              "</div>"
            ],
            "text/plain": [
              "   LgcyInvestorId  LgcyPersonId  ... SpecCat  SpecCode\n",
              "0         2002008             9  ...       1        95\n",
              "1         2002008             9  ...       4       202\n",
              "2         2002008             9  ...       4       208\n",
              "3         2002008             9  ...       4       216\n",
              "4         2002008             9  ...       4       217\n",
              "\n",
              "[5 rows x 9 columns]"
            ]
          },
          "metadata": {
            "tags": []
          },
          "execution_count": 22
        }
      ]
    },
    {
      "cell_type": "code",
      "metadata": {
        "id": "5KvbdQwZtYo9"
      },
      "source": [
        "# read in code table\n",
        "code_file_name = '/content/gdrive/My Drive/capstone/full database/Own2Code.xlsx'\n",
        "code_df = pd.read_excel(code_file_name)\n",
        "code_df = code_df.fillna('9999999')\n",
        "spec_code_df = code_df[code_df.Type_ == 13]"
      ],
      "execution_count": 23,
      "outputs": []
    },
    {
      "cell_type": "code",
      "metadata": {
        "id": "ANgNfJuCskdz"
      },
      "source": [
        "def explanation_spec(SpecCat, SpecCode):\n",
        "  if pd.isna(SpecCat) or pd.isna(SpecCode):\n",
        "    return \n",
        "  SpecCode = int(SpecCode)\n",
        "  try:\n",
        "    if SpecCat == 1:\n",
        "      return 'Industry_' + spec_code_df[spec_code_df.Code == ('IS'+str(SpecCode))] ['Desc_'].values[0]\n",
        "    elif SpecCat == 3:\n",
        "      return 'Market_' + spec_code_df[spec_code_df.Code == ('MCS'+str(SpecCode-223))]['Desc_'].values[0]\n",
        "    elif SpecCat == 4:\n",
        "      return 'InvStyle_' + spec_code_df[spec_code_df.Code == ('ISS'+str(SpecCode-200))]['Desc_'].values[0]\n",
        "  except:\n",
        "    No_explanation.append((SpecCat, SpecCode))\n",
        "    return 'No_explanation'"
      ],
      "execution_count": 24,
      "outputs": []
    },
    {
      "cell_type": "code",
      "metadata": {
        "id": "yqdcJbHXvvqW"
      },
      "source": [
        "No_explanation = []\n",
        "contact_df['SpecDesc_'] = contact_df.apply(lambda x: explanation_spec(x.SpecCat, x.SpecCode), axis=1)"
      ],
      "execution_count": 25,
      "outputs": []
    },
    {
      "cell_type": "code",
      "metadata": {
        "id": "i36fyGyizjqZ",
        "outputId": "5047c342-b998-404d-8cae-221f8d58f2da",
        "colab": {
          "base_uri": "https://localhost:8080/"
        }
      },
      "source": [
        "# part of specCat don't have specDesc_\n",
        "from collections import Counter\n",
        "Counter(No_explanation)"
      ],
      "execution_count": 26,
      "outputs": [
        {
          "output_type": "execute_result",
          "data": {
            "text/plain": [
              "Counter({(1, 193): 653,\n",
              "         (1, 194): 15,\n",
              "         (1, 195): 9,\n",
              "         (1, 196): 273,\n",
              "         (4, 219): 1195})"
            ]
          },
          "metadata": {
            "tags": []
          },
          "execution_count": 26
        }
      ]
    },
    {
      "cell_type": "code",
      "metadata": {
        "id": "ir-lObITF-qS"
      },
      "source": [
        "# Remove those with no explanation\n",
        "contact_df = contact_df[contact_df['SpecDesc_'] != 'No_explanation']"
      ],
      "execution_count": 27,
      "outputs": []
    },
    {
      "cell_type": "markdown",
      "metadata": {
        "id": "1TS3KT5q6Uzy"
      },
      "source": [
        "### Aggregate for each investor"
      ]
    },
    {
      "cell_type": "code",
      "metadata": {
        "id": "foN3tA8334C5"
      },
      "source": [
        "investor_style = pd.pivot_table(contact_df,index=['LgcyInvestorId'],columns=['SpecCat','SpecDesc_'], values=['LgcyPersonId'],aggfunc='count')\n",
        "# investor_style.fillna(0,inplace=True)\n",
        "investor_style.columns = investor_style.columns.droplevel()"
      ],
      "execution_count": 28,
      "outputs": []
    },
    {
      "cell_type": "code",
      "metadata": {
        "id": "G7chYlm_5zvC",
        "outputId": "a6ea039c-4c02-4f4e-9c3e-5b513733cecc",
        "colab": {
          "base_uri": "https://localhost:8080/"
        }
      },
      "source": [
        "print('{}({}) investors in 13F have contact info.'.format(len(investor_style), len(investor_style)/n_investors))"
      ],
      "execution_count": 29,
      "outputs": [
        {
          "output_type": "stream",
          "text": [
            "6302(0.9640507878231604) investors in 13F have contact info.\n"
          ],
          "name": "stdout"
        }
      ]
    },
    {
      "cell_type": "code",
      "metadata": {
        "id": "5B7jMtnw_gGu"
      },
      "source": [
        "# contact_df.groupby(['LgcyInvestorId','SpecCat','SpecDesc_']).agg({'LgcyPersonId':'count'}).reset_index().to_csv('investstyle.csv')"
      ],
      "execution_count": 30,
      "outputs": []
    },
    {
      "cell_type": "markdown",
      "metadata": {
        "id": "PLD4lt4KJTqJ"
      },
      "source": [
        "### Create features for the listed investors"
      ]
    },
    {
      "cell_type": "code",
      "metadata": {
        "id": "O3VlvupMJSqH"
      },
      "source": [
        "investor_style_sub = investor_style[investor_style.index.isin(ls_investors)]"
      ],
      "execution_count": 31,
      "outputs": []
    },
    {
      "cell_type": "code",
      "metadata": {
        "id": "lacAO9-dtaM0",
        "outputId": "4f7c744b-6f77-4ddc-8e95-143785ba3dbd",
        "colab": {
          "base_uri": "https://localhost:8080/",
          "height": 282
        }
      },
      "source": [
        "# whether we need to do tf-idf\n",
        "investor_style_sub[1].sum(axis=0).hist()"
      ],
      "execution_count": 32,
      "outputs": [
        {
          "output_type": "execute_result",
          "data": {
            "text/plain": [
              "<matplotlib.axes._subplots.AxesSubplot at 0x7f02d04e2e80>"
            ]
          },
          "metadata": {
            "tags": []
          },
          "execution_count": 32
        },
        {
          "output_type": "display_data",
          "data": {
            "image/png": "[encoded data removed]",
            "text/plain": [
              "<Figure size 432x288 with 1 Axes>"
            ]
          },
          "metadata": {
            "tags": [],
            "needs_background": "light"
          }
        }
      ]
    },
    {
      "cell_type": "code",
      "metadata": {
        "id": "QVmlS-FvyJtP",
        "outputId": "209d8a06-978c-41f5-f85f-b25f684cb555",
        "colab": {
          "base_uri": "https://localhost:8080/"
        }
      },
      "source": [
        "investor_style_sub[1].sum(axis=0).sort_values()"
      ],
      "execution_count": 33,
      "outputs": [
        {
          "output_type": "execute_result",
          "data": {
            "text/plain": [
              "SpecDesc_\n",
              "Industry_Oil & Gas (Domestic Integ        3.0\n",
              "Industry_Oil & Gas (Refining & Mkt        4.0\n",
              "Industry_Airlines                         4.0\n",
              "Industry_Services (Commercial Cons        4.0\n",
              "Industry_Broadcasting (TV,Radio,Ca        4.0\n",
              "                                       ...   \n",
              "Industry_Paper & Forest Products        931.0\n",
              "Industry_Machinery                     1028.0\n",
              "Industry_Household Products (Non-D     1118.0\n",
              "Industry_Health Care                   1355.0\n",
              "Industry_Retail Stores-Food Chains    16840.0\n",
              "Length: 181, dtype: float64"
            ]
          },
          "metadata": {
            "tags": []
          },
          "execution_count": 33
        }
      ]
    },
    {
      "cell_type": "code",
      "metadata": {
        "id": "LQDTW6KyyTrP",
        "outputId": "4dadee53-a0a1-4e3f-9ed7-ad6cc0838122",
        "colab": {
          "base_uri": "https://localhost:8080/",
          "height": 282
        }
      },
      "source": [
        "# whether we need to do tf-idf\n",
        "investor_style_sub[3].sum(axis=0).hist()"
      ],
      "execution_count": 34,
      "outputs": [
        {
          "output_type": "execute_result",
          "data": {
            "text/plain": [
              "<matplotlib.axes._subplots.AxesSubplot at 0x7f02d0480668>"
            ]
          },
          "metadata": {
            "tags": []
          },
          "execution_count": 34
        },
        {
          "output_type": "display_data",
          "data": {
            "image/png": "[encoded data removed]",
            "text/plain": [
              "<Figure size 432x288 with 1 Axes>"
            ]
          },
          "metadata": {
            "tags": [],
            "needs_background": "light"
          }
        }
      ]
    },
    {
      "cell_type": "code",
      "metadata": {
        "id": "pRD7DUd1yTrU",
        "outputId": "b7ca9468-914d-4505-ddcb-741cfc708eb5",
        "colab": {
          "base_uri": "https://localhost:8080/"
        }
      },
      "source": [
        "investor_style_sub[3].sum(axis=0).sort_values()"
      ],
      "execution_count": 35,
      "outputs": [
        {
          "output_type": "execute_result",
          "data": {
            "text/plain": [
              "SpecDesc_\n",
              "Market_Micro Cap     367.0\n",
              "Market_Mid Cap      1270.0\n",
              "Market_Large Cap    1312.0\n",
              "Market_Small Cap    1412.0\n",
              "dtype: float64"
            ]
          },
          "metadata": {
            "tags": []
          },
          "execution_count": 35
        }
      ]
    },
    {
      "cell_type": "code",
      "metadata": {
        "id": "A9ygrDsByYfA",
        "outputId": "ceeb79af-8611-4f2e-e6b0-e4a8b99f57c7",
        "colab": {
          "base_uri": "https://localhost:8080/",
          "height": 282
        }
      },
      "source": [
        "# whether we need to do td-idf\n",
        "investor_style_sub[4].sum(axis=0).hist()"
      ],
      "execution_count": 36,
      "outputs": [
        {
          "output_type": "execute_result",
          "data": {
            "text/plain": [
              "<matplotlib.axes._subplots.AxesSubplot at 0x7f02d1036208>"
            ]
          },
          "metadata": {
            "tags": []
          },
          "execution_count": 36
        },
        {
          "output_type": "display_data",
          "data": {
            "image/png": "[encoded data removed]",
            "text/plain": [
              "<Figure size 432x288 with 1 Axes>"
            ]
          },
          "metadata": {
            "tags": [],
            "needs_background": "light"
          }
        }
      ]
    },
    {
      "cell_type": "code",
      "metadata": {
        "id": "7K8jJfLGyYfD",
        "outputId": "3f26f6fa-1823-47a5-bb4c-93117daa82bf",
        "colab": {
          "base_uri": "https://localhost:8080/"
        }
      },
      "source": [
        "investor_style_sub[4].sum(axis=0).sort_values()"
      ],
      "execution_count": 37,
      "outputs": [
        {
          "output_type": "execute_result",
          "data": {
            "text/plain": [
              "SpecDesc_\n",
              "InvStyle_Technicals                  0.0\n",
              "InvStyle_Private Equity             23.0\n",
              "InvStyle_Quantitative               24.0\n",
              "InvStyle_Growth                     29.0\n",
              "InvStyle_Social Awareness           65.0\n",
              "InvStyle_Sector Rotational          68.0\n",
              "InvStyle_Venture Capital            89.0\n",
              "InvStyle_Shareholder Activist      186.0\n",
              "InvStyle_Special Situations        197.0\n",
              "InvStyle_GARP                      734.0\n",
              "InvStyle_Index                     930.0\n",
              "InvStyle_Short Selling             990.0\n",
              "InvStyle_Value                    1083.0\n",
              "InvStyle_Arbitrage                1236.0\n",
              "InvStyle_Income                   1242.0\n",
              "InvStyle_Aggres. Gr.              1332.0\n",
              "InvStyle_Convertible Arbitrage    1423.0\n",
              "InvStyle_Emerging Markets         3749.0\n",
              "dtype: float64"
            ]
          },
          "metadata": {
            "tags": []
          },
          "execution_count": 37
        }
      ]
    },
    {
      "cell_type": "code",
      "metadata": {
        "id": "Wh3UnIrzPdVP"
      },
      "source": [
        "# compute weight, use idf\n",
        "industry_weight = np.log(len(investor_style_sub) / (investor_style_sub[1].count(axis=0) + 1))\n",
        "invStyle_weight = np.log(len(investor_style_sub) / (investor_style_sub[4].count(axis=0) + 1))"
      ],
      "execution_count": 38,
      "outputs": []
    },
    {
      "cell_type": "code",
      "metadata": {
        "id": "ItgXfIngEeYO"
      },
      "source": [
        "# normalize\n",
        "def normalize(df):\n",
        "  return df.div(df.sum(axis=1),axis=0).fillna(0)\n",
        "\n",
        "industry_sub = normalize(investor_style_sub[1])\n",
        "invStyle_sub = normalize(investor_style_sub[4])"
      ],
      "execution_count": 39,
      "outputs": []
    },
    {
      "cell_type": "code",
      "metadata": {
        "id": "6OAEKk8q-3m1",
        "outputId": "f189ca6f-cadc-46df-daa4-04531dc615c0",
        "colab": {
          "base_uri": "https://localhost:8080/",
          "height": 504
        }
      },
      "source": [
        "industry_sub"
      ],
      "execution_count": 40,
      "outputs": [
        {
          "output_type": "execute_result",
          "data": {
            "text/html": [
              "<div>\n",
              "<style scoped>\n",
              "    .dataframe tbody tr th:only-of-type {\n",
              "        vertical-align: middle;\n",
              "    }\n",
              "\n",
              "    .dataframe tbody tr th {\n",
              "        vertical-align: top;\n",
              "    }\n",
              "\n",
              "    .dataframe thead th {\n",
              "        text-align: right;\n",
              "    }\n",
              "</style>\n",
              "<table border=\"1\" class=\"dataframe\">\n",
              "  <thead>\n",
              "    <tr style=\"text-align: right;\">\n",
              "      <th>SpecDesc_</th>\n",
              "      <th>Industry_Aerospace/Defense</th>\n",
              "      <th>Industry_Agricultural Products</th>\n",
              "      <th>Industry_Air Freight</th>\n",
              "      <th>Industry_Airlines</th>\n",
              "      <th>Industry_Aluminum</th>\n",
              "      <th>Industry_Auto Parts &amp; Equipment</th>\n",
              "      <th>Industry_Automobiles</th>\n",
              "      <th>Industry_Autos/Auto Parts</th>\n",
              "      <th>Industry_Banks &amp; Thrifts</th>\n",
              "      <th>Industry_Banks (Major Regional)</th>\n",
              "      <th>Industry_Banks (Money Center)</th>\n",
              "      <th>Industry_Banks (Regional)</th>\n",
              "      <th>Industry_Beverages (Alcoholic)</th>\n",
              "      <th>Industry_Beverages (Non-Alcoholic)</th>\n",
              "      <th>Industry_Biofuels</th>\n",
              "      <th>Industry_Biotechnology</th>\n",
              "      <th>Industry_Broadcasting (TV,Radio,Ca</th>\n",
              "      <th>Industry_Building Materials</th>\n",
              "      <th>Industry_Business Cyclicals</th>\n",
              "      <th>Industry_Business Staples</th>\n",
              "      <th>Industry_Cellular/Wireless Telecom</th>\n",
              "      <th>Industry_Chemicals</th>\n",
              "      <th>Industry_Clean technology</th>\n",
              "      <th>Industry_Communication Services</th>\n",
              "      <th>Industry_Communications Equipment</th>\n",
              "      <th>Industry_Computer Hardware</th>\n",
              "      <th>Industry_Computer Services</th>\n",
              "      <th>Industry_Computer Software</th>\n",
              "      <th>Industry_Computers (Networking)</th>\n",
              "      <th>Industry_Computers (Peripherals)</th>\n",
              "      <th>Industry_Consumer (Jewelry/Novelti</th>\n",
              "      <th>Industry_Consumer Cyclicals</th>\n",
              "      <th>Industry_Consumer Discretionary</th>\n",
              "      <th>Industry_Consumer Electronics</th>\n",
              "      <th>Industry_Consumer Finance</th>\n",
              "      <th>Industry_Consumer Staples</th>\n",
              "      <th>Industry_Containers-Metal &amp; Glass</th>\n",
              "      <th>Industry_Containers/Packaging (Pap</th>\n",
              "      <th>Industry_Distributors (Durables)</th>\n",
              "      <th>Industry_Distributors (Food &amp; Heal</th>\n",
              "      <th>...</th>\n",
              "      <th>Industry_Renewable Energy</th>\n",
              "      <th>Industry_Restaurants</th>\n",
              "      <th>Industry_Retail</th>\n",
              "      <th>Industry_Retail (Building Supplies</th>\n",
              "      <th>Industry_Retail (Computers/Electro</th>\n",
              "      <th>Industry_Retail (Discounters/Offpr</th>\n",
              "      <th>Industry_Retail (Footwear)</th>\n",
              "      <th>Industry_Retail (Home Items)</th>\n",
              "      <th>Industry_Retail (Home Shopping/Cat</th>\n",
              "      <th>Industry_Retail Specialty-Apparel</th>\n",
              "      <th>Industry_Retail Stores-Dept Stores</th>\n",
              "      <th>Industry_Retail Stores-Drug Store</th>\n",
              "      <th>Industry_Retail Stores-Food Chains</th>\n",
              "      <th>Industry_Retail Stores-Gen Mer Cha</th>\n",
              "      <th>Industry_Retail-Specialty</th>\n",
              "      <th>Industry_Savings &amp; Loan Companies</th>\n",
              "      <th>Industry_Semiconductors</th>\n",
              "      <th>Industry_Services (Advertising/Mkt</th>\n",
              "      <th>Industry_Services (Commercial Cons</th>\n",
              "      <th>Industry_Services (Employment)</th>\n",
              "      <th>Industry_Services (Facils/Enviromn</th>\n",
              "      <th>Industry_Services (Payroll Process</th>\n",
              "      <th>Industry_Services (Rentals)</th>\n",
              "      <th>Industry_Shipping</th>\n",
              "      <th>Industry_Specialty Communications</th>\n",
              "      <th>Industry_Steel</th>\n",
              "      <th>Industry_Technology</th>\n",
              "      <th>Industry_Telecommunication Service</th>\n",
              "      <th>Industry_Telephone (Local)</th>\n",
              "      <th>Industry_Telephone-Local</th>\n",
              "      <th>Industry_Telephone-Long Distance</th>\n",
              "      <th>Industry_Textiles</th>\n",
              "      <th>Industry_Tobacco</th>\n",
              "      <th>Industry_Transportation</th>\n",
              "      <th>Industry_Truckers</th>\n",
              "      <th>Industry_Trucks &amp; Parts</th>\n",
              "      <th>Industry_Utilities</th>\n",
              "      <th>Industry_Waste Management</th>\n",
              "      <th>Industry_Water Technology</th>\n",
              "      <th>Industry_Water Utilities</th>\n",
              "    </tr>\n",
              "    <tr>\n",
              "      <th>LgcyInvestorId</th>\n",
              "      <th></th>\n",
              "      <th></th>\n",
              "      <th></th>\n",
              "      <th></th>\n",
              "      <th></th>\n",
              "      <th></th>\n",
              "      <th></th>\n",
              "      <th></th>\n",
              "      <th></th>\n",
              "      <th></th>\n",
              "      <th></th>\n",
              "      <th></th>\n",
              "      <th></th>\n",
              "      <th></th>\n",
              "      <th></th>\n",
              "      <th></th>\n",
              "      <th></th>\n",
              "      <th></th>\n",
              "      <th></th>\n",
              "      <th></th>\n",
              "      <th></th>\n",
              "      <th></th>\n",
              "      <th></th>\n",
              "      <th></th>\n",
              "      <th></th>\n",
              "      <th></th>\n",
              "      <th></th>\n",
              "      <th></th>\n",
              "      <th></th>\n",
              "      <th></th>\n",
              "      <th></th>\n",
              "      <th></th>\n",
              "      <th></th>\n",
              "      <th></th>\n",
              "      <th></th>\n",
              "      <th></th>\n",
              "      <th></th>\n",
              "      <th></th>\n",
              "      <th></th>\n",
              "      <th></th>\n",
              "      <th></th>\n",
              "      <th></th>\n",
              "      <th></th>\n",
              "      <th></th>\n",
              "      <th></th>\n",
              "      <th></th>\n",
              "      <th></th>\n",
              "      <th></th>\n",
              "      <th></th>\n",
              "      <th></th>\n",
              "      <th></th>\n",
              "      <th></th>\n",
              "      <th></th>\n",
              "      <th></th>\n",
              "      <th></th>\n",
              "      <th></th>\n",
              "      <th></th>\n",
              "      <th></th>\n",
              "      <th></th>\n",
              "      <th></th>\n",
              "      <th></th>\n",
              "      <th></th>\n",
              "      <th></th>\n",
              "      <th></th>\n",
              "      <th></th>\n",
              "      <th></th>\n",
              "      <th></th>\n",
              "      <th></th>\n",
              "      <th></th>\n",
              "      <th></th>\n",
              "      <th></th>\n",
              "      <th></th>\n",
              "      <th></th>\n",
              "      <th></th>\n",
              "      <th></th>\n",
              "      <th></th>\n",
              "      <th></th>\n",
              "      <th></th>\n",
              "      <th></th>\n",
              "      <th></th>\n",
              "      <th></th>\n",
              "    </tr>\n",
              "  </thead>\n",
              "  <tbody>\n",
              "    <tr>\n",
              "      <th>2000264</th>\n",
              "      <td>0.018692</td>\n",
              "      <td>0.037383</td>\n",
              "      <td>0.0</td>\n",
              "      <td>0.0</td>\n",
              "      <td>0.000000</td>\n",
              "      <td>0.009346</td>\n",
              "      <td>0.000000</td>\n",
              "      <td>0.000000</td>\n",
              "      <td>0.000000</td>\n",
              "      <td>0.000000</td>\n",
              "      <td>0.000000</td>\n",
              "      <td>0.000000</td>\n",
              "      <td>0.037383</td>\n",
              "      <td>0.0</td>\n",
              "      <td>0.0</td>\n",
              "      <td>0.000000</td>\n",
              "      <td>0.0</td>\n",
              "      <td>0.000000</td>\n",
              "      <td>0.000000</td>\n",
              "      <td>0.000000</td>\n",
              "      <td>0.000000</td>\n",
              "      <td>0.000000</td>\n",
              "      <td>0.0</td>\n",
              "      <td>0.00</td>\n",
              "      <td>0.00000</td>\n",
              "      <td>0.037383</td>\n",
              "      <td>0.000000</td>\n",
              "      <td>0.000000</td>\n",
              "      <td>0.037383</td>\n",
              "      <td>0.0</td>\n",
              "      <td>0.000000</td>\n",
              "      <td>0.000000</td>\n",
              "      <td>0.0</td>\n",
              "      <td>0.000000</td>\n",
              "      <td>0.000000</td>\n",
              "      <td>0.000000</td>\n",
              "      <td>0.028037</td>\n",
              "      <td>0.000000</td>\n",
              "      <td>0.000000</td>\n",
              "      <td>0.0</td>\n",
              "      <td>...</td>\n",
              "      <td>0.0</td>\n",
              "      <td>0.000000</td>\n",
              "      <td>0.000000</td>\n",
              "      <td>0.0</td>\n",
              "      <td>0.000000</td>\n",
              "      <td>0.000000</td>\n",
              "      <td>0.000000</td>\n",
              "      <td>0.00000</td>\n",
              "      <td>0.000000</td>\n",
              "      <td>0.028037</td>\n",
              "      <td>0.0</td>\n",
              "      <td>0.037383</td>\n",
              "      <td>0.252336</td>\n",
              "      <td>0.000000</td>\n",
              "      <td>0.0</td>\n",
              "      <td>0.000000</td>\n",
              "      <td>0.0</td>\n",
              "      <td>0.000000</td>\n",
              "      <td>0.0</td>\n",
              "      <td>0.000000</td>\n",
              "      <td>0.000000</td>\n",
              "      <td>0.000000</td>\n",
              "      <td>0.000000</td>\n",
              "      <td>0.000000</td>\n",
              "      <td>0.000000</td>\n",
              "      <td>0.000000</td>\n",
              "      <td>0.000000</td>\n",
              "      <td>0.00000</td>\n",
              "      <td>0.000000</td>\n",
              "      <td>0.0</td>\n",
              "      <td>0.000000</td>\n",
              "      <td>0.018692</td>\n",
              "      <td>0.000000</td>\n",
              "      <td>0.000000</td>\n",
              "      <td>0.0</td>\n",
              "      <td>0.037383</td>\n",
              "      <td>0.000000</td>\n",
              "      <td>0.0</td>\n",
              "      <td>0.000000</td>\n",
              "      <td>0.000000</td>\n",
              "    </tr>\n",
              "    <tr>\n",
              "      <th>2001934</th>\n",
              "      <td>0.016563</td>\n",
              "      <td>0.016563</td>\n",
              "      <td>0.0</td>\n",
              "      <td>0.0</td>\n",
              "      <td>0.000000</td>\n",
              "      <td>0.006211</td>\n",
              "      <td>0.000000</td>\n",
              "      <td>0.000000</td>\n",
              "      <td>0.000000</td>\n",
              "      <td>0.000000</td>\n",
              "      <td>0.000000</td>\n",
              "      <td>0.000000</td>\n",
              "      <td>0.018634</td>\n",
              "      <td>0.0</td>\n",
              "      <td>0.0</td>\n",
              "      <td>0.000000</td>\n",
              "      <td>0.0</td>\n",
              "      <td>0.000000</td>\n",
              "      <td>0.000000</td>\n",
              "      <td>0.000000</td>\n",
              "      <td>0.006211</td>\n",
              "      <td>0.004141</td>\n",
              "      <td>0.0</td>\n",
              "      <td>0.00</td>\n",
              "      <td>0.00000</td>\n",
              "      <td>0.016563</td>\n",
              "      <td>0.000000</td>\n",
              "      <td>0.000000</td>\n",
              "      <td>0.018634</td>\n",
              "      <td>0.0</td>\n",
              "      <td>0.000000</td>\n",
              "      <td>0.004141</td>\n",
              "      <td>0.0</td>\n",
              "      <td>0.000000</td>\n",
              "      <td>0.000000</td>\n",
              "      <td>0.006211</td>\n",
              "      <td>0.006211</td>\n",
              "      <td>0.000000</td>\n",
              "      <td>0.000000</td>\n",
              "      <td>0.0</td>\n",
              "      <td>...</td>\n",
              "      <td>0.0</td>\n",
              "      <td>0.018634</td>\n",
              "      <td>0.000000</td>\n",
              "      <td>0.0</td>\n",
              "      <td>0.008282</td>\n",
              "      <td>0.000000</td>\n",
              "      <td>0.000000</td>\n",
              "      <td>0.00207</td>\n",
              "      <td>0.000000</td>\n",
              "      <td>0.008282</td>\n",
              "      <td>0.0</td>\n",
              "      <td>0.018634</td>\n",
              "      <td>0.320911</td>\n",
              "      <td>0.004141</td>\n",
              "      <td>0.0</td>\n",
              "      <td>0.000000</td>\n",
              "      <td>0.0</td>\n",
              "      <td>0.000000</td>\n",
              "      <td>0.0</td>\n",
              "      <td>0.000000</td>\n",
              "      <td>0.000000</td>\n",
              "      <td>0.000000</td>\n",
              "      <td>0.000000</td>\n",
              "      <td>0.000000</td>\n",
              "      <td>0.000000</td>\n",
              "      <td>0.000000</td>\n",
              "      <td>0.000000</td>\n",
              "      <td>0.00207</td>\n",
              "      <td>0.000000</td>\n",
              "      <td>0.0</td>\n",
              "      <td>0.000000</td>\n",
              "      <td>0.016563</td>\n",
              "      <td>0.000000</td>\n",
              "      <td>0.000000</td>\n",
              "      <td>0.0</td>\n",
              "      <td>0.018634</td>\n",
              "      <td>0.008282</td>\n",
              "      <td>0.0</td>\n",
              "      <td>0.002070</td>\n",
              "      <td>0.000000</td>\n",
              "    </tr>\n",
              "    <tr>\n",
              "      <th>2001935</th>\n",
              "      <td>0.009174</td>\n",
              "      <td>0.000000</td>\n",
              "      <td>0.0</td>\n",
              "      <td>0.0</td>\n",
              "      <td>0.000000</td>\n",
              "      <td>0.000000</td>\n",
              "      <td>0.000000</td>\n",
              "      <td>0.000000</td>\n",
              "      <td>0.000000</td>\n",
              "      <td>0.000000</td>\n",
              "      <td>0.000000</td>\n",
              "      <td>0.000000</td>\n",
              "      <td>0.000000</td>\n",
              "      <td>0.0</td>\n",
              "      <td>0.0</td>\n",
              "      <td>0.000000</td>\n",
              "      <td>0.0</td>\n",
              "      <td>0.000000</td>\n",
              "      <td>0.000000</td>\n",
              "      <td>0.000000</td>\n",
              "      <td>0.000000</td>\n",
              "      <td>0.000000</td>\n",
              "      <td>0.0</td>\n",
              "      <td>0.00</td>\n",
              "      <td>0.00000</td>\n",
              "      <td>0.000000</td>\n",
              "      <td>0.000000</td>\n",
              "      <td>0.000000</td>\n",
              "      <td>0.000000</td>\n",
              "      <td>0.0</td>\n",
              "      <td>0.000000</td>\n",
              "      <td>0.000000</td>\n",
              "      <td>0.0</td>\n",
              "      <td>0.000000</td>\n",
              "      <td>0.000000</td>\n",
              "      <td>0.000000</td>\n",
              "      <td>0.009174</td>\n",
              "      <td>0.000000</td>\n",
              "      <td>0.000000</td>\n",
              "      <td>0.0</td>\n",
              "      <td>...</td>\n",
              "      <td>0.0</td>\n",
              "      <td>0.009174</td>\n",
              "      <td>0.000000</td>\n",
              "      <td>0.0</td>\n",
              "      <td>0.000000</td>\n",
              "      <td>0.000000</td>\n",
              "      <td>0.000000</td>\n",
              "      <td>0.00000</td>\n",
              "      <td>0.000000</td>\n",
              "      <td>0.000000</td>\n",
              "      <td>0.0</td>\n",
              "      <td>0.000000</td>\n",
              "      <td>0.788991</td>\n",
              "      <td>0.000000</td>\n",
              "      <td>0.0</td>\n",
              "      <td>0.000000</td>\n",
              "      <td>0.0</td>\n",
              "      <td>0.000000</td>\n",
              "      <td>0.0</td>\n",
              "      <td>0.000000</td>\n",
              "      <td>0.000000</td>\n",
              "      <td>0.000000</td>\n",
              "      <td>0.000000</td>\n",
              "      <td>0.000000</td>\n",
              "      <td>0.000000</td>\n",
              "      <td>0.000000</td>\n",
              "      <td>0.000000</td>\n",
              "      <td>0.00000</td>\n",
              "      <td>0.000000</td>\n",
              "      <td>0.0</td>\n",
              "      <td>0.000000</td>\n",
              "      <td>0.009174</td>\n",
              "      <td>0.000000</td>\n",
              "      <td>0.000000</td>\n",
              "      <td>0.0</td>\n",
              "      <td>0.000000</td>\n",
              "      <td>0.000000</td>\n",
              "      <td>0.0</td>\n",
              "      <td>0.000000</td>\n",
              "      <td>0.000000</td>\n",
              "    </tr>\n",
              "    <tr>\n",
              "      <th>2001989</th>\n",
              "      <td>0.017143</td>\n",
              "      <td>0.017143</td>\n",
              "      <td>0.0</td>\n",
              "      <td>0.0</td>\n",
              "      <td>0.000000</td>\n",
              "      <td>0.005714</td>\n",
              "      <td>0.000000</td>\n",
              "      <td>0.000000</td>\n",
              "      <td>0.000000</td>\n",
              "      <td>0.000000</td>\n",
              "      <td>0.000000</td>\n",
              "      <td>0.000000</td>\n",
              "      <td>0.028571</td>\n",
              "      <td>0.0</td>\n",
              "      <td>0.0</td>\n",
              "      <td>0.005714</td>\n",
              "      <td>0.0</td>\n",
              "      <td>0.000000</td>\n",
              "      <td>0.000000</td>\n",
              "      <td>0.005714</td>\n",
              "      <td>0.005714</td>\n",
              "      <td>0.000000</td>\n",
              "      <td>0.0</td>\n",
              "      <td>0.00</td>\n",
              "      <td>0.00000</td>\n",
              "      <td>0.028571</td>\n",
              "      <td>0.011429</td>\n",
              "      <td>0.005714</td>\n",
              "      <td>0.028571</td>\n",
              "      <td>0.0</td>\n",
              "      <td>0.000000</td>\n",
              "      <td>0.000000</td>\n",
              "      <td>0.0</td>\n",
              "      <td>0.005714</td>\n",
              "      <td>0.000000</td>\n",
              "      <td>0.017143</td>\n",
              "      <td>0.011429</td>\n",
              "      <td>0.000000</td>\n",
              "      <td>0.000000</td>\n",
              "      <td>0.0</td>\n",
              "      <td>...</td>\n",
              "      <td>0.0</td>\n",
              "      <td>0.005714</td>\n",
              "      <td>0.000000</td>\n",
              "      <td>0.0</td>\n",
              "      <td>0.011429</td>\n",
              "      <td>0.000000</td>\n",
              "      <td>0.000000</td>\n",
              "      <td>0.00000</td>\n",
              "      <td>0.000000</td>\n",
              "      <td>0.011429</td>\n",
              "      <td>0.0</td>\n",
              "      <td>0.028571</td>\n",
              "      <td>0.125714</td>\n",
              "      <td>0.011429</td>\n",
              "      <td>0.0</td>\n",
              "      <td>0.005714</td>\n",
              "      <td>0.0</td>\n",
              "      <td>0.000000</td>\n",
              "      <td>0.0</td>\n",
              "      <td>0.000000</td>\n",
              "      <td>0.000000</td>\n",
              "      <td>0.000000</td>\n",
              "      <td>0.005714</td>\n",
              "      <td>0.000000</td>\n",
              "      <td>0.000000</td>\n",
              "      <td>0.005714</td>\n",
              "      <td>0.005714</td>\n",
              "      <td>0.00000</td>\n",
              "      <td>0.005714</td>\n",
              "      <td>0.0</td>\n",
              "      <td>0.011429</td>\n",
              "      <td>0.017143</td>\n",
              "      <td>0.000000</td>\n",
              "      <td>0.000000</td>\n",
              "      <td>0.0</td>\n",
              "      <td>0.022857</td>\n",
              "      <td>0.000000</td>\n",
              "      <td>0.0</td>\n",
              "      <td>0.011429</td>\n",
              "      <td>0.005714</td>\n",
              "    </tr>\n",
              "    <tr>\n",
              "      <th>2001999</th>\n",
              "      <td>0.009409</td>\n",
              "      <td>0.010753</td>\n",
              "      <td>0.0</td>\n",
              "      <td>0.0</td>\n",
              "      <td>0.000672</td>\n",
              "      <td>0.005376</td>\n",
              "      <td>0.008065</td>\n",
              "      <td>0.000672</td>\n",
              "      <td>0.004704</td>\n",
              "      <td>0.000672</td>\n",
              "      <td>0.000672</td>\n",
              "      <td>0.000672</td>\n",
              "      <td>0.013441</td>\n",
              "      <td>0.0</td>\n",
              "      <td>0.0</td>\n",
              "      <td>0.005376</td>\n",
              "      <td>0.0</td>\n",
              "      <td>0.001344</td>\n",
              "      <td>0.000672</td>\n",
              "      <td>0.000672</td>\n",
              "      <td>0.006048</td>\n",
              "      <td>0.002016</td>\n",
              "      <td>0.0</td>\n",
              "      <td>0.00</td>\n",
              "      <td>0.00336</td>\n",
              "      <td>0.014785</td>\n",
              "      <td>0.003360</td>\n",
              "      <td>0.000000</td>\n",
              "      <td>0.013441</td>\n",
              "      <td>0.0</td>\n",
              "      <td>0.000672</td>\n",
              "      <td>0.000000</td>\n",
              "      <td>0.0</td>\n",
              "      <td>0.000672</td>\n",
              "      <td>0.000672</td>\n",
              "      <td>0.010753</td>\n",
              "      <td>0.009409</td>\n",
              "      <td>0.000672</td>\n",
              "      <td>0.000672</td>\n",
              "      <td>0.0</td>\n",
              "      <td>...</td>\n",
              "      <td>0.0</td>\n",
              "      <td>0.004704</td>\n",
              "      <td>0.002016</td>\n",
              "      <td>0.0</td>\n",
              "      <td>0.008065</td>\n",
              "      <td>0.000672</td>\n",
              "      <td>0.002016</td>\n",
              "      <td>0.00336</td>\n",
              "      <td>0.001344</td>\n",
              "      <td>0.010081</td>\n",
              "      <td>0.0</td>\n",
              "      <td>0.013441</td>\n",
              "      <td>0.391129</td>\n",
              "      <td>0.000000</td>\n",
              "      <td>0.0</td>\n",
              "      <td>0.000672</td>\n",
              "      <td>0.0</td>\n",
              "      <td>0.002688</td>\n",
              "      <td>0.0</td>\n",
              "      <td>0.002016</td>\n",
              "      <td>0.000672</td>\n",
              "      <td>0.000672</td>\n",
              "      <td>0.001344</td>\n",
              "      <td>0.002016</td>\n",
              "      <td>0.004032</td>\n",
              "      <td>0.000672</td>\n",
              "      <td>0.006048</td>\n",
              "      <td>0.00000</td>\n",
              "      <td>0.000000</td>\n",
              "      <td>0.0</td>\n",
              "      <td>0.004032</td>\n",
              "      <td>0.007392</td>\n",
              "      <td>0.004704</td>\n",
              "      <td>0.005376</td>\n",
              "      <td>0.0</td>\n",
              "      <td>0.006048</td>\n",
              "      <td>0.000672</td>\n",
              "      <td>0.0</td>\n",
              "      <td>0.007392</td>\n",
              "      <td>0.000000</td>\n",
              "    </tr>\n",
              "    <tr>\n",
              "      <th>...</th>\n",
              "      <td>...</td>\n",
              "      <td>...</td>\n",
              "      <td>...</td>\n",
              "      <td>...</td>\n",
              "      <td>...</td>\n",
              "      <td>...</td>\n",
              "      <td>...</td>\n",
              "      <td>...</td>\n",
              "      <td>...</td>\n",
              "      <td>...</td>\n",
              "      <td>...</td>\n",
              "      <td>...</td>\n",
              "      <td>...</td>\n",
              "      <td>...</td>\n",
              "      <td>...</td>\n",
              "      <td>...</td>\n",
              "      <td>...</td>\n",
              "      <td>...</td>\n",
              "      <td>...</td>\n",
              "      <td>...</td>\n",
              "      <td>...</td>\n",
              "      <td>...</td>\n",
              "      <td>...</td>\n",
              "      <td>...</td>\n",
              "      <td>...</td>\n",
              "      <td>...</td>\n",
              "      <td>...</td>\n",
              "      <td>...</td>\n",
              "      <td>...</td>\n",
              "      <td>...</td>\n",
              "      <td>...</td>\n",
              "      <td>...</td>\n",
              "      <td>...</td>\n",
              "      <td>...</td>\n",
              "      <td>...</td>\n",
              "      <td>...</td>\n",
              "      <td>...</td>\n",
              "      <td>...</td>\n",
              "      <td>...</td>\n",
              "      <td>...</td>\n",
              "      <td>...</td>\n",
              "      <td>...</td>\n",
              "      <td>...</td>\n",
              "      <td>...</td>\n",
              "      <td>...</td>\n",
              "      <td>...</td>\n",
              "      <td>...</td>\n",
              "      <td>...</td>\n",
              "      <td>...</td>\n",
              "      <td>...</td>\n",
              "      <td>...</td>\n",
              "      <td>...</td>\n",
              "      <td>...</td>\n",
              "      <td>...</td>\n",
              "      <td>...</td>\n",
              "      <td>...</td>\n",
              "      <td>...</td>\n",
              "      <td>...</td>\n",
              "      <td>...</td>\n",
              "      <td>...</td>\n",
              "      <td>...</td>\n",
              "      <td>...</td>\n",
              "      <td>...</td>\n",
              "      <td>...</td>\n",
              "      <td>...</td>\n",
              "      <td>...</td>\n",
              "      <td>...</td>\n",
              "      <td>...</td>\n",
              "      <td>...</td>\n",
              "      <td>...</td>\n",
              "      <td>...</td>\n",
              "      <td>...</td>\n",
              "      <td>...</td>\n",
              "      <td>...</td>\n",
              "      <td>...</td>\n",
              "      <td>...</td>\n",
              "      <td>...</td>\n",
              "      <td>...</td>\n",
              "      <td>...</td>\n",
              "      <td>...</td>\n",
              "      <td>...</td>\n",
              "    </tr>\n",
              "    <tr>\n",
              "      <th>10061989</th>\n",
              "      <td>0.000000</td>\n",
              "      <td>0.000000</td>\n",
              "      <td>0.0</td>\n",
              "      <td>0.0</td>\n",
              "      <td>0.000000</td>\n",
              "      <td>0.000000</td>\n",
              "      <td>0.000000</td>\n",
              "      <td>0.000000</td>\n",
              "      <td>0.000000</td>\n",
              "      <td>0.000000</td>\n",
              "      <td>0.000000</td>\n",
              "      <td>0.000000</td>\n",
              "      <td>0.000000</td>\n",
              "      <td>0.0</td>\n",
              "      <td>0.0</td>\n",
              "      <td>0.000000</td>\n",
              "      <td>0.0</td>\n",
              "      <td>0.000000</td>\n",
              "      <td>0.000000</td>\n",
              "      <td>0.000000</td>\n",
              "      <td>0.000000</td>\n",
              "      <td>0.000000</td>\n",
              "      <td>0.0</td>\n",
              "      <td>0.00</td>\n",
              "      <td>0.00000</td>\n",
              "      <td>0.000000</td>\n",
              "      <td>0.000000</td>\n",
              "      <td>0.000000</td>\n",
              "      <td>0.000000</td>\n",
              "      <td>0.0</td>\n",
              "      <td>0.000000</td>\n",
              "      <td>0.000000</td>\n",
              "      <td>0.0</td>\n",
              "      <td>0.000000</td>\n",
              "      <td>0.000000</td>\n",
              "      <td>0.000000</td>\n",
              "      <td>0.000000</td>\n",
              "      <td>0.000000</td>\n",
              "      <td>0.000000</td>\n",
              "      <td>0.0</td>\n",
              "      <td>...</td>\n",
              "      <td>0.0</td>\n",
              "      <td>0.000000</td>\n",
              "      <td>0.000000</td>\n",
              "      <td>0.0</td>\n",
              "      <td>0.000000</td>\n",
              "      <td>0.000000</td>\n",
              "      <td>0.000000</td>\n",
              "      <td>0.00000</td>\n",
              "      <td>0.000000</td>\n",
              "      <td>0.000000</td>\n",
              "      <td>0.0</td>\n",
              "      <td>0.000000</td>\n",
              "      <td>1.000000</td>\n",
              "      <td>0.000000</td>\n",
              "      <td>0.0</td>\n",
              "      <td>0.000000</td>\n",
              "      <td>0.0</td>\n",
              "      <td>0.000000</td>\n",
              "      <td>0.0</td>\n",
              "      <td>0.000000</td>\n",
              "      <td>0.000000</td>\n",
              "      <td>0.000000</td>\n",
              "      <td>0.000000</td>\n",
              "      <td>0.000000</td>\n",
              "      <td>0.000000</td>\n",
              "      <td>0.000000</td>\n",
              "      <td>0.000000</td>\n",
              "      <td>0.00000</td>\n",
              "      <td>0.000000</td>\n",
              "      <td>0.0</td>\n",
              "      <td>0.000000</td>\n",
              "      <td>0.000000</td>\n",
              "      <td>0.000000</td>\n",
              "      <td>0.000000</td>\n",
              "      <td>0.0</td>\n",
              "      <td>0.000000</td>\n",
              "      <td>0.000000</td>\n",
              "      <td>0.0</td>\n",
              "      <td>0.000000</td>\n",
              "      <td>0.000000</td>\n",
              "    </tr>\n",
              "    <tr>\n",
              "      <th>10075382</th>\n",
              "      <td>0.000000</td>\n",
              "      <td>0.000000</td>\n",
              "      <td>0.0</td>\n",
              "      <td>0.0</td>\n",
              "      <td>0.000000</td>\n",
              "      <td>0.000000</td>\n",
              "      <td>0.000000</td>\n",
              "      <td>0.000000</td>\n",
              "      <td>0.000000</td>\n",
              "      <td>0.000000</td>\n",
              "      <td>0.000000</td>\n",
              "      <td>0.000000</td>\n",
              "      <td>0.000000</td>\n",
              "      <td>0.0</td>\n",
              "      <td>0.0</td>\n",
              "      <td>0.000000</td>\n",
              "      <td>0.0</td>\n",
              "      <td>0.000000</td>\n",
              "      <td>0.000000</td>\n",
              "      <td>0.000000</td>\n",
              "      <td>0.000000</td>\n",
              "      <td>0.000000</td>\n",
              "      <td>0.0</td>\n",
              "      <td>0.00</td>\n",
              "      <td>0.00000</td>\n",
              "      <td>0.000000</td>\n",
              "      <td>0.000000</td>\n",
              "      <td>0.000000</td>\n",
              "      <td>0.000000</td>\n",
              "      <td>0.0</td>\n",
              "      <td>0.000000</td>\n",
              "      <td>0.000000</td>\n",
              "      <td>0.0</td>\n",
              "      <td>0.000000</td>\n",
              "      <td>0.000000</td>\n",
              "      <td>0.000000</td>\n",
              "      <td>0.000000</td>\n",
              "      <td>0.000000</td>\n",
              "      <td>0.000000</td>\n",
              "      <td>0.0</td>\n",
              "      <td>...</td>\n",
              "      <td>0.0</td>\n",
              "      <td>0.000000</td>\n",
              "      <td>0.000000</td>\n",
              "      <td>0.0</td>\n",
              "      <td>0.000000</td>\n",
              "      <td>0.000000</td>\n",
              "      <td>0.000000</td>\n",
              "      <td>0.00000</td>\n",
              "      <td>0.000000</td>\n",
              "      <td>0.000000</td>\n",
              "      <td>0.0</td>\n",
              "      <td>0.000000</td>\n",
              "      <td>1.000000</td>\n",
              "      <td>0.000000</td>\n",
              "      <td>0.0</td>\n",
              "      <td>0.000000</td>\n",
              "      <td>0.0</td>\n",
              "      <td>0.000000</td>\n",
              "      <td>0.0</td>\n",
              "      <td>0.000000</td>\n",
              "      <td>0.000000</td>\n",
              "      <td>0.000000</td>\n",
              "      <td>0.000000</td>\n",
              "      <td>0.000000</td>\n",
              "      <td>0.000000</td>\n",
              "      <td>0.000000</td>\n",
              "      <td>0.000000</td>\n",
              "      <td>0.00000</td>\n",
              "      <td>0.000000</td>\n",
              "      <td>0.0</td>\n",
              "      <td>0.000000</td>\n",
              "      <td>0.000000</td>\n",
              "      <td>0.000000</td>\n",
              "      <td>0.000000</td>\n",
              "      <td>0.0</td>\n",
              "      <td>0.000000</td>\n",
              "      <td>0.000000</td>\n",
              "      <td>0.0</td>\n",
              "      <td>0.000000</td>\n",
              "      <td>0.000000</td>\n",
              "    </tr>\n",
              "    <tr>\n",
              "      <th>10110259</th>\n",
              "      <td>0.000000</td>\n",
              "      <td>0.050000</td>\n",
              "      <td>0.0</td>\n",
              "      <td>0.0</td>\n",
              "      <td>0.000000</td>\n",
              "      <td>0.000000</td>\n",
              "      <td>0.000000</td>\n",
              "      <td>0.000000</td>\n",
              "      <td>0.000000</td>\n",
              "      <td>0.000000</td>\n",
              "      <td>0.000000</td>\n",
              "      <td>0.000000</td>\n",
              "      <td>0.000000</td>\n",
              "      <td>0.0</td>\n",
              "      <td>0.0</td>\n",
              "      <td>0.000000</td>\n",
              "      <td>0.0</td>\n",
              "      <td>0.000000</td>\n",
              "      <td>0.000000</td>\n",
              "      <td>0.000000</td>\n",
              "      <td>0.050000</td>\n",
              "      <td>0.050000</td>\n",
              "      <td>0.0</td>\n",
              "      <td>0.05</td>\n",
              "      <td>0.05000</td>\n",
              "      <td>0.000000</td>\n",
              "      <td>0.000000</td>\n",
              "      <td>0.000000</td>\n",
              "      <td>0.000000</td>\n",
              "      <td>0.0</td>\n",
              "      <td>0.000000</td>\n",
              "      <td>0.050000</td>\n",
              "      <td>0.0</td>\n",
              "      <td>0.000000</td>\n",
              "      <td>0.000000</td>\n",
              "      <td>0.050000</td>\n",
              "      <td>0.000000</td>\n",
              "      <td>0.000000</td>\n",
              "      <td>0.000000</td>\n",
              "      <td>0.0</td>\n",
              "      <td>...</td>\n",
              "      <td>0.0</td>\n",
              "      <td>0.000000</td>\n",
              "      <td>0.000000</td>\n",
              "      <td>0.0</td>\n",
              "      <td>0.000000</td>\n",
              "      <td>0.000000</td>\n",
              "      <td>0.000000</td>\n",
              "      <td>0.00000</td>\n",
              "      <td>0.000000</td>\n",
              "      <td>0.000000</td>\n",
              "      <td>0.0</td>\n",
              "      <td>0.000000</td>\n",
              "      <td>0.300000</td>\n",
              "      <td>0.050000</td>\n",
              "      <td>0.0</td>\n",
              "      <td>0.000000</td>\n",
              "      <td>0.0</td>\n",
              "      <td>0.000000</td>\n",
              "      <td>0.0</td>\n",
              "      <td>0.000000</td>\n",
              "      <td>0.000000</td>\n",
              "      <td>0.000000</td>\n",
              "      <td>0.000000</td>\n",
              "      <td>0.000000</td>\n",
              "      <td>0.000000</td>\n",
              "      <td>0.000000</td>\n",
              "      <td>0.050000</td>\n",
              "      <td>0.00000</td>\n",
              "      <td>0.000000</td>\n",
              "      <td>0.0</td>\n",
              "      <td>0.000000</td>\n",
              "      <td>0.000000</td>\n",
              "      <td>0.000000</td>\n",
              "      <td>0.000000</td>\n",
              "      <td>0.0</td>\n",
              "      <td>0.000000</td>\n",
              "      <td>0.050000</td>\n",
              "      <td>0.0</td>\n",
              "      <td>0.000000</td>\n",
              "      <td>0.000000</td>\n",
              "    </tr>\n",
              "    <tr>\n",
              "      <th>10233291</th>\n",
              "      <td>0.000000</td>\n",
              "      <td>0.000000</td>\n",
              "      <td>0.0</td>\n",
              "      <td>0.0</td>\n",
              "      <td>0.000000</td>\n",
              "      <td>0.000000</td>\n",
              "      <td>0.000000</td>\n",
              "      <td>0.000000</td>\n",
              "      <td>0.000000</td>\n",
              "      <td>0.000000</td>\n",
              "      <td>0.000000</td>\n",
              "      <td>0.000000</td>\n",
              "      <td>0.000000</td>\n",
              "      <td>0.0</td>\n",
              "      <td>0.0</td>\n",
              "      <td>0.000000</td>\n",
              "      <td>0.0</td>\n",
              "      <td>0.000000</td>\n",
              "      <td>0.000000</td>\n",
              "      <td>0.000000</td>\n",
              "      <td>0.000000</td>\n",
              "      <td>0.000000</td>\n",
              "      <td>0.0</td>\n",
              "      <td>0.00</td>\n",
              "      <td>0.00000</td>\n",
              "      <td>0.000000</td>\n",
              "      <td>0.000000</td>\n",
              "      <td>0.000000</td>\n",
              "      <td>0.000000</td>\n",
              "      <td>0.0</td>\n",
              "      <td>0.000000</td>\n",
              "      <td>0.000000</td>\n",
              "      <td>0.0</td>\n",
              "      <td>0.000000</td>\n",
              "      <td>0.000000</td>\n",
              "      <td>0.000000</td>\n",
              "      <td>0.000000</td>\n",
              "      <td>0.000000</td>\n",
              "      <td>0.000000</td>\n",
              "      <td>0.0</td>\n",
              "      <td>...</td>\n",
              "      <td>0.0</td>\n",
              "      <td>0.000000</td>\n",
              "      <td>0.000000</td>\n",
              "      <td>0.0</td>\n",
              "      <td>0.000000</td>\n",
              "      <td>0.000000</td>\n",
              "      <td>0.000000</td>\n",
              "      <td>0.00000</td>\n",
              "      <td>0.000000</td>\n",
              "      <td>0.000000</td>\n",
              "      <td>0.0</td>\n",
              "      <td>0.000000</td>\n",
              "      <td>1.000000</td>\n",
              "      <td>0.000000</td>\n",
              "      <td>0.0</td>\n",
              "      <td>0.000000</td>\n",
              "      <td>0.0</td>\n",
              "      <td>0.000000</td>\n",
              "      <td>0.0</td>\n",
              "      <td>0.000000</td>\n",
              "      <td>0.000000</td>\n",
              "      <td>0.000000</td>\n",
              "      <td>0.000000</td>\n",
              "      <td>0.000000</td>\n",
              "      <td>0.000000</td>\n",
              "      <td>0.000000</td>\n",
              "      <td>0.000000</td>\n",
              "      <td>0.00000</td>\n",
              "      <td>0.000000</td>\n",
              "      <td>0.0</td>\n",
              "      <td>0.000000</td>\n",
              "      <td>0.000000</td>\n",
              "      <td>0.000000</td>\n",
              "      <td>0.000000</td>\n",
              "      <td>0.0</td>\n",
              "      <td>0.000000</td>\n",
              "      <td>0.000000</td>\n",
              "      <td>0.0</td>\n",
              "      <td>0.000000</td>\n",
              "      <td>0.000000</td>\n",
              "    </tr>\n",
              "    <tr>\n",
              "      <th>10235680</th>\n",
              "      <td>0.000000</td>\n",
              "      <td>0.000000</td>\n",
              "      <td>0.0</td>\n",
              "      <td>0.0</td>\n",
              "      <td>0.000000</td>\n",
              "      <td>0.000000</td>\n",
              "      <td>0.000000</td>\n",
              "      <td>0.000000</td>\n",
              "      <td>0.000000</td>\n",
              "      <td>0.000000</td>\n",
              "      <td>0.000000</td>\n",
              "      <td>0.000000</td>\n",
              "      <td>0.000000</td>\n",
              "      <td>0.0</td>\n",
              "      <td>0.0</td>\n",
              "      <td>0.000000</td>\n",
              "      <td>0.0</td>\n",
              "      <td>0.000000</td>\n",
              "      <td>0.000000</td>\n",
              "      <td>0.000000</td>\n",
              "      <td>0.000000</td>\n",
              "      <td>0.000000</td>\n",
              "      <td>0.0</td>\n",
              "      <td>0.00</td>\n",
              "      <td>0.00000</td>\n",
              "      <td>0.000000</td>\n",
              "      <td>0.000000</td>\n",
              "      <td>0.000000</td>\n",
              "      <td>0.000000</td>\n",
              "      <td>0.0</td>\n",
              "      <td>0.000000</td>\n",
              "      <td>0.000000</td>\n",
              "      <td>0.0</td>\n",
              "      <td>0.000000</td>\n",
              "      <td>0.000000</td>\n",
              "      <td>0.000000</td>\n",
              "      <td>0.000000</td>\n",
              "      <td>0.000000</td>\n",
              "      <td>0.000000</td>\n",
              "      <td>0.0</td>\n",
              "      <td>...</td>\n",
              "      <td>0.0</td>\n",
              "      <td>0.000000</td>\n",
              "      <td>0.000000</td>\n",
              "      <td>0.0</td>\n",
              "      <td>0.000000</td>\n",
              "      <td>0.000000</td>\n",
              "      <td>0.000000</td>\n",
              "      <td>0.00000</td>\n",
              "      <td>0.000000</td>\n",
              "      <td>0.000000</td>\n",
              "      <td>0.0</td>\n",
              "      <td>0.000000</td>\n",
              "      <td>1.000000</td>\n",
              "      <td>0.000000</td>\n",
              "      <td>0.0</td>\n",
              "      <td>0.000000</td>\n",
              "      <td>0.0</td>\n",
              "      <td>0.000000</td>\n",
              "      <td>0.0</td>\n",
              "      <td>0.000000</td>\n",
              "      <td>0.000000</td>\n",
              "      <td>0.000000</td>\n",
              "      <td>0.000000</td>\n",
              "      <td>0.000000</td>\n",
              "      <td>0.000000</td>\n",
              "      <td>0.000000</td>\n",
              "      <td>0.000000</td>\n",
              "      <td>0.00000</td>\n",
              "      <td>0.000000</td>\n",
              "      <td>0.0</td>\n",
              "      <td>0.000000</td>\n",
              "      <td>0.000000</td>\n",
              "      <td>0.000000</td>\n",
              "      <td>0.000000</td>\n",
              "      <td>0.0</td>\n",
              "      <td>0.000000</td>\n",
              "      <td>0.000000</td>\n",
              "      <td>0.0</td>\n",
              "      <td>0.000000</td>\n",
              "      <td>0.000000</td>\n",
              "    </tr>\n",
              "  </tbody>\n",
              "</table>\n",
              "<p>227 rows × 181 columns</p>\n",
              "</div>"
            ],
            "text/plain": [
              "SpecDesc_       Industry_Aerospace/Defense  ...  Industry_Water Utilities\n",
              "LgcyInvestorId                              ...                          \n",
              "2000264                           0.018692  ...                  0.000000\n",
              "2001934                           0.016563  ...                  0.000000\n",
              "2001935                           0.009174  ...                  0.000000\n",
              "2001989                           0.017143  ...                  0.005714\n",
              "2001999                           0.009409  ...                  0.000000\n",
              "...                                    ...  ...                       ...\n",
              "10061989                          0.000000  ...                  0.000000\n",
              "10075382                          0.000000  ...                  0.000000\n",
              "10110259                          0.000000  ...                  0.000000\n",
              "10233291                          0.000000  ...                  0.000000\n",
              "10235680                          0.000000  ...                  0.000000\n",
              "\n",
              "[227 rows x 181 columns]"
            ]
          },
          "metadata": {
            "tags": []
          },
          "execution_count": 40
        }
      ]
    },
    {
      "cell_type": "markdown",
      "metadata": {
        "id": "7wSFri3U0dc9"
      },
      "source": [
        "### compute distance to vanguard"
      ]
    },
    {
      "cell_type": "markdown",
      "metadata": {
        "id": "ZZkjKZsWaRF9"
      },
      "source": [
        "#### Cosine distance"
      ]
    },
    {
      "cell_type": "code",
      "metadata": {
        "id": "4fbCvOkneKN5"
      },
      "source": [
        "from sklearn.metrics.pairwise import cosine_similarity, euclidean_distances\n",
        "def cosine_distance(invID_1, invID_2, inves_pivot, dict_IDF=None):\n",
        "  try:\n",
        "    n_features = len(inves_pivot.columns)\n",
        "    if dict_IDF is not None:\n",
        "      weight = dict_IDF.to_numpy()\n",
        "    else:\n",
        "      weight = np.ones((n_features,)) \n",
        "    x_1 = inves_pivot.loc[invID_1,:].to_numpy().reshape((1,-1)) * weight\n",
        "    x_2 = inves_pivot.loc[invID_2,:].to_numpy().reshape((1,-1)) * weight\n",
        "    \n",
        "    return cosine_similarity(x_1,x_2)[0][0]\n",
        "  except:\n",
        "    print(invID_1, invID_2)"
      ],
      "execution_count": null,
      "outputs": []
    },
    {
      "cell_type": "code",
      "metadata": {
        "id": "2dMZLK4ZeKN7"
      },
      "source": [
        "def euclidean_distance(invID_1, invID_2, inves_pivot, dict_IDF=None):\n",
        "  try:\n",
        "    n_features = len(inves_pivot.columns)\n",
        "    if dict_IDF is not None:\n",
        "      weight = dict_IDF.to_numpy()\n",
        "    else:\n",
        "      weight = np.ones((n_features,)) \n",
        "    x_1 = inves_pivot.loc[invID_1,:].to_numpy().reshape((1,-1)) * weight\n",
        "    x_2 = inves_pivot.loc[invID_2,:].to_numpy().reshape((1,-1)) * weight\n",
        "    return euclidean_distances(x_1,x_2)[0][0]\n",
        "  except:\n",
        "    print(invID_1, invID_2)"
      ],
      "execution_count": null,
      "outputs": []
    },
    {
      "cell_type": "code",
      "metadata": {
        "id": "jAqVKtXEeKN9"
      },
      "source": [
        "investor_list = list(investor_style_sub.index)\n",
        "\n",
        "industry_distance_to_vanguard_list = []\n",
        "invStyle_distance_to_vanguard_list = []\n",
        "for investor in investor_list:\n",
        "  industry_distance_to_vanguard = cosine_distance(investor, int(vanguard_id), inves_pivot = industry_sub)\n",
        "  industry_distance_to_vanguard_list.append(industry_distance_to_vanguard)\n",
        "  invStyle_distance_to_vanguard = cosine_distance(investor, int(vanguard_id), inves_pivot = invStyle_sub)\n",
        "  invStyle_distance_to_vanguard_list.append(invStyle_distance_to_vanguard)\n",
        "\n",
        "\n",
        "distance_to_vanguard_df = pd.DataFrame({\n",
        "    'investor_id': investor_list,\n",
        "    'industry_distance_to_vanguard': industry_distance_to_vanguard_list,\n",
        "    'invStyle_distance_to_vanguard': invStyle_distance_to_vanguard_list\n",
        "})"
      ],
      "execution_count": null,
      "outputs": []
    },
    {
      "cell_type": "code",
      "metadata": {
        "id": "DhLYot0weKN_"
      },
      "source": [
        "merged = pd.merge(distance_to_vanguard_df, df_sub[['LGCYINVESTORID','FULLNAME']], 'left', left_on='investor_id', right_on='LGCYINVESTORID')\n",
        "merged = merged.drop_duplicates(subset='LGCYINVESTORID').drop(['investor_id'], axis=1)\n",
        "merged = merged.sort_values(by=['industry_distance_to_vanguard','invStyle_distance_to_vanguard'])"
      ],
      "execution_count": null,
      "outputs": []
    },
    {
      "cell_type": "code",
      "metadata": {
        "id": "hLoMosAceKOE"
      },
      "source": [
        "merged.to_csv('/content/gdrive/My Drive/capstone_own/style_cos_distance_to_vanguard_df.csv')"
      ],
      "execution_count": null,
      "outputs": []
    },
    {
      "cell_type": "code",
      "metadata": {
        "id": "ervpeMk_eKOG",
        "outputId": "04e48da5-cecf-43c8-9285-4073248d11ae",
        "colab": {
          "base_uri": "https://localhost:8080/",
          "height": 453
        }
      },
      "source": [
        "merged"
      ],
      "execution_count": null,
      "outputs": [
        {
          "output_type": "execute_result",
          "data": {
            "text/html": [
              "<div>\n",
              "<style scoped>\n",
              "    .dataframe tbody tr th:only-of-type {\n",
              "        vertical-align: middle;\n",
              "    }\n",
              "\n",
              "    .dataframe tbody tr th {\n",
              "        vertical-align: top;\n",
              "    }\n",
              "\n",
              "    .dataframe thead th {\n",
              "        text-align: right;\n",
              "    }\n",
              "</style>\n",
              "<table border=\"1\" class=\"dataframe\">\n",
              "  <thead>\n",
              "    <tr style=\"text-align: right;\">\n",
              "      <th></th>\n",
              "      <th>industry_distance_to_vanguard</th>\n",
              "      <th>invStyle_distance_to_vanguard</th>\n",
              "      <th>LGCYINVESTORID</th>\n",
              "      <th>FULLNAME</th>\n",
              "    </tr>\n",
              "  </thead>\n",
              "  <tbody>\n",
              "    <tr>\n",
              "      <th>2911674</th>\n",
              "      <td>0.220084</td>\n",
              "      <td>0.688153</td>\n",
              "      <td>2487483</td>\n",
              "      <td>Lindsell Train Limited</td>\n",
              "    </tr>\n",
              "    <tr>\n",
              "      <th>2150224</th>\n",
              "      <td>0.375110</td>\n",
              "      <td>0.734062</td>\n",
              "      <td>2004000</td>\n",
              "      <td>Nomura Asset Management Co., Ltd.</td>\n",
              "    </tr>\n",
              "    <tr>\n",
              "      <th>2497341</th>\n",
              "      <td>0.523384</td>\n",
              "      <td>0.103385</td>\n",
              "      <td>2006020</td>\n",
              "      <td>OrbiMed Advisors, LLC</td>\n",
              "    </tr>\n",
              "    <tr>\n",
              "      <th>2719894</th>\n",
              "      <td>0.622938</td>\n",
              "      <td>0.380625</td>\n",
              "      <td>2380201</td>\n",
              "      <td>Edward Jones</td>\n",
              "    </tr>\n",
              "    <tr>\n",
              "      <th>3415233</th>\n",
              "      <td>0.652326</td>\n",
              "      <td>0.836576</td>\n",
              "      <td>2655110</td>\n",
              "      <td>Invesco Capital Management LLC</td>\n",
              "    </tr>\n",
              "    <tr>\n",
              "      <th>...</th>\n",
              "      <td>...</td>\n",
              "      <td>...</td>\n",
              "      <td>...</td>\n",
              "      <td>...</td>\n",
              "    </tr>\n",
              "    <tr>\n",
              "      <th>325355</th>\n",
              "      <td>0.984012</td>\n",
              "      <td>0.698539</td>\n",
              "      <td>2002451</td>\n",
              "      <td>AllianceBernstein L.P.</td>\n",
              "    </tr>\n",
              "    <tr>\n",
              "      <th>3141735</th>\n",
              "      <td>0.985456</td>\n",
              "      <td>0.629916</td>\n",
              "      <td>2575181</td>\n",
              "      <td>Neuberger Berman, LLC</td>\n",
              "    </tr>\n",
              "    <tr>\n",
              "      <th>2030660</th>\n",
              "      <td>0.987668</td>\n",
              "      <td>0.803581</td>\n",
              "      <td>2003800</td>\n",
              "      <td>Legal &amp; General Investment Management Ltd.</td>\n",
              "    </tr>\n",
              "    <tr>\n",
              "      <th>2131946</th>\n",
              "      <td>0.990293</td>\n",
              "      <td>0.761265</td>\n",
              "      <td>2003828</td>\n",
              "      <td>Pictet Asset Management Ltd.</td>\n",
              "    </tr>\n",
              "    <tr>\n",
              "      <th>2169490</th>\n",
              "      <td>1.000000</td>\n",
              "      <td>1.000000</td>\n",
              "      <td>2004260</td>\n",
              "      <td>The Vanguard Group, Inc.</td>\n",
              "    </tr>\n",
              "  </tbody>\n",
              "</table>\n",
              "<p>227 rows × 4 columns</p>\n",
              "</div>"
            ],
            "text/plain": [
              "         industry_distance_to_vanguard  ...                                    FULLNAME\n",
              "2911674                       0.220084  ...                      Lindsell Train Limited\n",
              "2150224                       0.375110  ...           Nomura Asset Management Co., Ltd.\n",
              "2497341                       0.523384  ...                       OrbiMed Advisors, LLC\n",
              "2719894                       0.622938  ...                                Edward Jones\n",
              "3415233                       0.652326  ...              Invesco Capital Management LLC\n",
              "...                                ...  ...                                         ...\n",
              "325355                        0.984012  ...                      AllianceBernstein L.P.\n",
              "3141735                       0.985456  ...                       Neuberger Berman, LLC\n",
              "2030660                       0.987668  ...  Legal & General Investment Management Ltd.\n",
              "2131946                       0.990293  ...                Pictet Asset Management Ltd.\n",
              "2169490                       1.000000  ...                    The Vanguard Group, Inc.\n",
              "\n",
              "[227 rows x 4 columns]"
            ]
          },
          "metadata": {
            "tags": []
          },
          "execution_count": 70
        }
      ]
    },
    {
      "cell_type": "code",
      "metadata": {
        "id": "0xQSDO1meKOI",
        "outputId": "54e8688b-0ed4-4e62-d945-f90fd0a50ebd",
        "colab": {
          "base_uri": "https://localhost:8080/",
          "height": 313
        }
      },
      "source": [
        "plt.scatter(merged.invStyle_distance_to_vanguard, merged.industry_distance_to_vanguard)\n",
        "plt.xlabel('invStyle_distance')\n",
        "plt.ylabel('industry_distance')\n",
        "plt.title('investor distance to vanguard')"
      ],
      "execution_count": null,
      "outputs": [
        {
          "output_type": "execute_result",
          "data": {
            "text/plain": [
              "Text(0.5, 1.0, 'investor distance to vanguard')"
            ]
          },
          "metadata": {
            "tags": []
          },
          "execution_count": 188
        },
        {
          "output_type": "display_data",
          "data": {
            "image/png": "[encoded data removed]",
            "text/plain": [
              "<Figure size 432x288 with 1 Axes>"
            ]
          },
          "metadata": {
            "tags": [],
            "needs_background": "light"
          }
        }
      ]
    },
    {
      "cell_type": "code",
      "metadata": {
        "id": "RgJzjOPqeKOK"
      },
      "source": [
        "investor_list = list(investor_style_sub.index)\n",
        "\n",
        "industry_distance_to_vanguard_list = []\n",
        "invStyle_distance_to_vanguard_list = []\n",
        "for investor in investor_list:\n",
        "  industry_distance_to_vanguard = cosine_distance(investor, int(vanguard_id), inves_pivot = industry_sub, dict_IDF=industry_weight)\n",
        "  industry_distance_to_vanguard_list.append(industry_distance_to_vanguard)\n",
        "  invStyle_distance_to_vanguard = cosine_distance(investor, int(vanguard_id), inves_pivot = invStyle_sub,dict_IDF=invStyle_weight)\n",
        "  invStyle_distance_to_vanguard_list.append(invStyle_distance_to_vanguard)\n",
        "\n",
        "\n",
        "weighted_distance_to_vanguard_df = pd.DataFrame({\n",
        "    'investor_id': investor_list,\n",
        "    'industry_distance_to_vanguard': industry_distance_to_vanguard_list,\n",
        "    'invStyle_distance_to_vanguard': invStyle_distance_to_vanguard_list\n",
        "})"
      ],
      "execution_count": null,
      "outputs": []
    },
    {
      "cell_type": "code",
      "metadata": {
        "id": "9Sta_nt2eKOM"
      },
      "source": [
        "weighted_merged = pd.merge(weighted_distance_to_vanguard_df, df_sub[['LGCYINVESTORID','FULLNAME']], 'left', left_on='investor_id', right_on='LGCYINVESTORID')\n",
        "weighted_merged = weighted_merged.drop_duplicates(subset='LGCYINVESTORID').drop(['investor_id'], axis=1)\n",
        "weighted_merged = weighted_merged.sort_values(by=['industry_distance_to_vanguard','invStyle_distance_to_vanguard'])"
      ],
      "execution_count": null,
      "outputs": []
    },
    {
      "cell_type": "code",
      "metadata": {
        "id": "geZvgRaieKON",
        "outputId": "78b60eaf-fa20-4d60-80bb-7c09823a30a7",
        "colab": {
          "base_uri": "https://localhost:8080/",
          "height": 623
        }
      },
      "source": [
        "weighted_merged"
      ],
      "execution_count": null,
      "outputs": [
        {
          "output_type": "execute_result",
          "data": {
            "text/html": [
              "<div>\n",
              "<style scoped>\n",
              "    .dataframe tbody tr th:only-of-type {\n",
              "        vertical-align: middle;\n",
              "    }\n",
              "\n",
              "    .dataframe tbody tr th {\n",
              "        vertical-align: top;\n",
              "    }\n",
              "\n",
              "    .dataframe thead th {\n",
              "        text-align: right;\n",
              "    }\n",
              "</style>\n",
              "<table border=\"1\" class=\"dataframe\">\n",
              "  <thead>\n",
              "    <tr style=\"text-align: right;\">\n",
              "      <th></th>\n",
              "      <th>industry_distance_to_vanguard</th>\n",
              "      <th>invStyle_distance_to_vanguard</th>\n",
              "      <th>LGCYINVESTORID</th>\n",
              "      <th>FULLNAME</th>\n",
              "    </tr>\n",
              "  </thead>\n",
              "  <tbody>\n",
              "    <tr>\n",
              "      <th>2611872</th>\n",
              "      <td>0.000127</td>\n",
              "      <td>0.126564</td>\n",
              "      <td>2007217</td>\n",
              "      <td>Renaissance Technologies LLC</td>\n",
              "    </tr>\n",
              "    <tr>\n",
              "      <th>204182</th>\n",
              "      <td>0.015278</td>\n",
              "      <td>0.000000</td>\n",
              "      <td>2002019</td>\n",
              "      <td>Berkshire Hathaway Inc.</td>\n",
              "    </tr>\n",
              "    <tr>\n",
              "      <th>3628665</th>\n",
              "      <td>0.015278</td>\n",
              "      <td>0.000000</td>\n",
              "      <td>5844860</td>\n",
              "      <td>Polygon Management Ltd.</td>\n",
              "    </tr>\n",
              "    <tr>\n",
              "      <th>3680758</th>\n",
              "      <td>0.015278</td>\n",
              "      <td>0.000000</td>\n",
              "      <td>6129655</td>\n",
              "      <td>Park Avenue Securities LLC</td>\n",
              "    </tr>\n",
              "    <tr>\n",
              "      <th>3685087</th>\n",
              "      <td>0.015278</td>\n",
              "      <td>0.000000</td>\n",
              "      <td>6139212</td>\n",
              "      <td>Standard Life Investments (Corporate Funds) Ltd</td>\n",
              "    </tr>\n",
              "    <tr>\n",
              "      <th>...</th>\n",
              "      <td>...</td>\n",
              "      <td>...</td>\n",
              "      <td>...</td>\n",
              "      <td>...</td>\n",
              "    </tr>\n",
              "    <tr>\n",
              "      <th>2003094</th>\n",
              "      <td>0.835837</td>\n",
              "      <td>0.649826</td>\n",
              "      <td>2003716</td>\n",
              "      <td>Janus Henderson Investors</td>\n",
              "    </tr>\n",
              "    <tr>\n",
              "      <th>1619997</th>\n",
              "      <td>0.838554</td>\n",
              "      <td>0.942628</td>\n",
              "      <td>2003245</td>\n",
              "      <td>State Street Global Advisors (US)</td>\n",
              "    </tr>\n",
              "    <tr>\n",
              "      <th>1763709</th>\n",
              "      <td>0.851147</td>\n",
              "      <td>0.559571</td>\n",
              "      <td>2003354</td>\n",
              "      <td>Wellington Management Company, LLP</td>\n",
              "    </tr>\n",
              "    <tr>\n",
              "      <th>1946094</th>\n",
              "      <td>0.861712</td>\n",
              "      <td>0.752807</td>\n",
              "      <td>2003671</td>\n",
              "      <td>BlackRock Advisors (UK) Limited</td>\n",
              "    </tr>\n",
              "    <tr>\n",
              "      <th>2169490</th>\n",
              "      <td>1.000000</td>\n",
              "      <td>1.000000</td>\n",
              "      <td>2004260</td>\n",
              "      <td>The Vanguard Group, Inc.</td>\n",
              "    </tr>\n",
              "  </tbody>\n",
              "</table>\n",
              "<p>227 rows × 4 columns</p>\n",
              "</div>"
            ],
            "text/plain": [
              "         industry_distance_to_vanguard  ...                                         FULLNAME\n",
              "2611872                       0.000127  ...                     Renaissance Technologies LLC\n",
              "204182                        0.015278  ...                          Berkshire Hathaway Inc.\n",
              "3628665                       0.015278  ...                          Polygon Management Ltd.\n",
              "3680758                       0.015278  ...                       Park Avenue Securities LLC\n",
              "3685087                       0.015278  ...  Standard Life Investments (Corporate Funds) Ltd\n",
              "...                                ...  ...                                              ...\n",
              "2003094                       0.835837  ...                        Janus Henderson Investors\n",
              "1619997                       0.838554  ...                State Street Global Advisors (US)\n",
              "1763709                       0.851147  ...               Wellington Management Company, LLP\n",
              "1946094                       0.861712  ...                  BlackRock Advisors (UK) Limited\n",
              "2169490                       1.000000  ...                         The Vanguard Group, Inc.\n",
              "\n",
              "[227 rows x 4 columns]"
            ]
          },
          "metadata": {
            "tags": []
          },
          "execution_count": 139
        }
      ]
    },
    {
      "cell_type": "code",
      "metadata": {
        "id": "8Bi4OXgFeKOQ"
      },
      "source": [
        "weighted_merged.to_csv('/content/gdrive/My Drive/capstone_own/weighted_style_cos_distance_to_vanguard_df.csv')"
      ],
      "execution_count": null,
      "outputs": []
    },
    {
      "cell_type": "markdown",
      "metadata": {
        "id": "HsMdojXLacCF"
      },
      "source": [
        "#### Euclidean distance"
      ]
    },
    {
      "cell_type": "code",
      "metadata": {
        "id": "SP960yIas58p"
      },
      "source": [
        "investor_list = list(investor_style_sub.index)\n",
        "\n",
        "industry_distance_to_vanguard_list = []\n",
        "invStyle_distance_to_vanguard_list = []\n",
        "for investor in investor_list:\n",
        "  industry_distance_to_vanguard = euclidean_distance(investor, int(vanguard_id), inves_pivot = industry_sub)\n",
        "  industry_distance_to_vanguard_list.append(industry_distance_to_vanguard)\n",
        "  invStyle_distance_to_vanguard = euclidean_distance(investor, int(vanguard_id), inves_pivot = invStyle_sub)\n",
        "  invStyle_distance_to_vanguard_list.append(invStyle_distance_to_vanguard)\n",
        "\n",
        "\n",
        "distance_to_vanguard_df = pd.DataFrame({\n",
        "    'investor_id': investor_list,\n",
        "    'industry_distance_to_vanguard': industry_distance_to_vanguard_list,\n",
        "    'invStyle_distance_to_vanguard': invStyle_distance_to_vanguard_list\n",
        "})"
      ],
      "execution_count": null,
      "outputs": []
    },
    {
      "cell_type": "code",
      "metadata": {
        "id": "2URg6SJZCDDU"
      },
      "source": [
        "merged = pd.merge(distance_to_vanguard_df, df_sub[['LGCYINVESTORID','FULLNAME']], 'left', left_on='investor_id', right_on='LGCYINVESTORID')\n",
        "merged = merged.drop_duplicates(subset='LGCYINVESTORID').drop(['investor_id'], axis=1)\n",
        "merged = merged.sort_values(by=['industry_distance_to_vanguard','invStyle_distance_to_vanguard'])"
      ],
      "execution_count": null,
      "outputs": []
    },
    {
      "cell_type": "code",
      "metadata": {
        "id": "zFQx3jlr9QOn"
      },
      "source": [
        "merged.to_csv('/content/gdrive/My Drive/capstone_own/style_euclidean_distance_to_vanguard_df.csv')"
      ],
      "execution_count": null,
      "outputs": []
    },
    {
      "cell_type": "code",
      "metadata": {
        "id": "ISi9Tabars1Y",
        "outputId": "a69c9700-ee88-443d-c011-1abb856951e9",
        "colab": {
          "base_uri": "https://localhost:8080/",
          "height": 313
        }
      },
      "source": [
        "plt.scatter(merged.invStyle_distance_to_vanguard, merged.industry_distance_to_vanguard)\n",
        "plt.xlabel('invStyle_distance')\n",
        "plt.ylabel('industry_distance')\n",
        "plt.title('investor distance to vanguard')"
      ],
      "execution_count": null,
      "outputs": [
        {
          "output_type": "execute_result",
          "data": {
            "text/plain": [
              "Text(0.5, 1.0, 'investor distance to vanguard')"
            ]
          },
          "metadata": {
            "tags": []
          },
          "execution_count": 79
        },
        {
          "output_type": "display_data",
          "data": {
            "image/png": "[encoded data removed]",
            "text/plain": [
              "<Figure size 432x288 with 1 Axes>"
            ]
          },
          "metadata": {
            "tags": [],
            "needs_background": "light"
          }
        }
      ]
    },
    {
      "cell_type": "code",
      "metadata": {
        "id": "lSWDCXRwQyt6"
      },
      "source": [
        "investor_list = list(investor_style_sub.index)\n",
        "\n",
        "industry_distance_to_vanguard_list = []\n",
        "invStyle_distance_to_vanguard_list = []\n",
        "for investor in investor_list:\n",
        "  industry_distance_to_vanguard = euclidean_distance(investor, int(vanguard_id), inves_pivot = industry_sub, dict_IDF=industry_weight)\n",
        "  industry_distance_to_vanguard_list.append(industry_distance_to_vanguard)\n",
        "  invStyle_distance_to_vanguard = euclidean_distance(investor, int(vanguard_id), inves_pivot = invStyle_sub,dict_IDF=invStyle_weight)\n",
        "  invStyle_distance_to_vanguard_list.append(invStyle_distance_to_vanguard)\n",
        "\n",
        "\n",
        "weighted_distance_to_vanguard_df = pd.DataFrame({\n",
        "    'investor_id': investor_list,\n",
        "    'industry_distance_to_vanguard': industry_distance_to_vanguard_list,\n",
        "    'invStyle_distance_to_vanguard': invStyle_distance_to_vanguard_list\n",
        "})"
      ],
      "execution_count": null,
      "outputs": []
    },
    {
      "cell_type": "code",
      "metadata": {
        "id": "_F84hPRXScHU"
      },
      "source": [
        "weighted_merged = pd.merge(weighted_distance_to_vanguard_df, df_sub[['LGCYINVESTORID','FULLNAME']], 'left', left_on='investor_id', right_on='LGCYINVESTORID')\n",
        "weighted_merged = weighted_merged.drop_duplicates(subset='LGCYINVESTORID').drop(['investor_id'], axis=1)\n",
        "weighted_merged = weighted_merged.sort_values(by=['industry_distance_to_vanguard','invStyle_distance_to_vanguard'])"
      ],
      "execution_count": null,
      "outputs": []
    },
    {
      "cell_type": "code",
      "metadata": {
        "id": "d_OmfTNNv-Pj",
        "outputId": "05d44079-1bf6-4df1-c7b8-ae5ded488905",
        "colab": {
          "base_uri": "https://localhost:8080/",
          "height": 453
        }
      },
      "source": [
        "weighted_merged"
      ],
      "execution_count": null,
      "outputs": [
        {
          "output_type": "execute_result",
          "data": {
            "text/html": [
              "<div>\n",
              "<style scoped>\n",
              "    .dataframe tbody tr th:only-of-type {\n",
              "        vertical-align: middle;\n",
              "    }\n",
              "\n",
              "    .dataframe tbody tr th {\n",
              "        vertical-align: top;\n",
              "    }\n",
              "\n",
              "    .dataframe thead th {\n",
              "        text-align: right;\n",
              "    }\n",
              "</style>\n",
              "<table border=\"1\" class=\"dataframe\">\n",
              "  <thead>\n",
              "    <tr style=\"text-align: right;\">\n",
              "      <th></th>\n",
              "      <th>industry_distance_to_vanguard</th>\n",
              "      <th>invStyle_distance_to_vanguard</th>\n",
              "      <th>LGCYINVESTORID</th>\n",
              "      <th>FULLNAME</th>\n",
              "    </tr>\n",
              "  </thead>\n",
              "  <tbody>\n",
              "    <tr>\n",
              "      <th>2169490</th>\n",
              "      <td>1.862645e-09</td>\n",
              "      <td>0.000000</td>\n",
              "      <td>2004260</td>\n",
              "      <td>The Vanguard Group, Inc.</td>\n",
              "    </tr>\n",
              "    <tr>\n",
              "      <th>1619997</th>\n",
              "      <td>4.321215e-02</td>\n",
              "      <td>0.105101</td>\n",
              "      <td>2003245</td>\n",
              "      <td>State Street Global Advisors (US)</td>\n",
              "    </tr>\n",
              "    <tr>\n",
              "      <th>1763709</th>\n",
              "      <td>4.337680e-02</td>\n",
              "      <td>0.261864</td>\n",
              "      <td>2003354</td>\n",
              "      <td>Wellington Management Company, LLP</td>\n",
              "    </tr>\n",
              "    <tr>\n",
              "      <th>3141735</th>\n",
              "      <td>4.371766e-02</td>\n",
              "      <td>0.289995</td>\n",
              "      <td>2575181</td>\n",
              "      <td>Neuberger Berman, LLC</td>\n",
              "    </tr>\n",
              "    <tr>\n",
              "      <th>325355</th>\n",
              "      <td>4.410214e-02</td>\n",
              "      <td>0.257961</td>\n",
              "      <td>2002451</td>\n",
              "      <td>AllianceBernstein L.P.</td>\n",
              "    </tr>\n",
              "    <tr>\n",
              "      <th>...</th>\n",
              "      <td>...</td>\n",
              "      <td>...</td>\n",
              "      <td>...</td>\n",
              "      <td>...</td>\n",
              "    </tr>\n",
              "    <tr>\n",
              "      <th>2497341</th>\n",
              "      <td>2.480347e-01</td>\n",
              "      <td>0.644222</td>\n",
              "      <td>2006020</td>\n",
              "      <td>OrbiMed Advisors, LLC</td>\n",
              "    </tr>\n",
              "    <tr>\n",
              "      <th>3333009</th>\n",
              "      <td>2.617951e-01</td>\n",
              "      <td>0.418195</td>\n",
              "      <td>2620417</td>\n",
              "      <td>Brookfield Asset Management, Inc.</td>\n",
              "    </tr>\n",
              "    <tr>\n",
              "      <th>3628883</th>\n",
              "      <td>2.913952e-01</td>\n",
              "      <td>0.589341</td>\n",
              "      <td>5915225</td>\n",
              "      <td>Natixis Assurances</td>\n",
              "    </tr>\n",
              "    <tr>\n",
              "      <th>1388535</th>\n",
              "      <td>3.368889e-01</td>\n",
              "      <td>0.289639</td>\n",
              "      <td>2003121</td>\n",
              "      <td>Virtus Investment Advisers, Inc.</td>\n",
              "    </tr>\n",
              "    <tr>\n",
              "      <th>2611872</th>\n",
              "      <td>3.610976e-01</td>\n",
              "      <td>0.358088</td>\n",
              "      <td>2007217</td>\n",
              "      <td>Renaissance Technologies LLC</td>\n",
              "    </tr>\n",
              "  </tbody>\n",
              "</table>\n",
              "<p>227 rows × 4 columns</p>\n",
              "</div>"
            ],
            "text/plain": [
              "         industry_distance_to_vanguard  ...                            FULLNAME\n",
              "2169490                   1.862645e-09  ...            The Vanguard Group, Inc.\n",
              "1619997                   4.321215e-02  ...   State Street Global Advisors (US)\n",
              "1763709                   4.337680e-02  ...  Wellington Management Company, LLP\n",
              "3141735                   4.371766e-02  ...               Neuberger Berman, LLC\n",
              "325355                    4.410214e-02  ...              AllianceBernstein L.P.\n",
              "...                                ...  ...                                 ...\n",
              "2497341                   2.480347e-01  ...               OrbiMed Advisors, LLC\n",
              "3333009                   2.617951e-01  ...   Brookfield Asset Management, Inc.\n",
              "3628883                   2.913952e-01  ...                  Natixis Assurances\n",
              "1388535                   3.368889e-01  ...    Virtus Investment Advisers, Inc.\n",
              "2611872                   3.610976e-01  ...        Renaissance Technologies LLC\n",
              "\n",
              "[227 rows x 4 columns]"
            ]
          },
          "metadata": {
            "tags": []
          },
          "execution_count": 82
        }
      ]
    },
    {
      "cell_type": "code",
      "metadata": {
        "id": "qF3zedJg81F-"
      },
      "source": [
        "weighted_merged.to_csv('/content/gdrive/My Drive/capstone_own/weighted_style_euclidean_distance_to_vanguard_df.csv')"
      ],
      "execution_count": null,
      "outputs": []
    },
    {
      "cell_type": "markdown",
      "metadata": {
        "id": "n4Em_nxxgOGl"
      },
      "source": [
        "### K-means"
      ]
    },
    {
      "cell_type": "code",
      "metadata": {
        "id": "J0Caa19hwIt5"
      },
      "source": [
        "from sklearn.cluster import KMeans\n",
        "\n",
        "km = KMeans(n_clusters=2)\n",
        "predict = km.fit_predict(invStyle_sub)"
      ],
      "execution_count": 101,
      "outputs": []
    },
    {
      "cell_type": "code",
      "metadata": {
        "id": "hy_MA1KUnagV",
        "outputId": "7c01b74f-e76e-4834-9d16-0af148c7b15a",
        "colab": {
          "base_uri": "https://localhost:8080/"
        }
      },
      "source": [
        "invStyle_sub.columns"
      ],
      "execution_count": 105,
      "outputs": [
        {
          "output_type": "execute_result",
          "data": {
            "text/plain": [
              "Index(['InvStyle_Aggres. Gr.', 'InvStyle_Arbitrage',\n",
              "       'InvStyle_Convertible Arbitrage', 'InvStyle_Emerging Markets',\n",
              "       'InvStyle_GARP', 'InvStyle_Growth', 'InvStyle_Income', 'InvStyle_Index',\n",
              "       'InvStyle_Private Equity', 'InvStyle_Quantitative',\n",
              "       'InvStyle_Sector Rotational', 'InvStyle_Shareholder Activist',\n",
              "       'InvStyle_Short Selling', 'InvStyle_Social Awareness',\n",
              "       'InvStyle_Special Situations', 'InvStyle_Technicals', 'InvStyle_Value',\n",
              "       'InvStyle_Venture Capital'],\n",
              "      dtype='object', name='SpecDesc_')"
            ]
          },
          "metadata": {
            "tags": []
          },
          "execution_count": 105
        }
      ]
    },
    {
      "cell_type": "code",
      "metadata": {
        "id": "WdS368f4ne-P",
        "outputId": "0b91ceb0-17d4-404c-a578-1c09a9d43c1a",
        "colab": {
          "base_uri": "https://localhost:8080/",
          "height": 282
        }
      },
      "source": [
        "# PCA visualization\n",
        "from sklearn.decomposition import PCA\n",
        "pca = PCA(n_components=2)\n",
        "pca_x = pca.fit_transform(invStyle_sub)\n",
        "plt.scatter(pca_x[:,0],pca_x[:,1],c=predict)"
      ],
      "execution_count": 106,
      "outputs": [
        {
          "output_type": "execute_result",
          "data": {
            "text/plain": [
              "<matplotlib.collections.PathCollection at 0x7f02c311a2b0>"
            ]
          },
          "metadata": {
            "tags": []
          },
          "execution_count": 106
        },
        {
          "output_type": "display_data",
          "data": {
            "image/png": "[encoded data removed]",
            "text/plain": [
              "<Figure size 432x288 with 1 Axes>"
            ]
          },
          "metadata": {
            "tags": [],
            "needs_background": "light"
          }
        }
      ]
    },
    {
      "cell_type": "code",
      "metadata": {
        "id": "HYmMgzC3n_GA"
      },
      "source": [
        ""
      ],
      "execution_count": null,
      "outputs": []
    },
    {
      "cell_type": "code",
      "metadata": {
        "id": "Ub0MdYfTkM5O",
        "outputId": "20f1636f-ff0f-451e-d939-4cd9de9ec559",
        "colab": {
          "base_uri": "https://localhost:8080/",
          "height": 282
        }
      },
      "source": [
        "# TSNE visualization\n",
        "from sklearn.manifold import TSNE\n",
        "tsne = TSNE(n_components=2)\n",
        "x = tsne.fit_transform(invStyle_sub)\n",
        "plt.scatter(x[:,0],x[:,1],c=predict)\n",
        "plt.title(\"Investment Style clustering\")"
      ],
      "execution_count": 104,
      "outputs": [
        {
          "output_type": "execute_result",
          "data": {
            "text/plain": [
              "<matplotlib.collections.PathCollection at 0x7f02c314deb8>"
            ]
          },
          "metadata": {
            "tags": []
          },
          "execution_count": 104
        },
        {
          "output_type": "display_data",
          "data": {
            "image/png": "[encoded data removed]",
            "text/plain": [
              "<Figure size 432x288 with 1 Axes>"
            ]
          },
          "metadata": {
            "tags": [],
            "needs_background": "light"
          }
        }
      ]
    },
    {
      "cell_type": "code",
      "metadata": {
        "id": "To5vhJvTmH20",
        "outputId": "2b5fc7ae-d1a6-4f47-fc19-dea411fdf4c8",
        "colab": {
          "base_uri": "https://localhost:8080/",
          "height": 282
        }
      },
      "source": [
        "plt.scatter(x[:,0],x[:,1])"
      ],
      "execution_count": 100,
      "outputs": [
        {
          "output_type": "execute_result",
          "data": {
            "text/plain": [
              "<matplotlib.collections.PathCollection at 0x7f02c32aca90>"
            ]
          },
          "metadata": {
            "tags": []
          },
          "execution_count": 100
        },
        {
          "output_type": "display_data",
          "data": {
            "image/png": "[encoded data removed]",
            "text/plain": [
              "<Figure size 432x288 with 1 Axes>"
            ]
          },
          "metadata": {
            "tags": [],
            "needs_background": "light"
          }
        }
      ]
    },
    {
      "cell_type": "code",
      "metadata": {
        "id": "eYyak2sf4MIF"
      },
      "source": [
        "# evaluation\n",
        "invStyle_sub_res = invStyle_sub.copy()\n",
        "invStyle_sub_res['kmeans_cluster'] = predict"
      ],
      "execution_count": 146,
      "outputs": []
    },
    {
      "cell_type": "code",
      "metadata": {
        "id": "qeOSGHJlCtDA"
      },
      "source": [
        "invStyle_sub_res.to_csv('/content/gdrive/My Drive/capstone_own/invStyle_list.csv')"
      ],
      "execution_count": 124,
      "outputs": []
    },
    {
      "cell_type": "code",
      "metadata": {
        "id": "PHVYjC3p9K0H"
      },
      "source": [
        "# convert pivot table to dataframe so that the data could be used for tableau\n",
        "# invStyle_sub_res.melt(ignore_index=False).reset_index().to_csv('/content/gdrive/My Drive/capstone_own/invStyle_list_table.csv')"
      ],
      "execution_count": 125,
      "outputs": []
    },
    {
      "cell_type": "markdown",
      "metadata": {
        "id": "EyqfHgw9UNYq"
      },
      "source": [
        "#### weighted k-means"
      ]
    },
    {
      "cell_type": "code",
      "metadata": {
        "id": "Ru7mo0KqUQ_J",
        "outputId": "e8d6ddfd-8d5a-4c3d-89dd-6a37eb7e2896",
        "colab": {
          "base_uri": "https://localhost:8080/",
          "height": 282
        }
      },
      "source": [
        "km = KMeans(n_clusters=2)\n",
        "predict_weighted = km.fit_predict(invStyle_sub * invStyle_weight)\n",
        "\n",
        "\n",
        "# PCA visualization\n",
        "\n",
        "pca = PCA(n_components=2)\n",
        "pca_x_weighted = pca.fit_transform(invStyle_sub * invStyle_weight)\n",
        "plt.scatter(pca_x_weighted[:,0],pca_x_weighted[:,1],c=predict_weighted)"
      ],
      "execution_count": 154,
      "outputs": [
        {
          "output_type": "execute_result",
          "data": {
            "text/plain": [
              "<matplotlib.collections.PathCollection at 0x7f02c2cb3710>"
            ]
          },
          "metadata": {
            "tags": []
          },
          "execution_count": 154
        },
        {
          "output_type": "display_data",
          "data": {
            "image/png": "[encoded data removed]",
            "text/plain": [
              "<Figure size 432x288 with 1 Axes>"
            ]
          },
          "metadata": {
            "tags": [],
            "needs_background": "light"
          }
        }
      ]
    },
    {
      "cell_type": "code",
      "metadata": {
        "id": "dl1q9KLWV3Iz"
      },
      "source": [
        "# evaluation\n",
        "invStyle_sub_res['kmeans_cluster_weighted'] = 1- predict_weighted"
      ],
      "execution_count": 159,
      "outputs": []
    },
    {
      "cell_type": "code",
      "metadata": {
        "id": "W6Z5SBtnWXBG",
        "outputId": "d8c2c8aa-bb16-4b6b-ce57-fe15a2f38d21",
        "colab": {
          "base_uri": "https://localhost:8080/"
        }
      },
      "source": [
        "sum(invStyle_sub_res['kmeans_cluster'] == invStyle_sub_res['kmeans_cluster_weighted'])"
      ],
      "execution_count": 160,
      "outputs": [
        {
          "output_type": "execute_result",
          "data": {
            "text/plain": [
              "205"
            ]
          },
          "metadata": {
            "tags": []
          },
          "execution_count": 160
        }
      ]
    },
    {
      "cell_type": "code",
      "metadata": {
        "id": "OSLlQ40_V3I2"
      },
      "source": [
        "# invStyle_sub_res_weighted.to_csv('/content/gdrive/My Drive/capstone_own/invStyle_list.csv')"
      ],
      "execution_count": null,
      "outputs": []
    },
    {
      "cell_type": "markdown",
      "metadata": {
        "id": "fapCla-mh_Vu"
      },
      "source": [
        "## Aggregate the results"
      ]
    },
    {
      "cell_type": "code",
      "metadata": {
        "id": "jwwHgj8ciDWO"
      },
      "source": [
        "\n",
        "df_1 = pd.read_csv('/content/gdrive/My Drive/capstone_own/TOP20%SHSHLDVALpct_distance_to_vanguard_df.csv',index_col=0)\n",
        "df_2 = pd.read_csv('/content/gdrive/My Drive/capstone_own/style_cos_distance_to_vanguard_df.csv',index_col=0)\n",
        "df_3 = pd.read_csv('/content/gdrive/My Drive/capstone_own/weighted_style_cos_distance_to_vanguard_df.csv',index_col=0)\n",
        "df_4 = pd.read_csv('/content/gdrive/My Drive/capstone_own/style_euclidean_distance_to_vanguard_df.csv',index_col=0)\n",
        "df_5 = pd.read_csv('/content/gdrive/My Drive/capstone_own/weighted_style_euclidean_distance_to_vanguard_df.csv',index_col=0)"
      ],
      "execution_count": 128,
      "outputs": []
    },
    {
      "cell_type": "code",
      "metadata": {
        "id": "XR40cRoxic3m"
      },
      "source": [
        "df_investstyle_cos = pd.merge(df_2,df_3, on=['LGCYINVESTORID','FULLNAME'],suffixes=('','_weighted'))\n",
        "df_investstyle_euc = pd.merge(df_4,df_5, on=['LGCYINVESTORID','FULLNAME'],suffixes=('','_weighted'))\n",
        "df_investstyle = pd.merge(df_investstyle_cos,df_investstyle_euc,on=['LGCYINVESTORID','FULLNAME'],suffixes=('_cos','_euclidean'))\n",
        "df_feature = pd.merge(df_1,df_investstyle,on=['LGCYINVESTORID','FULLNAME'])"
      ],
      "execution_count": 130,
      "outputs": []
    },
    {
      "cell_type": "code",
      "metadata": {
        "id": "FOKsF3a2jbZK"
      },
      "source": [
        "df_feature[['LGCYINVESTORID', 'FULLNAME', 'TOP20%SHSHLDVALpct_distance_to_vanguard',\n",
        "       'industry_distance_to_vanguard_cos',\n",
        "       'invStyle_distance_to_vanguard_cos',\n",
        "       'industry_distance_to_vanguard_weighted_cos',\n",
        "       'invStyle_distance_to_vanguard_weighted_cos',\n",
        "       'industry_distance_to_vanguard_euclidean',\n",
        "       'invStyle_distance_to_vanguard_euclidean',\n",
        "       'industry_distance_to_vanguard_weighted_euclidean',\n",
        "       'invStyle_distance_to_vanguard_weighted_euclidean']].to_csv('/content/gdrive/My Drive/capstone_own/distance_to_vanguard_df.csv')"
      ],
      "execution_count": 132,
      "outputs": []
    },
    {
      "cell_type": "code",
      "metadata": {
        "id": "mPEXF6YwjoYj"
      },
      "source": [
        "df_feature[['LGCYINVESTORID', 'FULLNAME', 'TOP20%SHSHLDVALpct_distance_to_vanguard',\n",
        "       'industry_distance_to_vanguard_cos',\n",
        "       'invStyle_distance_to_vanguard_cos',\n",
        "       'industry_distance_to_vanguard_weighted_cos',\n",
        "       'invStyle_distance_to_vanguard_weighted_cos',\n",
        "       'industry_distance_to_vanguard_euclidean',\n",
        "       'invStyle_distance_to_vanguard_euclidean',\n",
        "       'industry_distance_to_vanguard_weighted_euclidean',\n",
        "       'invStyle_distance_to_vanguard_weighted_euclidean']].to_csv('/content/gdrive/My Drive/capstone/full database/investstyle_concentration_distance_to_vanguard.csv')"
      ],
      "execution_count": 133,
      "outputs": []
    },
    {
      "cell_type": "code",
      "metadata": {
        "id": "qBs6yywpQQnW"
      },
      "source": [
        ""
      ],
      "execution_count": null,
      "outputs": []
    }
  ]
}