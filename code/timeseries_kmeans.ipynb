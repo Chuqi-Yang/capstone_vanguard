{
  "nbformat": 4,
  "nbformat_minor": 0,
  "metadata": {
    "colab": {
      "name": "timeseries_kmeans.ipynb",
      "provenance": [],
      "collapsed_sections": [
        "Oet1zrfhKCLF"
      ],
      "toc_visible": true
    },
    "kernelspec": {
      "display_name": "Python 3",
      "name": "python3"
    },
    "accelerator": "GPU"
  },
  "cells": [
    {
      "cell_type": "code",
      "metadata": {
        "colab": {
          "base_uri": "https://localhost:8080/"
        },
        "id": "jtccaylvk2d8",
        "outputId": "93835451-c576-4a8d-9899-ee4c48be3af8"
      },
      "source": [
        "from google.colab import drive\n",
        "drive.mount('/content/gdrive')"
      ],
      "execution_count": null,
      "outputs": [
        {
          "output_type": "stream",
          "text": [
            "Mounted at /content/gdrive\n"
          ],
          "name": "stdout"
        }
      ]
    },
    {
      "cell_type": "markdown",
      "metadata": {
        "id": "L77LYJvXsPmy"
      },
      "source": [
        "201 investors in 17-quarter 13F data:  \n",
        "* instruments: 10972  \n",
        "\n",
        "\n",
        "df_sub merge with RDC (COMNAME, industry info):\n",
        "* 5 instru not in RDC\n",
        "* instruments: 10972 - 5 = 10967  \n",
        "\n",
        "\n",
        "merge with mkt cap data:\n",
        "* 27 instru with no mkt cap at all\n",
        "* 243 instru with no full mkt cap for 17 time points (including 27 above)\n",
        "* instruments: 10928"
      ]
    },
    {
      "cell_type": "code",
      "metadata": {
        "id": "UVyE53fYlJ1n"
      },
      "source": [
        "import pandas as pd\n",
        "import numpy as np\n",
        "import matplotlib.pyplot as plt\n",
        "\n",
        "%matplotlib inline"
      ],
      "execution_count": null,
      "outputs": []
    },
    {
      "cell_type": "code",
      "metadata": {
        "id": "B6hDaXjBlMk9"
      },
      "source": [
        "# read in 13F results\n",
        "file_name = '/content/gdrive/My Drive/capstone/full database/Results_20160630_20200630.csv'\n",
        "df = pd.read_csv(file_name)\n",
        "df['HOLDDATE'] = df['HOLDDATE'].str.replace(r' 00:00:00', '')"
      ],
      "execution_count": null,
      "outputs": []
    },
    {
      "cell_type": "code",
      "metadata": {
        "colab": {
          "base_uri": "https://localhost:8080/"
        },
        "id": "AfmtXfhEFKF2",
        "outputId": "452d0fc2-9389-47a0-e29a-7a41b31f6150"
      },
      "source": [
        "n_investors = df.LGCYINVESTORID.nunique()\n",
        "print('There are {} investors in 13F data.'.format(n_investors))"
      ],
      "execution_count": null,
      "outputs": [
        {
          "output_type": "stream",
          "text": [
            "There are 6537 investors in 13F data.\n"
          ],
          "name": "stdout"
        }
      ]
    },
    {
      "cell_type": "code",
      "metadata": {
        "id": "NgqsCa1CiSfp"
      },
      "source": [
        ""
      ],
      "execution_count": null,
      "outputs": []
    },
    {
      "cell_type": "code",
      "metadata": {
        "id": "NdXuee6cLPw5"
      },
      "source": [
        "# read in list of investors of interest\n",
        "# df_investors = pd.read_csv('/content/gdrive/My Drive/capstone/full database/active_investor_list.csv')\n",
        "# df_investors = df_investors[df_investors.isActive==True]\n",
        "# ls_investors = df_investors.LgcyInvestorId.to_list()\n",
        "\n",
        "df_investors = pd.read_csv('/content/gdrive/MyDrive/capstone/full database/list_investors_225.csv')\n",
        "ls_investors = df_investors.LGCYINVESTORID.to_list()\n",
        "\n",
        "investor_name = pd.read_csv('/content/gdrive/MyDrive/capstone/full database/company_name.csv')\n",
        "investor_name = investor_name.set_index('LGCYINVESTORID')\n",
        "# print('There are {} investors which are we interested in.'.format(len(ls_investors)))"
      ],
      "execution_count": null,
      "outputs": []
    },
    {
      "cell_type": "code",
      "metadata": {
        "id": "crEmmtWV878t"
      },
      "source": [
        "# active_ls_investors = df_investors[df_investors.isActive==True]"
      ],
      "execution_count": null,
      "outputs": []
    },
    {
      "cell_type": "code",
      "metadata": {
        "id": "JI1iP6aqDER5"
      },
      "source": [
        "# get those in predefined list\n",
        "df_sub = df.loc[df['LGCYINVESTORID'].isin(ls_investors),['INSTRID', 'COMNAME', 'LGCYINVESTORID', 'FULLNAME', 'HOLDDATE', 'SHSHLDVAL']]\n",
        "\n",
        "# calculate the sum of SHSHLDVAL for each investor in each quarter\n",
        "df_sub['SHSHLDVAL_Sum_ByQuarter'] = df_sub.groupby(['LGCYINVESTORID','HOLDDATE']).transform('sum').drop(['INSTRID', 'FULLNAME'], axis = 1)\n",
        "\n",
        "# calculate the (13F only) pct of the SHSHLDVAL of each instrument in its investor's sum of SHSHLDVAL for each quarter \n",
        "# (i.e. revised version of 'PCTPORTFOLIO', so that sum up to 1)\n",
        "df_sub['PCTPORTFOLIO_13F'] = df_sub['SHSHLDVAL'] / df_sub['SHSHLDVAL_Sum_ByQuarter']"
      ],
      "execution_count": null,
      "outputs": []
    },
    {
      "cell_type": "code",
      "metadata": {
        "colab": {
          "base_uri": "https://localhost:8080/"
        },
        "id": "SwJ_5iURqcaF",
        "outputId": "30165a92-9a91-4746-8c97-0cd28355d506"
      },
      "source": [
        "sum(df_sub.drop_duplicates(subset=['INSTRID','COMNAME']).COMNAME.isna())"
      ],
      "execution_count": null,
      "outputs": [
        {
          "output_type": "execute_result",
          "data": {
            "text/plain": [
              "5"
            ]
          },
          "metadata": {
            "tags": []
          },
          "execution_count": 8
        }
      ]
    },
    {
      "cell_type": "code",
      "metadata": {
        "colab": {
          "base_uri": "https://localhost:8080/",
          "height": 411
        },
        "id": "JTa3hP_4qfA0",
        "outputId": "4d8a59d8-33d2-4ebe-a895-e1f4ca2e74a5"
      },
      "source": [
        "df_sub.drop_duplicates(subset=['INSTRID','COMNAME'])[df_sub.drop_duplicates(subset=['INSTRID','COMNAME']).COMNAME.isna()]"
      ],
      "execution_count": null,
      "outputs": [
        {
          "output_type": "execute_result",
          "data": {
            "text/html": [
              "<div>\n",
              "<style scoped>\n",
              "    .dataframe tbody tr th:only-of-type {\n",
              "        vertical-align: middle;\n",
              "    }\n",
              "\n",
              "    .dataframe tbody tr th {\n",
              "        vertical-align: top;\n",
              "    }\n",
              "\n",
              "    .dataframe thead th {\n",
              "        text-align: right;\n",
              "    }\n",
              "</style>\n",
              "<table border=\"1\" class=\"dataframe\">\n",
              "  <thead>\n",
              "    <tr style=\"text-align: right;\">\n",
              "      <th></th>\n",
              "      <th>INSTRID</th>\n",
              "      <th>COMNAME</th>\n",
              "      <th>LGCYINVESTORID</th>\n",
              "      <th>FULLNAME</th>\n",
              "      <th>HOLDDATE</th>\n",
              "      <th>SHSHLDVAL</th>\n",
              "      <th>SHSHLDVAL_Sum_ByQuarter</th>\n",
              "      <th>PCTPORTFOLIO_13F</th>\n",
              "    </tr>\n",
              "  </thead>\n",
              "  <tbody>\n",
              "    <tr>\n",
              "      <th>17311989</th>\n",
              "      <td>18040214097</td>\n",
              "      <td>NaN</td>\n",
              "      <td>2003020</td>\n",
              "      <td>BofA Global Research (US)</td>\n",
              "      <td>2019-03-31</td>\n",
              "      <td>38477.76</td>\n",
              "      <td>3.513862e+11</td>\n",
              "      <td>1.095028e-07</td>\n",
              "    </tr>\n",
              "    <tr>\n",
              "      <th>17434408</th>\n",
              "      <td>18040229076</td>\n",
              "      <td>NaN</td>\n",
              "      <td>2006452</td>\n",
              "      <td>Citadel Advisors LLC</td>\n",
              "      <td>2020-06-30</td>\n",
              "      <td>269235.57</td>\n",
              "      <td>6.344707e+10</td>\n",
              "      <td>4.243467e-06</td>\n",
              "    </tr>\n",
              "    <tr>\n",
              "      <th>17434833</th>\n",
              "      <td>18040229403</td>\n",
              "      <td>NaN</td>\n",
              "      <td>2002875</td>\n",
              "      <td>American Century Investment Management, Inc.</td>\n",
              "      <td>2020-06-30</td>\n",
              "      <td>65729096.27</td>\n",
              "      <td>1.052599e+11</td>\n",
              "      <td>6.244455e-04</td>\n",
              "    </tr>\n",
              "    <tr>\n",
              "      <th>17435139</th>\n",
              "      <td>18040229077</td>\n",
              "      <td>NaN</td>\n",
              "      <td>2002715</td>\n",
              "      <td>Credit Suisse Securities (USA) LLC</td>\n",
              "      <td>2020-06-30</td>\n",
              "      <td>4998080.20</td>\n",
              "      <td>2.742758e+10</td>\n",
              "      <td>1.822283e-04</td>\n",
              "    </tr>\n",
              "    <tr>\n",
              "      <th>17435428</th>\n",
              "      <td>18040229670</td>\n",
              "      <td>NaN</td>\n",
              "      <td>2001935</td>\n",
              "      <td>UBS Financial Services, Inc.</td>\n",
              "      <td>2020-06-30</td>\n",
              "      <td>7274.57</td>\n",
              "      <td>1.839275e+11</td>\n",
              "      <td>3.955128e-08</td>\n",
              "    </tr>\n",
              "  </tbody>\n",
              "</table>\n",
              "</div>"
            ],
            "text/plain": [
              "              INSTRID COMNAME  ...  SHSHLDVAL_Sum_ByQuarter PCTPORTFOLIO_13F\n",
              "17311989  18040214097     NaN  ...             3.513862e+11     1.095028e-07\n",
              "17434408  18040229076     NaN  ...             6.344707e+10     4.243467e-06\n",
              "17434833  18040229403     NaN  ...             1.052599e+11     6.244455e-04\n",
              "17435139  18040229077     NaN  ...             2.742758e+10     1.822283e-04\n",
              "17435428  18040229670     NaN  ...             1.839275e+11     3.955128e-08\n",
              "\n",
              "[5 rows x 8 columns]"
            ]
          },
          "metadata": {
            "tags": []
          },
          "execution_count": 9
        }
      ]
    },
    {
      "cell_type": "code",
      "metadata": {
        "colab": {
          "base_uri": "https://localhost:8080/"
        },
        "id": "zTnngG8opcyd",
        "outputId": "0e828e8c-00d3-44a4-8bd3-1536d2d1f598"
      },
      "source": [
        "sum(df_sub.drop_duplicates(subset=['INSTRID','COMNAME']).COMNAME.isna())/len(df_sub.drop_duplicates(subset=['INSTRID','COMNAME']))"
      ],
      "execution_count": null,
      "outputs": [
        {
          "output_type": "execute_result",
          "data": {
            "text/plain": [
              "0.0004540088985744121"
            ]
          },
          "metadata": {
            "tags": []
          },
          "execution_count": 10
        }
      ]
    },
    {
      "cell_type": "code",
      "metadata": {
        "colab": {
          "base_uri": "https://localhost:8080/"
        },
        "id": "HYukgwdYl9-8",
        "outputId": "d48797ed-f411-4243-bc1c-2a719bb9c200"
      },
      "source": [
        "len(df_sub)"
      ],
      "execution_count": null,
      "outputs": [
        {
          "output_type": "execute_result",
          "data": {
            "text/plain": [
              "3737571"
            ]
          },
          "metadata": {
            "tags": []
          },
          "execution_count": 11
        }
      ]
    },
    {
      "cell_type": "markdown",
      "metadata": {
        "id": "8iZIB8ponDYt"
      },
      "source": [
        "## Remove instruments not in RDC (i.e. NA in Comname)"
      ]
    },
    {
      "cell_type": "code",
      "metadata": {
        "colab": {
          "base_uri": "https://localhost:8080/"
        },
        "id": "ZBa7klIvnhyH",
        "outputId": "09ca93f2-2152-4415-80f2-b8b7bf8a529f"
      },
      "source": [
        "len(df_sub.loc[df_sub['COMNAME'].isna(),:]) # There are 13 rows with instruments not in RDC"
      ],
      "execution_count": null,
      "outputs": [
        {
          "output_type": "execute_result",
          "data": {
            "text/plain": [
              "36"
            ]
          },
          "metadata": {
            "tags": []
          },
          "execution_count": 12
        }
      ]
    },
    {
      "cell_type": "code",
      "metadata": {
        "colab": {
          "base_uri": "https://localhost:8080/"
        },
        "id": "98R_n1fZqRj1",
        "outputId": "07e933e3-d8cb-4ddb-d94b-85f2771f88b7"
      },
      "source": [
        "df_sub = df_sub.dropna()\n",
        "len(df_sub)"
      ],
      "execution_count": null,
      "outputs": [
        {
          "output_type": "execute_result",
          "data": {
            "text/plain": [
              "3737535"
            ]
          },
          "metadata": {
            "tags": []
          },
          "execution_count": 13
        }
      ]
    },
    {
      "cell_type": "code",
      "metadata": {
        "colab": {
          "base_uri": "https://localhost:8080/"
        },
        "id": "W01Y2qOKthhG",
        "outputId": "8438322d-f69f-47a8-aa6e-913d678957e2"
      },
      "source": [
        "len(set(df_sub['INSTRID']))"
      ],
      "execution_count": null,
      "outputs": [
        {
          "output_type": "execute_result",
          "data": {
            "text/plain": [
              "11008"
            ]
          },
          "metadata": {
            "tags": []
          },
          "execution_count": 14
        }
      ]
    },
    {
      "cell_type": "code",
      "metadata": {
        "id": "q3xJ3Xqmyvse"
      },
      "source": [
        "vanguard_id = '2004260'"
      ],
      "execution_count": null,
      "outputs": []
    },
    {
      "cell_type": "markdown",
      "metadata": {
        "id": "imUl0PfEbCu5"
      },
      "source": [
        "## Fill in missing time"
      ]
    },
    {
      "cell_type": "code",
      "metadata": {
        "id": "iiihdkTIcDEp"
      },
      "source": [
        "def fill_in_missing_date(df, dateColName, valColName):\n",
        "  '''\n",
        "  df: Column for investor id is 'LGCYINVESTORID' and column for instrumnet id is 'INSTRID'\n",
        "  dateColName: Fill in all the dates starting from the earlist to latest mentioned in this column\n",
        "  valColName: The column you want to fill in missing value.\n",
        "              The missing value will be filled as 0.\n",
        "\n",
        "  Return: a dataframe with filled missing value as 0 in valColName\n",
        "  '''\n",
        "  # create pivot table with id and date\n",
        "  df_pivot = pd.pivot_table(df,index='LGCYINVESTORID', columns= dateColName, values=valColName)\n",
        "  # fill in the missing value as 0. Each investor have data for all time stamp.\n",
        "  df_pivot.fillna(0,inplace=True)\n",
        "\n",
        "  # turn the pivot table to original format\n",
        "  df_stack = df_pivot.stack().reset_index()\n",
        "  df_stack.rename(columns = {0: valColName},inplace=True)\n",
        "  # map back the original df\n",
        "  df = pd.merge(df.drop(columns=valColName),df_stack,on = ['LGCYINVESTORID',dateColName])\n",
        "  return df_stack\n"
      ],
      "execution_count": null,
      "outputs": []
    },
    {
      "cell_type": "markdown",
      "metadata": {
        "id": "Oet1zrfhKCLF"
      },
      "source": [
        "## Feature: Asset allocation\n"
      ]
    },
    {
      "cell_type": "code",
      "metadata": {
        "id": "J83IvsaTNNyC"
      },
      "source": [
        "asset_aloc = pd.read_csv('/content/gdrive/My Drive/capstone/full database/AssetAllocWithDesc.csv')"
      ],
      "execution_count": null,
      "outputs": []
    },
    {
      "cell_type": "code",
      "metadata": {
        "colab": {
          "base_uri": "https://localhost:8080/"
        },
        "id": "GYF0L_IayxQv",
        "outputId": "799efba3-51c9-46bb-d018-b70fab41fb19"
      },
      "source": [
        "asset_aloc[asset_aloc.LgcyInvestorId.isin(ls_investors)]"
      ],
      "execution_count": null,
      "outputs": [
        {
          "output_type": "execute_result",
          "data": {
            "text/html": [
              "<div>\n",
              "<style scoped>\n",
              "    .dataframe tbody tr th:only-of-type {\n",
              "        vertical-align: middle;\n",
              "    }\n",
              "\n",
              "    .dataframe tbody tr th {\n",
              "        vertical-align: top;\n",
              "    }\n",
              "\n",
              "    .dataframe thead th {\n",
              "        text-align: right;\n",
              "    }\n",
              "</style>\n",
              "<table border=\"1\" class=\"dataframe\">\n",
              "  <thead>\n",
              "    <tr style=\"text-align: right;\">\n",
              "      <th></th>\n",
              "      <th>LgcyInvestorId</th>\n",
              "      <th>FullName</th>\n",
              "      <th>AstAllocReg</th>\n",
              "      <th>AstAllocRegDesc</th>\n",
              "      <th>EqAstAlloc</th>\n",
              "      <th>EqAstAllocDesc</th>\n",
              "      <th>FIAstAlloc</th>\n",
              "      <th>FIAstAllocDesc</th>\n",
              "      <th>CashAstAlloc</th>\n",
              "      <th>CashAstAllocDesc</th>\n",
              "      <th>TotAstAlloc</th>\n",
              "      <th>TotAstAllocDesc</th>\n",
              "    </tr>\n",
              "  </thead>\n",
              "  <tbody>\n",
              "    <tr>\n",
              "      <th>1</th>\n",
              "      <td>2004000</td>\n",
              "      <td>Nomura Asset Management Co., Ltd.</td>\n",
              "      <td>AAREG5</td>\n",
              "      <td>Australasia Non-Domestic</td>\n",
              "      <td>AARANGE5</td>\n",
              "      <td>$200-499M</td>\n",
              "      <td>AARANGE6</td>\n",
              "      <td>$500-999M</td>\n",
              "      <td>AARANGE2</td>\n",
              "      <td>None ($0)</td>\n",
              "      <td>AARANGE7</td>\n",
              "      <td>$1.0-2.4B</td>\n",
              "    </tr>\n",
              "    <tr>\n",
              "      <th>11</th>\n",
              "      <td>2455426</td>\n",
              "      <td>Adage Capital Management, L.P.</td>\n",
              "      <td>AAREG7</td>\n",
              "      <td>Total Assets</td>\n",
              "      <td>AARANGE11</td>\n",
              "      <td>$20.0-49.9B</td>\n",
              "      <td>AARANGE1</td>\n",
              "      <td>Unknown</td>\n",
              "      <td>AARANGE1</td>\n",
              "      <td>Unknown</td>\n",
              "      <td>AARANGE11</td>\n",
              "      <td>$20.0-49.9B</td>\n",
              "    </tr>\n",
              "    <tr>\n",
              "      <th>36</th>\n",
              "      <td>2575182</td>\n",
              "      <td>SEI Investments Management Corporation</td>\n",
              "      <td>AAREG6</td>\n",
              "      <td>Other Non-Domestic</td>\n",
              "      <td>AARANGE2</td>\n",
              "      <td>None ($0)</td>\n",
              "      <td>AARANGE2</td>\n",
              "      <td>None ($0)</td>\n",
              "      <td>AARANGE2</td>\n",
              "      <td>None ($0)</td>\n",
              "      <td>AARANGE2</td>\n",
              "      <td>None ($0)</td>\n",
              "    </tr>\n",
              "    <tr>\n",
              "      <th>104</th>\n",
              "      <td>2004351</td>\n",
              "      <td>Charles Schwab Investment Management, Inc.</td>\n",
              "      <td>AAREG7</td>\n",
              "      <td>Total Assets</td>\n",
              "      <td>AARANGE14</td>\n",
              "      <td>Over $150B</td>\n",
              "      <td>AARANGE1</td>\n",
              "      <td>Unknown</td>\n",
              "      <td>AARANGE1</td>\n",
              "      <td>Unknown</td>\n",
              "      <td>AARANGE14</td>\n",
              "      <td>Over $150B</td>\n",
              "    </tr>\n",
              "    <tr>\n",
              "      <th>110</th>\n",
              "      <td>2003294</td>\n",
              "      <td>Invesco Canada Ltd.</td>\n",
              "      <td>AAREG7</td>\n",
              "      <td>Total Assets</td>\n",
              "      <td>AARANGE10</td>\n",
              "      <td>$10.0-19.9B</td>\n",
              "      <td>AARANGE1</td>\n",
              "      <td>Unknown</td>\n",
              "      <td>AARANGE1</td>\n",
              "      <td>Unknown</td>\n",
              "      <td>AARANGE11</td>\n",
              "      <td>$20.0-49.9B</td>\n",
              "    </tr>\n",
              "    <tr>\n",
              "      <th>...</th>\n",
              "      <td>...</td>\n",
              "      <td>...</td>\n",
              "      <td>...</td>\n",
              "      <td>...</td>\n",
              "      <td>...</td>\n",
              "      <td>...</td>\n",
              "      <td>...</td>\n",
              "      <td>...</td>\n",
              "      <td>...</td>\n",
              "      <td>...</td>\n",
              "      <td>...</td>\n",
              "      <td>...</td>\n",
              "    </tr>\n",
              "    <tr>\n",
              "      <th>6300</th>\n",
              "      <td>3318171</td>\n",
              "      <td>BlueMountain Capital Management, LLC</td>\n",
              "      <td>AAREG7</td>\n",
              "      <td>Total Assets</td>\n",
              "      <td>AARANGE4</td>\n",
              "      <td>$25-199M</td>\n",
              "      <td>AARANGE1</td>\n",
              "      <td>Unknown</td>\n",
              "      <td>AARANGE1</td>\n",
              "      <td>Unknown</td>\n",
              "      <td>AARANGE10</td>\n",
              "      <td>$10.0-19.9B</td>\n",
              "    </tr>\n",
              "    <tr>\n",
              "      <th>6325</th>\n",
              "      <td>2906273</td>\n",
              "      <td>Great Point Partners, LLC</td>\n",
              "      <td>AAREG7</td>\n",
              "      <td>Total Assets</td>\n",
              "      <td>AARANGE7</td>\n",
              "      <td>$1.0-2.4B</td>\n",
              "      <td>AARANGE1</td>\n",
              "      <td>Unknown</td>\n",
              "      <td>AARANGE1</td>\n",
              "      <td>Unknown</td>\n",
              "      <td>AARANGE8</td>\n",
              "      <td>$2.5-4.9B</td>\n",
              "    </tr>\n",
              "    <tr>\n",
              "      <th>6334</th>\n",
              "      <td>2507775</td>\n",
              "      <td>Balyasny Asset Management LP</td>\n",
              "      <td>AAREG7</td>\n",
              "      <td>Total Assets</td>\n",
              "      <td>AARANGE9</td>\n",
              "      <td>$5.0-9.9B</td>\n",
              "      <td>AARANGE1</td>\n",
              "      <td>Unknown</td>\n",
              "      <td>AARANGE1</td>\n",
              "      <td>Unknown</td>\n",
              "      <td>AARANGE13</td>\n",
              "      <td>$100-149.9B</td>\n",
              "    </tr>\n",
              "    <tr>\n",
              "      <th>6356</th>\n",
              "      <td>2002582</td>\n",
              "      <td>Victory Capital Management Inc.</td>\n",
              "      <td>AAREG7</td>\n",
              "      <td>Total Assets</td>\n",
              "      <td>AARANGE12</td>\n",
              "      <td>$50.0-99.9B</td>\n",
              "      <td>AARANGE1</td>\n",
              "      <td>Unknown</td>\n",
              "      <td>AARANGE1</td>\n",
              "      <td>Unknown</td>\n",
              "      <td>AARANGE14</td>\n",
              "      <td>Over $150B</td>\n",
              "    </tr>\n",
              "    <tr>\n",
              "      <th>6360</th>\n",
              "      <td>2004344</td>\n",
              "      <td>Tudor Investment Corporation</td>\n",
              "      <td>AAREG7</td>\n",
              "      <td>Total Assets</td>\n",
              "      <td>AARANGE7</td>\n",
              "      <td>$1.0-2.4B</td>\n",
              "      <td>AARANGE1</td>\n",
              "      <td>Unknown</td>\n",
              "      <td>AARANGE1</td>\n",
              "      <td>Unknown</td>\n",
              "      <td>AARANGE11</td>\n",
              "      <td>$20.0-49.9B</td>\n",
              "    </tr>\n",
              "  </tbody>\n",
              "</table>\n",
              "<p>225 rows × 12 columns</p>\n",
              "</div>"
            ],
            "text/plain": [
              "      LgcyInvestorId  ... TotAstAllocDesc\n",
              "1            2004000  ...       $1.0-2.4B\n",
              "11           2455426  ...     $20.0-49.9B\n",
              "36           2575182  ...       None ($0)\n",
              "104          2004351  ...      Over $150B\n",
              "110          2003294  ...     $20.0-49.9B\n",
              "...              ...  ...             ...\n",
              "6300         3318171  ...     $10.0-19.9B\n",
              "6325         2906273  ...       $2.5-4.9B\n",
              "6334         2507775  ...     $100-149.9B\n",
              "6356         2002582  ...      Over $150B\n",
              "6360         2004344  ...     $20.0-49.9B\n",
              "\n",
              "[225 rows x 12 columns]"
            ]
          },
          "metadata": {
            "tags": []
          },
          "execution_count": 18
        }
      ]
    },
    {
      "cell_type": "code",
      "metadata": {
        "colab": {
          "base_uri": "https://localhost:8080/"
        },
        "id": "IXwWQc27qIO3",
        "outputId": "21e969bc-d20a-4dc7-faa6-d69fa194a914"
      },
      "source": [
        "asset_aloc[asset_aloc.LgcyInvestorId.isin(ls_investors)]['TotAstAlloc'].value_counts(normalize=True)"
      ],
      "execution_count": null,
      "outputs": [
        {
          "output_type": "execute_result",
          "data": {
            "text/plain": [
              "AARANGE11    0.196429\n",
              "AARANGE1     0.169643\n",
              "AARANGE10    0.125000\n",
              "AARANGE14    0.116071\n",
              "AARANGE12    0.084821\n",
              "AARANGE2     0.066964\n",
              "AARANGE13    0.062500\n",
              "AARANGE8     0.040179\n",
              "AARANGE7     0.035714\n",
              "AARANGE9     0.031250\n",
              "AARANGE5     0.026786\n",
              "AARANGE3     0.017857\n",
              "AARANGE4     0.013393\n",
              "AARANGE6     0.013393\n",
              "Name: TotAstAlloc, dtype: float64"
            ]
          },
          "metadata": {
            "tags": []
          },
          "execution_count": 19
        }
      ]
    },
    {
      "cell_type": "code",
      "metadata": {
        "colab": {
          "base_uri": "https://localhost:8080/"
        },
        "id": "SkAXBwqgZVSX",
        "outputId": "2efdd1a9-8433-4d49-fb34-c94b8e80b088"
      },
      "source": [
        "asset_aloc['EqAstAlloc'].value_counts()"
      ],
      "execution_count": null,
      "outputs": [
        {
          "output_type": "execute_result",
          "data": {
            "text/plain": [
              "AARANGE4     1978\n",
              "AARANGE5     1477\n",
              "AARANGE6      794\n",
              "AARANGE7      616\n",
              "AARANGE3      412\n",
              "AARANGE2      351\n",
              "AARANGE8      307\n",
              "AARANGE9      195\n",
              "AARANGE10     131\n",
              "AARANGE11     114\n",
              "AARANGE12      52\n",
              "AARANGE13      28\n",
              "AARANGE14      24\n",
              "AARANGE1       16\n",
              "Name: EqAstAlloc, dtype: int64"
            ]
          },
          "metadata": {
            "tags": []
          },
          "execution_count": 20
        }
      ]
    },
    {
      "cell_type": "code",
      "metadata": {
        "colab": {
          "base_uri": "https://localhost:8080/"
        },
        "id": "jI7LnJAya10A",
        "outputId": "4ca85b02-9294-4e98-9f0d-f68c80751333"
      },
      "source": [
        "asset_aloc['TotAstAlloc'].value_counts(normalize=True)"
      ],
      "execution_count": null,
      "outputs": [
        {
          "output_type": "execute_result",
          "data": {
            "text/plain": [
              "AARANGE1     0.251819\n",
              "AARANGE5     0.188825\n",
              "AARANGE6     0.124284\n",
              "AARANGE7     0.114998\n",
              "AARANGE4     0.080328\n",
              "AARANGE8     0.062839\n",
              "AARANGE2     0.053243\n",
              "AARANGE9     0.035289\n",
              "AARANGE11    0.027859\n",
              "AARANGE10    0.026157\n",
              "AARANGE12    0.009751\n",
              "AARANGE3     0.009441\n",
              "AARANGE14    0.008822\n",
              "AARANGE13    0.006346\n",
              "Name: TotAstAlloc, dtype: float64"
            ]
          },
          "metadata": {
            "tags": []
          },
          "execution_count": 21
        }
      ]
    },
    {
      "cell_type": "code",
      "metadata": {
        "colab": {
          "base_uri": "https://localhost:8080/"
        },
        "id": "JXQQzdc9aUcV",
        "outputId": "3dd1e375-5e47-443a-8164-9c8a22abdde9"
      },
      "source": [
        "asset_aloc[asset_aloc['TotAstAlloc'] == 'AARANGE1']"
      ],
      "execution_count": null,
      "outputs": [
        {
          "output_type": "execute_result",
          "data": {
            "text/html": [
              "<div>\n",
              "<style scoped>\n",
              "    .dataframe tbody tr th:only-of-type {\n",
              "        vertical-align: middle;\n",
              "    }\n",
              "\n",
              "    .dataframe tbody tr th {\n",
              "        vertical-align: top;\n",
              "    }\n",
              "\n",
              "    .dataframe thead th {\n",
              "        text-align: right;\n",
              "    }\n",
              "</style>\n",
              "<table border=\"1\" class=\"dataframe\">\n",
              "  <thead>\n",
              "    <tr style=\"text-align: right;\">\n",
              "      <th></th>\n",
              "      <th>LgcyInvestorId</th>\n",
              "      <th>FullName</th>\n",
              "      <th>AstAllocReg</th>\n",
              "      <th>AstAllocRegDesc</th>\n",
              "      <th>EqAstAlloc</th>\n",
              "      <th>EqAstAllocDesc</th>\n",
              "      <th>FIAstAlloc</th>\n",
              "      <th>FIAstAllocDesc</th>\n",
              "      <th>CashAstAlloc</th>\n",
              "      <th>CashAstAllocDesc</th>\n",
              "      <th>TotAstAlloc</th>\n",
              "      <th>TotAstAllocDesc</th>\n",
              "    </tr>\n",
              "  </thead>\n",
              "  <tbody>\n",
              "    <tr>\n",
              "      <th>2</th>\n",
              "      <td>5928246</td>\n",
              "      <td>Hunt Lane Capital Management, LLC</td>\n",
              "      <td>AAREG7</td>\n",
              "      <td>Total Assets</td>\n",
              "      <td>AARANGE5</td>\n",
              "      <td>$200-499M</td>\n",
              "      <td>AARANGE3</td>\n",
              "      <td>Under $25M</td>\n",
              "      <td>AARANGE1</td>\n",
              "      <td>Unknown</td>\n",
              "      <td>AARANGE1</td>\n",
              "      <td>Unknown</td>\n",
              "    </tr>\n",
              "    <tr>\n",
              "      <th>6</th>\n",
              "      <td>10264811</td>\n",
              "      <td>Citizens National Bank Trust Department</td>\n",
              "      <td>AAREG7</td>\n",
              "      <td>Total Assets</td>\n",
              "      <td>AARANGE5</td>\n",
              "      <td>$200-499M</td>\n",
              "      <td>AARANGE1</td>\n",
              "      <td>Unknown</td>\n",
              "      <td>AARANGE1</td>\n",
              "      <td>Unknown</td>\n",
              "      <td>AARANGE1</td>\n",
              "      <td>Unknown</td>\n",
              "    </tr>\n",
              "    <tr>\n",
              "      <th>9</th>\n",
              "      <td>2006029</td>\n",
              "      <td>Mandatum Henkivakuutusosakeyhtiö</td>\n",
              "      <td>AAREG7</td>\n",
              "      <td>Total Assets</td>\n",
              "      <td>AARANGE7</td>\n",
              "      <td>$1.0-2.4B</td>\n",
              "      <td>AARANGE1</td>\n",
              "      <td>Unknown</td>\n",
              "      <td>AARANGE1</td>\n",
              "      <td>Unknown</td>\n",
              "      <td>AARANGE1</td>\n",
              "      <td>Unknown</td>\n",
              "    </tr>\n",
              "    <tr>\n",
              "      <th>13</th>\n",
              "      <td>4974839</td>\n",
              "      <td>Fosun International Ltd</td>\n",
              "      <td>AAREG7</td>\n",
              "      <td>Total Assets</td>\n",
              "      <td>AARANGE9</td>\n",
              "      <td>$5.0-9.9B</td>\n",
              "      <td>AARANGE1</td>\n",
              "      <td>Unknown</td>\n",
              "      <td>AARANGE1</td>\n",
              "      <td>Unknown</td>\n",
              "      <td>AARANGE1</td>\n",
              "      <td>Unknown</td>\n",
              "    </tr>\n",
              "    <tr>\n",
              "      <th>18</th>\n",
              "      <td>2005462</td>\n",
              "      <td>Comgest S.A.</td>\n",
              "      <td>AAREG7</td>\n",
              "      <td>Total Assets</td>\n",
              "      <td>AARANGE11</td>\n",
              "      <td>$20.0-49.9B</td>\n",
              "      <td>AARANGE1</td>\n",
              "      <td>Unknown</td>\n",
              "      <td>AARANGE1</td>\n",
              "      <td>Unknown</td>\n",
              "      <td>AARANGE1</td>\n",
              "      <td>Unknown</td>\n",
              "    </tr>\n",
              "    <tr>\n",
              "      <th>...</th>\n",
              "      <td>...</td>\n",
              "      <td>...</td>\n",
              "      <td>...</td>\n",
              "      <td>...</td>\n",
              "      <td>...</td>\n",
              "      <td>...</td>\n",
              "      <td>...</td>\n",
              "      <td>...</td>\n",
              "      <td>...</td>\n",
              "      <td>...</td>\n",
              "      <td>...</td>\n",
              "      <td>...</td>\n",
              "    </tr>\n",
              "    <tr>\n",
              "      <th>6475</th>\n",
              "      <td>2004323</td>\n",
              "      <td>Gilder Gagnon Howe &amp; Co. LLC</td>\n",
              "      <td>AAREG7</td>\n",
              "      <td>Total Assets</td>\n",
              "      <td>AARANGE10</td>\n",
              "      <td>$10.0-19.9B</td>\n",
              "      <td>AARANGE1</td>\n",
              "      <td>Unknown</td>\n",
              "      <td>AARANGE1</td>\n",
              "      <td>Unknown</td>\n",
              "      <td>AARANGE1</td>\n",
              "      <td>Unknown</td>\n",
              "    </tr>\n",
              "    <tr>\n",
              "      <th>6477</th>\n",
              "      <td>6310614</td>\n",
              "      <td>Bristol County Savings Bank</td>\n",
              "      <td>AAREG7</td>\n",
              "      <td>Total Assets</td>\n",
              "      <td>AARANGE4</td>\n",
              "      <td>$25-199M</td>\n",
              "      <td>AARANGE1</td>\n",
              "      <td>Unknown</td>\n",
              "      <td>AARANGE1</td>\n",
              "      <td>Unknown</td>\n",
              "      <td>AARANGE1</td>\n",
              "      <td>Unknown</td>\n",
              "    </tr>\n",
              "    <tr>\n",
              "      <th>6479</th>\n",
              "      <td>3726932</td>\n",
              "      <td>Turiya Advisors Asia Limited</td>\n",
              "      <td>AAREG7</td>\n",
              "      <td>Total Assets</td>\n",
              "      <td>AARANGE5</td>\n",
              "      <td>$200-499M</td>\n",
              "      <td>AARANGE1</td>\n",
              "      <td>Unknown</td>\n",
              "      <td>AARANGE1</td>\n",
              "      <td>Unknown</td>\n",
              "      <td>AARANGE1</td>\n",
              "      <td>Unknown</td>\n",
              "    </tr>\n",
              "    <tr>\n",
              "      <th>6481</th>\n",
              "      <td>5844179</td>\n",
              "      <td>Carve Capital AB</td>\n",
              "      <td>AAREG7</td>\n",
              "      <td>Total Assets</td>\n",
              "      <td>AARANGE4</td>\n",
              "      <td>$25-199M</td>\n",
              "      <td>AARANGE1</td>\n",
              "      <td>Unknown</td>\n",
              "      <td>AARANGE1</td>\n",
              "      <td>Unknown</td>\n",
              "      <td>AARANGE1</td>\n",
              "      <td>Unknown</td>\n",
              "    </tr>\n",
              "    <tr>\n",
              "      <th>6482</th>\n",
              "      <td>3671347</td>\n",
              "      <td>Gargoyle Asset Management, LLC</td>\n",
              "      <td>AAREG7</td>\n",
              "      <td>Total Assets</td>\n",
              "      <td>AARANGE4</td>\n",
              "      <td>$25-199M</td>\n",
              "      <td>AARANGE1</td>\n",
              "      <td>Unknown</td>\n",
              "      <td>AARANGE1</td>\n",
              "      <td>Unknown</td>\n",
              "      <td>AARANGE1</td>\n",
              "      <td>Unknown</td>\n",
              "    </tr>\n",
              "  </tbody>\n",
              "</table>\n",
              "<p>1627 rows × 12 columns</p>\n",
              "</div>"
            ],
            "text/plain": [
              "      LgcyInvestorId  ... TotAstAllocDesc\n",
              "2            5928246  ...         Unknown\n",
              "6           10264811  ...         Unknown\n",
              "9            2006029  ...         Unknown\n",
              "13           4974839  ...         Unknown\n",
              "18           2005462  ...         Unknown\n",
              "...              ...  ...             ...\n",
              "6475         2004323  ...         Unknown\n",
              "6477         6310614  ...         Unknown\n",
              "6479         3726932  ...         Unknown\n",
              "6481         5844179  ...         Unknown\n",
              "6482         3671347  ...         Unknown\n",
              "\n",
              "[1627 rows x 12 columns]"
            ]
          },
          "metadata": {
            "tags": []
          },
          "execution_count": 22
        }
      ]
    },
    {
      "cell_type": "code",
      "metadata": {
        "id": "ljwzGtcuZimP"
      },
      "source": [
        "own2code = pd.read_excel('/content/gdrive/My Drive/capstone/full database/Own2Code.xlsx')"
      ],
      "execution_count": null,
      "outputs": []
    },
    {
      "cell_type": "code",
      "metadata": {
        "colab": {
          "base_uri": "https://localhost:8080/"
        },
        "id": "u9BnS_8xZsYw",
        "outputId": "8f3af5a3-cb32-4456-8b79-483a7be74f56"
      },
      "source": [
        "own2code[own2code['Type_'] == 11]"
      ],
      "execution_count": null,
      "outputs": [
        {
          "output_type": "execute_result",
          "data": {
            "text/html": [
              "<div>\n",
              "<style scoped>\n",
              "    .dataframe tbody tr th:only-of-type {\n",
              "        vertical-align: middle;\n",
              "    }\n",
              "\n",
              "    .dataframe tbody tr th {\n",
              "        vertical-align: top;\n",
              "    }\n",
              "\n",
              "    .dataframe thead th {\n",
              "        text-align: right;\n",
              "    }\n",
              "</style>\n",
              "<table border=\"1\" class=\"dataframe\">\n",
              "  <thead>\n",
              "    <tr style=\"text-align: right;\">\n",
              "      <th></th>\n",
              "      <th>Type_</th>\n",
              "      <th>Code</th>\n",
              "      <th>Desc_</th>\n",
              "    </tr>\n",
              "  </thead>\n",
              "  <tbody>\n",
              "    <tr>\n",
              "      <th>446</th>\n",
              "      <td>11</td>\n",
              "      <td>AAREG1</td>\n",
              "      <td>Domestic Assets</td>\n",
              "    </tr>\n",
              "    <tr>\n",
              "      <th>447</th>\n",
              "      <td>11</td>\n",
              "      <td>AAREG2</td>\n",
              "      <td>North America Non-Domestic</td>\n",
              "    </tr>\n",
              "    <tr>\n",
              "      <th>448</th>\n",
              "      <td>11</td>\n",
              "      <td>AAREG3</td>\n",
              "      <td>Europe Non-Domestic</td>\n",
              "    </tr>\n",
              "    <tr>\n",
              "      <th>449</th>\n",
              "      <td>11</td>\n",
              "      <td>AAREG4</td>\n",
              "      <td>Asia &amp; Far East Non-Domestic</td>\n",
              "    </tr>\n",
              "    <tr>\n",
              "      <th>450</th>\n",
              "      <td>11</td>\n",
              "      <td>AAREG5</td>\n",
              "      <td>Australasia Non-Domestic</td>\n",
              "    </tr>\n",
              "    <tr>\n",
              "      <th>451</th>\n",
              "      <td>11</td>\n",
              "      <td>AAREG6</td>\n",
              "      <td>Other Non-Domestic</td>\n",
              "    </tr>\n",
              "    <tr>\n",
              "      <th>452</th>\n",
              "      <td>11</td>\n",
              "      <td>AAREG7</td>\n",
              "      <td>Total Assets</td>\n",
              "    </tr>\n",
              "  </tbody>\n",
              "</table>\n",
              "</div>"
            ],
            "text/plain": [
              "     Type_    Code                         Desc_\n",
              "446     11  AAREG1               Domestic Assets\n",
              "447     11  AAREG2    North America Non-Domestic\n",
              "448     11  AAREG3           Europe Non-Domestic\n",
              "449     11  AAREG4  Asia & Far East Non-Domestic\n",
              "450     11  AAREG5      Australasia Non-Domestic\n",
              "451     11  AAREG6            Other Non-Domestic\n",
              "452     11  AAREG7                  Total Assets"
            ]
          },
          "metadata": {
            "tags": []
          },
          "execution_count": 24
        }
      ]
    },
    {
      "cell_type": "markdown",
      "metadata": {
        "id": "H2EY9y55Nex7"
      },
      "source": [
        "## Feature: pctportofolio with aggregated market cap"
      ]
    },
    {
      "cell_type": "code",
      "metadata": {
        "colab": {
          "base_uri": "https://localhost:8080/",
          "height": 419
        },
        "id": "7nvOXObmOlwt",
        "outputId": "08eb579c-5776-4fda-d04c-102d60767c36"
      },
      "source": [
        "mktcap = pd.read_csv('/content/gdrive/My Drive/capstone/full database/MktCap_MktCapSize_20160630_20200630.csv')\n",
        "mktcap"
      ],
      "execution_count": null,
      "outputs": [
        {
          "output_type": "execute_result",
          "data": {
            "text/html": [
              "<div>\n",
              "<style scoped>\n",
              "    .dataframe tbody tr th:only-of-type {\n",
              "        vertical-align: middle;\n",
              "    }\n",
              "\n",
              "    .dataframe tbody tr th {\n",
              "        vertical-align: top;\n",
              "    }\n",
              "\n",
              "    .dataframe thead th {\n",
              "        text-align: right;\n",
              "    }\n",
              "</style>\n",
              "<table border=\"1\" class=\"dataframe\">\n",
              "  <thead>\n",
              "    <tr style=\"text-align: right;\">\n",
              "      <th></th>\n",
              "      <th>InstrId</th>\n",
              "      <th>EffectDate</th>\n",
              "      <th>PrcCloseAct</th>\n",
              "      <th>NumOfShOut</th>\n",
              "      <th>MktCap</th>\n",
              "      <th>MktCapSize</th>\n",
              "    </tr>\n",
              "  </thead>\n",
              "  <tbody>\n",
              "    <tr>\n",
              "      <th>0</th>\n",
              "      <td>8589934595</td>\n",
              "      <td>2016-06-30</td>\n",
              "      <td>0.0200</td>\n",
              "      <td>29520523</td>\n",
              "      <td>5.904105e+05</td>\n",
              "      <td>NanoCap</td>\n",
              "    </tr>\n",
              "    <tr>\n",
              "      <th>1</th>\n",
              "      <td>8589934597</td>\n",
              "      <td>2016-06-30</td>\n",
              "      <td>18.5100</td>\n",
              "      <td>16347483</td>\n",
              "      <td>3.025919e+08</td>\n",
              "      <td>SmallCap</td>\n",
              "    </tr>\n",
              "    <tr>\n",
              "      <th>2</th>\n",
              "      <td>8589934599</td>\n",
              "      <td>2016-06-30</td>\n",
              "      <td>0.0700</td>\n",
              "      <td>40000000</td>\n",
              "      <td>2.800000e+06</td>\n",
              "      <td>NanoCap</td>\n",
              "    </tr>\n",
              "    <tr>\n",
              "      <th>3</th>\n",
              "      <td>8589934600</td>\n",
              "      <td>2016-06-30</td>\n",
              "      <td>1.2100</td>\n",
              "      <td>2750000</td>\n",
              "      <td>3.327500e+06</td>\n",
              "      <td>NanoCap</td>\n",
              "    </tr>\n",
              "    <tr>\n",
              "      <th>4</th>\n",
              "      <td>8589934603</td>\n",
              "      <td>2016-06-30</td>\n",
              "      <td>33.7200</td>\n",
              "      <td>50700002</td>\n",
              "      <td>1.709604e+09</td>\n",
              "      <td>SmallCap</td>\n",
              "    </tr>\n",
              "    <tr>\n",
              "      <th>...</th>\n",
              "      <td>...</td>\n",
              "      <td>...</td>\n",
              "      <td>...</td>\n",
              "      <td>...</td>\n",
              "      <td>...</td>\n",
              "      <td>...</td>\n",
              "    </tr>\n",
              "    <tr>\n",
              "      <th>1987028</th>\n",
              "      <td>8590939913</td>\n",
              "      <td>2020-06-30</td>\n",
              "      <td>0.0800</td>\n",
              "      <td>1168546867</td>\n",
              "      <td>9.348375e+07</td>\n",
              "      <td>MicroCap</td>\n",
              "    </tr>\n",
              "    <tr>\n",
              "      <th>1987029</th>\n",
              "      <td>8590939914</td>\n",
              "      <td>2020-06-30</td>\n",
              "      <td>9.9800</td>\n",
              "      <td>3512766</td>\n",
              "      <td>3.505740e+07</td>\n",
              "      <td>NanoCap</td>\n",
              "    </tr>\n",
              "    <tr>\n",
              "      <th>1987030</th>\n",
              "      <td>8590939915</td>\n",
              "      <td>2020-06-30</td>\n",
              "      <td>103.0400</td>\n",
              "      <td>135980227</td>\n",
              "      <td>1.401140e+10</td>\n",
              "      <td>LargeCap</td>\n",
              "    </tr>\n",
              "    <tr>\n",
              "      <th>1987031</th>\n",
              "      <td>8590939917</td>\n",
              "      <td>2020-06-30</td>\n",
              "      <td>0.0884</td>\n",
              "      <td>467734596</td>\n",
              "      <td>4.134774e+07</td>\n",
              "      <td>NanoCap</td>\n",
              "    </tr>\n",
              "    <tr>\n",
              "      <th>1987032</th>\n",
              "      <td>8590939918</td>\n",
              "      <td>2020-06-30</td>\n",
              "      <td>0.0300</td>\n",
              "      <td>2224073</td>\n",
              "      <td>6.672219e+04</td>\n",
              "      <td>NanoCap</td>\n",
              "    </tr>\n",
              "  </tbody>\n",
              "</table>\n",
              "<p>1987033 rows × 6 columns</p>\n",
              "</div>"
            ],
            "text/plain": [
              "            InstrId  EffectDate  ...        MktCap  MktCapSize\n",
              "0        8589934595  2016-06-30  ...  5.904105e+05     NanoCap\n",
              "1        8589934597  2016-06-30  ...  3.025919e+08    SmallCap\n",
              "2        8589934599  2016-06-30  ...  2.800000e+06     NanoCap\n",
              "3        8589934600  2016-06-30  ...  3.327500e+06     NanoCap\n",
              "4        8589934603  2016-06-30  ...  1.709604e+09    SmallCap\n",
              "...             ...         ...  ...           ...         ...\n",
              "1987028  8590939913  2020-06-30  ...  9.348375e+07    MicroCap\n",
              "1987029  8590939914  2020-06-30  ...  3.505740e+07     NanoCap\n",
              "1987030  8590939915  2020-06-30  ...  1.401140e+10    LargeCap\n",
              "1987031  8590939917  2020-06-30  ...  4.134774e+07     NanoCap\n",
              "1987032  8590939918  2020-06-30  ...  6.672219e+04     NanoCap\n",
              "\n",
              "[1987033 rows x 6 columns]"
            ]
          },
          "metadata": {
            "tags": []
          },
          "execution_count": 25
        }
      ]
    },
    {
      "cell_type": "code",
      "metadata": {
        "colab": {
          "base_uri": "https://localhost:8080/"
        },
        "id": "dQK6d_SquT_R",
        "outputId": "903822ee-70b4-4850-fc7e-016543020b34"
      },
      "source": [
        "# number of instruments not in mktcap data\n",
        "len(set(df_sub['INSTRID']) - set(mktcap['InstrId']))"
      ],
      "execution_count": null,
      "outputs": [
        {
          "output_type": "execute_result",
          "data": {
            "text/plain": [
              "28"
            ]
          },
          "metadata": {
            "tags": []
          },
          "execution_count": 26
        }
      ]
    },
    {
      "cell_type": "code",
      "metadata": {
        "id": "I2q17kj6SKWj"
      },
      "source": [
        "merge = pd.merge(df_sub, mktcap, how='inner', left_on=['INSTRID', 'HOLDDATE'], right_on=['InstrId', 'EffectDate'])\n",
        "merge.drop(columns=['InstrId', 'EffectDate'])\n",
        "\n",
        "agg_mktcap_pivot = pd.pivot_table(merge,index = ['LGCYINVESTORID', 'HOLDDATE'], columns = ['MktCapSize'],values=['PCTPORTFOLIO_13F'],aggfunc=[np.sum],fill_value=0)\n",
        "\n",
        "investor_set = set(agg_mktcap_pivot.index.get_level_values('LGCYINVESTORID'))\n",
        "holddate_set = set(agg_mktcap_pivot.index.get_level_values('HOLDDATE'))\n",
        "\n",
        "mktcap_cat = ['PctLargeCap', 'MegaCap', 'MicroCap', 'MidCap', 'NanoCap', 'SmallCap']"
      ],
      "execution_count": null,
      "outputs": []
    },
    {
      "cell_type": "code",
      "metadata": {
        "id": "49d_14Fppkyb"
      },
      "source": [
        "# Number of isntruments with no mkt cap or no full 17 time points\n",
        "# len(set(pd.merge(df_sub, mktcap, how='left', \n",
        "#                  left_on=['INSTRID', 'HOLDDATE'], \n",
        "#                  right_on=['InstrId', 'EffectDate']).loc[merge['InstrId'].isna(),:].INSTRID))"
      ],
      "execution_count": null,
      "outputs": []
    },
    {
      "cell_type": "code",
      "metadata": {
        "colab": {
          "base_uri": "https://localhost:8080/"
        },
        "id": "9h20uv7rxxIM",
        "outputId": "b2cadaf8-16bd-4288-8391-2df51b83c118"
      },
      "source": [
        "len(set(merge['INSTRID']))"
      ],
      "execution_count": null,
      "outputs": [
        {
          "output_type": "execute_result",
          "data": {
            "text/plain": [
              "10968"
            ]
          },
          "metadata": {
            "tags": []
          },
          "execution_count": 29
        }
      ]
    },
    {
      "cell_type": "code",
      "metadata": {
        "id": "_5D7YeedTPvP"
      },
      "source": [
        "agg_mktcap_pivot.columns = mktcap_cat\n",
        "agg_mktcap_pivot = agg_mktcap_pivot.reset_index()\n",
        "for inv in investor_set:\n",
        "  holddates = set(agg_mktcap_pivot[agg_mktcap_pivot['LGCYINVESTORID']==inv]['HOLDDATE'].to_list())\n",
        "  if len(holddates) < len(holddate_set):\n",
        "    # print('Investor ID:', inv, ' missing:')\n",
        "    # print(holddate_set - holddates)\n",
        "    missing_dates = holddate_set - holddates\n",
        "    for md in missing_dates:\n",
        "      agg_mktcap_pivot = agg_mktcap_pivot.append([{'LGCYINVESTORID': inv, 'HOLDDATE':md}])\n",
        "\n",
        "agg_mktcap_pivot = agg_mktcap_pivot.fillna(0)     "
      ],
      "execution_count": null,
      "outputs": []
    },
    {
      "cell_type": "code",
      "metadata": {
        "id": "wwSBom-1TWfZ"
      },
      "source": [
        "assert len(agg_mktcap_pivot) == len(investor_set) * len(holddate_set)"
      ],
      "execution_count": null,
      "outputs": []
    },
    {
      "cell_type": "code",
      "metadata": {
        "id": "YAbAjfLnT05j"
      },
      "source": [
        "agg_mktcap_pivot = agg_mktcap_pivot.set_index(['LGCYINVESTORID','HOLDDATE']).stack().reset_index()\n",
        "agg_mktcap_pivot = agg_mktcap_pivot.rename(columns={agg_mktcap_pivot.columns[-2]:'MktCap',agg_mktcap_pivot.columns[-1]:'PCTPORTFOLIO_13F'})"
      ],
      "execution_count": null,
      "outputs": []
    },
    {
      "cell_type": "code",
      "metadata": {
        "id": "efNvVa2cXy7W"
      },
      "source": [
        "agg_mktcap_pivot = agg_mktcap_pivot.pivot_table(index=['LGCYINVESTORID'],columns=['HOLDDATE', 'MktCap'],values=['PCTPORTFOLIO_13F'])\n",
        "agg_mktcap_pivot.columns =  agg_mktcap_pivot.columns.droplevel()"
      ],
      "execution_count": null,
      "outputs": []
    },
    {
      "cell_type": "markdown",
      "metadata": {
        "id": "uYcCmz1O7P0j"
      },
      "source": [
        "## Feature: Turnover"
      ]
    },
    {
      "cell_type": "code",
      "metadata": {
        "id": "qp7-kEG57NCx"
      },
      "source": [
        "# read in turnover rate\n",
        "turnover = pd.read_csv('/content/gdrive/My Drive/capstone/full database/Own2InvHldTO.csv')\n",
        "turnover['EffectToDate'] = turnover['EffectToDate'].str.replace(r' 00:00:00', '')\n",
        "\n",
        "turnover = turnover[(turnover.IncWrntsCert == 1) & (turnover.CalcBasisCode==2)]"
      ],
      "execution_count": null,
      "outputs": []
    },
    {
      "cell_type": "code",
      "metadata": {
        "id": "4luxk1Ln8SyX"
      },
      "source": [
        "# select these in a list\n",
        "turnover = turnover[turnover.LgcyInvestorId.isin(ls_investors) ]"
      ],
      "execution_count": null,
      "outputs": []
    },
    {
      "cell_type": "code",
      "metadata": {
        "id": "WfyzlBMp8OT_"
      },
      "source": [
        "# fill in 0 for missing date\n",
        "turnover_pivot = turnover.pivot_table(index='LgcyInvestorId', columns='EffectToDate',values='OwnTurnover').fillna(0)"
      ],
      "execution_count": null,
      "outputs": []
    },
    {
      "cell_type": "code",
      "metadata": {
        "id": "TDAcUWtiA6oc"
      },
      "source": [
        "from sklearn.metrics.pairwise import cosine_similarity, euclidean_distances\n",
        "# create distance matrix for gephi \n",
        "turnover_matrix = pd.DataFrame(euclidean_distances(turnover_pivot),index = turnover_pivot.index, columns=turnover_pivot.index)\n",
        "# turnover_matrix.to_csv('/content/gdrive/My Drive/capstone/distance matrix/turnover_distance.csv')"
      ],
      "execution_count": null,
      "outputs": []
    },
    {
      "cell_type": "markdown",
      "metadata": {
        "id": "jr87pV7JlVOf"
      },
      "source": [
        "## Feature: Top 20% pct\n",
        "\n",
        "Definition: the porportion of investment on top 20% of instruments.\n",
        "This represents the concentration of the investment. In other words, if this score is low, the investor prefers  distributed investment. Otherwise, the investor prefers concentrated investment."
      ]
    },
    {
      "cell_type": "markdown",
      "metadata": {
        "id": "G6vV4vCNZWax"
      },
      "source": [
        "### Create features for the listed investors"
      ]
    },
    {
      "cell_type": "code",
      "metadata": {
        "id": "Vep4KyKCl_4W"
      },
      "source": [
        "def topPct(df, pct=0.2 ,k=10):\n",
        "  n = len(df)\n",
        "  k = int(pct * n)\n",
        "  if k == 0:\n",
        "    k = 1\n",
        "  return sum(sorted(df)[-k:])/sum(df)\n",
        "\n",
        "df_toppct = df_sub.groupby(['LGCYINVESTORID','FULLNAME','HOLDDATE']).agg({'SHSHLDVAL': topPct}).reset_index()\n",
        "\n",
        "df_toppct.rename(columns={'SHSHLDVAL':'TOP20%SHSHLDVALpct'},inplace=True)"
      ],
      "execution_count": null,
      "outputs": []
    },
    {
      "cell_type": "code",
      "metadata": {
        "colab": {
          "base_uri": "https://localhost:8080/"
        },
        "id": "VeXQj_0FmDBz",
        "outputId": "35e0f2c4-0dcd-4c78-ccbc-4e063f217235"
      },
      "source": [
        "df_toppct.LGCYINVESTORID.nunique()"
      ],
      "execution_count": null,
      "outputs": [
        {
          "output_type": "execute_result",
          "data": {
            "text/plain": [
              "225"
            ]
          },
          "metadata": {
            "tags": []
          },
          "execution_count": 39
        }
      ]
    },
    {
      "cell_type": "code",
      "metadata": {
        "id": "mHHJOalYV8PD"
      },
      "source": [
        "df_toppct = fill_in_missing_date(df_toppct, 'HOLDDATE', 'TOP20%SHSHLDVALpct')"
      ],
      "execution_count": null,
      "outputs": []
    },
    {
      "cell_type": "code",
      "metadata": {
        "id": "qPKmuFdpmG59"
      },
      "source": [
        "# df_toppct.to_csv('/content/gdrive/My Drive/capstone/full database/TOP20%SHSHLDVALpct_20160630_20200630.csv',index=False)"
      ],
      "execution_count": null,
      "outputs": []
    },
    {
      "cell_type": "markdown",
      "metadata": {
        "id": "E3jfUcAjZfND"
      },
      "source": [
        "### Compute Euclidean distance"
      ]
    },
    {
      "cell_type": "code",
      "metadata": {
        "id": "TiEvUD3GX0Rp"
      },
      "source": [
        "concentration_pivot = df_toppct.pivot_table(index='LGCYINVESTORID', columns='HOLDDATE',values='TOP20%SHSHLDVALpct').fillna(0)"
      ],
      "execution_count": null,
      "outputs": []
    },
    {
      "cell_type": "code",
      "metadata": {
        "id": "K_xxB8cbY8Dl"
      },
      "source": [
        "# create distance matrix for listed investor\n",
        "from sklearn.metrics.pairwise import cosine_similarity, euclidean_distances\n",
        "concentration_matrix = pd.DataFrame(euclidean_distances(concentration_pivot),index =concentration_pivot.index,columns=concentration_pivot.index)"
      ],
      "execution_count": null,
      "outputs": []
    },
    {
      "cell_type": "code",
      "metadata": {
        "id": "BmFOHSByZhXj"
      },
      "source": [
        "# concentration_matrix.to_csv('conventration_distance.csv')"
      ],
      "execution_count": null,
      "outputs": []
    },
    {
      "cell_type": "markdown",
      "metadata": {
        "id": "jjarw0qcsFmk"
      },
      "source": [
        "## Feature: investment style, Industry, market of Investors' contacts"
      ]
    },
    {
      "cell_type": "markdown",
      "metadata": {
        "id": "blf3AdqrsnyR"
      },
      "source": [
        "### Get description of different specialized code\n",
        "\n",
        "We need to map with Own2Code(Type_=13) to get the description of the SpecCode.\n",
        "SpecCat:\n",
        "  - SpecCap == 1: Industry\n",
        "    - Code in Own2Code: IS (201 different)\n",
        "    - Code in data: xx\n",
        "    - **Problem: IS193,IS194,IS195,IS196**\n",
        "  - SpecCap == 3: Market Capitalization range in which the Investor Contact specializes\n",
        "    - Code in Own2Code: MCS1 - MCS4\n",
        "    - Code in data: 224 225 226 227\n",
        "  - SpecCap == 4: Investment Style \n",
        "    - Code in Own2Code: ISS1 - ISS20(ISS19 not exists)\n",
        "    - Code in data: 201 - 220 \n",
        "    - **Problem: ISS19 not exists**"
      ]
    },
    {
      "cell_type": "code",
      "metadata": {
        "id": "9SLBFjnvsnJ5"
      },
      "source": [
        "# read in contacts info for investors in 13F\n",
        "contact_info = '/content/gdrive/My Drive/capstone/full database/ContactResults.csv'\n",
        "contact_df = pd.read_csv(contact_info)"
      ],
      "execution_count": null,
      "outputs": []
    },
    {
      "cell_type": "code",
      "metadata": {
        "colab": {
          "base_uri": "https://localhost:8080/",
          "height": 204
        },
        "id": "q2zrvUFmwYKA",
        "outputId": "f7468b08-b03f-4354-e93f-c1c24e2dc4d3"
      },
      "source": [
        "contact_df.head()"
      ],
      "execution_count": null,
      "outputs": [
        {
          "output_type": "execute_result",
          "data": {
            "text/html": [
              "<div>\n",
              "<style scoped>\n",
              "    .dataframe tbody tr th:only-of-type {\n",
              "        vertical-align: middle;\n",
              "    }\n",
              "\n",
              "    .dataframe tbody tr th {\n",
              "        vertical-align: top;\n",
              "    }\n",
              "\n",
              "    .dataframe thead th {\n",
              "        text-align: right;\n",
              "    }\n",
              "</style>\n",
              "<table border=\"1\" class=\"dataframe\">\n",
              "  <thead>\n",
              "    <tr style=\"text-align: right;\">\n",
              "      <th></th>\n",
              "      <th>LgcyInvestorId</th>\n",
              "      <th>LgcyPersonId</th>\n",
              "      <th>ContRole</th>\n",
              "      <th>ContRank</th>\n",
              "      <th>FirstName</th>\n",
              "      <th>LastName</th>\n",
              "      <th>Gender</th>\n",
              "      <th>SpecCat</th>\n",
              "      <th>SpecCode</th>\n",
              "    </tr>\n",
              "  </thead>\n",
              "  <tbody>\n",
              "    <tr>\n",
              "      <th>0</th>\n",
              "      <td>2002008</td>\n",
              "      <td>9</td>\n",
              "      <td>Chief Investment Officer</td>\n",
              "      <td>1</td>\n",
              "      <td>Howard</td>\n",
              "      <td>Abner</td>\n",
              "      <td>M</td>\n",
              "      <td>1</td>\n",
              "      <td>95</td>\n",
              "    </tr>\n",
              "    <tr>\n",
              "      <th>1</th>\n",
              "      <td>2002008</td>\n",
              "      <td>9</td>\n",
              "      <td>Chief Investment Officer</td>\n",
              "      <td>1</td>\n",
              "      <td>Howard</td>\n",
              "      <td>Abner</td>\n",
              "      <td>M</td>\n",
              "      <td>4</td>\n",
              "      <td>202</td>\n",
              "    </tr>\n",
              "    <tr>\n",
              "      <th>2</th>\n",
              "      <td>2002008</td>\n",
              "      <td>9</td>\n",
              "      <td>Chief Investment Officer</td>\n",
              "      <td>1</td>\n",
              "      <td>Howard</td>\n",
              "      <td>Abner</td>\n",
              "      <td>M</td>\n",
              "      <td>4</td>\n",
              "      <td>208</td>\n",
              "    </tr>\n",
              "    <tr>\n",
              "      <th>3</th>\n",
              "      <td>2002008</td>\n",
              "      <td>9</td>\n",
              "      <td>Chief Investment Officer</td>\n",
              "      <td>1</td>\n",
              "      <td>Howard</td>\n",
              "      <td>Abner</td>\n",
              "      <td>M</td>\n",
              "      <td>4</td>\n",
              "      <td>216</td>\n",
              "    </tr>\n",
              "    <tr>\n",
              "      <th>4</th>\n",
              "      <td>2002008</td>\n",
              "      <td>9</td>\n",
              "      <td>Chief Investment Officer</td>\n",
              "      <td>1</td>\n",
              "      <td>Howard</td>\n",
              "      <td>Abner</td>\n",
              "      <td>M</td>\n",
              "      <td>4</td>\n",
              "      <td>217</td>\n",
              "    </tr>\n",
              "  </tbody>\n",
              "</table>\n",
              "</div>"
            ],
            "text/plain": [
              "   LgcyInvestorId  LgcyPersonId  ... SpecCat  SpecCode\n",
              "0         2002008             9  ...       1        95\n",
              "1         2002008             9  ...       4       202\n",
              "2         2002008             9  ...       4       208\n",
              "3         2002008             9  ...       4       216\n",
              "4         2002008             9  ...       4       217\n",
              "\n",
              "[5 rows x 9 columns]"
            ]
          },
          "metadata": {
            "tags": []
          },
          "execution_count": 46
        }
      ]
    },
    {
      "cell_type": "code",
      "metadata": {
        "id": "5KvbdQwZtYo9"
      },
      "source": [
        "# read in code table\n",
        "code_file_name = '/content/gdrive/My Drive/capstone/full database/Own2Code.xlsx'\n",
        "code_df = pd.read_excel(code_file_name)\n",
        "code_df = code_df.fillna('9999999')\n",
        "spec_code_df = code_df[code_df.Type_ == 13]"
      ],
      "execution_count": null,
      "outputs": []
    },
    {
      "cell_type": "code",
      "metadata": {
        "id": "ANgNfJuCskdz"
      },
      "source": [
        "def explanation_spec(SpecCat, SpecCode):\n",
        "  if pd.isna(SpecCat) or pd.isna(SpecCode):\n",
        "    return \n",
        "  SpecCode = int(SpecCode)\n",
        "  try:\n",
        "    if SpecCat == 1:\n",
        "      return 'Industry_' + spec_code_df[spec_code_df.Code == ('IS'+str(SpecCode))] ['Desc_'].values[0]\n",
        "    elif SpecCat == 3:\n",
        "      return 'Market_' + spec_code_df[spec_code_df.Code == ('MCS'+str(SpecCode-223))]['Desc_'].values[0]\n",
        "    elif SpecCat == 4:\n",
        "      return 'InvStyle_' + spec_code_df[spec_code_df.Code == ('ISS'+str(SpecCode-200))]['Desc_'].values[0]\n",
        "  except:\n",
        "    No_explanation.append((SpecCat, SpecCode))\n",
        "    return 'No_explanation'"
      ],
      "execution_count": null,
      "outputs": []
    },
    {
      "cell_type": "code",
      "metadata": {
        "id": "yqdcJbHXvvqW"
      },
      "source": [
        "\n",
        "No_explanation = []\n",
        "contact_df['SpecDesc_'] = contact_df.apply(lambda x: explanation_spec(x.SpecCat, x.SpecCode), axis=1)"
      ],
      "execution_count": null,
      "outputs": []
    },
    {
      "cell_type": "code",
      "metadata": {
        "colab": {
          "base_uri": "https://localhost:8080/"
        },
        "id": "i36fyGyizjqZ",
        "outputId": "4f10a905-e689-4d8c-9fcc-55140563143e"
      },
      "source": [
        "# part of specCat don't have specDesc_\n",
        "from collections import Counter\n",
        "Counter(No_explanation)"
      ],
      "execution_count": null,
      "outputs": [
        {
          "output_type": "execute_result",
          "data": {
            "text/plain": [
              "Counter({(1, 193): 653,\n",
              "         (1, 194): 15,\n",
              "         (1, 195): 9,\n",
              "         (1, 196): 273,\n",
              "         (4, 219): 1195})"
            ]
          },
          "metadata": {
            "tags": []
          },
          "execution_count": 50
        }
      ]
    },
    {
      "cell_type": "code",
      "metadata": {
        "id": "ir-lObITF-qS"
      },
      "source": [
        "# Remove those with no explanation\n",
        "contact_df = contact_df[contact_df['SpecDesc_'] != 'No_explanation']"
      ],
      "execution_count": null,
      "outputs": []
    },
    {
      "cell_type": "markdown",
      "metadata": {
        "id": "1TS3KT5q6Uzy"
      },
      "source": [
        "### Aggregate for each investor"
      ]
    },
    {
      "cell_type": "code",
      "metadata": {
        "id": "foN3tA8334C5"
      },
      "source": [
        "investor_style = pd.pivot_table(contact_df,index=['LgcyInvestorId'],columns=['SpecCat','SpecDesc_'], values=['LgcyPersonId'],aggfunc='count')\n",
        "# investor_style.fillna(0,inplace=True)\n",
        "investor_style.columns = investor_style.columns.droplevel()"
      ],
      "execution_count": null,
      "outputs": []
    },
    {
      "cell_type": "code",
      "metadata": {
        "colab": {
          "base_uri": "https://localhost:8080/"
        },
        "id": "G7chYlm_5zvC",
        "outputId": "9b1f06f7-5220-48e1-e5d2-32f16c95ef8e"
      },
      "source": [
        "print('{}({}) investors in 13F have contact info.'.format(len(investor_style), len(investor_style)/n_investors))"
      ],
      "execution_count": null,
      "outputs": [
        {
          "output_type": "stream",
          "text": [
            "6302(0.9640507878231604) investors in 13F have contact info.\n"
          ],
          "name": "stdout"
        }
      ]
    },
    {
      "cell_type": "code",
      "metadata": {
        "id": "5B7jMtnw_gGu"
      },
      "source": [
        "# contact_df.groupby(['LgcyInvestorId','SpecCat','SpecDesc_']).agg({'LgcyPersonId':'count'}).reset_index().to_csv('investstyle.csv')"
      ],
      "execution_count": null,
      "outputs": []
    },
    {
      "cell_type": "markdown",
      "metadata": {
        "id": "PLD4lt4KJTqJ"
      },
      "source": [
        "### Create features for the listed investors"
      ]
    },
    {
      "cell_type": "code",
      "metadata": {
        "id": "O3VlvupMJSqH"
      },
      "source": [
        "investor_style_sub = investor_style[investor_style.index.isin(ls_investors)]"
      ],
      "execution_count": null,
      "outputs": []
    },
    {
      "cell_type": "code",
      "metadata": {
        "colab": {
          "base_uri": "https://localhost:8080/",
          "height": 282
        },
        "id": "A9ygrDsByYfA",
        "outputId": "e90d3ae1-8609-43e2-cd7d-e523959f6f3e"
      },
      "source": [
        "# whether we need to do td-idf\n",
        "investor_style_sub[4].sum(axis=0).hist()"
      ],
      "execution_count": null,
      "outputs": [
        {
          "output_type": "execute_result",
          "data": {
            "text/plain": [
              "<matplotlib.axes._subplots.AxesSubplot at 0x7fcb9557ec18>"
            ]
          },
          "metadata": {
            "tags": []
          },
          "execution_count": 56
        },
        {
          "output_type": "display_data",
          "data": {
            "image/png": "[encoded data removed]",
            "text/plain": [
              "<Figure size 432x288 with 1 Axes>"
            ]
          },
          "metadata": {
            "tags": [],
            "needs_background": "light"
          }
        }
      ]
    },
    {
      "cell_type": "code",
      "metadata": {
        "colab": {
          "base_uri": "https://localhost:8080/"
        },
        "id": "7K8jJfLGyYfD",
        "outputId": "1655f947-71db-42a0-b904-ca8b1a16ed2f"
      },
      "source": [
        "investor_style_sub[4].sum(axis=0).sort_values()"
      ],
      "execution_count": null,
      "outputs": [
        {
          "output_type": "execute_result",
          "data": {
            "text/plain": [
              "SpecDesc_\n",
              "InvStyle_Technicals                  0.0\n",
              "InvStyle_Private Equity             23.0\n",
              "InvStyle_Quantitative               24.0\n",
              "InvStyle_Growth                     29.0\n",
              "InvStyle_Social Awareness           65.0\n",
              "InvStyle_Sector Rotational          68.0\n",
              "InvStyle_Venture Capital            89.0\n",
              "InvStyle_Shareholder Activist      186.0\n",
              "InvStyle_Special Situations        197.0\n",
              "InvStyle_GARP                      733.0\n",
              "InvStyle_Index                     930.0\n",
              "InvStyle_Short Selling             986.0\n",
              "InvStyle_Value                    1083.0\n",
              "InvStyle_Arbitrage                1236.0\n",
              "InvStyle_Income                   1239.0\n",
              "InvStyle_Aggres. Gr.              1331.0\n",
              "InvStyle_Convertible Arbitrage    1422.0\n",
              "InvStyle_Emerging Markets         3737.0\n",
              "dtype: float64"
            ]
          },
          "metadata": {
            "tags": []
          },
          "execution_count": 57
        }
      ]
    },
    {
      "cell_type": "code",
      "metadata": {
        "id": "23d-2ZhJdKk6"
      },
      "source": [
        "# compute weight, use idf\n",
        "industry_weight = np.log(len(investor_style_sub) / (investor_style_sub[1].count(axis=0) + 1))\n",
        "invStyle_weight = np.log(len(investor_style_sub) / (investor_style_sub[4].count(axis=0) + 1))"
      ],
      "execution_count": null,
      "outputs": []
    },
    {
      "cell_type": "code",
      "metadata": {
        "id": "ItgXfIngEeYO"
      },
      "source": [
        "# normalize\n",
        "def normalize(df):\n",
        "  return df.div(df.sum(axis=1),axis=0).fillna(0)\n",
        "\n",
        "industry_sub = normalize(investor_style_sub[1])\n",
        "invStyle_sub = normalize(investor_style_sub[4])"
      ],
      "execution_count": null,
      "outputs": []
    },
    {
      "cell_type": "code",
      "metadata": {
        "colab": {
          "base_uri": "https://localhost:8080/",
          "height": 504
        },
        "id": "6OAEKk8q-3m1",
        "outputId": "237f5538-a2fd-42e3-e032-10ef9a26d953"
      },
      "source": [
        "industry_sub"
      ],
      "execution_count": null,
      "outputs": [
        {
          "output_type": "execute_result",
          "data": {
            "text/html": [
              "<div>\n",
              "<style scoped>\n",
              "    .dataframe tbody tr th:only-of-type {\n",
              "        vertical-align: middle;\n",
              "    }\n",
              "\n",
              "    .dataframe tbody tr th {\n",
              "        vertical-align: top;\n",
              "    }\n",
              "\n",
              "    .dataframe thead th {\n",
              "        text-align: right;\n",
              "    }\n",
              "</style>\n",
              "<table border=\"1\" class=\"dataframe\">\n",
              "  <thead>\n",
              "    <tr style=\"text-align: right;\">\n",
              "      <th>SpecDesc_</th>\n",
              "      <th>Industry_Aerospace/Defense</th>\n",
              "      <th>Industry_Agricultural Products</th>\n",
              "      <th>Industry_Air Freight</th>\n",
              "      <th>Industry_Airlines</th>\n",
              "      <th>Industry_Aluminum</th>\n",
              "      <th>Industry_Auto Parts &amp; Equipment</th>\n",
              "      <th>Industry_Automobiles</th>\n",
              "      <th>Industry_Autos/Auto Parts</th>\n",
              "      <th>Industry_Banks &amp; Thrifts</th>\n",
              "      <th>Industry_Banks (Major Regional)</th>\n",
              "      <th>Industry_Banks (Money Center)</th>\n",
              "      <th>Industry_Banks (Regional)</th>\n",
              "      <th>Industry_Beverages (Alcoholic)</th>\n",
              "      <th>Industry_Beverages (Non-Alcoholic)</th>\n",
              "      <th>Industry_Biofuels</th>\n",
              "      <th>Industry_Biotechnology</th>\n",
              "      <th>Industry_Broadcasting (TV,Radio,Ca</th>\n",
              "      <th>Industry_Building Materials</th>\n",
              "      <th>Industry_Business Cyclicals</th>\n",
              "      <th>Industry_Business Staples</th>\n",
              "      <th>Industry_Cellular/Wireless Telecom</th>\n",
              "      <th>Industry_Chemicals</th>\n",
              "      <th>Industry_Clean technology</th>\n",
              "      <th>Industry_Communication Services</th>\n",
              "      <th>Industry_Communications Equipment</th>\n",
              "      <th>Industry_Computer Hardware</th>\n",
              "      <th>Industry_Computer Services</th>\n",
              "      <th>Industry_Computer Software</th>\n",
              "      <th>Industry_Computers (Networking)</th>\n",
              "      <th>Industry_Computers (Peripherals)</th>\n",
              "      <th>Industry_Consumer (Jewelry/Novelti</th>\n",
              "      <th>Industry_Consumer Cyclicals</th>\n",
              "      <th>Industry_Consumer Discretionary</th>\n",
              "      <th>Industry_Consumer Electronics</th>\n",
              "      <th>Industry_Consumer Finance</th>\n",
              "      <th>Industry_Consumer Staples</th>\n",
              "      <th>Industry_Containers-Metal &amp; Glass</th>\n",
              "      <th>Industry_Containers/Packaging (Pap</th>\n",
              "      <th>Industry_Distributors (Durables)</th>\n",
              "      <th>Industry_Distributors (Food &amp; Heal</th>\n",
              "      <th>...</th>\n",
              "      <th>Industry_Renewable Energy</th>\n",
              "      <th>Industry_Restaurants</th>\n",
              "      <th>Industry_Retail</th>\n",
              "      <th>Industry_Retail (Building Supplies</th>\n",
              "      <th>Industry_Retail (Computers/Electro</th>\n",
              "      <th>Industry_Retail (Discounters/Offpr</th>\n",
              "      <th>Industry_Retail (Footwear)</th>\n",
              "      <th>Industry_Retail (Home Items)</th>\n",
              "      <th>Industry_Retail (Home Shopping/Cat</th>\n",
              "      <th>Industry_Retail Specialty-Apparel</th>\n",
              "      <th>Industry_Retail Stores-Dept Stores</th>\n",
              "      <th>Industry_Retail Stores-Drug Store</th>\n",
              "      <th>Industry_Retail Stores-Food Chains</th>\n",
              "      <th>Industry_Retail Stores-Gen Mer Cha</th>\n",
              "      <th>Industry_Retail-Specialty</th>\n",
              "      <th>Industry_Savings &amp; Loan Companies</th>\n",
              "      <th>Industry_Semiconductors</th>\n",
              "      <th>Industry_Services (Advertising/Mkt</th>\n",
              "      <th>Industry_Services (Commercial Cons</th>\n",
              "      <th>Industry_Services (Employment)</th>\n",
              "      <th>Industry_Services (Facils/Enviromn</th>\n",
              "      <th>Industry_Services (Payroll Process</th>\n",
              "      <th>Industry_Services (Rentals)</th>\n",
              "      <th>Industry_Shipping</th>\n",
              "      <th>Industry_Specialty Communications</th>\n",
              "      <th>Industry_Steel</th>\n",
              "      <th>Industry_Technology</th>\n",
              "      <th>Industry_Telecommunication Service</th>\n",
              "      <th>Industry_Telephone (Local)</th>\n",
              "      <th>Industry_Telephone-Local</th>\n",
              "      <th>Industry_Telephone-Long Distance</th>\n",
              "      <th>Industry_Textiles</th>\n",
              "      <th>Industry_Tobacco</th>\n",
              "      <th>Industry_Transportation</th>\n",
              "      <th>Industry_Truckers</th>\n",
              "      <th>Industry_Trucks &amp; Parts</th>\n",
              "      <th>Industry_Utilities</th>\n",
              "      <th>Industry_Waste Management</th>\n",
              "      <th>Industry_Water Technology</th>\n",
              "      <th>Industry_Water Utilities</th>\n",
              "    </tr>\n",
              "    <tr>\n",
              "      <th>LgcyInvestorId</th>\n",
              "      <th></th>\n",
              "      <th></th>\n",
              "      <th></th>\n",
              "      <th></th>\n",
              "      <th></th>\n",
              "      <th></th>\n",
              "      <th></th>\n",
              "      <th></th>\n",
              "      <th></th>\n",
              "      <th></th>\n",
              "      <th></th>\n",
              "      <th></th>\n",
              "      <th></th>\n",
              "      <th></th>\n",
              "      <th></th>\n",
              "      <th></th>\n",
              "      <th></th>\n",
              "      <th></th>\n",
              "      <th></th>\n",
              "      <th></th>\n",
              "      <th></th>\n",
              "      <th></th>\n",
              "      <th></th>\n",
              "      <th></th>\n",
              "      <th></th>\n",
              "      <th></th>\n",
              "      <th></th>\n",
              "      <th></th>\n",
              "      <th></th>\n",
              "      <th></th>\n",
              "      <th></th>\n",
              "      <th></th>\n",
              "      <th></th>\n",
              "      <th></th>\n",
              "      <th></th>\n",
              "      <th></th>\n",
              "      <th></th>\n",
              "      <th></th>\n",
              "      <th></th>\n",
              "      <th></th>\n",
              "      <th></th>\n",
              "      <th></th>\n",
              "      <th></th>\n",
              "      <th></th>\n",
              "      <th></th>\n",
              "      <th></th>\n",
              "      <th></th>\n",
              "      <th></th>\n",
              "      <th></th>\n",
              "      <th></th>\n",
              "      <th></th>\n",
              "      <th></th>\n",
              "      <th></th>\n",
              "      <th></th>\n",
              "      <th></th>\n",
              "      <th></th>\n",
              "      <th></th>\n",
              "      <th></th>\n",
              "      <th></th>\n",
              "      <th></th>\n",
              "      <th></th>\n",
              "      <th></th>\n",
              "      <th></th>\n",
              "      <th></th>\n",
              "      <th></th>\n",
              "      <th></th>\n",
              "      <th></th>\n",
              "      <th></th>\n",
              "      <th></th>\n",
              "      <th></th>\n",
              "      <th></th>\n",
              "      <th></th>\n",
              "      <th></th>\n",
              "      <th></th>\n",
              "      <th></th>\n",
              "      <th></th>\n",
              "      <th></th>\n",
              "      <th></th>\n",
              "      <th></th>\n",
              "      <th></th>\n",
              "      <th></th>\n",
              "    </tr>\n",
              "  </thead>\n",
              "  <tbody>\n",
              "    <tr>\n",
              "      <th>2000264</th>\n",
              "      <td>0.018692</td>\n",
              "      <td>0.037383</td>\n",
              "      <td>0.0</td>\n",
              "      <td>0.0</td>\n",
              "      <td>0.000000</td>\n",
              "      <td>0.009346</td>\n",
              "      <td>0.000000</td>\n",
              "      <td>0.000000</td>\n",
              "      <td>0.000000</td>\n",
              "      <td>0.000000</td>\n",
              "      <td>0.000000</td>\n",
              "      <td>0.000000</td>\n",
              "      <td>0.037383</td>\n",
              "      <td>0.0</td>\n",
              "      <td>0.0</td>\n",
              "      <td>0.000000</td>\n",
              "      <td>0.0</td>\n",
              "      <td>0.000000</td>\n",
              "      <td>0.000000</td>\n",
              "      <td>0.000000</td>\n",
              "      <td>0.000000</td>\n",
              "      <td>0.000000</td>\n",
              "      <td>0.0</td>\n",
              "      <td>0.00</td>\n",
              "      <td>0.00000</td>\n",
              "      <td>0.037383</td>\n",
              "      <td>0.000000</td>\n",
              "      <td>0.000000</td>\n",
              "      <td>0.037383</td>\n",
              "      <td>0.0</td>\n",
              "      <td>0.000000</td>\n",
              "      <td>0.000000</td>\n",
              "      <td>0.0</td>\n",
              "      <td>0.000000</td>\n",
              "      <td>0.000000</td>\n",
              "      <td>0.000000</td>\n",
              "      <td>0.028037</td>\n",
              "      <td>0.000000</td>\n",
              "      <td>0.000000</td>\n",
              "      <td>0.0</td>\n",
              "      <td>...</td>\n",
              "      <td>0.0</td>\n",
              "      <td>0.000000</td>\n",
              "      <td>0.000000</td>\n",
              "      <td>0.0</td>\n",
              "      <td>0.000000</td>\n",
              "      <td>0.000000</td>\n",
              "      <td>0.000000</td>\n",
              "      <td>0.00000</td>\n",
              "      <td>0.000000</td>\n",
              "      <td>0.028037</td>\n",
              "      <td>0.0</td>\n",
              "      <td>0.037383</td>\n",
              "      <td>0.252336</td>\n",
              "      <td>0.000000</td>\n",
              "      <td>0.0</td>\n",
              "      <td>0.000000</td>\n",
              "      <td>0.0</td>\n",
              "      <td>0.000000</td>\n",
              "      <td>0.0</td>\n",
              "      <td>0.000000</td>\n",
              "      <td>0.000000</td>\n",
              "      <td>0.000000</td>\n",
              "      <td>0.000000</td>\n",
              "      <td>0.000000</td>\n",
              "      <td>0.000000</td>\n",
              "      <td>0.000000</td>\n",
              "      <td>0.000000</td>\n",
              "      <td>0.00000</td>\n",
              "      <td>0.000000</td>\n",
              "      <td>0.0</td>\n",
              "      <td>0.000000</td>\n",
              "      <td>0.018692</td>\n",
              "      <td>0.000000</td>\n",
              "      <td>0.000000</td>\n",
              "      <td>0.0</td>\n",
              "      <td>0.037383</td>\n",
              "      <td>0.000000</td>\n",
              "      <td>0.0</td>\n",
              "      <td>0.000000</td>\n",
              "      <td>0.000000</td>\n",
              "    </tr>\n",
              "    <tr>\n",
              "      <th>2001934</th>\n",
              "      <td>0.016563</td>\n",
              "      <td>0.016563</td>\n",
              "      <td>0.0</td>\n",
              "      <td>0.0</td>\n",
              "      <td>0.000000</td>\n",
              "      <td>0.006211</td>\n",
              "      <td>0.000000</td>\n",
              "      <td>0.000000</td>\n",
              "      <td>0.000000</td>\n",
              "      <td>0.000000</td>\n",
              "      <td>0.000000</td>\n",
              "      <td>0.000000</td>\n",
              "      <td>0.018634</td>\n",
              "      <td>0.0</td>\n",
              "      <td>0.0</td>\n",
              "      <td>0.000000</td>\n",
              "      <td>0.0</td>\n",
              "      <td>0.000000</td>\n",
              "      <td>0.000000</td>\n",
              "      <td>0.000000</td>\n",
              "      <td>0.006211</td>\n",
              "      <td>0.004141</td>\n",
              "      <td>0.0</td>\n",
              "      <td>0.00</td>\n",
              "      <td>0.00000</td>\n",
              "      <td>0.016563</td>\n",
              "      <td>0.000000</td>\n",
              "      <td>0.000000</td>\n",
              "      <td>0.018634</td>\n",
              "      <td>0.0</td>\n",
              "      <td>0.000000</td>\n",
              "      <td>0.004141</td>\n",
              "      <td>0.0</td>\n",
              "      <td>0.000000</td>\n",
              "      <td>0.000000</td>\n",
              "      <td>0.006211</td>\n",
              "      <td>0.006211</td>\n",
              "      <td>0.000000</td>\n",
              "      <td>0.000000</td>\n",
              "      <td>0.0</td>\n",
              "      <td>...</td>\n",
              "      <td>0.0</td>\n",
              "      <td>0.018634</td>\n",
              "      <td>0.000000</td>\n",
              "      <td>0.0</td>\n",
              "      <td>0.008282</td>\n",
              "      <td>0.000000</td>\n",
              "      <td>0.000000</td>\n",
              "      <td>0.00207</td>\n",
              "      <td>0.000000</td>\n",
              "      <td>0.008282</td>\n",
              "      <td>0.0</td>\n",
              "      <td>0.018634</td>\n",
              "      <td>0.320911</td>\n",
              "      <td>0.004141</td>\n",
              "      <td>0.0</td>\n",
              "      <td>0.000000</td>\n",
              "      <td>0.0</td>\n",
              "      <td>0.000000</td>\n",
              "      <td>0.0</td>\n",
              "      <td>0.000000</td>\n",
              "      <td>0.000000</td>\n",
              "      <td>0.000000</td>\n",
              "      <td>0.000000</td>\n",
              "      <td>0.000000</td>\n",
              "      <td>0.000000</td>\n",
              "      <td>0.000000</td>\n",
              "      <td>0.000000</td>\n",
              "      <td>0.00207</td>\n",
              "      <td>0.000000</td>\n",
              "      <td>0.0</td>\n",
              "      <td>0.000000</td>\n",
              "      <td>0.016563</td>\n",
              "      <td>0.000000</td>\n",
              "      <td>0.000000</td>\n",
              "      <td>0.0</td>\n",
              "      <td>0.018634</td>\n",
              "      <td>0.008282</td>\n",
              "      <td>0.0</td>\n",
              "      <td>0.002070</td>\n",
              "      <td>0.000000</td>\n",
              "    </tr>\n",
              "    <tr>\n",
              "      <th>2001935</th>\n",
              "      <td>0.009174</td>\n",
              "      <td>0.000000</td>\n",
              "      <td>0.0</td>\n",
              "      <td>0.0</td>\n",
              "      <td>0.000000</td>\n",
              "      <td>0.000000</td>\n",
              "      <td>0.000000</td>\n",
              "      <td>0.000000</td>\n",
              "      <td>0.000000</td>\n",
              "      <td>0.000000</td>\n",
              "      <td>0.000000</td>\n",
              "      <td>0.000000</td>\n",
              "      <td>0.000000</td>\n",
              "      <td>0.0</td>\n",
              "      <td>0.0</td>\n",
              "      <td>0.000000</td>\n",
              "      <td>0.0</td>\n",
              "      <td>0.000000</td>\n",
              "      <td>0.000000</td>\n",
              "      <td>0.000000</td>\n",
              "      <td>0.000000</td>\n",
              "      <td>0.000000</td>\n",
              "      <td>0.0</td>\n",
              "      <td>0.00</td>\n",
              "      <td>0.00000</td>\n",
              "      <td>0.000000</td>\n",
              "      <td>0.000000</td>\n",
              "      <td>0.000000</td>\n",
              "      <td>0.000000</td>\n",
              "      <td>0.0</td>\n",
              "      <td>0.000000</td>\n",
              "      <td>0.000000</td>\n",
              "      <td>0.0</td>\n",
              "      <td>0.000000</td>\n",
              "      <td>0.000000</td>\n",
              "      <td>0.000000</td>\n",
              "      <td>0.009174</td>\n",
              "      <td>0.000000</td>\n",
              "      <td>0.000000</td>\n",
              "      <td>0.0</td>\n",
              "      <td>...</td>\n",
              "      <td>0.0</td>\n",
              "      <td>0.009174</td>\n",
              "      <td>0.000000</td>\n",
              "      <td>0.0</td>\n",
              "      <td>0.000000</td>\n",
              "      <td>0.000000</td>\n",
              "      <td>0.000000</td>\n",
              "      <td>0.00000</td>\n",
              "      <td>0.000000</td>\n",
              "      <td>0.000000</td>\n",
              "      <td>0.0</td>\n",
              "      <td>0.000000</td>\n",
              "      <td>0.788991</td>\n",
              "      <td>0.000000</td>\n",
              "      <td>0.0</td>\n",
              "      <td>0.000000</td>\n",
              "      <td>0.0</td>\n",
              "      <td>0.000000</td>\n",
              "      <td>0.0</td>\n",
              "      <td>0.000000</td>\n",
              "      <td>0.000000</td>\n",
              "      <td>0.000000</td>\n",
              "      <td>0.000000</td>\n",
              "      <td>0.000000</td>\n",
              "      <td>0.000000</td>\n",
              "      <td>0.000000</td>\n",
              "      <td>0.000000</td>\n",
              "      <td>0.00000</td>\n",
              "      <td>0.000000</td>\n",
              "      <td>0.0</td>\n",
              "      <td>0.000000</td>\n",
              "      <td>0.009174</td>\n",
              "      <td>0.000000</td>\n",
              "      <td>0.000000</td>\n",
              "      <td>0.0</td>\n",
              "      <td>0.000000</td>\n",
              "      <td>0.000000</td>\n",
              "      <td>0.0</td>\n",
              "      <td>0.000000</td>\n",
              "      <td>0.000000</td>\n",
              "    </tr>\n",
              "    <tr>\n",
              "      <th>2001989</th>\n",
              "      <td>0.017143</td>\n",
              "      <td>0.017143</td>\n",
              "      <td>0.0</td>\n",
              "      <td>0.0</td>\n",
              "      <td>0.000000</td>\n",
              "      <td>0.005714</td>\n",
              "      <td>0.000000</td>\n",
              "      <td>0.000000</td>\n",
              "      <td>0.000000</td>\n",
              "      <td>0.000000</td>\n",
              "      <td>0.000000</td>\n",
              "      <td>0.000000</td>\n",
              "      <td>0.028571</td>\n",
              "      <td>0.0</td>\n",
              "      <td>0.0</td>\n",
              "      <td>0.005714</td>\n",
              "      <td>0.0</td>\n",
              "      <td>0.000000</td>\n",
              "      <td>0.000000</td>\n",
              "      <td>0.005714</td>\n",
              "      <td>0.005714</td>\n",
              "      <td>0.000000</td>\n",
              "      <td>0.0</td>\n",
              "      <td>0.00</td>\n",
              "      <td>0.00000</td>\n",
              "      <td>0.028571</td>\n",
              "      <td>0.011429</td>\n",
              "      <td>0.005714</td>\n",
              "      <td>0.028571</td>\n",
              "      <td>0.0</td>\n",
              "      <td>0.000000</td>\n",
              "      <td>0.000000</td>\n",
              "      <td>0.0</td>\n",
              "      <td>0.005714</td>\n",
              "      <td>0.000000</td>\n",
              "      <td>0.017143</td>\n",
              "      <td>0.011429</td>\n",
              "      <td>0.000000</td>\n",
              "      <td>0.000000</td>\n",
              "      <td>0.0</td>\n",
              "      <td>...</td>\n",
              "      <td>0.0</td>\n",
              "      <td>0.005714</td>\n",
              "      <td>0.000000</td>\n",
              "      <td>0.0</td>\n",
              "      <td>0.011429</td>\n",
              "      <td>0.000000</td>\n",
              "      <td>0.000000</td>\n",
              "      <td>0.00000</td>\n",
              "      <td>0.000000</td>\n",
              "      <td>0.011429</td>\n",
              "      <td>0.0</td>\n",
              "      <td>0.028571</td>\n",
              "      <td>0.125714</td>\n",
              "      <td>0.011429</td>\n",
              "      <td>0.0</td>\n",
              "      <td>0.005714</td>\n",
              "      <td>0.0</td>\n",
              "      <td>0.000000</td>\n",
              "      <td>0.0</td>\n",
              "      <td>0.000000</td>\n",
              "      <td>0.000000</td>\n",
              "      <td>0.000000</td>\n",
              "      <td>0.005714</td>\n",
              "      <td>0.000000</td>\n",
              "      <td>0.000000</td>\n",
              "      <td>0.005714</td>\n",
              "      <td>0.005714</td>\n",
              "      <td>0.00000</td>\n",
              "      <td>0.005714</td>\n",
              "      <td>0.0</td>\n",
              "      <td>0.011429</td>\n",
              "      <td>0.017143</td>\n",
              "      <td>0.000000</td>\n",
              "      <td>0.000000</td>\n",
              "      <td>0.0</td>\n",
              "      <td>0.022857</td>\n",
              "      <td>0.000000</td>\n",
              "      <td>0.0</td>\n",
              "      <td>0.011429</td>\n",
              "      <td>0.005714</td>\n",
              "    </tr>\n",
              "    <tr>\n",
              "      <th>2001999</th>\n",
              "      <td>0.009409</td>\n",
              "      <td>0.010753</td>\n",
              "      <td>0.0</td>\n",
              "      <td>0.0</td>\n",
              "      <td>0.000672</td>\n",
              "      <td>0.005376</td>\n",
              "      <td>0.008065</td>\n",
              "      <td>0.000672</td>\n",
              "      <td>0.004704</td>\n",
              "      <td>0.000672</td>\n",
              "      <td>0.000672</td>\n",
              "      <td>0.000672</td>\n",
              "      <td>0.013441</td>\n",
              "      <td>0.0</td>\n",
              "      <td>0.0</td>\n",
              "      <td>0.005376</td>\n",
              "      <td>0.0</td>\n",
              "      <td>0.001344</td>\n",
              "      <td>0.000672</td>\n",
              "      <td>0.000672</td>\n",
              "      <td>0.006048</td>\n",
              "      <td>0.002016</td>\n",
              "      <td>0.0</td>\n",
              "      <td>0.00</td>\n",
              "      <td>0.00336</td>\n",
              "      <td>0.014785</td>\n",
              "      <td>0.003360</td>\n",
              "      <td>0.000000</td>\n",
              "      <td>0.013441</td>\n",
              "      <td>0.0</td>\n",
              "      <td>0.000672</td>\n",
              "      <td>0.000000</td>\n",
              "      <td>0.0</td>\n",
              "      <td>0.000672</td>\n",
              "      <td>0.000672</td>\n",
              "      <td>0.010753</td>\n",
              "      <td>0.009409</td>\n",
              "      <td>0.000672</td>\n",
              "      <td>0.000672</td>\n",
              "      <td>0.0</td>\n",
              "      <td>...</td>\n",
              "      <td>0.0</td>\n",
              "      <td>0.004704</td>\n",
              "      <td>0.002016</td>\n",
              "      <td>0.0</td>\n",
              "      <td>0.008065</td>\n",
              "      <td>0.000672</td>\n",
              "      <td>0.002016</td>\n",
              "      <td>0.00336</td>\n",
              "      <td>0.001344</td>\n",
              "      <td>0.010081</td>\n",
              "      <td>0.0</td>\n",
              "      <td>0.013441</td>\n",
              "      <td>0.391129</td>\n",
              "      <td>0.000000</td>\n",
              "      <td>0.0</td>\n",
              "      <td>0.000672</td>\n",
              "      <td>0.0</td>\n",
              "      <td>0.002688</td>\n",
              "      <td>0.0</td>\n",
              "      <td>0.002016</td>\n",
              "      <td>0.000672</td>\n",
              "      <td>0.000672</td>\n",
              "      <td>0.001344</td>\n",
              "      <td>0.002016</td>\n",
              "      <td>0.004032</td>\n",
              "      <td>0.000672</td>\n",
              "      <td>0.006048</td>\n",
              "      <td>0.00000</td>\n",
              "      <td>0.000000</td>\n",
              "      <td>0.0</td>\n",
              "      <td>0.004032</td>\n",
              "      <td>0.007392</td>\n",
              "      <td>0.004704</td>\n",
              "      <td>0.005376</td>\n",
              "      <td>0.0</td>\n",
              "      <td>0.006048</td>\n",
              "      <td>0.000672</td>\n",
              "      <td>0.0</td>\n",
              "      <td>0.007392</td>\n",
              "      <td>0.000000</td>\n",
              "    </tr>\n",
              "    <tr>\n",
              "      <th>...</th>\n",
              "      <td>...</td>\n",
              "      <td>...</td>\n",
              "      <td>...</td>\n",
              "      <td>...</td>\n",
              "      <td>...</td>\n",
              "      <td>...</td>\n",
              "      <td>...</td>\n",
              "      <td>...</td>\n",
              "      <td>...</td>\n",
              "      <td>...</td>\n",
              "      <td>...</td>\n",
              "      <td>...</td>\n",
              "      <td>...</td>\n",
              "      <td>...</td>\n",
              "      <td>...</td>\n",
              "      <td>...</td>\n",
              "      <td>...</td>\n",
              "      <td>...</td>\n",
              "      <td>...</td>\n",
              "      <td>...</td>\n",
              "      <td>...</td>\n",
              "      <td>...</td>\n",
              "      <td>...</td>\n",
              "      <td>...</td>\n",
              "      <td>...</td>\n",
              "      <td>...</td>\n",
              "      <td>...</td>\n",
              "      <td>...</td>\n",
              "      <td>...</td>\n",
              "      <td>...</td>\n",
              "      <td>...</td>\n",
              "      <td>...</td>\n",
              "      <td>...</td>\n",
              "      <td>...</td>\n",
              "      <td>...</td>\n",
              "      <td>...</td>\n",
              "      <td>...</td>\n",
              "      <td>...</td>\n",
              "      <td>...</td>\n",
              "      <td>...</td>\n",
              "      <td>...</td>\n",
              "      <td>...</td>\n",
              "      <td>...</td>\n",
              "      <td>...</td>\n",
              "      <td>...</td>\n",
              "      <td>...</td>\n",
              "      <td>...</td>\n",
              "      <td>...</td>\n",
              "      <td>...</td>\n",
              "      <td>...</td>\n",
              "      <td>...</td>\n",
              "      <td>...</td>\n",
              "      <td>...</td>\n",
              "      <td>...</td>\n",
              "      <td>...</td>\n",
              "      <td>...</td>\n",
              "      <td>...</td>\n",
              "      <td>...</td>\n",
              "      <td>...</td>\n",
              "      <td>...</td>\n",
              "      <td>...</td>\n",
              "      <td>...</td>\n",
              "      <td>...</td>\n",
              "      <td>...</td>\n",
              "      <td>...</td>\n",
              "      <td>...</td>\n",
              "      <td>...</td>\n",
              "      <td>...</td>\n",
              "      <td>...</td>\n",
              "      <td>...</td>\n",
              "      <td>...</td>\n",
              "      <td>...</td>\n",
              "      <td>...</td>\n",
              "      <td>...</td>\n",
              "      <td>...</td>\n",
              "      <td>...</td>\n",
              "      <td>...</td>\n",
              "      <td>...</td>\n",
              "      <td>...</td>\n",
              "      <td>...</td>\n",
              "      <td>...</td>\n",
              "    </tr>\n",
              "    <tr>\n",
              "      <th>10061989</th>\n",
              "      <td>0.000000</td>\n",
              "      <td>0.000000</td>\n",
              "      <td>0.0</td>\n",
              "      <td>0.0</td>\n",
              "      <td>0.000000</td>\n",
              "      <td>0.000000</td>\n",
              "      <td>0.000000</td>\n",
              "      <td>0.000000</td>\n",
              "      <td>0.000000</td>\n",
              "      <td>0.000000</td>\n",
              "      <td>0.000000</td>\n",
              "      <td>0.000000</td>\n",
              "      <td>0.000000</td>\n",
              "      <td>0.0</td>\n",
              "      <td>0.0</td>\n",
              "      <td>0.000000</td>\n",
              "      <td>0.0</td>\n",
              "      <td>0.000000</td>\n",
              "      <td>0.000000</td>\n",
              "      <td>0.000000</td>\n",
              "      <td>0.000000</td>\n",
              "      <td>0.000000</td>\n",
              "      <td>0.0</td>\n",
              "      <td>0.00</td>\n",
              "      <td>0.00000</td>\n",
              "      <td>0.000000</td>\n",
              "      <td>0.000000</td>\n",
              "      <td>0.000000</td>\n",
              "      <td>0.000000</td>\n",
              "      <td>0.0</td>\n",
              "      <td>0.000000</td>\n",
              "      <td>0.000000</td>\n",
              "      <td>0.0</td>\n",
              "      <td>0.000000</td>\n",
              "      <td>0.000000</td>\n",
              "      <td>0.000000</td>\n",
              "      <td>0.000000</td>\n",
              "      <td>0.000000</td>\n",
              "      <td>0.000000</td>\n",
              "      <td>0.0</td>\n",
              "      <td>...</td>\n",
              "      <td>0.0</td>\n",
              "      <td>0.000000</td>\n",
              "      <td>0.000000</td>\n",
              "      <td>0.0</td>\n",
              "      <td>0.000000</td>\n",
              "      <td>0.000000</td>\n",
              "      <td>0.000000</td>\n",
              "      <td>0.00000</td>\n",
              "      <td>0.000000</td>\n",
              "      <td>0.000000</td>\n",
              "      <td>0.0</td>\n",
              "      <td>0.000000</td>\n",
              "      <td>1.000000</td>\n",
              "      <td>0.000000</td>\n",
              "      <td>0.0</td>\n",
              "      <td>0.000000</td>\n",
              "      <td>0.0</td>\n",
              "      <td>0.000000</td>\n",
              "      <td>0.0</td>\n",
              "      <td>0.000000</td>\n",
              "      <td>0.000000</td>\n",
              "      <td>0.000000</td>\n",
              "      <td>0.000000</td>\n",
              "      <td>0.000000</td>\n",
              "      <td>0.000000</td>\n",
              "      <td>0.000000</td>\n",
              "      <td>0.000000</td>\n",
              "      <td>0.00000</td>\n",
              "      <td>0.000000</td>\n",
              "      <td>0.0</td>\n",
              "      <td>0.000000</td>\n",
              "      <td>0.000000</td>\n",
              "      <td>0.000000</td>\n",
              "      <td>0.000000</td>\n",
              "      <td>0.0</td>\n",
              "      <td>0.000000</td>\n",
              "      <td>0.000000</td>\n",
              "      <td>0.0</td>\n",
              "      <td>0.000000</td>\n",
              "      <td>0.000000</td>\n",
              "    </tr>\n",
              "    <tr>\n",
              "      <th>10075382</th>\n",
              "      <td>0.000000</td>\n",
              "      <td>0.000000</td>\n",
              "      <td>0.0</td>\n",
              "      <td>0.0</td>\n",
              "      <td>0.000000</td>\n",
              "      <td>0.000000</td>\n",
              "      <td>0.000000</td>\n",
              "      <td>0.000000</td>\n",
              "      <td>0.000000</td>\n",
              "      <td>0.000000</td>\n",
              "      <td>0.000000</td>\n",
              "      <td>0.000000</td>\n",
              "      <td>0.000000</td>\n",
              "      <td>0.0</td>\n",
              "      <td>0.0</td>\n",
              "      <td>0.000000</td>\n",
              "      <td>0.0</td>\n",
              "      <td>0.000000</td>\n",
              "      <td>0.000000</td>\n",
              "      <td>0.000000</td>\n",
              "      <td>0.000000</td>\n",
              "      <td>0.000000</td>\n",
              "      <td>0.0</td>\n",
              "      <td>0.00</td>\n",
              "      <td>0.00000</td>\n",
              "      <td>0.000000</td>\n",
              "      <td>0.000000</td>\n",
              "      <td>0.000000</td>\n",
              "      <td>0.000000</td>\n",
              "      <td>0.0</td>\n",
              "      <td>0.000000</td>\n",
              "      <td>0.000000</td>\n",
              "      <td>0.0</td>\n",
              "      <td>0.000000</td>\n",
              "      <td>0.000000</td>\n",
              "      <td>0.000000</td>\n",
              "      <td>0.000000</td>\n",
              "      <td>0.000000</td>\n",
              "      <td>0.000000</td>\n",
              "      <td>0.0</td>\n",
              "      <td>...</td>\n",
              "      <td>0.0</td>\n",
              "      <td>0.000000</td>\n",
              "      <td>0.000000</td>\n",
              "      <td>0.0</td>\n",
              "      <td>0.000000</td>\n",
              "      <td>0.000000</td>\n",
              "      <td>0.000000</td>\n",
              "      <td>0.00000</td>\n",
              "      <td>0.000000</td>\n",
              "      <td>0.000000</td>\n",
              "      <td>0.0</td>\n",
              "      <td>0.000000</td>\n",
              "      <td>1.000000</td>\n",
              "      <td>0.000000</td>\n",
              "      <td>0.0</td>\n",
              "      <td>0.000000</td>\n",
              "      <td>0.0</td>\n",
              "      <td>0.000000</td>\n",
              "      <td>0.0</td>\n",
              "      <td>0.000000</td>\n",
              "      <td>0.000000</td>\n",
              "      <td>0.000000</td>\n",
              "      <td>0.000000</td>\n",
              "      <td>0.000000</td>\n",
              "      <td>0.000000</td>\n",
              "      <td>0.000000</td>\n",
              "      <td>0.000000</td>\n",
              "      <td>0.00000</td>\n",
              "      <td>0.000000</td>\n",
              "      <td>0.0</td>\n",
              "      <td>0.000000</td>\n",
              "      <td>0.000000</td>\n",
              "      <td>0.000000</td>\n",
              "      <td>0.000000</td>\n",
              "      <td>0.0</td>\n",
              "      <td>0.000000</td>\n",
              "      <td>0.000000</td>\n",
              "      <td>0.0</td>\n",
              "      <td>0.000000</td>\n",
              "      <td>0.000000</td>\n",
              "    </tr>\n",
              "    <tr>\n",
              "      <th>10110259</th>\n",
              "      <td>0.000000</td>\n",
              "      <td>0.050000</td>\n",
              "      <td>0.0</td>\n",
              "      <td>0.0</td>\n",
              "      <td>0.000000</td>\n",
              "      <td>0.000000</td>\n",
              "      <td>0.000000</td>\n",
              "      <td>0.000000</td>\n",
              "      <td>0.000000</td>\n",
              "      <td>0.000000</td>\n",
              "      <td>0.000000</td>\n",
              "      <td>0.000000</td>\n",
              "      <td>0.000000</td>\n",
              "      <td>0.0</td>\n",
              "      <td>0.0</td>\n",
              "      <td>0.000000</td>\n",
              "      <td>0.0</td>\n",
              "      <td>0.000000</td>\n",
              "      <td>0.000000</td>\n",
              "      <td>0.000000</td>\n",
              "      <td>0.050000</td>\n",
              "      <td>0.050000</td>\n",
              "      <td>0.0</td>\n",
              "      <td>0.05</td>\n",
              "      <td>0.05000</td>\n",
              "      <td>0.000000</td>\n",
              "      <td>0.000000</td>\n",
              "      <td>0.000000</td>\n",
              "      <td>0.000000</td>\n",
              "      <td>0.0</td>\n",
              "      <td>0.000000</td>\n",
              "      <td>0.050000</td>\n",
              "      <td>0.0</td>\n",
              "      <td>0.000000</td>\n",
              "      <td>0.000000</td>\n",
              "      <td>0.050000</td>\n",
              "      <td>0.000000</td>\n",
              "      <td>0.000000</td>\n",
              "      <td>0.000000</td>\n",
              "      <td>0.0</td>\n",
              "      <td>...</td>\n",
              "      <td>0.0</td>\n",
              "      <td>0.000000</td>\n",
              "      <td>0.000000</td>\n",
              "      <td>0.0</td>\n",
              "      <td>0.000000</td>\n",
              "      <td>0.000000</td>\n",
              "      <td>0.000000</td>\n",
              "      <td>0.00000</td>\n",
              "      <td>0.000000</td>\n",
              "      <td>0.000000</td>\n",
              "      <td>0.0</td>\n",
              "      <td>0.000000</td>\n",
              "      <td>0.300000</td>\n",
              "      <td>0.050000</td>\n",
              "      <td>0.0</td>\n",
              "      <td>0.000000</td>\n",
              "      <td>0.0</td>\n",
              "      <td>0.000000</td>\n",
              "      <td>0.0</td>\n",
              "      <td>0.000000</td>\n",
              "      <td>0.000000</td>\n",
              "      <td>0.000000</td>\n",
              "      <td>0.000000</td>\n",
              "      <td>0.000000</td>\n",
              "      <td>0.000000</td>\n",
              "      <td>0.000000</td>\n",
              "      <td>0.050000</td>\n",
              "      <td>0.00000</td>\n",
              "      <td>0.000000</td>\n",
              "      <td>0.0</td>\n",
              "      <td>0.000000</td>\n",
              "      <td>0.000000</td>\n",
              "      <td>0.000000</td>\n",
              "      <td>0.000000</td>\n",
              "      <td>0.0</td>\n",
              "      <td>0.000000</td>\n",
              "      <td>0.050000</td>\n",
              "      <td>0.0</td>\n",
              "      <td>0.000000</td>\n",
              "      <td>0.000000</td>\n",
              "    </tr>\n",
              "    <tr>\n",
              "      <th>10233291</th>\n",
              "      <td>0.000000</td>\n",
              "      <td>0.000000</td>\n",
              "      <td>0.0</td>\n",
              "      <td>0.0</td>\n",
              "      <td>0.000000</td>\n",
              "      <td>0.000000</td>\n",
              "      <td>0.000000</td>\n",
              "      <td>0.000000</td>\n",
              "      <td>0.000000</td>\n",
              "      <td>0.000000</td>\n",
              "      <td>0.000000</td>\n",
              "      <td>0.000000</td>\n",
              "      <td>0.000000</td>\n",
              "      <td>0.0</td>\n",
              "      <td>0.0</td>\n",
              "      <td>0.000000</td>\n",
              "      <td>0.0</td>\n",
              "      <td>0.000000</td>\n",
              "      <td>0.000000</td>\n",
              "      <td>0.000000</td>\n",
              "      <td>0.000000</td>\n",
              "      <td>0.000000</td>\n",
              "      <td>0.0</td>\n",
              "      <td>0.00</td>\n",
              "      <td>0.00000</td>\n",
              "      <td>0.000000</td>\n",
              "      <td>0.000000</td>\n",
              "      <td>0.000000</td>\n",
              "      <td>0.000000</td>\n",
              "      <td>0.0</td>\n",
              "      <td>0.000000</td>\n",
              "      <td>0.000000</td>\n",
              "      <td>0.0</td>\n",
              "      <td>0.000000</td>\n",
              "      <td>0.000000</td>\n",
              "      <td>0.000000</td>\n",
              "      <td>0.000000</td>\n",
              "      <td>0.000000</td>\n",
              "      <td>0.000000</td>\n",
              "      <td>0.0</td>\n",
              "      <td>...</td>\n",
              "      <td>0.0</td>\n",
              "      <td>0.000000</td>\n",
              "      <td>0.000000</td>\n",
              "      <td>0.0</td>\n",
              "      <td>0.000000</td>\n",
              "      <td>0.000000</td>\n",
              "      <td>0.000000</td>\n",
              "      <td>0.00000</td>\n",
              "      <td>0.000000</td>\n",
              "      <td>0.000000</td>\n",
              "      <td>0.0</td>\n",
              "      <td>0.000000</td>\n",
              "      <td>1.000000</td>\n",
              "      <td>0.000000</td>\n",
              "      <td>0.0</td>\n",
              "      <td>0.000000</td>\n",
              "      <td>0.0</td>\n",
              "      <td>0.000000</td>\n",
              "      <td>0.0</td>\n",
              "      <td>0.000000</td>\n",
              "      <td>0.000000</td>\n",
              "      <td>0.000000</td>\n",
              "      <td>0.000000</td>\n",
              "      <td>0.000000</td>\n",
              "      <td>0.000000</td>\n",
              "      <td>0.000000</td>\n",
              "      <td>0.000000</td>\n",
              "      <td>0.00000</td>\n",
              "      <td>0.000000</td>\n",
              "      <td>0.0</td>\n",
              "      <td>0.000000</td>\n",
              "      <td>0.000000</td>\n",
              "      <td>0.000000</td>\n",
              "      <td>0.000000</td>\n",
              "      <td>0.0</td>\n",
              "      <td>0.000000</td>\n",
              "      <td>0.000000</td>\n",
              "      <td>0.0</td>\n",
              "      <td>0.000000</td>\n",
              "      <td>0.000000</td>\n",
              "    </tr>\n",
              "    <tr>\n",
              "      <th>10235680</th>\n",
              "      <td>0.000000</td>\n",
              "      <td>0.000000</td>\n",
              "      <td>0.0</td>\n",
              "      <td>0.0</td>\n",
              "      <td>0.000000</td>\n",
              "      <td>0.000000</td>\n",
              "      <td>0.000000</td>\n",
              "      <td>0.000000</td>\n",
              "      <td>0.000000</td>\n",
              "      <td>0.000000</td>\n",
              "      <td>0.000000</td>\n",
              "      <td>0.000000</td>\n",
              "      <td>0.000000</td>\n",
              "      <td>0.0</td>\n",
              "      <td>0.0</td>\n",
              "      <td>0.000000</td>\n",
              "      <td>0.0</td>\n",
              "      <td>0.000000</td>\n",
              "      <td>0.000000</td>\n",
              "      <td>0.000000</td>\n",
              "      <td>0.000000</td>\n",
              "      <td>0.000000</td>\n",
              "      <td>0.0</td>\n",
              "      <td>0.00</td>\n",
              "      <td>0.00000</td>\n",
              "      <td>0.000000</td>\n",
              "      <td>0.000000</td>\n",
              "      <td>0.000000</td>\n",
              "      <td>0.000000</td>\n",
              "      <td>0.0</td>\n",
              "      <td>0.000000</td>\n",
              "      <td>0.000000</td>\n",
              "      <td>0.0</td>\n",
              "      <td>0.000000</td>\n",
              "      <td>0.000000</td>\n",
              "      <td>0.000000</td>\n",
              "      <td>0.000000</td>\n",
              "      <td>0.000000</td>\n",
              "      <td>0.000000</td>\n",
              "      <td>0.0</td>\n",
              "      <td>...</td>\n",
              "      <td>0.0</td>\n",
              "      <td>0.000000</td>\n",
              "      <td>0.000000</td>\n",
              "      <td>0.0</td>\n",
              "      <td>0.000000</td>\n",
              "      <td>0.000000</td>\n",
              "      <td>0.000000</td>\n",
              "      <td>0.00000</td>\n",
              "      <td>0.000000</td>\n",
              "      <td>0.000000</td>\n",
              "      <td>0.0</td>\n",
              "      <td>0.000000</td>\n",
              "      <td>1.000000</td>\n",
              "      <td>0.000000</td>\n",
              "      <td>0.0</td>\n",
              "      <td>0.000000</td>\n",
              "      <td>0.0</td>\n",
              "      <td>0.000000</td>\n",
              "      <td>0.0</td>\n",
              "      <td>0.000000</td>\n",
              "      <td>0.000000</td>\n",
              "      <td>0.000000</td>\n",
              "      <td>0.000000</td>\n",
              "      <td>0.000000</td>\n",
              "      <td>0.000000</td>\n",
              "      <td>0.000000</td>\n",
              "      <td>0.000000</td>\n",
              "      <td>0.00000</td>\n",
              "      <td>0.000000</td>\n",
              "      <td>0.0</td>\n",
              "      <td>0.000000</td>\n",
              "      <td>0.000000</td>\n",
              "      <td>0.000000</td>\n",
              "      <td>0.000000</td>\n",
              "      <td>0.0</td>\n",
              "      <td>0.000000</td>\n",
              "      <td>0.000000</td>\n",
              "      <td>0.0</td>\n",
              "      <td>0.000000</td>\n",
              "      <td>0.000000</td>\n",
              "    </tr>\n",
              "  </tbody>\n",
              "</table>\n",
              "<p>225 rows × 181 columns</p>\n",
              "</div>"
            ],
            "text/plain": [
              "SpecDesc_       Industry_Aerospace/Defense  ...  Industry_Water Utilities\n",
              "LgcyInvestorId                              ...                          \n",
              "2000264                           0.018692  ...                  0.000000\n",
              "2001934                           0.016563  ...                  0.000000\n",
              "2001935                           0.009174  ...                  0.000000\n",
              "2001989                           0.017143  ...                  0.005714\n",
              "2001999                           0.009409  ...                  0.000000\n",
              "...                                    ...  ...                       ...\n",
              "10061989                          0.000000  ...                  0.000000\n",
              "10075382                          0.000000  ...                  0.000000\n",
              "10110259                          0.000000  ...                  0.000000\n",
              "10233291                          0.000000  ...                  0.000000\n",
              "10235680                          0.000000  ...                  0.000000\n",
              "\n",
              "[225 rows x 181 columns]"
            ]
          },
          "metadata": {
            "tags": []
          },
          "execution_count": 60
        }
      ]
    },
    {
      "cell_type": "code",
      "metadata": {
        "id": "4-EFab3IdZkn"
      },
      "source": [
        "# compute distance \n",
        "invStyle_matrix = pd.DataFrame(euclidean_distances(industry_sub),index =industry_sub.index,columns=industry_sub.index)"
      ],
      "execution_count": null,
      "outputs": []
    },
    {
      "cell_type": "code",
      "metadata": {
        "id": "J5WdC2n0dZks"
      },
      "source": [
        "# invStyle_matrix.to_csv('invStyle_distance.csv')"
      ],
      "execution_count": null,
      "outputs": []
    },
    {
      "cell_type": "markdown",
      "metadata": {
        "id": "kz0JuHVZAGAl"
      },
      "source": [
        "## Feature: Number of instruments"
      ]
    },
    {
      "cell_type": "code",
      "metadata": {
        "id": "eidEoOrgAFfs"
      },
      "source": [
        "n_instruments = df_sub.groupby(['LGCYINVESTORID','HOLDDATE']).agg({'INSTRID':'count'}).reset_index()\n",
        "n_instruments_pivot = pd.pivot_table(n_instruments,index=['LGCYINVESTORID'],columns=['HOLDDATE'],values=['INSTRID']).fillna(0)"
      ],
      "execution_count": null,
      "outputs": []
    },
    {
      "cell_type": "code",
      "metadata": {
        "id": "kKAAKMae8u0X"
      },
      "source": [
        ""
      ],
      "execution_count": null,
      "outputs": []
    },
    {
      "cell_type": "code",
      "metadata": {
        "id": "z85G_dvtBEAR"
      },
      "source": [
        "n_instruments_pivot.columns = n_instruments_pivot.columns.droplevel()"
      ],
      "execution_count": null,
      "outputs": []
    },
    {
      "cell_type": "code",
      "metadata": {
        "id": "IWQl67ruBKsx"
      },
      "source": [
        "n_instruments_pivot_static = n_instruments.groupby('LGCYINVESTORID').agg({'INSTRID':'max'})"
      ],
      "execution_count": null,
      "outputs": []
    },
    {
      "cell_type": "markdown",
      "metadata": {
        "id": "FL_StYAyB40r"
      },
      "source": [
        "## Feature: Total Asset"
      ]
    },
    {
      "cell_type": "code",
      "metadata": {
        "id": "gkswREMYEZqm"
      },
      "source": [
        "\n",
        "total_asset = df_sub.groupby(['LGCYINVESTORID','HOLDDATE']).agg({'SHSHLDVAL_Sum_ByQuarter':'max'}).reset_index()\n",
        "n_instruments_pivot = pd.pivot_table(df_sub,index=['LGCYINVESTORID'],columns=['SHSHLDVAL_Sum_ByQuarter'],values=['INSTRID']).fillna(0)"
      ],
      "execution_count": null,
      "outputs": []
    },
    {
      "cell_type": "code",
      "metadata": {
        "id": "UmydxsrjE7oD"
      },
      "source": [
        "total_asset = df_sub.groupby(['LGCYINVESTORID','HOLDDATE']).agg({'SHSHLDVAL_Sum_ByQuarter':'max'}).reset_index()\n",
        "total_asset_pivot = pd.pivot_table(total_asset,index=['LGCYINVESTORID'],columns=['HOLDDATE'],values=['SHSHLDVAL_Sum_ByQuarter']).fillna(0)"
      ],
      "execution_count": null,
      "outputs": []
    },
    {
      "cell_type": "code",
      "metadata": {
        "id": "JavBmtYwQ_cz"
      },
      "source": [
        "total_asset_pivot.columns = total_asset_pivot.columns.droplevel()"
      ],
      "execution_count": null,
      "outputs": []
    },
    {
      "cell_type": "code",
      "metadata": {
        "id": "Iq-IRQ1aRRPm"
      },
      "source": [
        "total_asset_pivot_static = total_asset.groupby('LGCYINVESTORID').agg({'SHSHLDVAL_Sum_ByQuarter':'max'})"
      ],
      "execution_count": null,
      "outputs": []
    },
    {
      "cell_type": "markdown",
      "metadata": {
        "id": "_xL_U4xe1fAf"
      },
      "source": [
        "## Feature: pctportofolio with aggregated **Industry**"
      ]
    },
    {
      "cell_type": "code",
      "metadata": {
        "id": "TzlR4TYN1jAf"
      },
      "source": [
        "df_industry_raw = pd.read_csv('/content/gdrive/My Drive/capstone/full database/portfolio_with_industry.csv')"
      ],
      "execution_count": null,
      "outputs": []
    },
    {
      "cell_type": "code",
      "metadata": {
        "id": "djCErLDlXQP-"
      },
      "source": [
        "\n",
        "# df_industry_raw.loc[((df_industry_raw['LGCYINVESTORID']==2578454) & (df_industry_raw['INSTRID']==8589934707)), :]"
      ],
      "execution_count": null,
      "outputs": []
    },
    {
      "cell_type": "code",
      "metadata": {
        "id": "fwFUCZ0t3bWW"
      },
      "source": [
        "df_industry = df_industry_raw.copy()\n",
        "df_industry = df_industry[['INSTRID', 'HOLDDATE', 'EndDate', 'HierarchicalId', 'Title']]\n",
        "df_industry = df_industry.drop_duplicates()"
      ],
      "execution_count": null,
      "outputs": []
    },
    {
      "cell_type": "code",
      "metadata": {
        "id": "ic_p4VJOZRi3"
      },
      "source": [
        "df_industry['HOLDDATE'] = df_industry['HOLDDATE'].str.replace(r' 00:00:00', '')\n",
        "df_industry['EndDate'] = df_industry['EndDate'].str.replace(r' 00:00:00.000', '')\n",
        "\n",
        "# df_industry['HOLDDATE'] = pd.to_datetime(df_industry['HOLDDATE'], format='%Y-%m-%d')\n",
        "# df_industry['EndDate'] = pd.to_datetime(df_industry['EndDate'], format='%Y-%m-%d')"
      ],
      "execution_count": null,
      "outputs": []
    },
    {
      "cell_type": "code",
      "metadata": {
        "id": "PKv20IfgbbpE"
      },
      "source": [
        "df_industry['EndDate'].fillna('2020-11-11', inplace=True)"
      ],
      "execution_count": null,
      "outputs": []
    },
    {
      "cell_type": "code",
      "metadata": {
        "colab": {
          "base_uri": "https://localhost:8080/"
        },
        "id": "EUsZOs9kcFVp",
        "outputId": "a2e8f8fd-44b0-4bce-e26e-c7acf992c240"
      },
      "source": [
        "print(len(set(df_industry.loc[df_industry['EndDate'] == '2020-11-11',:].INSTRID)))\n",
        "df_industry_latest = df_industry.loc[df_industry['EndDate'] == '2020-11-11',:].dropna()\n",
        "len(set(df_industry_latest.INSTRID))"
      ],
      "execution_count": null,
      "outputs": [
        {
          "output_type": "stream",
          "text": [
            "10018\n"
          ],
          "name": "stdout"
        },
        {
          "output_type": "execute_result",
          "data": {
            "text/plain": [
              "8547"
            ]
          },
          "metadata": {
            "tags": []
          },
          "execution_count": 75
        }
      ]
    },
    {
      "cell_type": "code",
      "metadata": {
        "id": "lpgGKA5a7NTV"
      },
      "source": [
        "df_industry_latest['HierarchicalId'] = df_industry_latest['HierarchicalId'].astype(str).str[0:4]"
      ],
      "execution_count": null,
      "outputs": []
    },
    {
      "cell_type": "code",
      "metadata": {
        "colab": {
          "base_uri": "https://localhost:8080/"
        },
        "id": "g0JRpOVh8z42",
        "outputId": "e6f7a764-7286-4dcd-f24d-dcc6ab83a21d"
      },
      "source": [
        "len(set(df_industry_latest.HierarchicalId))"
      ],
      "execution_count": null,
      "outputs": [
        {
          "output_type": "execute_result",
          "data": {
            "text/plain": [
              "30"
            ]
          },
          "metadata": {
            "tags": []
          },
          "execution_count": 77
        }
      ]
    },
    {
      "cell_type": "code",
      "metadata": {
        "id": "XkqTyRYl4fut"
      },
      "source": [
        "industry_merge = pd.merge(df_sub, df_industry_latest, how='inner', on=['INSTRID', 'HOLDDATE'])[['LGCYINVESTORID','HOLDDATE','PCTPORTFOLIO_13F','HierarchicalId']]\n",
        "\n",
        "agg_industry_pivot = pd.pivot_table(industry_merge,index = ['LGCYINVESTORID', 'HOLDDATE'], columns = ['HierarchicalId'],values=['PCTPORTFOLIO_13F'],aggfunc=[np.sum],fill_value=0)\n",
        "\n",
        "ind_investor_set = set(agg_industry_pivot.index.get_level_values('LGCYINVESTORID'))\n",
        "ind_holddate_set = set(agg_industry_pivot.index.get_level_values('HOLDDATE'))"
      ],
      "execution_count": null,
      "outputs": []
    },
    {
      "cell_type": "code",
      "metadata": {
        "colab": {
          "base_uri": "https://localhost:8080/"
        },
        "id": "DLJua76opeba",
        "outputId": "889d3658-215a-49f8-9a2d-fde36c23d0bb"
      },
      "source": [
        "len(set(industry_merge['LGCYINVESTORID']))"
      ],
      "execution_count": null,
      "outputs": [
        {
          "output_type": "execute_result",
          "data": {
            "text/plain": [
              "225"
            ]
          },
          "metadata": {
            "tags": []
          },
          "execution_count": 79
        }
      ]
    },
    {
      "cell_type": "code",
      "metadata": {
        "id": "ivwEp1i9fE4p"
      },
      "source": [
        "# fill industry pct of any missing date with 0\n",
        "\n",
        "industry_id_list = [HierarchicalId for (_,_,HierarchicalId) in list(agg_industry_pivot.columns)]\n",
        "\n",
        "agg_industry_pivot.columns = industry_id_list\n",
        "agg_industry_pivot = agg_industry_pivot.reset_index()\n",
        "for inv in ind_investor_set:\n",
        "  holddates = set(agg_industry_pivot[agg_industry_pivot['LGCYINVESTORID']==inv]['HOLDDATE'].to_list())\n",
        "  if len(holddates) < len(ind_holddate_set):\n",
        "    missing_dates = holddate_set - holddates\n",
        "    for md in missing_dates:\n",
        "      agg_industry_pivot = agg_industry_pivot.append([{'LGCYINVESTORID': inv, 'HOLDDATE':md}])\n",
        "\n",
        "agg_industry_pivot = agg_industry_pivot.fillna(0)"
      ],
      "execution_count": null,
      "outputs": []
    },
    {
      "cell_type": "code",
      "metadata": {
        "id": "NRxdphVjhF3T"
      },
      "source": [
        "agg_industry_pivot = agg_industry_pivot.set_index(['LGCYINVESTORID','HOLDDATE']).stack().reset_index()\n",
        "agg_industry_pivot = agg_industry_pivot.rename(columns={agg_industry_pivot.columns[-2]:'Industry',agg_industry_pivot.columns[-1]:'PCTPORTFOLIO_13F'})\n",
        "\n",
        "agg_industry_pivot = agg_industry_pivot.pivot_table(index=['LGCYINVESTORID'],columns=['HOLDDATE', 'Industry'],values=['PCTPORTFOLIO_13F'])\n",
        "agg_industry_pivot.columns =  agg_industry_pivot.columns.droplevel()"
      ],
      "execution_count": null,
      "outputs": []
    },
    {
      "cell_type": "markdown",
      "metadata": {
        "id": "K8H7QLvihujU"
      },
      "source": [
        "## K_means"
      ]
    },
    {
      "cell_type": "code",
      "metadata": {
        "id": "KuSkWo3eDPYY"
      },
      "source": [
        "# normalize turnover_pivot\n",
        "max_turnover = turnover_pivot.max().max()\n",
        "turnover_pivot_standard = turnover_pivot/max_turnover"
      ],
      "execution_count": null,
      "outputs": []
    },
    {
      "cell_type": "code",
      "metadata": {
        "id": "GsJ25WKNRmrh"
      },
      "source": [
        "# normalize number of instruments\n",
        "max_n_instruments = n_instruments_pivot_static.max()\n",
        "# n_instruments_pivot_standard = n_instruments_pivot/max_n_instruments\n",
        "n_instruments_pivot_static_standard = n_instruments_pivot_static/max_n_instruments"
      ],
      "execution_count": null,
      "outputs": []
    },
    {
      "cell_type": "code",
      "metadata": {
        "id": "RludcKLlSFc9"
      },
      "source": [
        "# normalize total asset\n",
        "max_total_asset = total_asset_pivot.max().max()\n",
        "total_asset_pivot_standard = total_asset_pivot/max_total_asset\n",
        "total_asset_pivot_static_standard = total_asset_pivot_static/max_total_asset"
      ],
      "execution_count": null,
      "outputs": []
    },
    {
      "cell_type": "code",
      "metadata": {
        "id": "iSmn5yw6i22I"
      },
      "source": [
        "\n",
        "\n",
        "X = pd.concat([agg_mktcap_pivot,\n",
        "               agg_industry_pivot,\n",
        "               turnover_pivot_standard, \n",
        "               n_instruments_pivot_static_standard,\n",
        "               total_asset_pivot_static_standard,\n",
        "               concentration_pivot,\n",
        "               invStyle_sub], axis=1).fillna(0)\n",
        "\n",
        "\n",
        "# X = agg_mktcap_pivot\n",
        "X_sub = X\n",
        "# X_sub = X[X.index.isin(active_ls_investors.LgcyInvestorId)]\n",
        "\n",
        "# # select mutual fund\n",
        "# mutual_fund = pd.read_csv('/content/Mutual Funds.csv',header=None)\n",
        "# hedge_fund = pd.read_csv('/content/Hedge Funds.csv',header=None)\n",
        "# X_sub = X_sub[X_sub.index.isin(hedge_fund[0])]"
      ],
      "execution_count": null,
      "outputs": []
    },
    {
      "cell_type": "code",
      "metadata": {
        "id": "kn--yPpJ4bWK"
      },
      "source": [
        "# set(mutual_fund[0]) & set(hedge_fund[0])"
      ],
      "execution_count": null,
      "outputs": []
    },
    {
      "cell_type": "code",
      "metadata": {
        "id": "RFrFJguP0sQp"
      },
      "source": [
        "# standardization\n",
        "\n",
        "from sklearn import preprocessing\n",
        "# Get column names first\n",
        "names = X_sub.columns\n",
        "# Create the Scaler object\n",
        "scaler = preprocessing.StandardScaler()\n",
        "# Fit your data on the scaler object\n",
        "scaled_df = scaler.fit_transform(X_sub)\n",
        "scaled_df = pd.DataFrame(scaled_df, columns=names)"
      ],
      "execution_count": null,
      "outputs": []
    },
    {
      "cell_type": "code",
      "metadata": {
        "id": "tdMNy3dJkhy4"
      },
      "source": [
        "from sklearn.cluster import KMeans\n",
        "\n",
        "def fit_kmeans(n_components,X):\n",
        "    km = KMeans(n_components)\n",
        "    km.fit(X)\n",
        "    predictions = km.predict(X)\n",
        "    return predictions"
      ],
      "execution_count": null,
      "outputs": []
    },
    {
      "cell_type": "code",
      "metadata": {
        "id": "a0d2ZKGs_wJK"
      },
      "source": [
        "from sklearn import metrics\n",
        "from sklearn.cluster import SpectralClustering\n",
        "\n",
        "def InternalEvaluation(data, clusters):\n",
        "    scores = {}\n",
        "    \"\"\"\n",
        "    The score is bounded between -1 for incorrect clustering and +1 for highly dense clustering. \n",
        "    Scores around zero indicate overlapping clusters.\n",
        "    The score is higher when clusters are dense and well separated, which relates to a standard concept of a cluster.\n",
        "    \"\"\"\n",
        "    scores['_silhouette_score'] =metrics.silhouette_score(data,clusters ,metric='euclidean')\n",
        "    \"\"\"\n",
        "    The score is higher when clusters are dense and well separated, which relates to a standard concept of a cluster.\n",
        "    The score is fast to compute\n",
        "    \"\"\"\n",
        "    scores['_calinski_harabaz_score'] = metrics.calinski_harabasz_score(data,clusters)\n",
        "    \"\"\"\n",
        "    Zero is the lowest possible score. Values closer to zero indicate a better partition.\n",
        "    The Davies-Boulding index is generally higher for convex clusters than other concepts of clusters, \n",
        "    such as density based clusters like those obtained from DBSCAN.\n",
        "    \"\"\"\n",
        "    scores['_davies_bouldin_score'] = metrics.davies_bouldin_score(data,clusters)\n",
        "    return scores\n",
        "\n",
        "def draw_scores(scores, start_k=2):\n",
        "  score_type = list(scores[0].keys())\n",
        "  n_type = len(score_type)\n",
        "  plt.figure(figsize=(8,4))\n",
        "  for i in range(n_type):\n",
        "    sc_type = score_type[i]\n",
        "    score = [sc[sc_type] for sc in scores]\n",
        "    plt.subplot(1, n_type, i+1)\n",
        "    plt.plot(range(start_k,len(score) + start_k ), score)\n",
        "    plt.title(' '.join(sc_type.split('_')).title())\n",
        "    plt.xlabel('k')\n",
        "  plt.suptitle('Metrics for Clustering')"
      ],
      "execution_count": null,
      "outputs": []
    },
    {
      "cell_type": "code",
      "metadata": {
        "id": "VRkXNtCppiAd"
      },
      "source": [
        "from sklearn.manifold import TSNE\n",
        "from sklearn.decomposition import PCA\n",
        "\n",
        "def draw_tsne(X, predictions=None):\n",
        "    tsne = TSNE(n_components=2)\n",
        "    x = tsne.fit_transform(X)\n",
        "    if predictions is None:\n",
        "      plt.scatter(x[:,0],x[:,1])\n",
        "      plt.title('tsne visualization')\n",
        "    else:\n",
        "      plt.scatter(x[:,0],x[:,1],c=predictions)\n",
        "      plt.title('tsne visualization')\n",
        "\n",
        "def draw_pca(X,predictions):\n",
        "  pca = PCA(n_components=2)\n",
        "  x = pca.fit_transform(X)\n",
        "  plt.scatter(x[:,0],x[:,1],c=predictions)\n",
        "  plt.title('pca visualization')\n"
      ],
      "execution_count": null,
      "outputs": []
    },
    {
      "cell_type": "code",
      "metadata": {
        "id": "8_jQLZmpptf1"
      },
      "source": [
        "def modeling(X):\n",
        "  scores = []\n",
        "  for k in range(2, 10):\n",
        "    predictions = fit_kmeans(k,X)\n",
        "    score = InternalEvaluation(X, predictions)\n",
        "    scores.append(score)\n",
        "  plt.figure(1)\n",
        "  draw_scores(scores)\n",
        "  plt.figure(2)\n",
        "  # draw_tsne(X)"
      ],
      "execution_count": null,
      "outputs": []
    },
    {
      "cell_type": "markdown",
      "metadata": {
        "id": "9O9ivJXt7Q6T"
      },
      "source": [
        "### original X_sub"
      ]
    },
    {
      "cell_type": "code",
      "metadata": {
        "id": "G33a8tdl4xt4"
      },
      "source": [
        "# compute the distance\n",
        "\n",
        "from sklearn.metrics.pairwise import euclidean_distances\n",
        "\n",
        "distance = pd.DataFrame(euclidean_distances(X_sub), index = X_sub.index, columns = X_sub.index)\n",
        "result = distance.loc[int(vanguard_id),:].argsort()\n",
        "ordered = pd.DataFrame(distance.loc[int(vanguard_id),:].iloc[result])\n",
        "\n",
        "ordered_all = ordered\n",
        "ordered_all.columns = ['all']"
      ],
      "execution_count": null,
      "outputs": []
    },
    {
      "cell_type": "code",
      "metadata": {
        "id": "xuJPTGg-pvtI"
      },
      "source": [
        "i = 0\n",
        "for df in [agg_mktcap_pivot,\n",
        "               agg_industry_pivot,\n",
        "               turnover_pivot_standard, \n",
        "               n_instruments_pivot_static_standard,\n",
        "               total_asset_pivot_static_standard,\n",
        "               concentration_pivot,\n",
        "               invStyle_sub]:\n",
        "  i += 1\n",
        "  distance = pd.DataFrame(euclidean_distances(df), index = df.index, columns = df.index)\n",
        "  result = distance.loc[int(vanguard_id),:].argsort()\n",
        "  ordered = pd.DataFrame(distance.loc[int(vanguard_id),:].iloc[result])\n",
        "  ordered_all[i] = ordered"
      ],
      "execution_count": null,
      "outputs": []
    },
    {
      "cell_type": "code",
      "metadata": {
        "id": "_2sMbyol5Z1t"
      },
      "source": [
        "ordered_all.columns = ['all', \n",
        "                       'agg_by_mktcap',\n",
        "                       'agg_by_industry', \n",
        "                       'turnover', \n",
        "                       'n_intruments',\n",
        "                       'total_asset',\n",
        "                       'concentration',\n",
        "                       'invStyle']\n",
        "ordered_all['Fullname'] = investor_name['FULLNAME']                       \n",
        "ordered_all.to_csv('distance_to_vangard.csv')"
      ],
      "execution_count": null,
      "outputs": []
    },
    {
      "cell_type": "code",
      "metadata": {
        "colab": {
          "base_uri": "https://localhost:8080/",
          "height": 325
        },
        "id": "VcOQnN5w7UNP",
        "outputId": "77cfef76-0d3a-4e38-81b3-bc39425d94ec"
      },
      "source": [
        "# modeling \n",
        "X_result = investor_name[investor_name.index.isin(ls_investors)]\n",
        "\n",
        "\n",
        "modeling(X_sub)"
      ],
      "execution_count": null,
      "outputs": [
        {
          "output_type": "display_data",
          "data": {
            "text/plain": [
              "<Figure size 432x288 with 0 Axes>"
            ]
          },
          "metadata": {
            "tags": []
          }
        },
        {
          "output_type": "display_data",
          "data": {
            "image/png": "[encoded data removed]",
            "text/plain": [
              "<Figure size 576x288 with 3 Axes>"
            ]
          },
          "metadata": {
            "tags": [],
            "needs_background": "light"
          }
        }
      ]
    },
    {
      "cell_type": "code",
      "metadata": {
        "id": "_EXhSZNxjx8t"
      },
      "source": [
        "df_result_report = pd.read_csv('/content/result_with_features (1).csv', index_col=0)"
      ],
      "execution_count": null,
      "outputs": []
    },
    {
      "cell_type": "code",
      "metadata": {
        "id": "Lj7Em5Wxj8yH"
      },
      "source": [
        "predictions = df_result_report['kmeans_2']"
      ],
      "execution_count": null,
      "outputs": []
    },
    {
      "cell_type": "code",
      "metadata": {
        "colab": {
          "base_uri": "https://localhost:8080/",
          "height": 281
        },
        "id": "H80fQy7DkRaQ",
        "outputId": "ed24cad1-e19f-4ac3-8492-118f884967ef"
      },
      "source": [
        "draw_pca(X_sub, predictions)"
      ],
      "execution_count": null,
      "outputs": [
        {
          "output_type": "display_data",
          "data": {
            "image/png": "[encoded data removed]",
            "text/plain": [
              "<Figure size 432x288 with 1 Axes>"
            ]
          },
          "metadata": {
            "tags": [],
            "needs_background": "light"
          }
        }
      ]
    },
    {
      "cell_type": "code",
      "metadata": {
        "colab": {
          "base_uri": "https://localhost:8080/",
          "height": 281
        },
        "id": "BFj5UGWxkn8a",
        "outputId": "7056b9a7-1bec-4e98-d891-40fab26668ca"
      },
      "source": [
        "draw_tsne(X_sub,predictions)"
      ],
      "execution_count": null,
      "outputs": [
        {
          "output_type": "display_data",
          "data": {
            "image/png": "[encoded data removed]",
            "text/plain": [
              "<Figure size 432x288 with 1 Axes>"
            ]
          },
          "metadata": {
            "tags": [],
            "needs_background": "light"
          }
        }
      ]
    },
    {
      "cell_type": "code",
      "metadata": {
        "colab": {
          "base_uri": "https://localhost:8080/",
          "height": 281
        },
        "id": "FaOXh-987W9a",
        "outputId": "d74c63f4-f24e-45e9-c9f0-371a92ab4cac"
      },
      "source": [
        "predictions = fit_kmeans(2,X_sub)\n",
        "draw_tsne(X_sub,predictions)"
      ],
      "execution_count": null,
      "outputs": [
        {
          "output_type": "display_data",
          "data": {
            "image/png": "[encoded data removed]",
            "text/plain": [
              "<Figure size 432x288 with 1 Axes>"
            ]
          },
          "metadata": {
            "tags": [],
            "needs_background": "light"
          }
        }
      ]
    },
    {
      "cell_type": "code",
      "metadata": {
        "colab": {
          "base_uri": "https://localhost:8080/",
          "height": 298
        },
        "id": "-jSvqtUDi_Xm",
        "outputId": "c0087a07-c120-426b-ca98-6fdc2d4e4c53"
      },
      "source": [
        "p = 40\n",
        "tsne = TSNE(n_components=2,perplexity = p)\n",
        "x = tsne.fit_transform(X_sub)\n",
        "\n",
        "plt.scatter(x[:,0],x[:,1],c=predictions)\n",
        "plt.title('tsne visualization')"
      ],
      "execution_count": null,
      "outputs": [
        {
          "output_type": "execute_result",
          "data": {
            "text/plain": [
              "Text(0.5, 1.0, 'tsne visualization')"
            ]
          },
          "metadata": {
            "tags": []
          },
          "execution_count": 204
        },
        {
          "output_type": "display_data",
          "data": {
            "image/png": "[encoded data removed]",
            "text/plain": [
              "<Figure size 432x288 with 1 Axes>"
            ]
          },
          "metadata": {
            "tags": [],
            "needs_background": "light"
          }
        }
      ]
    },
    {
      "cell_type": "code",
      "metadata": {
        "colab": {
          "base_uri": "https://localhost:8080/",
          "height": 281
        },
        "id": "2mrROO9rB3g6",
        "outputId": "9303a069-231b-4c11-8593-98c8c6c77fb6"
      },
      "source": [
        "predictions = fit_kmeans(2,X_sub)\n",
        "draw_pca(X_sub,predictions)"
      ],
      "execution_count": null,
      "outputs": [
        {
          "output_type": "display_data",
          "data": {
            "image/png": "[encoded data removed]",
            "text/plain": [
              "<Figure size 432x288 with 1 Axes>"
            ]
          },
          "metadata": {
            "tags": [],
            "needs_background": "light"
          }
        }
      ]
    },
    {
      "cell_type": "code",
      "metadata": {
        "colab": {
          "base_uri": "https://localhost:8080/"
        },
        "id": "OpfXIn2Y3NEL",
        "outputId": "19e67952-2ff4-4654-8f32-636c8481d3e5"
      },
      "source": [
        "X_result['kmeans_2'] = pd.DataFrame(predictions, index = X_sub.index)"
      ],
      "execution_count": null,
      "outputs": [
        {
          "output_type": "stream",
          "text": [
            "/usr/local/lib/python3.6/dist-packages/ipykernel_launcher.py:1: SettingWithCopyWarning: \n",
            "A value is trying to be set on a copy of a slice from a DataFrame.\n",
            "Try using .loc[row_indexer,col_indexer] = value instead\n",
            "\n",
            "See the caveats in the documentation: https://pandas.pydata.org/pandas-docs/stable/user_guide/indexing.html#returning-a-view-versus-a-copy\n",
            "  \"\"\"Entry point for launching an IPython kernel.\n"
          ],
          "name": "stderr"
        }
      ]
    },
    {
      "cell_type": "code",
      "metadata": {
        "id": "TpreDqiTEGi4"
      },
      "source": [
        "X_result.to_csv('result.csv')"
      ],
      "execution_count": null,
      "outputs": []
    },
    {
      "cell_type": "code",
      "metadata": {
        "colab": {
          "base_uri": "https://localhost:8080/"
        },
        "id": "9WXgWrk0-sBN",
        "outputId": "3fc91167-fcc2-43fd-a54b-d2648f8dcff6"
      },
      "source": [
        "X_result.loc[2004260]"
      ],
      "execution_count": null,
      "outputs": [
        {
          "output_type": "execute_result",
          "data": {
            "text/plain": [
              "FULLNAME    The Vanguard Group, Inc.\n",
              "kmeans_2                           0\n",
              "Name: 2004260, dtype: object"
            ]
          },
          "metadata": {
            "tags": []
          },
          "execution_count": 100
        }
      ]
    },
    {
      "cell_type": "code",
      "metadata": {
        "colab": {
          "base_uri": "https://localhost:8080/"
        },
        "id": "54KRGlYN-4Uf",
        "outputId": "06712286-978b-4ba7-e7ba-f3e331fedcec"
      },
      "source": [
        "X_result.loc[2502059]"
      ],
      "execution_count": null,
      "outputs": [
        {
          "output_type": "execute_result",
          "data": {
            "text/plain": [
              "FULLNAME    MKP Capital Management, L.L.C.\n",
              "kmeans_2                                 0\n",
              "Name: 2502059, dtype: object"
            ]
          },
          "metadata": {
            "tags": []
          },
          "execution_count": 101
        }
      ]
    },
    {
      "cell_type": "code",
      "metadata": {
        "id": "l4hdOvNnoEgt"
      },
      "source": [
        "# company_name = pd.read_csv('company_name.csv')\n",
        "# company_name = company_name.set_index('LGCYINVESTORID')\n",
        "# X_result['FULLNAME'] = company_name"
      ],
      "execution_count": null,
      "outputs": []
    },
    {
      "cell_type": "code",
      "metadata": {
        "id": "L4FUUHcjpKKz"
      },
      "source": [
        "pd.concat([X_result,X_sub],axis=1).to_csv('result_with_features.csv')"
      ],
      "execution_count": null,
      "outputs": []
    },
    {
      "cell_type": "markdown",
      "metadata": {
        "id": "LS9KSht8FiFH"
      },
      "source": [
        "### static time"
      ]
    },
    {
      "cell_type": "code",
      "metadata": {
        "colab": {
          "base_uri": "https://localhost:8080/"
        },
        "id": "yIqHJrEzhfI8",
        "outputId": "0449c657-1125-4704-be16-5a0cdfb2a302"
      },
      "source": [
        "concentration_pivot.columns"
      ],
      "execution_count": null,
      "outputs": [
        {
          "output_type": "execute_result",
          "data": {
            "text/plain": [
              "Index(['2016-06-30', '2016-09-30', '2016-12-31', '2017-03-31', '2017-06-30',\n",
              "       '2017-09-30', '2017-12-31', '2018-03-31', '2018-06-30', '2018-09-30',\n",
              "       '2018-12-31', '2019-03-31', '2019-06-30', '2019-09-30', '2019-12-31',\n",
              "       '2020-03-31', '2020-06-30'],\n",
              "      dtype='object', name='HOLDDATE')"
            ]
          },
          "metadata": {
            "tags": []
          },
          "execution_count": 104
        }
      ]
    },
    {
      "cell_type": "code",
      "metadata": {
        "id": "tVJYISdJFmu1"
      },
      "source": [
        "time = '2020-06-30'\n",
        "X_static = pd.concat([agg_mktcap_pivot[time],\n",
        "               agg_industry_pivot[time],\n",
        "               turnover_pivot_standard[time], \n",
        "               n_instruments_pivot_static_standard,\n",
        "               total_asset_pivot_static_standard,\n",
        "               concentration_pivot[time],\n",
        "               invStyle_sub['InvStyle_Emerging Markets']], axis=1).fillna(0)\n",
        "\n"
      ],
      "execution_count": null,
      "outputs": []
    },
    {
      "cell_type": "code",
      "metadata": {
        "id": "47AyDLYjhcdw"
      },
      "source": [
        ""
      ],
      "execution_count": null,
      "outputs": []
    },
    {
      "cell_type": "code",
      "metadata": {
        "colab": {
          "base_uri": "https://localhost:8080/",
          "height": 325
        },
        "id": "V0RkecapFyz3",
        "outputId": "0e79ab1e-5b7f-43b6-beb6-4b4500e4d2f6"
      },
      "source": [
        "modeling(pd.DataFrame(invStyle_sub['InvStyle_Emerging Markets']))"
      ],
      "execution_count": null,
      "outputs": [
        {
          "output_type": "display_data",
          "data": {
            "text/plain": [
              "<Figure size 432x288 with 0 Axes>"
            ]
          },
          "metadata": {
            "tags": []
          }
        },
        {
          "output_type": "display_data",
          "data": {
            "image/png": "[encoded data removed]",
            "text/plain": [
              "<Figure size 576x288 with 3 Axes>"
            ]
          },
          "metadata": {
            "tags": [],
            "needs_background": "light"
          }
        }
      ]
    },
    {
      "cell_type": "code",
      "metadata": {
        "colab": {
          "base_uri": "https://localhost:8080/",
          "height": 281
        },
        "id": "ZCmYIyplF2Ag",
        "outputId": "0020c655-906f-4816-ae74-66222f50c8c0"
      },
      "source": [
        "predictions = fit_kmeans(3,X_static)\n",
        "draw_pca(X_static,predictions)"
      ],
      "execution_count": null,
      "outputs": [
        {
          "output_type": "display_data",
          "data": {
            "image/png": "[encoded data removed]",
            "text/plain": [
              "<Figure size 432x288 with 1 Axes>"
            ]
          },
          "metadata": {
            "tags": [],
            "needs_background": "light"
          }
        }
      ]
    },
    {
      "cell_type": "code",
      "metadata": {
        "colab": {
          "base_uri": "https://localhost:8080/"
        },
        "id": "nVRky6ZSGISr",
        "outputId": "2bdddeac-33cd-4f49-d35a-3b6cc23d14a8"
      },
      "source": [
        "X_result['kmeans_2_static_2020Q2'] = 1- pd.DataFrame(predictions, index = X_sub.index)"
      ],
      "execution_count": null,
      "outputs": [
        {
          "output_type": "stream",
          "text": [
            "/usr/local/lib/python3.6/dist-packages/ipykernel_launcher.py:1: SettingWithCopyWarning: \n",
            "A value is trying to be set on a copy of a slice from a DataFrame.\n",
            "Try using .loc[row_indexer,col_indexer] = value instead\n",
            "\n",
            "See the caveats in the documentation: https://pandas.pydata.org/pandas-docs/stable/user_guide/indexing.html#returning-a-view-versus-a-copy\n",
            "  \"\"\"Entry point for launching an IPython kernel.\n"
          ],
          "name": "stderr"
        }
      ]
    },
    {
      "cell_type": "code",
      "metadata": {
        "id": "kSXuxdM2GMpP"
      },
      "source": [
        "X_result.to_csv('kmeans_result.csv')"
      ],
      "execution_count": null,
      "outputs": []
    },
    {
      "cell_type": "markdown",
      "metadata": {
        "id": "tbb8P0mw7wDj"
      },
      "source": [
        "### standization normalize"
      ]
    },
    {
      "cell_type": "code",
      "metadata": {
        "colab": {
          "base_uri": "https://localhost:8080/",
          "height": 325
        },
        "id": "sauFFhcF7_Bd",
        "outputId": "4e7d975b-7305-4c47-81ad-a953721d6184"
      },
      "source": [
        "modeling(scaled_df)"
      ],
      "execution_count": null,
      "outputs": [
        {
          "output_type": "display_data",
          "data": {
            "text/plain": [
              "<Figure size 432x288 with 0 Axes>"
            ]
          },
          "metadata": {
            "tags": []
          }
        },
        {
          "output_type": "display_data",
          "data": {
            "image/png": "[encoded data removed]",
            "text/plain": [
              "<Figure size 576x288 with 3 Axes>"
            ]
          },
          "metadata": {
            "tags": [],
            "needs_background": "light"
          }
        }
      ]
    },
    {
      "cell_type": "code",
      "metadata": {
        "colab": {
          "base_uri": "https://localhost:8080/",
          "height": 281
        },
        "id": "4IrIWbZQ8L4F",
        "outputId": "d4d82d16-bb49-4699-b583-8c2881381451"
      },
      "source": [
        "predictions = fit_kmeans(4,scaled_df)\n",
        "draw_tsne(scaled_df,predictions)"
      ],
      "execution_count": null,
      "outputs": [
        {
          "output_type": "display_data",
          "data": {
            "image/png": "[encoded data removed]",
            "text/plain": [
              "<Figure size 432x288 with 1 Axes>"
            ]
          },
          "metadata": {
            "tags": [],
            "needs_background": "light"
          }
        }
      ]
    },
    {
      "cell_type": "markdown",
      "metadata": {
        "id": "6X5Hdfnk8fmR"
      },
      "source": [
        "### PCA with original"
      ]
    },
    {
      "cell_type": "code",
      "metadata": {
        "id": "mBmiLVS9wIqc"
      },
      "source": [
        "from sklearn.decomposition import PCA\n",
        "pca = PCA(n_components = 20)\n",
        "X_pca = pca.fit_transform(X_sub)"
      ],
      "execution_count": null,
      "outputs": []
    },
    {
      "cell_type": "code",
      "metadata": {
        "colab": {
          "base_uri": "https://localhost:8080/"
        },
        "id": "f-9wBk758onU",
        "outputId": "02085e46-8b3d-4c7b-fd8b-cc5cf664bb40"
      },
      "source": [
        "sum(pca.explained_variance_ratio_)"
      ],
      "execution_count": null,
      "outputs": [
        {
          "output_type": "execute_result",
          "data": {
            "text/plain": [
              "0.8077246974184609"
            ]
          },
          "metadata": {
            "tags": []
          },
          "execution_count": 113
        }
      ]
    },
    {
      "cell_type": "code",
      "metadata": {
        "colab": {
          "base_uri": "https://localhost:8080/"
        },
        "id": "r3jUOKzdgBuB",
        "outputId": "c68fbeab-1434-426d-d512-cccbd845ffbc"
      },
      "source": [
        "sum(pca.explained_variance_ratio_[:2])"
      ],
      "execution_count": null,
      "outputs": [
        {
          "output_type": "execute_result",
          "data": {
            "text/plain": [
              "0.37616975228670363"
            ]
          },
          "metadata": {
            "tags": []
          },
          "execution_count": 141
        }
      ]
    },
    {
      "cell_type": "code",
      "metadata": {
        "colab": {
          "base_uri": "https://localhost:8080/"
        },
        "id": "0GFWbU-ChlYf",
        "outputId": "027f9603-dc7b-4d46-92eb-1b969e48b1e8"
      },
      "source": [
        "pca.components_[0][abs(pca.components_[0]).argsort()[-10:]]"
      ],
      "execution_count": null,
      "outputs": [
        {
          "output_type": "execute_result",
          "data": {
            "text/plain": [
              "array([-0.14308381, -0.14674326, -0.15557349, -0.15579048, -0.17201342,\n",
              "       -0.17537782, -0.17653887, -0.1815138 , -0.18689925, -0.19254703])"
            ]
          },
          "metadata": {
            "tags": []
          },
          "execution_count": 143
        }
      ]
    },
    {
      "cell_type": "code",
      "metadata": {
        "colab": {
          "base_uri": "https://localhost:8080/"
        },
        "id": "FSCKJUpy_e_r",
        "outputId": "51261f2c-e203-4fb2-8a79-87454ec50f7f"
      },
      "source": [
        "names[abs(pca.components_[0]).argsort()[-10:]]"
      ],
      "execution_count": null,
      "outputs": [
        {
          "output_type": "execute_result",
          "data": {
            "text/plain": [
              "Index([('2018-09-30', 'PctLargeCap'), ('2018-06-30', 'PctLargeCap'),\n",
              "       ('2017-12-31', 'PctLargeCap'), ('2018-03-31', 'PctLargeCap'),\n",
              "       ('2017-09-30', 'PctLargeCap'), ('2017-03-31', 'PctLargeCap'),\n",
              "       ('2017-06-30', 'PctLargeCap'), ('2016-12-31', 'PctLargeCap'),\n",
              "       ('2016-09-30', 'PctLargeCap'), ('2016-06-30', 'PctLargeCap')],\n",
              "      dtype='object')"
            ]
          },
          "metadata": {
            "tags": []
          },
          "execution_count": 114
        }
      ]
    },
    {
      "cell_type": "code",
      "metadata": {
        "colab": {
          "base_uri": "https://localhost:8080/"
        },
        "id": "Nnc13DwHCB5Q",
        "outputId": "1a6750d7-fe32-4223-eaaa-d3294ac8ad23"
      },
      "source": [
        "abs(pca.components_[1]).argsort()[-10:]"
      ],
      "execution_count": null,
      "outputs": [
        {
          "output_type": "execute_result",
          "data": {
            "text/plain": [
              "array([636, 638, 639, 637, 634, 633, 632, 635, 630, 631])"
            ]
          },
          "metadata": {
            "tags": []
          },
          "execution_count": 115
        }
      ]
    },
    {
      "cell_type": "code",
      "metadata": {
        "colab": {
          "base_uri": "https://localhost:8080/",
          "height": 35
        },
        "id": "jlITO63GCC7-",
        "outputId": "92797481-61f0-4ff3-e038-e469f3d37409"
      },
      "source": [
        "names[647]"
      ],
      "execution_count": null,
      "outputs": [
        {
          "output_type": "execute_result",
          "data": {
            "application/vnd.google.colaboratory.intrinsic+json": {
              "type": "string"
            },
            "text/plain": [
              "'InvStyle_Aggres. Gr.'"
            ]
          },
          "metadata": {
            "tags": []
          },
          "execution_count": 116
        }
      ]
    },
    {
      "cell_type": "code",
      "metadata": {
        "colab": {
          "base_uri": "https://localhost:8080/"
        },
        "id": "T8tQJiK3zFXT",
        "outputId": "f381bf3d-574f-4866-a167-2a3aaaaa2861"
      },
      "source": [
        "# concentration_pivot\n",
        "names[abs(pca.components_[1]).argsort()[-10:]]"
      ],
      "execution_count": null,
      "outputs": [
        {
          "output_type": "execute_result",
          "data": {
            "text/plain": [
              "Index(['2017-12-31', '2018-06-30', '2018-09-30', '2018-03-31', '2017-06-30',\n",
              "       '2017-03-31', '2016-12-31', '2017-09-30', '2016-06-30', '2016-09-30'],\n",
              "      dtype='object')"
            ]
          },
          "metadata": {
            "tags": []
          },
          "execution_count": 117
        }
      ]
    },
    {
      "cell_type": "code",
      "metadata": {
        "colab": {
          "base_uri": "https://localhost:8080/"
        },
        "id": "mPcD3fD-CUxm",
        "outputId": "093043c6-6739-42f0-9af7-78cd28366260"
      },
      "source": [
        "abs(pca.components_[2]).argsort()[-10:]"
      ],
      "execution_count": null,
      "outputs": [
        {
          "output_type": "execute_result",
          "data": {
            "text/plain": [
              "array([646,  28, 645,  22,  46,  58,  52,  34,  40, 650])"
            ]
          },
          "metadata": {
            "tags": []
          },
          "execution_count": 118
        }
      ]
    },
    {
      "cell_type": "code",
      "metadata": {
        "colab": {
          "base_uri": "https://localhost:8080/"
        },
        "id": "cjt9XhHHzMuX",
        "outputId": "ae1c68bb-c6a9-40c9-94cb-fbe4aeb53cc7"
      },
      "source": [
        "# concentration & large cap\n",
        "names[abs(pca.components_[2]).argsort()[-10:]]"
      ],
      "execution_count": null,
      "outputs": [
        {
          "output_type": "execute_result",
          "data": {
            "text/plain": [
              "Index([                 '2020-06-30', ('2017-06-30', 'PctLargeCap'),\n",
              "                        '2020-03-31', ('2017-03-31', 'PctLargeCap'),\n",
              "       ('2018-03-31', 'PctLargeCap'), ('2018-09-30', 'PctLargeCap'),\n",
              "       ('2018-06-30', 'PctLargeCap'), ('2017-09-30', 'PctLargeCap'),\n",
              "       ('2017-12-31', 'PctLargeCap'),   'InvStyle_Emerging Markets'],\n",
              "      dtype='object')"
            ]
          },
          "metadata": {
            "tags": []
          },
          "execution_count": 119
        }
      ]
    },
    {
      "cell_type": "code",
      "metadata": {
        "colab": {
          "base_uri": "https://localhost:8080/"
        },
        "id": "racs-7hcgiZa",
        "outputId": "c2c1e115-c65f-4aea-8bb9-79ebc82be87c"
      },
      "source": [
        "# \n",
        "names[abs(pca.components_[3]).argsort()[-10:]]"
      ],
      "execution_count": null,
      "outputs": [
        {
          "output_type": "execute_result",
          "data": {
            "text/plain": [
              "Index([       ('2017-12-31', '5510'),        ('2019-09-30', '5510'),\n",
              "              ('2019-12-31', '5510'),        ('2020-03-31', '5510'),\n",
              "       ('2019-06-30', 'PctLargeCap'), ('2020-03-31', 'PctLargeCap'),\n",
              "       ('2019-03-31', 'PctLargeCap'), ('2020-06-30', 'PctLargeCap'),\n",
              "       ('2019-09-30', 'PctLargeCap'), ('2019-12-31', 'PctLargeCap')],\n",
              "      dtype='object')"
            ]
          },
          "metadata": {
            "tags": []
          },
          "execution_count": 142
        }
      ]
    },
    {
      "cell_type": "markdown",
      "metadata": {
        "id": "TuQR-0O8AFn9"
      },
      "source": [
        "Max: \\\\\n",
        "'5420' stands for industry: Personal and household products and services \\\\\n",
        "'5430' stands for industry: Food and drug retailing 4294952880 5430\n",
        "\n",
        "Min: \\\\\n",
        "'5220' stands for industry: Industrial and commercial services \\\\"
      ]
    },
    {
      "cell_type": "code",
      "metadata": {
        "colab": {
          "base_uri": "https://localhost:8080/"
        },
        "id": "8wVsRoHWAV96",
        "outputId": "2ff5a244-9e9d-483f-a113-63c28023377d"
      },
      "source": [
        "abs(pca.components_[1]).argsort()[-10:]"
      ],
      "execution_count": null,
      "outputs": [
        {
          "output_type": "execute_result",
          "data": {
            "text/plain": [
              "array([636, 638, 639, 637, 634, 633, 632, 635, 630, 631])"
            ]
          },
          "metadata": {
            "tags": []
          },
          "execution_count": 120
        }
      ]
    },
    {
      "cell_type": "code",
      "metadata": {
        "colab": {
          "base_uri": "https://localhost:8080/"
        },
        "id": "HFoP3OKdAduN",
        "outputId": "d14dd9a9-3213-4753-a2ea-83309945c00b"
      },
      "source": [
        "names[abs(pca.components_[1]).argsort()[-10:]]"
      ],
      "execution_count": null,
      "outputs": [
        {
          "output_type": "execute_result",
          "data": {
            "text/plain": [
              "Index(['2017-12-31', '2018-06-30', '2018-09-30', '2018-03-31', '2017-06-30',\n",
              "       '2017-03-31', '2016-12-31', '2017-09-30', '2016-06-30', '2016-09-30'],\n",
              "      dtype='object')"
            ]
          },
          "metadata": {
            "tags": []
          },
          "execution_count": 121
        }
      ]
    },
    {
      "cell_type": "markdown",
      "metadata": {
        "id": "BI5vAMc0CKVX"
      },
      "source": [
        "Most important: \\\\\n",
        "'5420' stands for industry: Personal and household products and services \\\\\n",
        "'5220' stands for industry: Industrial and commercial services \\\\"
      ]
    },
    {
      "cell_type": "code",
      "metadata": {
        "colab": {
          "base_uri": "https://localhost:8080/",
          "height": 325
        },
        "id": "xKA2wPQ_3fxk",
        "outputId": "53c32c53-b875-4734-eed7-bae6423eceb6"
      },
      "source": [
        "modeling(X_pca)"
      ],
      "execution_count": null,
      "outputs": [
        {
          "output_type": "display_data",
          "data": {
            "text/plain": [
              "<Figure size 432x288 with 0 Axes>"
            ]
          },
          "metadata": {
            "tags": []
          }
        },
        {
          "output_type": "display_data",
          "data": {
            "image/png": "[encoded data removed]",
            "text/plain": [
              "<Figure size 576x288 with 3 Axes>"
            ]
          },
          "metadata": {
            "tags": [],
            "needs_background": "light"
          }
        }
      ]
    },
    {
      "cell_type": "code",
      "metadata": {
        "colab": {
          "base_uri": "https://localhost:8080/",
          "height": 281
        },
        "id": "UJegSlCF37k7",
        "outputId": "f14c7a96-fdf3-4a98-a114-81c85cd93cd8"
      },
      "source": [
        "predictions = fit_kmeans(2,X_pca)\n",
        "draw_tsne(X_pca,predictions)"
      ],
      "execution_count": null,
      "outputs": [
        {
          "output_type": "display_data",
          "data": {
            "image/png": "[encoded data removed]",
            "text/plain": [
              "<Figure size 432x288 with 1 Axes>"
            ]
          },
          "metadata": {
            "tags": [],
            "needs_background": "light"
          }
        }
      ]
    },
    {
      "cell_type": "code",
      "metadata": {
        "colab": {
          "base_uri": "https://localhost:8080/",
          "height": 281
        },
        "id": "giI_cc_kh2IF",
        "outputId": "19caf8e8-e5d8-46f1-d44f-c62b6ad92216"
      },
      "source": [
        "draw_pca(X_pca,predictions)"
      ],
      "execution_count": null,
      "outputs": [
        {
          "output_type": "display_data",
          "data": {
            "image/png": "[encoded data removed]",
            "text/plain": [
              "<Figure size 432x288 with 1 Axes>"
            ]
          },
          "metadata": {
            "tags": [],
            "needs_background": "light"
          }
        }
      ]
    },
    {
      "cell_type": "code",
      "metadata": {
        "id": "G-nsGmOmqnby"
      },
      "source": [
        "X_result.to_csv('results.csv')"
      ],
      "execution_count": null,
      "outputs": []
    },
    {
      "cell_type": "code",
      "metadata": {
        "id": "Rih8fiEf-3os"
      },
      "source": [
        "# [agg_mktcap_pivot,\n",
        "#                agg_industry_pivot,\n",
        "#                turnover_pivot_standard, \n",
        "#                n_instruments_pivot_static_standard,\n",
        "#                total_asset_pivot_static_standard,\n",
        "#                concentration_pivot,\n",
        "#                invStyle_sub]\n"
      ],
      "execution_count": null,
      "outputs": []
    },
    {
      "cell_type": "markdown",
      "metadata": {
        "id": "p9TmPTkUBNSi"
      },
      "source": [
        "### other model"
      ]
    },
    {
      "cell_type": "code",
      "metadata": {
        "colab": {
          "base_uri": "https://localhost:8080/",
          "height": 325
        },
        "id": "NP2WQDdazoDM",
        "outputId": "891a5c0b-cc52-4276-c71a-0b05cb7c17f0"
      },
      "source": [
        "from sklearn.mixture import GaussianMixture\n",
        "from sklearn.cluster import *\n",
        "\n",
        "scores = []\n",
        "for n_components in range(2, 10):\n",
        "  GMM = GaussianMixture(n_components)\n",
        "  GMM.fit(X_sub)\n",
        "  predictions = GMM.predict(X_sub)\n",
        "  score = InternalEvaluation(X_sub, predictions)\n",
        "  scores.append(score)\n",
        "plt.figure(1)\n",
        "draw_scores(scores)\n"
      ],
      "execution_count": null,
      "outputs": [
        {
          "output_type": "display_data",
          "data": {
            "text/plain": [
              "<Figure size 432x288 with 0 Axes>"
            ]
          },
          "metadata": {
            "tags": []
          }
        },
        {
          "output_type": "display_data",
          "data": {
            "image/png": "[encoded data removed]",
            "text/plain": [
              "<Figure size 576x288 with 3 Axes>"
            ]
          },
          "metadata": {
            "tags": [],
            "needs_background": "light"
          }
        }
      ]
    },
    {
      "cell_type": "code",
      "metadata": {
        "colab": {
          "base_uri": "https://localhost:8080/",
          "height": 281
        },
        "id": "Kd3O-s4ibvwO",
        "outputId": "1c22c6fe-a1e6-4022-d108-7aadde149831"
      },
      "source": [
        "GMM = GaussianMixture(2)\n",
        "GMM.fit(X_sub)\n",
        "predictions = GMM.predict(X_sub)\n",
        "draw_pca(X_sub,predictions)"
      ],
      "execution_count": null,
      "outputs": [
        {
          "output_type": "display_data",
          "data": {
            "image/png": "[encoded data removed]",
            "text/plain": [
              "<Figure size 432x288 with 1 Axes>"
            ]
          },
          "metadata": {
            "tags": [],
            "needs_background": "light"
          }
        }
      ]
    },
    {
      "cell_type": "code",
      "metadata": {
        "colab": {
          "base_uri": "https://localhost:8080/",
          "height": 325
        },
        "id": "hFx3Qq0hbq3A",
        "outputId": "f307a923-3004-4866-d1a9-783c323233d0"
      },
      "source": [
        "\n",
        "scores = []\n",
        "for n_components in range(2, 10):\n",
        "  clustering = AffinityPropagation()\n",
        "  clustering.fit(X_sub)\n",
        "  predictions = clustering.labels_\n",
        "  score = InternalEvaluation(X_sub, predictions)\n",
        "  scores.append(score)\n",
        "plt.figure(1)\n",
        "draw_scores(scores)"
      ],
      "execution_count": null,
      "outputs": [
        {
          "output_type": "display_data",
          "data": {
            "text/plain": [
              "<Figure size 432x288 with 0 Axes>"
            ]
          },
          "metadata": {
            "tags": []
          }
        },
        {
          "output_type": "display_data",
          "data": {
            "image/png": "[encoded data removed]",
            "text/plain": [
              "<Figure size 576x288 with 3 Axes>"
            ]
          },
          "metadata": {
            "tags": [],
            "needs_background": "light"
          }
        }
      ]
    },
    {
      "cell_type": "code",
      "metadata": {
        "colab": {
          "base_uri": "https://localhost:8080/",
          "height": 281
        },
        "id": "K0HF3WPAg-8Q",
        "outputId": "e5ce1ec2-c863-4a10-e011-2b170c6a65b2"
      },
      "source": [
        "clustering = AffinityPropagation()\n",
        "clustering.fit(X_sub)\n",
        "predictions = clustering.labels_\n",
        "draw_pca(X_sub,predictions)"
      ],
      "execution_count": null,
      "outputs": [
        {
          "output_type": "display_data",
          "data": {
            "image/png": "[encoded data removed]",
            "text/plain": [
              "<Figure size 432x288 with 1 Axes>"
            ]
          },
          "metadata": {
            "tags": [],
            "needs_background": "light"
          }
        }
      ]
    },
    {
      "cell_type": "code",
      "metadata": {
        "colab": {
          "base_uri": "https://localhost:8080/",
          "height": 325
        },
        "id": "oh94TYRWkz-B",
        "outputId": "61698310-560a-4748-e539-bdb6e2be1506"
      },
      "source": [
        "\n",
        "scores = []\n",
        "for n_components in range(2, 10):\n",
        "  clustering = SpectralClustering(n_components)\n",
        "  clustering.fit(X_sub)\n",
        "  predictions = clustering.labels_\n",
        "  score = InternalEvaluation(X_sub, predictions)\n",
        "  scores.append(score)\n",
        "plt.figure(1)\n",
        "draw_scores(scores)"
      ],
      "execution_count": null,
      "outputs": [
        {
          "output_type": "display_data",
          "data": {
            "text/plain": [
              "<Figure size 432x288 with 0 Axes>"
            ]
          },
          "metadata": {
            "tags": []
          }
        },
        {
          "output_type": "display_data",
          "data": {
            "image/png": "[encoded data removed]",
            "text/plain": [
              "<Figure size 576x288 with 3 Axes>"
            ]
          },
          "metadata": {
            "tags": [],
            "needs_background": "light"
          }
        }
      ]
    },
    {
      "cell_type": "code",
      "metadata": {
        "colab": {
          "base_uri": "https://localhost:8080/",
          "height": 281
        },
        "id": "9LgB-MQslehE",
        "outputId": "5b9332fc-b64c-496c-fbb3-5a97c1fd14ff"
      },
      "source": [
        "clustering = SpectralClustering(2)\n",
        "clustering.fit(X_sub)\n",
        "predictions = clustering.labels_\n",
        "draw_pca(X_sub,predictions)"
      ],
      "execution_count": null,
      "outputs": [
        {
          "output_type": "display_data",
          "data": {
            "image/png": "[encoded data removed]",
            "text/plain": [
              "<Figure size 432x288 with 1 Axes>"
            ]
          },
          "metadata": {
            "tags": [],
            "needs_background": "light"
          }
        }
      ]
    },
    {
      "cell_type": "code",
      "metadata": {
        "colab": {
          "base_uri": "https://localhost:8080/",
          "height": 325
        },
        "id": "JDShkRJAZMoY",
        "outputId": "360bead9-3a12-4008-cec0-3459ce9bcc84"
      },
      "source": [
        "scores = []\n",
        "for n_components in range(2, 10):\n",
        "  clustering = AgglomerativeClustering(n_components)\n",
        "  clustering.fit(X_sub)\n",
        "  predictions = clustering.labels_\n",
        "  score = InternalEvaluation(X_sub, predictions)\n",
        "  scores.append(score)\n",
        "plt.figure(1)\n",
        "draw_scores(scores)"
      ],
      "execution_count": null,
      "outputs": [
        {
          "output_type": "display_data",
          "data": {
            "text/plain": [
              "<Figure size 432x288 with 0 Axes>"
            ]
          },
          "metadata": {
            "tags": []
          }
        },
        {
          "output_type": "display_data",
          "data": {
            "image/png": "[encoded data removed]",
            "text/plain": [
              "<Figure size 576x288 with 3 Axes>"
            ]
          },
          "metadata": {
            "tags": [],
            "needs_background": "light"
          }
        }
      ]
    },
    {
      "cell_type": "code",
      "metadata": {
        "colab": {
          "base_uri": "https://localhost:8080/"
        },
        "id": "pz0yxzjzZtVx",
        "outputId": "57abef0f-3f65-4de5-ad16-edb7aab67028"
      },
      "source": [
        "predictions"
      ],
      "execution_count": null,
      "outputs": [
        {
          "output_type": "execute_result",
          "data": {
            "text/plain": [
              "array([0, 5, 5, 0, 5, 5, 0, 1, 5, 3, 0, 5, 5, 3, 1, 1, 0, 5, 1, 5, 5, 5,\n",
              "       0, 5, 5, 5, 0, 5, 0, 5, 5, 5, 5, 1, 5, 0, 5, 5, 5, 5, 5, 5, 0, 5,\n",
              "       5, 5, 5, 5, 5, 3, 0, 0, 5, 5, 5, 3, 5, 5, 5, 1, 0, 5, 5, 5, 0, 5,\n",
              "       5, 5, 5, 5, 5, 5, 5, 7, 5, 5, 5, 5, 5, 5, 0, 5, 5, 5, 0, 5, 0, 5,\n",
              "       1, 8, 1, 5, 1, 3, 1, 1, 5, 1, 1, 1, 3, 5, 0, 5, 1, 1, 0, 1, 5, 2,\n",
              "       5, 1, 0, 1, 0, 3, 1, 0, 3, 0, 1, 0, 0, 0, 3, 0, 5, 1, 2, 5, 0, 0,\n",
              "       0, 4, 5, 1, 0, 5, 1, 5, 1, 0, 4, 1, 0, 1, 0, 2, 0, 5, 0, 5, 3, 8,\n",
              "       2, 3, 5, 1, 5, 3, 1, 1, 1, 5, 5, 1, 5, 3, 3, 1, 5, 1, 7, 5, 0, 2,\n",
              "       3, 6, 3, 0, 3, 3, 1, 0, 0, 7, 1, 0, 5, 3, 3, 1, 7, 0, 7, 3, 1, 0,\n",
              "       3, 4, 3, 5, 5, 1, 0, 5, 7, 2, 0, 8, 1, 1, 0, 0, 2, 0, 5, 4, 4, 4,\n",
              "       0, 7, 7, 7, 7])"
            ]
          },
          "metadata": {
            "tags": []
          },
          "execution_count": 133
        }
      ]
    },
    {
      "cell_type": "markdown",
      "metadata": {
        "id": "Vr-afmXiqErV"
      },
      "source": [
        "### without portfolio data"
      ]
    },
    {
      "cell_type": "code",
      "metadata": {
        "id": "-prrhM2nqIyy"
      },
      "source": [
        "X_other = pd.concat([\n",
        "               turnover_pivot_standard, \n",
        "               n_instruments_pivot_static_standard,\n",
        "               total_asset_pivot_static_standard,\n",
        "               concentration_pivot,\n",
        "               invStyle_sub], axis=1).fillna(0)\n"
      ],
      "execution_count": null,
      "outputs": []
    },
    {
      "cell_type": "code",
      "metadata": {
        "colab": {
          "base_uri": "https://localhost:8080/",
          "height": 325
        },
        "id": "FPXK487pqQQc",
        "outputId": "33b5e6dd-a7b2-4e2d-d7af-daeec6370f37"
      },
      "source": [
        "modeling(X_other)"
      ],
      "execution_count": null,
      "outputs": [
        {
          "output_type": "display_data",
          "data": {
            "text/plain": [
              "<Figure size 432x288 with 0 Axes>"
            ]
          },
          "metadata": {
            "tags": []
          }
        },
        {
          "output_type": "display_data",
          "data": {
            "image/png": "[encoded data removed]",
            "text/plain": [
              "<Figure size 576x288 with 3 Axes>"
            ]
          },
          "metadata": {
            "tags": [],
            "needs_background": "light"
          }
        }
      ]
    },
    {
      "cell_type": "code",
      "metadata": {
        "id": "Yeq7DCxr0nb0"
      },
      "source": [
        ""
      ],
      "execution_count": null,
      "outputs": []
    },
    {
      "cell_type": "code",
      "metadata": {
        "colab": {
          "base_uri": "https://localhost:8080/",
          "height": 281
        },
        "id": "JUTTsvrdqTOI",
        "outputId": "844959a0-9e9f-4507-d77a-7b7ebad90f2d"
      },
      "source": [
        "predictions = fit_kmeans(2,X_other)\n",
        "draw_pca(X_other, predictions)"
      ],
      "execution_count": null,
      "outputs": [
        {
          "output_type": "display_data",
          "data": {
            "image/png": "[encoded data removed]",
            "text/plain": [
              "<Figure size 432x288 with 1 Axes>"
            ]
          },
          "metadata": {
            "tags": [],
            "needs_background": "light"
          }
        }
      ]
    },
    {
      "cell_type": "code",
      "metadata": {
        "id": "LCqg-k2wVjGt"
      },
      "source": [
        "\n",
        "# result = pd.DataFrame({\n",
        "#     'investor': X_sub.index,\n",
        "#     'cluster': predictions\n",
        "# })"
      ],
      "execution_count": null,
      "outputs": []
    },
    {
      "cell_type": "code",
      "metadata": {
        "id": "N_9EX5xbV4AG"
      },
      "source": [
        "# # output the clustering result and merge with investor names and save to drive\n",
        "# result_merge = pd.merge(df_sub, result, how='right', left_on=['LGCYINVESTORID'], right_on=['investor'])[['FULLNAME','LGCYINVESTORID','cluster']].drop_duplicates()\n",
        "# result_merge.to_csv('/content/gdrive/My Drive/capstone/distance matrix/all_cluster_result.csv')"
      ],
      "execution_count": null,
      "outputs": []
    }
  ]
}