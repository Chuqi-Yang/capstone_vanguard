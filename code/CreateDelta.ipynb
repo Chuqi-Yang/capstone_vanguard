{
  "nbformat": 4,
  "nbformat_minor": 0,
  "metadata": {
    "colab": {
      "name": "CreateDelta.ipynb",
      "provenance": [],
      "collapsed_sections": [
        "-rjkTorDkm0D"
      ],
      "toc_visible": true
    },
    "kernelspec": {
      "name": "python3",
      "display_name": "Python 3"
    }
  },
  "cells": [
    {
      "cell_type": "code",
      "metadata": {
        "id": "P3rLVAxSbzH9",
        "colab": {
          "base_uri": "https://localhost:8080/"
        },
        "outputId": "c81fc365-4b5d-4d9a-ca3e-53e4b90c24c6"
      },
      "source": [
        "from google.colab import drive\n",
        "drive.mount('/content/gdrive')"
      ],
      "execution_count": null,
      "outputs": [
        {
          "output_type": "stream",
          "text": [
            "Mounted at /content/gdrive\n"
          ],
          "name": "stdout"
        }
      ]
    },
    {
      "cell_type": "code",
      "metadata": {
        "id": "KUO9NBz93z91"
      },
      "source": [
        "import pandas as pd\n",
        "import numpy as np\n",
        "import datetime\n",
        "from tqdm.notebook import tqdm"
      ],
      "execution_count": null,
      "outputs": []
    },
    {
      "cell_type": "code",
      "metadata": {
        "id": "5mWSiCM3b4bW",
        "colab": {
          "base_uri": "https://localhost:8080/"
        },
        "outputId": "378ed946-66ef-4ba2-c625-64f7d223ee7c"
      },
      "source": [
        "# read in portfolio\n",
        "\n",
        "df_all = pd.read_csv('/content/gdrive/My Drive/capstone/data for trend/Results_20100630_20200630.csv')\n",
        "df = df_all[['INSTRID', 'LGCYINVESTORID', 'HOLDDATE', 'SHSHLDVAL']]\n",
        "df['HOLDDATE'] = pd.to_datetime(df['HOLDDATE'])"
      ],
      "execution_count": null,
      "outputs": [
        {
          "output_type": "stream",
          "text": [
            "/usr/local/lib/python3.6/dist-packages/ipykernel_launcher.py:5: SettingWithCopyWarning: \n",
            "A value is trying to be set on a copy of a slice from a DataFrame.\n",
            "Try using .loc[row_indexer,col_indexer] = value instead\n",
            "\n",
            "See the caveats in the documentation: https://pandas.pydata.org/pandas-docs/stable/user_guide/indexing.html#returning-a-view-versus-a-copy\n",
            "  \"\"\"\n"
          ],
          "name": "stderr"
        }
      ]
    },
    {
      "cell_type": "code",
      "metadata": {
        "id": "XWfvItK4xJtz"
      },
      "source": [
        "# # get an investor name dictionary\n",
        "# investor_names = df[['LGCYINVESTORID','FULLNAME']].drop_duplicates()\n",
        "# # get instrument name dictionary\n",
        "# instrument_names = df_all[['INSTRID','COMNAME']].drop_duplicates()"
      ],
      "execution_count": null,
      "outputs": []
    },
    {
      "cell_type": "code",
      "metadata": {
        "id": "nhKbzHhOPjSj"
      },
      "source": [
        "# investor_names.to_csv('investor_list.csv')"
      ],
      "execution_count": null,
      "outputs": []
    },
    {
      "cell_type": "code",
      "metadata": {
        "id": "TCkt3DK34CB_",
        "colab": {
          "base_uri": "https://localhost:8080/"
        },
        "outputId": "99131a4a-35cf-4514-f8ca-a351cd504900"
      },
      "source": [
        "# read in list of investors of interest\n",
        "\n",
        "########\n",
        "#NEED CHANGE LIST\n",
        "########\n",
        "df_investors = pd.read_csv('/content/gdrive/My Drive/capstone/full database/list_investors_225.csv')\n",
        "# df_investors = df_investors[df_investors.isActive==True]\n",
        "\n",
        "ls_investors = df_investors.LGCYINVESTORID.to_list()\n",
        "print('There are {} investors which are we interested in.'.format(len(ls_investors)))\n",
        "\n",
        "# get those in predefined list\n",
        "df = df.loc[df['LGCYINVESTORID'].isin(ls_investors),['INSTRID', 'LGCYINVESTORID', 'HOLDDATE', 'SHSHLDVAL']]\n",
        "\n",
        "# calculate the sum of SHSHLDVAL for each investor in each quarter\n",
        "df ['SHSHLDVAL_Sum_ByQuarter'] = df.groupby(['LGCYINVESTORID','HOLDDATE']).transform('sum').drop(['INSTRID'], axis = 1)\n",
        "\n",
        "# calculate the (13F only) pct of the SHSHLDVAL of each instrument in its investor's sum of SHSHLDVAL for each quarter \n",
        "# (i.e. revised version of 'PCTPORTFOLIO', so that sum up to 1)\n",
        "df['PCTPORTFOLIO_13F'] = df['SHSHLDVAL'] / df['SHSHLDVAL_Sum_ByQuarter']"
      ],
      "execution_count": null,
      "outputs": [
        {
          "output_type": "stream",
          "text": [
            "There are 225 investors which are we interested in.\n"
          ],
          "name": "stdout"
        }
      ]
    },
    {
      "cell_type": "markdown",
      "metadata": {
        "id": "-rjkTorDkm0D"
      },
      "source": [
        "## check"
      ]
    },
    {
      "cell_type": "code",
      "metadata": {
        "id": "dV5kZTk4tn22",
        "colab": {
          "base_uri": "https://localhost:8080/"
        },
        "outputId": "83574154-f2e0-4076-de4a-4b48c6c7cb59"
      },
      "source": [
        "## check whether any investor has missing 13F\n",
        "for inv in investor_list:\n",
        "  holddates = df[df['LGCYINVESTORID']==inv]['HOLDDATE'].drop_duplicates()\n",
        "  earlist_date = min(holddates)\n",
        "  latest_date = max(holddates)\n",
        "  if (latest_date.year - earlist_date.year) * 4 + (latest_date.month - earlist_date.month) / 3 + 1 != len(holddates):\n",
        "    print(inv)"
      ],
      "execution_count": null,
      "outputs": [
        {
          "output_type": "stream",
          "text": [
            "5520904\n",
            "3965008\n",
            "5308615\n",
            "4059340\n",
            "2420555\n",
            "6139212\n",
            "2930530\n",
            "2447262\n",
            "2502059\n",
            "2536411\n"
          ],
          "name": "stdout"
        }
      ]
    },
    {
      "cell_type": "code",
      "metadata": {
        "id": "YL342iGDw0AX",
        "colab": {
          "base_uri": "https://localhost:8080/",
          "height": 609
        },
        "outputId": "e241aa11-6dfa-4641-9e4b-74592387a9ae"
      },
      "source": [
        "# check investor : 2502059, MKP Capital Management, L.L.C.\n",
        "df[df['LGCYINVESTORID']==2502059]"
      ],
      "execution_count": null,
      "outputs": [
        {
          "output_type": "execute_result",
          "data": {
            "text/html": [
              "<div>\n",
              "<style scoped>\n",
              "    .dataframe tbody tr th:only-of-type {\n",
              "        vertical-align: middle;\n",
              "    }\n",
              "\n",
              "    .dataframe tbody tr th {\n",
              "        vertical-align: top;\n",
              "    }\n",
              "\n",
              "    .dataframe thead th {\n",
              "        text-align: right;\n",
              "    }\n",
              "</style>\n",
              "<table border=\"1\" class=\"dataframe\">\n",
              "  <thead>\n",
              "    <tr style=\"text-align: right;\">\n",
              "      <th></th>\n",
              "      <th>INSTRID</th>\n",
              "      <th>LGCYINVESTORID</th>\n",
              "      <th>HOLDDATE</th>\n",
              "      <th>SHSHLDVAL</th>\n",
              "      <th>SHSHLDVAL_Sum_ByQuarter</th>\n",
              "      <th>PCTPORTFOLIO_13F</th>\n",
              "      <th>PREVIOUS_PCTPORTFOLIO</th>\n",
              "      <th>delta</th>\n",
              "    </tr>\n",
              "  </thead>\n",
              "  <tbody>\n",
              "    <tr>\n",
              "      <th>182713</th>\n",
              "      <td>8589940754</td>\n",
              "      <td>2502059</td>\n",
              "      <td>2017-06-30</td>\n",
              "      <td>1.520308e+06</td>\n",
              "      <td>1.129875e+07</td>\n",
              "      <td>0.134555</td>\n",
              "      <td>NaN</td>\n",
              "      <td>NaN</td>\n",
              "    </tr>\n",
              "    <tr>\n",
              "      <th>182813</th>\n",
              "      <td>8589940754</td>\n",
              "      <td>2502059</td>\n",
              "      <td>2019-12-31</td>\n",
              "      <td>5.484712e+07</td>\n",
              "      <td>7.309063e+08</td>\n",
              "      <td>0.075040</td>\n",
              "      <td>0.134555</td>\n",
              "      <td>0.557688</td>\n",
              "    </tr>\n",
              "    <tr>\n",
              "      <th>985627</th>\n",
              "      <td>8589968548</td>\n",
              "      <td>2502059</td>\n",
              "      <td>2016-12-31</td>\n",
              "      <td>2.959500e+06</td>\n",
              "      <td>9.951582e+07</td>\n",
              "      <td>0.029739</td>\n",
              "      <td>NaN</td>\n",
              "      <td>NaN</td>\n",
              "    </tr>\n",
              "    <tr>\n",
              "      <th>1206577</th>\n",
              "      <td>8589976864</td>\n",
              "      <td>2502059</td>\n",
              "      <td>2019-12-31</td>\n",
              "      <td>4.159933e+06</td>\n",
              "      <td>7.309063e+08</td>\n",
              "      <td>0.005691</td>\n",
              "      <td>NaN</td>\n",
              "      <td>NaN</td>\n",
              "    </tr>\n",
              "    <tr>\n",
              "      <th>1638108</th>\n",
              "      <td>8589996470</td>\n",
              "      <td>2502059</td>\n",
              "      <td>2017-03-31</td>\n",
              "      <td>4.886990e+08</td>\n",
              "      <td>4.958180e+08</td>\n",
              "      <td>0.985642</td>\n",
              "      <td>NaN</td>\n",
              "      <td>NaN</td>\n",
              "    </tr>\n",
              "    <tr>\n",
              "      <th>...</th>\n",
              "      <td>...</td>\n",
              "      <td>...</td>\n",
              "      <td>...</td>\n",
              "      <td>...</td>\n",
              "      <td>...</td>\n",
              "      <td>...</td>\n",
              "      <td>...</td>\n",
              "      <td>...</td>\n",
              "    </tr>\n",
              "    <tr>\n",
              "      <th>20445562</th>\n",
              "      <td>21581736200</td>\n",
              "      <td>2502059</td>\n",
              "      <td>2020-06-30</td>\n",
              "      <td>3.641508e+06</td>\n",
              "      <td>1.132120e+08</td>\n",
              "      <td>0.032165</td>\n",
              "      <td>NaN</td>\n",
              "      <td>NaN</td>\n",
              "    </tr>\n",
              "    <tr>\n",
              "      <th>20562825</th>\n",
              "      <td>21589564978</td>\n",
              "      <td>2502059</td>\n",
              "      <td>2018-09-30</td>\n",
              "      <td>6.532000e+04</td>\n",
              "      <td>3.308883e+08</td>\n",
              "      <td>0.000197</td>\n",
              "      <td>NaN</td>\n",
              "      <td>NaN</td>\n",
              "    </tr>\n",
              "    <tr>\n",
              "      <th>20562817</th>\n",
              "      <td>21589564978</td>\n",
              "      <td>2502059</td>\n",
              "      <td>2019-03-31</td>\n",
              "      <td>2.754013e+05</td>\n",
              "      <td>2.754013e+05</td>\n",
              "      <td>1.000000</td>\n",
              "      <td>0.000197</td>\n",
              "      <td>5065.650728</td>\n",
              "    </tr>\n",
              "    <tr>\n",
              "      <th>20747385</th>\n",
              "      <td>21604644667</td>\n",
              "      <td>2502059</td>\n",
              "      <td>2019-12-31</td>\n",
              "      <td>1.588410e+06</td>\n",
              "      <td>7.309063e+08</td>\n",
              "      <td>0.002173</td>\n",
              "      <td>NaN</td>\n",
              "      <td>NaN</td>\n",
              "    </tr>\n",
              "    <tr>\n",
              "      <th>20747401</th>\n",
              "      <td>21604644667</td>\n",
              "      <td>2502059</td>\n",
              "      <td>2020-06-30</td>\n",
              "      <td>3.961182e+06</td>\n",
              "      <td>1.132120e+08</td>\n",
              "      <td>0.034989</td>\n",
              "      <td>0.002173</td>\n",
              "      <td>16.100207</td>\n",
              "    </tr>\n",
              "  </tbody>\n",
              "</table>\n",
              "<p>131 rows × 8 columns</p>\n",
              "</div>"
            ],
            "text/plain": [
              "              INSTRID  LGCYINVESTORID  ... PREVIOUS_PCTPORTFOLIO        delta\n",
              "182713     8589940754         2502059  ...                   NaN          NaN\n",
              "182813     8589940754         2502059  ...              0.134555     0.557688\n",
              "985627     8589968548         2502059  ...                   NaN          NaN\n",
              "1206577    8589976864         2502059  ...                   NaN          NaN\n",
              "1638108    8589996470         2502059  ...                   NaN          NaN\n",
              "...               ...             ...  ...                   ...          ...\n",
              "20445562  21581736200         2502059  ...                   NaN          NaN\n",
              "20562825  21589564978         2502059  ...                   NaN          NaN\n",
              "20562817  21589564978         2502059  ...              0.000197  5065.650728\n",
              "20747385  21604644667         2502059  ...                   NaN          NaN\n",
              "20747401  21604644667         2502059  ...              0.002173    16.100207\n",
              "\n",
              "[131 rows x 8 columns]"
            ]
          },
          "metadata": {
            "tags": []
          },
          "execution_count": 106
        }
      ]
    },
    {
      "cell_type": "code",
      "metadata": {
        "id": "SGmzw9wL3Yqm",
        "colab": {
          "base_uri": "https://localhost:8080/",
          "height": 80
        },
        "outputId": "5f298993-3843-48f7-d458-1683ff8ad23c"
      },
      "source": [
        "investor_names[investor_names['LGCYINVESTORID'] == 2502059]"
      ],
      "execution_count": null,
      "outputs": [
        {
          "output_type": "execute_result",
          "data": {
            "text/html": [
              "<div>\n",
              "<style scoped>\n",
              "    .dataframe tbody tr th:only-of-type {\n",
              "        vertical-align: middle;\n",
              "    }\n",
              "\n",
              "    .dataframe tbody tr th {\n",
              "        vertical-align: top;\n",
              "    }\n",
              "\n",
              "    .dataframe thead th {\n",
              "        text-align: right;\n",
              "    }\n",
              "</style>\n",
              "<table border=\"1\" class=\"dataframe\">\n",
              "  <thead>\n",
              "    <tr style=\"text-align: right;\">\n",
              "      <th></th>\n",
              "      <th>LGCYINVESTORID</th>\n",
              "      <th>FULLNAME</th>\n",
              "    </tr>\n",
              "  </thead>\n",
              "  <tbody>\n",
              "    <tr>\n",
              "      <th>182713</th>\n",
              "      <td>2502059</td>\n",
              "      <td>MKP Capital Management, L.L.C.</td>\n",
              "    </tr>\n",
              "  </tbody>\n",
              "</table>\n",
              "</div>"
            ],
            "text/plain": [
              "        LGCYINVESTORID                        FULLNAME\n",
              "182713         2502059  MKP Capital Management, L.L.C."
            ]
          },
          "metadata": {
            "tags": []
          },
          "execution_count": 107
        }
      ]
    },
    {
      "cell_type": "code",
      "metadata": {
        "id": "zEU-fQOD3aPI",
        "colab": {
          "base_uri": "https://localhost:8080/",
          "height": 80
        },
        "outputId": "edcaa331-96a6-4b54-c263-fa46717df0cc"
      },
      "source": [
        "instrument_names[instrument_names['INSTRID'] == 21589564978]"
      ],
      "execution_count": null,
      "outputs": [
        {
          "output_type": "execute_result",
          "data": {
            "text/html": [
              "<div>\n",
              "<style scoped>\n",
              "    .dataframe tbody tr th:only-of-type {\n",
              "        vertical-align: middle;\n",
              "    }\n",
              "\n",
              "    .dataframe tbody tr th {\n",
              "        vertical-align: top;\n",
              "    }\n",
              "\n",
              "    .dataframe thead th {\n",
              "        text-align: right;\n",
              "    }\n",
              "</style>\n",
              "<table border=\"1\" class=\"dataframe\">\n",
              "  <thead>\n",
              "    <tr style=\"text-align: right;\">\n",
              "      <th></th>\n",
              "      <th>INSTRID</th>\n",
              "      <th>COMNAME</th>\n",
              "    </tr>\n",
              "  </thead>\n",
              "  <tbody>\n",
              "    <tr>\n",
              "      <th>20559357</th>\n",
              "      <td>21589564978</td>\n",
              "      <td>Hertz Global Holdings Ord Shs</td>\n",
              "    </tr>\n",
              "  </tbody>\n",
              "</table>\n",
              "</div>"
            ],
            "text/plain": [
              "              INSTRID                        COMNAME\n",
              "20559357  21589564978  Hertz Global Holdings Ord Shs"
            ]
          },
          "metadata": {
            "tags": []
          },
          "execution_count": 108
        }
      ]
    },
    {
      "cell_type": "markdown",
      "metadata": {
        "id": "Map2g0ljkpM5"
      },
      "source": [
        "##  Create Delta for portfolio\n",
        "\n",
        "$$\\delta = pctPortfolio_{t} -  pctPortfolio_{t-1}$$\n",
        "\n",
        "investor i, instrument j, time T, data time range:2016-2019\n",
        "1.  Consider $\\delta$ at the first time point(2016Q2) as same as the pctPortfolio. Also, if the investor appeared in the market at 2018Q1, $\\delta_i$ at Q1 will be the same as the pctPortfolio. In other words, consider pctPortfolio at the time before it appeared as 0.\n",
        "\n",
        "2. If investor i invest an instrument j at time T-1, sold all of it at time T , fill in the pctportfolio at the date T as 0. In other words, add a new row for instrument j with pctportfolio as 0 and $\\delta_T = 0 - pctPortfolio_{T-1}$ \n",
        "\n",
        "3. If investor i invest an instrument j at time T-1, sold all of it at time T and buy it at time T+1, fill in the pctportfolio at the date T as 0.\n"
      ]
    },
    {
      "cell_type": "markdown",
      "metadata": {
        "id": "R65PSkLa6loy"
      },
      "source": [
        "### instrument"
      ]
    },
    {
      "cell_type": "code",
      "metadata": {
        "id": "jyAFsbvs3Xhl"
      },
      "source": [
        "df_filled = pd.pivot_table(df,index = ['LGCYINVESTORID','INSTRID'], \n",
        "                           columns = ['HOLDDATE'],values=['PCTPORTFOLIO_13F']).fillna(0).stack().reset_index()\n",
        "# get previous portofolio and filled in 0(the first time period will be how much it increased)\n",
        "df_filled['PREVIOUS_PCTPORTFOLIO'] = df_filled.groupby(['LGCYINVESTORID','INSTRID'])['PCTPORTFOLIO_13F'].shift(1).fillna(0)\n",
        "# filled in 0 in 'PREVIOUS_PCTPORTFOLIO'   \n",
        "df_filled = df_filled[(df_filled['PCTPORTFOLIO_13F'] != 0) | (df_filled['PREVIOUS_PCTPORTFOLIO'] != 0)]\n",
        "df_filled['Delta'] =  df_filled['PCTPORTFOLIO_13F'] - df_filled['PREVIOUS_PCTPORTFOLIO']                    "
      ],
      "execution_count": null,
      "outputs": []
    },
    {
      "cell_type": "code",
      "metadata": {
        "id": "R70OgVos9MB7"
      },
      "source": [
        "df_filled.to_csv('/content/gdrive/My Drive/capstone/data for trend/225 investors/delta.csv')"
      ],
      "execution_count": null,
      "outputs": []
    },
    {
      "cell_type": "code",
      "metadata": {
        "id": "UHOgxopa4r3u"
      },
      "source": [
        "# variance for a particular investor and particular time\n",
        "V_it = df_filled.groupby(['LGCYINVESTORID','HOLDDATE']).agg({'Delta': 'var'})\n",
        "# V_it.to_csv('/content/gdrive/My Drive/capstone/data for trend/225 investors/variance_it_instrument.csv')\n",
        "\n",
        "# quantile range for a particular investor and particular time\n",
        "# V_it = df_filled.groupby(['LGCYINVESTORID','HOLDDATE'])['Delta'].quantile(q=0.75, interpolation='linear') - df_filled.groupby(['LGCYINVESTORID','HOLDDATE'])['Delta'].quantile(q=0.25, interpolation='linear')\n",
        "# V_it.to_csv('/content/gdrive/My Drive/capstone/data for trend/225 investors/quantile_range_it_instrument.csv')"
      ],
      "execution_count": null,
      "outputs": []
    },
    {
      "cell_type": "code",
      "metadata": {
        "id": "75l85Q3E44io"
      },
      "source": [
        "# variance for a particular instrument and particular time\n",
        "# V_jt = df_filled.groupby(['INSTRID','HOLDDATE']).agg({'Delta': 'var'})\n",
        "# V_jt.to_csv('/content/gdrive/My Drive/capstone/data for trend/225 investors/variance_jt_instrument.csv')\n",
        "\n",
        "# quantile range for a particular instrument and particular time\n",
        "V_jt = df_filled.groupby(['INSTRID','HOLDDATE'])['Delta'].quantile(q=0.75, interpolation='linear') - df_filled.groupby(['INSTRID','HOLDDATE'])['Delta'].quantile(q=0.25, interpolation='linear')\n",
        "# V_jt.to_csv('/content/gdrive/My Drive/capstone/data for trend/225 investors/quantile_range_jt_instrument.csv')"
      ],
      "execution_count": null,
      "outputs": []
    },
    {
      "cell_type": "code",
      "metadata": {
        "id": "VMqFJ2gB5NAD"
      },
      "source": [
        "# variance for a particular time\n",
        "V_t = df_filled.groupby(['HOLDDATE']).agg({'Delta': 'var'})\n",
        "# V_t.to_csv('/content/gdrive/My Drive/capstone/data for trend/225 investors/variance_t_instrument.csv')\n",
        "\n",
        "# quantile range for a particular time\n",
        "# V_t = df_filled.groupby(['HOLDDATE'])['Delta'].quantile(q=0.75, interpolation='linear') - df_filled.groupby(['HOLDDATE'])['Delta'].quantile(q=0.25, interpolation='linear')\n",
        "# V_t.to_csv('/content/gdrive/My Drive/capstone/data for trend/quantile_range_t_instrument.csv')"
      ],
      "execution_count": null,
      "outputs": []
    },
    {
      "cell_type": "code",
      "metadata": {
        "id": "j4LUl5v-59C8"
      },
      "source": [
        "# Variance of Vit\n",
        "V_Vit = V_it.reset_index().groupby(['HOLDDATE']).agg({'Delta': 'var'})\n",
        "# V_Vit.to_csv('/content/gdrive/My Drive/capstone/data for trend/225 investors/variance_of_quantile_range_it_instrument.csv')\n",
        "# Variance of Vjt\n",
        "V_Vjt = V_jt.reset_index().groupby(['HOLDDATE']).agg({'Delta': 'var'})\n",
        "# V_Vjt.to_csv('/content/gdrive/My Drive/capstone/data for trend/225 investors/variance_of_Vjt_instrument.csv')"
      ],
      "execution_count": null,
      "outputs": []
    },
    {
      "cell_type": "code",
      "metadata": {
        "id": "Xd4ic5lbk6IE"
      },
      "source": [
        "# Quantile range of Vit\n",
        "V_Vit = V_it.reset_index().groupby(['HOLDDATE'])['Delta'].quantile(q=0.75) - V_it.reset_index().groupby(['HOLDDATE'])['Delta'].quantile(q=0.25)\n",
        "# V_Vit.to_csv('/content/gdrive/My Drive/capstone/data for trend/225 investors/quantile_range_of_quantile_range_it_instrument.csv')\n",
        "# Quantile range of Vjt\n",
        "V_Vjt = V_jt.reset_index().groupby(['HOLDDATE'])['Delta'].quantile(q=0.75) - V_jt.reset_index().groupby(['HOLDDATE'])['Delta'].quantile(q=0.25)\n",
        "# V_Vjt.to_csv('/content/gdrive/My Drive/capstone/data for trend/225 investors/quantile_range_of_Vjt_instrument.csv')"
      ],
      "execution_count": null,
      "outputs": []
    },
    {
      "cell_type": "markdown",
      "metadata": {
        "id": "cNsMnGtd6npK"
      },
      "source": [
        "### market cap (not finished)"
      ]
    },
    {
      "cell_type": "code",
      "metadata": {
        "id": "GzKNY0PM6jqF"
      },
      "source": [
        "mktcap = pd.read_csv('/content/gdrive/My Drive/capstone/full database/MktCap_MktCapSize_20160630_20200630.csv')\n",
        "mktcap"
      ],
      "execution_count": null,
      "outputs": []
    },
    {
      "cell_type": "markdown",
      "metadata": {
        "id": "hgeE59Bh7TeB"
      },
      "source": [
        "### industry (not finished)"
      ]
    },
    {
      "cell_type": "code",
      "metadata": {
        "id": "HPQzz4-q6j1V"
      },
      "source": [
        "df_industry_raw = pd.read_csv('/content/gdrive/My Drive/capstone/full database/portfolio_with_industry.csv')"
      ],
      "execution_count": null,
      "outputs": []
    },
    {
      "cell_type": "code",
      "metadata": {
        "id": "fwFUCZ0t3bWW"
      },
      "source": [
        "df_industry = df_industry_raw.copy()\n",
        "df_industry = df_industry[['INSTRID', 'HOLDDATE', 'EndDate', 'HierarchicalId', 'Title']]\n",
        "df_industry = df_industry.drop_duplicates()"
      ],
      "execution_count": null,
      "outputs": []
    },
    {
      "cell_type": "code",
      "metadata": {
        "id": "ic_p4VJOZRi3"
      },
      "source": [
        "df_industry['HOLDDATE'] = df_industry['HOLDDATE'].str.replace(r' 00:00:00', '')\n",
        "df_industry['EndDate'] = df_industry['EndDate'].str.replace(r' 00:00:00.000', '')\n",
        "\n",
        "# df_industry['HOLDDATE'] = pd.to_datetime(df_industry['HOLDDATE'], format='%Y-%m-%d')\n",
        "# df_industry['EndDate'] = pd.to_datetime(df_industry['EndDate'], format='%Y-%m-%d')"
      ],
      "execution_count": null,
      "outputs": []
    },
    {
      "cell_type": "code",
      "metadata": {
        "id": "PKv20IfgbbpE"
      },
      "source": [
        "df_industry['EndDate'].fillna('2020-11-11', inplace=True)"
      ],
      "execution_count": null,
      "outputs": []
    },
    {
      "cell_type": "code",
      "metadata": {
        "id": "EUsZOs9kcFVp",
        "colab": {
          "base_uri": "https://localhost:8080/"
        },
        "outputId": "2dd5ab29-8436-442e-ee13-a20a0b8a7b83"
      },
      "source": [
        "print(len(set(df_industry.loc[df_industry['EndDate'] == '2020-11-11',:].INSTRID)))\n",
        "df_industry_latest = df_industry.loc[df_industry['EndDate'] == '2020-11-11',:].dropna()\n",
        "len(set(df_industry_latest.INSTRID))"
      ],
      "execution_count": null,
      "outputs": [
        {
          "output_type": "stream",
          "text": [
            "10018\n"
          ],
          "name": "stdout"
        },
        {
          "output_type": "execute_result",
          "data": {
            "text/plain": [
              "8547"
            ]
          },
          "metadata": {
            "tags": []
          },
          "execution_count": 77
        }
      ]
    },
    {
      "cell_type": "code",
      "metadata": {
        "id": "lpgGKA5a7NTV"
      },
      "source": [
        "df_industry_latest['HierarchicalId'] = df_industry_latest['HierarchicalId'].astype(str).str[0:4]"
      ],
      "execution_count": null,
      "outputs": []
    },
    {
      "cell_type": "code",
      "metadata": {
        "id": "g0JRpOVh8z42",
        "colab": {
          "base_uri": "https://localhost:8080/"
        },
        "outputId": "4bd3b82a-83da-413d-a5c9-730350ba8b36"
      },
      "source": [
        "len(set(df_industry_latest.HierarchicalId))"
      ],
      "execution_count": null,
      "outputs": [
        {
          "output_type": "execute_result",
          "data": {
            "text/plain": [
              "30"
            ]
          },
          "metadata": {
            "tags": []
          },
          "execution_count": 79
        }
      ]
    },
    {
      "cell_type": "code",
      "metadata": {
        "id": "XkqTyRYl4fut"
      },
      "source": [
        "industry_merge = pd.merge(df_sub, df_industry_latest, how='inner', on=['INSTRID', 'HOLDDATE'])[['LGCYINVESTORID','HOLDDATE','PCTPORTFOLIO_13F','HierarchicalId']]\n",
        "\n",
        "agg_industry_pivot = pd.pivot_table(industry_merge,index = ['LGCYINVESTORID', 'HOLDDATE'], columns = ['HierarchicalId'],values=['PCTPORTFOLIO_13F'],aggfunc=[np.sum],fill_value=0)\n",
        "\n",
        "ind_investor_set = set(agg_industry_pivot.index.get_level_values('LGCYINVESTORID'))\n",
        "ind_holddate_set = set(agg_industry_pivot.index.get_level_values('HOLDDATE'))"
      ],
      "execution_count": null,
      "outputs": []
    },
    {
      "cell_type": "code",
      "metadata": {
        "id": "DLJua76opeba",
        "colab": {
          "base_uri": "https://localhost:8080/"
        },
        "outputId": "d24d4f75-7a19-4e45-c441-8bfee9122d7a"
      },
      "source": [
        "len(set(industry_merge['LGCYINVESTORID']))"
      ],
      "execution_count": null,
      "outputs": [
        {
          "output_type": "execute_result",
          "data": {
            "text/plain": [
              "199"
            ]
          },
          "metadata": {
            "tags": []
          },
          "execution_count": 205
        }
      ]
    },
    {
      "cell_type": "code",
      "metadata": {
        "id": "ivwEp1i9fE4p"
      },
      "source": [
        "# fill industry pct of any missing date with 0\n",
        "\n",
        "industry_id_list = [HierarchicalId for (_,_,HierarchicalId) in list(agg_industry_pivot.columns)]\n",
        "\n",
        "agg_industry_pivot.columns = industry_id_list\n",
        "agg_industry_pivot = agg_industry_pivot.reset_index()\n",
        "for inv in ind_investor_set:\n",
        "  holddates = set(agg_industry_pivot[agg_industry_pivot['LGCYINVESTORID']==inv]['HOLDDATE'].to_list())\n",
        "  if len(holddates) < len(ind_holddate_set):\n",
        "    missing_dates = holddate_set - holddates\n",
        "    for md in missing_dates:\n",
        "      agg_industry_pivot = agg_industry_pivot.append([{'LGCYINVESTORID': inv, 'HOLDDATE':md}])\n",
        "\n",
        "agg_industry_pivot = agg_industry_pivot.fillna(0)"
      ],
      "execution_count": null,
      "outputs": []
    },
    {
      "cell_type": "code",
      "metadata": {
        "id": "NRxdphVjhF3T"
      },
      "source": [
        "agg_industry_pivot = agg_industry_pivot.set_index(['LGCYINVESTORID','HOLDDATE']).stack().reset_index()\n",
        "agg_industry_pivot = agg_industry_pivot.rename(columns={agg_industry_pivot.columns[-2]:'Industry',agg_industry_pivot.columns[-1]:'PCTPORTFOLIO_13F'})\n",
        "\n",
        "agg_industry_pivot = agg_industry_pivot.pivot_table(index=['LGCYINVESTORID'],columns=['HOLDDATE', 'Industry'],values=['PCTPORTFOLIO_13F'])\n",
        "agg_industry_pivot.columns =  agg_industry_pivot.columns.droplevel()"
      ],
      "execution_count": null,
      "outputs": []
    },
    {
      "cell_type": "code",
      "metadata": {
        "id": "-w4dZXdQ6j4R"
      },
      "source": [
        ""
      ],
      "execution_count": null,
      "outputs": []
    },
    {
      "cell_type": "code",
      "metadata": {
        "id": "5tIccDpu6j7b"
      },
      "source": [
        ""
      ],
      "execution_count": null,
      "outputs": []
    }
  ]
}