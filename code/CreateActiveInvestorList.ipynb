{
  "nbformat": 4,
  "nbformat_minor": 0,
  "metadata": {
    "colab": {
      "name": "CreateActiveInvestorList.ipynb",
      "provenance": []
    },
    "kernelspec": {
      "name": "python3",
      "display_name": "Python 3"
    }
  },
  "cells": [
    {
      "cell_type": "code",
      "metadata": {
        "id": "jtccaylvk2d8",
        "outputId": "464118a6-a010-43fc-98dc-b394408ba67a",
        "colab": {
          "base_uri": "https://localhost:8080/"
        }
      },
      "source": [
        "from google.colab import drive\n",
        "drive.mount('/content/gdrive')"
      ],
      "execution_count": 1,
      "outputs": [
        {
          "output_type": "stream",
          "text": [
            "Mounted at /content/gdrive\n"
          ],
          "name": "stdout"
        }
      ]
    },
    {
      "cell_type": "code",
      "metadata": {
        "id": "UVyE53fYlJ1n"
      },
      "source": [
        "import pandas as pd\n",
        "import numpy as np\n",
        "import matplotlib.pyplot as plt\n",
        "\n",
        "%matplotlib inline"
      ],
      "execution_count": 2,
      "outputs": []
    },
    {
      "cell_type": "code",
      "metadata": {
        "id": "fgntQtIKn_8l"
      },
      "source": [
        "# read in 13F results\n",
        "file_name = '/content/gdrive/My Drive/capstone/full database/Results_20160630_20200630.csv'\n",
        "df = pd.read_csv(file_name)"
      ],
      "execution_count": 3,
      "outputs": []
    },
    {
      "cell_type": "code",
      "metadata": {
        "id": "KDuCIFuUl0zs",
        "outputId": "20ac20bd-540e-4346-dbac-1e9d4b2f6089",
        "colab": {
          "base_uri": "https://localhost:8080/"
        }
      },
      "source": [
        "# read in list of investors of interest\n",
        "ls_investors = pd.read_csv('/content/gdrive/My Drive/capstone/full database/ListOfInvestor.csv').LgcyInvestorID.to_list()\n",
        "print('There are {} investors which are we interested in.'.format(len(ls_investors)))"
      ],
      "execution_count": 4,
      "outputs": [
        {
          "output_type": "stream",
          "text": [
            "There are 229 investors which are we interested in.\n"
          ],
          "name": "stdout"
        }
      ]
    },
    {
      "cell_type": "code",
      "metadata": {
        "id": "9FTq73NMl76g"
      },
      "source": [
        "# read in fund info\n",
        "df_fund = pd.read_csv('/content/gdrive/My Drive/capstone/full database/vwOwn2Funds.csv')"
      ],
      "execution_count": 5,
      "outputs": []
    },
    {
      "cell_type": "code",
      "metadata": {
        "id": "lD9i0-Hums0J"
      },
      "source": [
        "id_not_in_list =  set(ls_investors) - set(df_fund.LgcyInvestorId)\n",
        "id_in_list = set(ls_investors) & set(df_fund.LgcyInvestorId)"
      ],
      "execution_count": 6,
      "outputs": []
    },
    {
      "cell_type": "code",
      "metadata": {
        "id": "MDRI4jY1nKgz"
      },
      "source": [
        "# 28 investors in list not have active/passive info\n",
        "df[df.LGCYINVESTORID.isin(id_not_in_list)][['LGCYINVESTORID', 'FULLNAME']].drop_duplicates().to_csv('no_orientation.csv')"
      ],
      "execution_count": 7,
      "outputs": []
    },
    {
      "cell_type": "code",
      "metadata": {
        "id": "GV4H5ZbnTthj",
        "outputId": "f2273b49-2c98-45be-d11d-9395ce9c8d49",
        "colab": {
          "base_uri": "https://localhost:8080/"
        }
      },
      "source": [
        "# check no missing value in InvOrientation\n",
        "sum(df_fund.InvOrientation.isna())"
      ],
      "execution_count": 8,
      "outputs": [
        {
          "output_type": "execute_result",
          "data": {
            "text/plain": [
              "0"
            ]
          },
          "metadata": {
            "tags": []
          },
          "execution_count": 8
        }
      ]
    },
    {
      "cell_type": "code",
      "metadata": {
        "id": "H0OOv7yCmjYT"
      },
      "source": [
        "# get investor list which has fund info\n",
        "df_fund_listed = df_fund[df_fund.LgcyInvestorId.isin(id_in_list)]\n",
        "\n",
        "# calculate the proportion of active funds\n",
        "def active_pct(df):\n",
        "  return sum(df== 'Active')/len(df)\n",
        "\n",
        "df_orientation = df_fund_listed.groupby(['LgcyInvestorId']).agg({'InvOrientation': active_pct, 'FundId':'count'}).reset_index()\n",
        "df_orientation.rename(columns={'InvOrientation':'ActivePct', 'FundId':'RecordCount'},inplace=True)\n",
        "\n",
        "# consider the investor as active if more than 50% of the funds are active\n",
        "df_orientation['isActive'] = df_orientation.ActivePct >=0.5\n",
        "\n",
        "# append investor full name\n",
        "df_orientation = pd.merge(df_orientation, df[['LGCYINVESTORID', 'FULLNAME']].drop_duplicates(), \n",
        "                          left_on='LgcyInvestorId', right_on='LGCYINVESTORID')\n",
        "df_orientation.drop(columns='LGCYINVESTORID', inplace=True)"
      ],
      "execution_count": 9,
      "outputs": []
    },
    {
      "cell_type": "code",
      "metadata": {
        "id": "JatPBpCBLPJ5"
      },
      "source": [
        "df_orientation.to_csv('active_investor_list.csv',index=False)"
      ],
      "execution_count": 38,
      "outputs": []
    },
    {
      "cell_type": "code",
      "metadata": {
        "id": "ngXSiM-MtdA6",
        "outputId": "dcb3de30-5c1f-4956-f03d-f07a14ded724",
        "colab": {
          "base_uri": "https://localhost:8080/"
        }
      },
      "source": [
        "# 17 investors are passive, 184 investors are active \n",
        "df_orientation.isActive.value_counts()"
      ],
      "execution_count": null,
      "outputs": [
        {
          "output_type": "execute_result",
          "data": {
            "text/plain": [
              "True     184\n",
              "False     17\n",
              "Name: isActive, dtype: int64"
            ]
          },
          "metadata": {
            "tags": []
          },
          "execution_count": 14
        }
      ]
    },
    {
      "cell_type": "code",
      "metadata": {
        "id": "VEALRnxCmiWa",
        "outputId": "d23edbc2-d2c5-417a-87f5-1c7a5b8ed776",
        "colab": {
          "base_uri": "https://localhost:8080/",
          "height": 576
        }
      },
      "source": [
        "df_orientation[df_orientation.isActive==False]"
      ],
      "execution_count": null,
      "outputs": [
        {
          "output_type": "execute_result",
          "data": {
            "text/html": [
              "<div>\n",
              "<style scoped>\n",
              "    .dataframe tbody tr th:only-of-type {\n",
              "        vertical-align: middle;\n",
              "    }\n",
              "\n",
              "    .dataframe tbody tr th {\n",
              "        vertical-align: top;\n",
              "    }\n",
              "\n",
              "    .dataframe thead th {\n",
              "        text-align: right;\n",
              "    }\n",
              "</style>\n",
              "<table border=\"1\" class=\"dataframe\">\n",
              "  <thead>\n",
              "    <tr style=\"text-align: right;\">\n",
              "      <th></th>\n",
              "      <th>LgcyInvestorId</th>\n",
              "      <th>InvOrientation</th>\n",
              "      <th>FundId</th>\n",
              "      <th>isActive</th>\n",
              "      <th>FULLNAME</th>\n",
              "    </tr>\n",
              "  </thead>\n",
              "  <tbody>\n",
              "    <tr>\n",
              "      <th>22</th>\n",
              "      <td>2002506</td>\n",
              "      <td>0.492647</td>\n",
              "      <td>136</td>\n",
              "      <td>False</td>\n",
              "      <td>BNY Mellon Asset Management</td>\n",
              "    </tr>\n",
              "    <tr>\n",
              "      <th>56</th>\n",
              "      <td>2003245</td>\n",
              "      <td>0.351670</td>\n",
              "      <td>508</td>\n",
              "      <td>False</td>\n",
              "      <td>State Street Global Advisors (US)</td>\n",
              "    </tr>\n",
              "    <tr>\n",
              "      <th>64</th>\n",
              "      <td>2003356</td>\n",
              "      <td>0.160976</td>\n",
              "      <td>1230</td>\n",
              "      <td>False</td>\n",
              "      <td>BlackRock Institutional Trust Company, N.A.</td>\n",
              "    </tr>\n",
              "    <tr>\n",
              "      <th>68</th>\n",
              "      <td>2003671</td>\n",
              "      <td>0.279534</td>\n",
              "      <td>599</td>\n",
              "      <td>False</td>\n",
              "      <td>BlackRock Advisors (UK) Limited</td>\n",
              "    </tr>\n",
              "    <tr>\n",
              "      <th>81</th>\n",
              "      <td>2004260</td>\n",
              "      <td>0.398664</td>\n",
              "      <td>440</td>\n",
              "      <td>False</td>\n",
              "      <td>The Vanguard Group, Inc.</td>\n",
              "    </tr>\n",
              "    <tr>\n",
              "      <th>85</th>\n",
              "      <td>2004351</td>\n",
              "      <td>0.444444</td>\n",
              "      <td>134</td>\n",
              "      <td>False</td>\n",
              "      <td>Charles Schwab Investment Management, Inc.</td>\n",
              "    </tr>\n",
              "    <tr>\n",
              "      <th>95</th>\n",
              "      <td>2005078</td>\n",
              "      <td>0.377049</td>\n",
              "      <td>53</td>\n",
              "      <td>False</td>\n",
              "      <td>BlackRock Investment Management (Australia) Ltd.</td>\n",
              "    </tr>\n",
              "    <tr>\n",
              "      <th>102</th>\n",
              "      <td>2005964</td>\n",
              "      <td>0.336000</td>\n",
              "      <td>500</td>\n",
              "      <td>False</td>\n",
              "      <td>Guggenheim Investments</td>\n",
              "    </tr>\n",
              "    <tr>\n",
              "      <th>129</th>\n",
              "      <td>2401343</td>\n",
              "      <td>0.051020</td>\n",
              "      <td>98</td>\n",
              "      <td>False</td>\n",
              "      <td>BlackRock Asset Management Deutschland AG</td>\n",
              "    </tr>\n",
              "    <tr>\n",
              "      <th>141</th>\n",
              "      <td>2463029</td>\n",
              "      <td>0.161074</td>\n",
              "      <td>149</td>\n",
              "      <td>False</td>\n",
              "      <td>BlackRock Asset Management Canada Limited</td>\n",
              "    </tr>\n",
              "    <tr>\n",
              "      <th>143</th>\n",
              "      <td>2490223</td>\n",
              "      <td>0.473684</td>\n",
              "      <td>57</td>\n",
              "      <td>False</td>\n",
              "      <td>Northern Trust Global Investments Limited</td>\n",
              "    </tr>\n",
              "    <tr>\n",
              "      <th>151</th>\n",
              "      <td>2546136</td>\n",
              "      <td>0.421053</td>\n",
              "      <td>19</td>\n",
              "      <td>False</td>\n",
              "      <td>Winton Capital Management Ltd.</td>\n",
              "    </tr>\n",
              "    <tr>\n",
              "      <th>155</th>\n",
              "      <td>2587535</td>\n",
              "      <td>0.415730</td>\n",
              "      <td>178</td>\n",
              "      <td>False</td>\n",
              "      <td>Northern Trust Global Investments</td>\n",
              "    </tr>\n",
              "    <tr>\n",
              "      <th>159</th>\n",
              "      <td>2627998</td>\n",
              "      <td>0.133333</td>\n",
              "      <td>118</td>\n",
              "      <td>False</td>\n",
              "      <td>Geode Capital Management, L.L.C.</td>\n",
              "    </tr>\n",
              "    <tr>\n",
              "      <th>162</th>\n",
              "      <td>2655110</td>\n",
              "      <td>0.088578</td>\n",
              "      <td>429</td>\n",
              "      <td>False</td>\n",
              "      <td>Invesco Capital Management LLC</td>\n",
              "    </tr>\n",
              "    <tr>\n",
              "      <th>188</th>\n",
              "      <td>5505145</td>\n",
              "      <td>0.228571</td>\n",
              "      <td>35</td>\n",
              "      <td>False</td>\n",
              "      <td>BlackRock Asset Management Ireland Limited</td>\n",
              "    </tr>\n",
              "    <tr>\n",
              "      <th>194</th>\n",
              "      <td>6271047</td>\n",
              "      <td>0.000000</td>\n",
              "      <td>1</td>\n",
              "      <td>False</td>\n",
              "      <td>Virtus Etf Advisers LLC</td>\n",
              "    </tr>\n",
              "  </tbody>\n",
              "</table>\n",
              "</div>"
            ],
            "text/plain": [
              "     LgcyInvestorId  ...                                          FULLNAME\n",
              "22          2002506  ...                       BNY Mellon Asset Management\n",
              "56          2003245  ...                 State Street Global Advisors (US)\n",
              "64          2003356  ...       BlackRock Institutional Trust Company, N.A.\n",
              "68          2003671  ...                   BlackRock Advisors (UK) Limited\n",
              "81          2004260  ...                          The Vanguard Group, Inc.\n",
              "85          2004351  ...        Charles Schwab Investment Management, Inc.\n",
              "95          2005078  ...  BlackRock Investment Management (Australia) Ltd.\n",
              "102         2005964  ...                            Guggenheim Investments\n",
              "129         2401343  ...         BlackRock Asset Management Deutschland AG\n",
              "141         2463029  ...         BlackRock Asset Management Canada Limited\n",
              "143         2490223  ...         Northern Trust Global Investments Limited\n",
              "151         2546136  ...                    Winton Capital Management Ltd.\n",
              "155         2587535  ...                 Northern Trust Global Investments\n",
              "159         2627998  ...                  Geode Capital Management, L.L.C.\n",
              "162         2655110  ...                    Invesco Capital Management LLC\n",
              "188         5505145  ...        BlackRock Asset Management Ireland Limited\n",
              "194         6271047  ...                           Virtus Etf Advisers LLC\n",
              "\n",
              "[17 rows x 5 columns]"
            ]
          },
          "metadata": {
            "tags": []
          },
          "execution_count": 19
        }
      ]
    },
    {
      "cell_type": "code",
      "metadata": {
        "id": "2ai8mL9-qIuf"
      },
      "source": [
        ""
      ],
      "execution_count": null,
      "outputs": []
    }
  ]
}