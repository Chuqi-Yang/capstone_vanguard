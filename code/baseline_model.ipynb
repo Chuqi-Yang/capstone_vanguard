{
  "nbformat": 4,
  "nbformat_minor": 0,
  "metadata": {
    "colab": {
      "name": "baseline_model.ipynb",
      "provenance": [],
      "toc_visible": true
    },
    "kernelspec": {
      "name": "python3",
      "display_name": "Python 3"
    }
  },
  "cells": [
    {
      "cell_type": "code",
      "metadata": {
        "id": "g89cB8QQzur4",
        "colab": {
          "base_uri": "https://localhost:8080/",
          "height": 34
        },
        "outputId": "ff35aab7-bafd-4c4b-a52f-addcd6e811ec"
      },
      "source": [
        "from google.colab import drive\n",
        "drive.mount('/content/gdrive')"
      ],
      "execution_count": null,
      "outputs": [
        {
          "output_type": "stream",
          "text": [
            "Mounted at /content/gdrive\n"
          ],
          "name": "stdout"
        }
      ]
    },
    {
      "cell_type": "code",
      "metadata": {
        "id": "t4z9z8YP0ZnN"
      },
      "source": [
        "import pandas as pd\n",
        "import numpy as np\n",
        "import matplotlib.pyplot as plt\n",
        "\n",
        "%matplotlib inline"
      ],
      "execution_count": null,
      "outputs": []
    },
    {
      "cell_type": "code",
      "metadata": {
        "id": "xXApK2eBwwBn",
        "colab": {
          "base_uri": "https://localhost:8080/",
          "height": 224
        },
        "outputId": "c355f1da-c29a-4614-ff4e-92301845a2aa"
      },
      "source": [
        "# pip uninstall scikit-learn\n",
        "!pip install scikit-learn==0.21.2"
      ],
      "execution_count": null,
      "outputs": [
        {
          "output_type": "stream",
          "text": [
            "Collecting scikit-learn==0.21.2\n",
            "\u001b[?25l  Downloading https://files.pythonhosted.org/packages/85/04/49633f490f726da6e454fddc8e938bbb5bfed2001681118d3814c219b723/scikit_learn-0.21.2-cp36-cp36m-manylinux1_x86_64.whl (6.7MB)\n",
            "\u001b[K     |████████████████████████████████| 6.7MB 2.6MB/s \n",
            "\u001b[?25hRequirement already satisfied: scipy>=0.17.0 in /usr/local/lib/python3.6/dist-packages (from scikit-learn==0.21.2) (1.4.1)\n",
            "Requirement already satisfied: joblib>=0.11 in /usr/local/lib/python3.6/dist-packages (from scikit-learn==0.21.2) (0.16.0)\n",
            "Requirement already satisfied: numpy>=1.11.0 in /usr/local/lib/python3.6/dist-packages (from scikit-learn==0.21.2) (1.18.5)\n",
            "Installing collected packages: scikit-learn\n",
            "  Found existing installation: scikit-learn 0.22.2.post1\n",
            "    Uninstalling scikit-learn-0.22.2.post1:\n",
            "      Successfully uninstalled scikit-learn-0.22.2.post1\n",
            "Successfully installed scikit-learn-0.21.2\n"
          ],
          "name": "stdout"
        }
      ]
    },
    {
      "cell_type": "code",
      "metadata": {
        "id": "S6sHe2AF0llp"
      },
      "source": [
        "file_name = '/content/gdrive/My Drive/capstone/full database/Results_20160630_20200630.csv'\n",
        "df = pd.read_csv(file_name)"
      ],
      "execution_count": null,
      "outputs": []
    },
    {
      "cell_type": "code",
      "metadata": {
        "id": "Uod1xXGI9Bta"
      },
      "source": [
        "df = df[df.HOLDDATE == '2018-09-30 00:00:00']"
      ],
      "execution_count": null,
      "outputs": []
    },
    {
      "cell_type": "code",
      "metadata": {
        "id": "Em1oaOLSxCvf"
      },
      "source": [
        ""
      ],
      "execution_count": null,
      "outputs": []
    },
    {
      "cell_type": "markdown",
      "metadata": {
        "id": "8FLgVaTT9kcK"
      },
      "source": [
        "## EDA"
      ]
    },
    {
      "cell_type": "code",
      "metadata": {
        "id": "VmdZKF7c9nk1",
        "colab": {
          "base_uri": "https://localhost:8080/",
          "height": 408
        },
        "outputId": "48f5cfe8-450c-415c-8643-43d6becb6ac9"
      },
      "source": [
        "df.info()"
      ],
      "execution_count": null,
      "outputs": [
        {
          "output_type": "stream",
          "text": [
            "<class 'pandas.core.frame.DataFrame'>\n",
            "Int64Index: 1305276 entries, 11 to 21380412\n",
            "Data columns (total 16 columns):\n",
            " #   Column          Non-Null Count    Dtype  \n",
            "---  ------          --------------    -----  \n",
            " 0   INSTRID         1305276 non-null  int64  \n",
            " 1   COMNAME         1305270 non-null  object \n",
            " 2   INSTRTYPE       1305270 non-null  object \n",
            " 3   LGCYINVESTORID  1305276 non-null  int64  \n",
            " 4   FULLNAME        1305276 non-null  object \n",
            " 5   HOLDDATE        1305276 non-null  object \n",
            " 6   OWNERSHIPID     1305276 non-null  int64  \n",
            " 7   EFFECTFROMDATE  1305276 non-null  object \n",
            " 8   EFFECTTODATE    1305276 non-null  object \n",
            " 9   FILINGTYPECODE  1305276 non-null  int64  \n",
            " 10  DESC_           1305276 non-null  object \n",
            " 11  PCTSHOUTHLD     1305276 non-null  float64\n",
            " 12  SHSHLD          1305276 non-null  int64  \n",
            " 13  SHSHLDVAL       1305276 non-null  float64\n",
            " 14  EQASSETHOLDVAL  1305276 non-null  float64\n",
            " 15  PCTPORTFOLIO    1305276 non-null  float64\n",
            "dtypes: float64(4), int64(5), object(7)\n",
            "memory usage: 169.3+ MB\n"
          ],
          "name": "stdout"
        }
      ]
    },
    {
      "cell_type": "markdown",
      "metadata": {
        "id": "VF6S9_r0-smo"
      },
      "source": [
        "### missing value"
      ]
    },
    {
      "cell_type": "code",
      "metadata": {
        "id": "cMSc2RWM0tlc",
        "colab": {
          "base_uri": "https://localhost:8080/"
        },
        "outputId": "2a36271e-4b34-452a-cc4b-0a0cf396c70a"
      },
      "source": [
        "df[df.COMNAME.isna()]"
      ],
      "execution_count": null,
      "outputs": [
        {
          "output_type": "execute_result",
          "data": {
            "text/html": [
              "<div>\n",
              "<style scoped>\n",
              "    .dataframe tbody tr th:only-of-type {\n",
              "        vertical-align: middle;\n",
              "    }\n",
              "\n",
              "    .dataframe tbody tr th {\n",
              "        vertical-align: top;\n",
              "    }\n",
              "\n",
              "    .dataframe thead th {\n",
              "        text-align: right;\n",
              "    }\n",
              "</style>\n",
              "<table border=\"1\" class=\"dataframe\">\n",
              "  <thead>\n",
              "    <tr style=\"text-align: right;\">\n",
              "      <th></th>\n",
              "      <th>INSTRID</th>\n",
              "      <th>COMNAME</th>\n",
              "      <th>INSTRTYPE</th>\n",
              "      <th>LGCYINVESTORID</th>\n",
              "      <th>FULLNAME</th>\n",
              "      <th>HOLDDATE</th>\n",
              "      <th>OWNERSHIPID</th>\n",
              "      <th>EFFECTFROMDATE</th>\n",
              "      <th>EFFECTTODATE</th>\n",
              "      <th>FILINGTYPECODE</th>\n",
              "      <th>DESC_</th>\n",
              "      <th>PCTSHOUTHLD</th>\n",
              "      <th>SHSHLD</th>\n",
              "      <th>SHSHLDVAL</th>\n",
              "      <th>EQASSETHOLDVAL</th>\n",
              "      <th>PCTPORTFOLIO</th>\n",
              "    </tr>\n",
              "  </thead>\n",
              "  <tbody>\n",
              "    <tr>\n",
              "      <th>17312002</th>\n",
              "      <td>18040214097</td>\n",
              "      <td>NaN</td>\n",
              "      <td>NaN</td>\n",
              "      <td>2004303</td>\n",
              "      <td>RBC Wealth Management, International</td>\n",
              "      <td>2018-09-30 00:00:00</td>\n",
              "      <td>48478699089</td>\n",
              "      <td>2018-09-01 00:00:00</td>\n",
              "      <td>2018-11-30 00:00:00</td>\n",
              "      <td>1</td>\n",
              "      <td>13F</td>\n",
              "      <td>0.0288</td>\n",
              "      <td>46</td>\n",
              "      <td>5304.26</td>\n",
              "      <td>1.702755e+10</td>\n",
              "      <td>3.115105e-07</td>\n",
              "    </tr>\n",
              "    <tr>\n",
              "      <th>17312015</th>\n",
              "      <td>18040214097</td>\n",
              "      <td>NaN</td>\n",
              "      <td>NaN</td>\n",
              "      <td>2002643</td>\n",
              "      <td>RBC Capital Markets Wealth Management</td>\n",
              "      <td>2018-09-30 00:00:00</td>\n",
              "      <td>48476963984</td>\n",
              "      <td>2018-09-01 00:00:00</td>\n",
              "      <td>2018-11-30 00:00:00</td>\n",
              "      <td>1</td>\n",
              "      <td>13F</td>\n",
              "      <td>9.4775</td>\n",
              "      <td>15164</td>\n",
              "      <td>1748560.84</td>\n",
              "      <td>4.892526e+10</td>\n",
              "      <td>3.573943e-05</td>\n",
              "    </tr>\n",
              "    <tr>\n",
              "      <th>17314086</th>\n",
              "      <td>18040214097</td>\n",
              "      <td>NaN</td>\n",
              "      <td>NaN</td>\n",
              "      <td>2003020</td>\n",
              "      <td>BofA Global Research (US)</td>\n",
              "      <td>2018-09-30 00:00:00</td>\n",
              "      <td>48477596769</td>\n",
              "      <td>2018-09-01 00:00:00</td>\n",
              "      <td>2018-11-30 00:00:00</td>\n",
              "      <td>1</td>\n",
              "      <td>13F</td>\n",
              "      <td>1.2037</td>\n",
              "      <td>1926</td>\n",
              "      <td>222087.06</td>\n",
              "      <td>3.479899e+11</td>\n",
              "      <td>6.381998e-07</td>\n",
              "    </tr>\n",
              "    <tr>\n",
              "      <th>17314093</th>\n",
              "      <td>18040214097</td>\n",
              "      <td>NaN</td>\n",
              "      <td>NaN</td>\n",
              "      <td>9941555</td>\n",
              "      <td>Jackson Financial Management</td>\n",
              "      <td>2018-09-30 00:00:00</td>\n",
              "      <td>48479378469</td>\n",
              "      <td>2018-09-01 00:00:00</td>\n",
              "      <td>2018-11-30 00:00:00</td>\n",
              "      <td>1</td>\n",
              "      <td>13F</td>\n",
              "      <td>24.3375</td>\n",
              "      <td>38940</td>\n",
              "      <td>4490171.40</td>\n",
              "      <td>1.258941e+08</td>\n",
              "      <td>3.566624e-02</td>\n",
              "    </tr>\n",
              "    <tr>\n",
              "      <th>17314100</th>\n",
              "      <td>18040214097</td>\n",
              "      <td>NaN</td>\n",
              "      <td>NaN</td>\n",
              "      <td>4902270</td>\n",
              "      <td>Managed Account Advisors LLC</td>\n",
              "      <td>2018-09-30 00:00:00</td>\n",
              "      <td>48478693902</td>\n",
              "      <td>2018-09-01 00:00:00</td>\n",
              "      <td>2018-11-30 00:00:00</td>\n",
              "      <td>1</td>\n",
              "      <td>13F</td>\n",
              "      <td>0.2631</td>\n",
              "      <td>421</td>\n",
              "      <td>48545.51</td>\n",
              "      <td>2.442668e+11</td>\n",
              "      <td>1.987397e-07</td>\n",
              "    </tr>\n",
              "    <tr>\n",
              "      <th>17314105</th>\n",
              "      <td>18040214097</td>\n",
              "      <td>NaN</td>\n",
              "      <td>NaN</td>\n",
              "      <td>3313712</td>\n",
              "      <td>Susquehanna International Group, LLP</td>\n",
              "      <td>2018-09-30 00:00:00</td>\n",
              "      <td>48481823841</td>\n",
              "      <td>2018-09-01 00:00:00</td>\n",
              "      <td>2018-11-30 00:00:00</td>\n",
              "      <td>1</td>\n",
              "      <td>13F</td>\n",
              "      <td>1.3500</td>\n",
              "      <td>2160</td>\n",
              "      <td>249069.60</td>\n",
              "      <td>2.601267e+10</td>\n",
              "      <td>9.574935e-06</td>\n",
              "    </tr>\n",
              "  </tbody>\n",
              "</table>\n",
              "</div>"
            ],
            "text/plain": [
              "              INSTRID COMNAME  ... EQASSETHOLDVAL  PCTPORTFOLIO\n",
              "17312002  18040214097     NaN  ...   1.702755e+10  3.115105e-07\n",
              "17312015  18040214097     NaN  ...   4.892526e+10  3.573943e-05\n",
              "17314086  18040214097     NaN  ...   3.479899e+11  6.381998e-07\n",
              "17314093  18040214097     NaN  ...   1.258941e+08  3.566624e-02\n",
              "17314100  18040214097     NaN  ...   2.442668e+11  1.987397e-07\n",
              "17314105  18040214097     NaN  ...   2.601267e+10  9.574935e-06\n",
              "\n",
              "[6 rows x 16 columns]"
            ]
          },
          "metadata": {
            "tags": []
          },
          "execution_count": 10
        }
      ]
    },
    {
      "cell_type": "code",
      "metadata": {
        "id": "jpzFsGPB9cyb",
        "colab": {
          "base_uri": "https://localhost:8080/",
          "height": 476
        },
        "outputId": "fe936d28-3549-4143-b035-9a3e69792a2c"
      },
      "source": [
        "df[df.INSTRID == 18040214097]"
      ],
      "execution_count": null,
      "outputs": [
        {
          "output_type": "execute_result",
          "data": {
            "text/html": [
              "<div>\n",
              "<style scoped>\n",
              "    .dataframe tbody tr th:only-of-type {\n",
              "        vertical-align: middle;\n",
              "    }\n",
              "\n",
              "    .dataframe tbody tr th {\n",
              "        vertical-align: top;\n",
              "    }\n",
              "\n",
              "    .dataframe thead th {\n",
              "        text-align: right;\n",
              "    }\n",
              "</style>\n",
              "<table border=\"1\" class=\"dataframe\">\n",
              "  <thead>\n",
              "    <tr style=\"text-align: right;\">\n",
              "      <th></th>\n",
              "      <th>INSTRID</th>\n",
              "      <th>COMNAME</th>\n",
              "      <th>INSTRTYPE</th>\n",
              "      <th>LGCYINVESTORID</th>\n",
              "      <th>FULLNAME</th>\n",
              "      <th>HOLDDATE</th>\n",
              "      <th>OWNERSHIPID</th>\n",
              "      <th>EFFECTFROMDATE</th>\n",
              "      <th>EFFECTTODATE</th>\n",
              "      <th>FILINGTYPECODE</th>\n",
              "      <th>DESC_</th>\n",
              "      <th>PCTSHOUTHLD</th>\n",
              "      <th>SHSHLD</th>\n",
              "      <th>SHSHLDVAL</th>\n",
              "      <th>EQASSETHOLDVAL</th>\n",
              "      <th>PCTPORTFOLIO</th>\n",
              "    </tr>\n",
              "  </thead>\n",
              "  <tbody>\n",
              "    <tr>\n",
              "      <th>17312002</th>\n",
              "      <td>18040214097</td>\n",
              "      <td>NaN</td>\n",
              "      <td>NaN</td>\n",
              "      <td>2004303</td>\n",
              "      <td>RBC Wealth Management, International</td>\n",
              "      <td>2018-09-30 00:00:00</td>\n",
              "      <td>48478699089</td>\n",
              "      <td>2018-09-01 00:00:00</td>\n",
              "      <td>2018-11-30 00:00:00</td>\n",
              "      <td>1</td>\n",
              "      <td>13F</td>\n",
              "      <td>0.0288</td>\n",
              "      <td>46</td>\n",
              "      <td>5304.26</td>\n",
              "      <td>1.702755e+10</td>\n",
              "      <td>3.115105e-07</td>\n",
              "    </tr>\n",
              "    <tr>\n",
              "      <th>17312015</th>\n",
              "      <td>18040214097</td>\n",
              "      <td>NaN</td>\n",
              "      <td>NaN</td>\n",
              "      <td>2002643</td>\n",
              "      <td>RBC Capital Markets Wealth Management</td>\n",
              "      <td>2018-09-30 00:00:00</td>\n",
              "      <td>48476963984</td>\n",
              "      <td>2018-09-01 00:00:00</td>\n",
              "      <td>2018-11-30 00:00:00</td>\n",
              "      <td>1</td>\n",
              "      <td>13F</td>\n",
              "      <td>9.4775</td>\n",
              "      <td>15164</td>\n",
              "      <td>1748560.84</td>\n",
              "      <td>4.892526e+10</td>\n",
              "      <td>3.573943e-05</td>\n",
              "    </tr>\n",
              "    <tr>\n",
              "      <th>17314086</th>\n",
              "      <td>18040214097</td>\n",
              "      <td>NaN</td>\n",
              "      <td>NaN</td>\n",
              "      <td>2003020</td>\n",
              "      <td>BofA Global Research (US)</td>\n",
              "      <td>2018-09-30 00:00:00</td>\n",
              "      <td>48477596769</td>\n",
              "      <td>2018-09-01 00:00:00</td>\n",
              "      <td>2018-11-30 00:00:00</td>\n",
              "      <td>1</td>\n",
              "      <td>13F</td>\n",
              "      <td>1.2037</td>\n",
              "      <td>1926</td>\n",
              "      <td>222087.06</td>\n",
              "      <td>3.479899e+11</td>\n",
              "      <td>6.381998e-07</td>\n",
              "    </tr>\n",
              "    <tr>\n",
              "      <th>17314093</th>\n",
              "      <td>18040214097</td>\n",
              "      <td>NaN</td>\n",
              "      <td>NaN</td>\n",
              "      <td>9941555</td>\n",
              "      <td>Jackson Financial Management</td>\n",
              "      <td>2018-09-30 00:00:00</td>\n",
              "      <td>48479378469</td>\n",
              "      <td>2018-09-01 00:00:00</td>\n",
              "      <td>2018-11-30 00:00:00</td>\n",
              "      <td>1</td>\n",
              "      <td>13F</td>\n",
              "      <td>24.3375</td>\n",
              "      <td>38940</td>\n",
              "      <td>4490171.40</td>\n",
              "      <td>1.258941e+08</td>\n",
              "      <td>3.566624e-02</td>\n",
              "    </tr>\n",
              "    <tr>\n",
              "      <th>17314100</th>\n",
              "      <td>18040214097</td>\n",
              "      <td>NaN</td>\n",
              "      <td>NaN</td>\n",
              "      <td>4902270</td>\n",
              "      <td>Managed Account Advisors LLC</td>\n",
              "      <td>2018-09-30 00:00:00</td>\n",
              "      <td>48478693902</td>\n",
              "      <td>2018-09-01 00:00:00</td>\n",
              "      <td>2018-11-30 00:00:00</td>\n",
              "      <td>1</td>\n",
              "      <td>13F</td>\n",
              "      <td>0.2631</td>\n",
              "      <td>421</td>\n",
              "      <td>48545.51</td>\n",
              "      <td>2.442668e+11</td>\n",
              "      <td>1.987397e-07</td>\n",
              "    </tr>\n",
              "    <tr>\n",
              "      <th>17314105</th>\n",
              "      <td>18040214097</td>\n",
              "      <td>NaN</td>\n",
              "      <td>NaN</td>\n",
              "      <td>3313712</td>\n",
              "      <td>Susquehanna International Group, LLP</td>\n",
              "      <td>2018-09-30 00:00:00</td>\n",
              "      <td>48481823841</td>\n",
              "      <td>2018-09-01 00:00:00</td>\n",
              "      <td>2018-11-30 00:00:00</td>\n",
              "      <td>1</td>\n",
              "      <td>13F</td>\n",
              "      <td>1.3500</td>\n",
              "      <td>2160</td>\n",
              "      <td>249069.60</td>\n",
              "      <td>2.601267e+10</td>\n",
              "      <td>9.574935e-06</td>\n",
              "    </tr>\n",
              "  </tbody>\n",
              "</table>\n",
              "</div>"
            ],
            "text/plain": [
              "              INSTRID COMNAME  ... EQASSETHOLDVAL  PCTPORTFOLIO\n",
              "17312002  18040214097     NaN  ...   1.702755e+10  3.115105e-07\n",
              "17312015  18040214097     NaN  ...   4.892526e+10  3.573943e-05\n",
              "17314086  18040214097     NaN  ...   3.479899e+11  6.381998e-07\n",
              "17314093  18040214097     NaN  ...   1.258941e+08  3.566624e-02\n",
              "17314100  18040214097     NaN  ...   2.442668e+11  1.987397e-07\n",
              "17314105  18040214097     NaN  ...   2.601267e+10  9.574935e-06\n",
              "\n",
              "[6 rows x 16 columns]"
            ]
          },
          "metadata": {
            "tags": []
          },
          "execution_count": 14
        }
      ]
    },
    {
      "cell_type": "markdown",
      "metadata": {
        "id": "7F9WQR71-vK8"
      },
      "source": [
        "### instrtype"
      ]
    },
    {
      "cell_type": "code",
      "metadata": {
        "id": "OO6xadBM7h3I",
        "colab": {
          "base_uri": "https://localhost:8080/",
          "height": 102
        },
        "outputId": "a90912e7-ec91-4968-c0cc-a16976482d87"
      },
      "source": [
        "df.INSTRTYPE.value_counts()"
      ],
      "execution_count": null,
      "outputs": [
        {
          "output_type": "execute_result",
          "data": {
            "text/plain": [
              "EQUITY            1305222\n",
              "OPEN FUND UNIT         46\n",
              "DEBT                    1\n",
              "DERIVATIVE              1\n",
              "Name: INSTRTYPE, dtype: int64"
            ]
          },
          "metadata": {
            "tags": []
          },
          "execution_count": 18
        }
      ]
    },
    {
      "cell_type": "markdown",
      "metadata": {
        "id": "A4QDfSW2_AZD"
      },
      "source": [
        "## Create feature"
      ]
    },
    {
      "cell_type": "code",
      "metadata": {
        "id": "kLWAX3If_CD-"
      },
      "source": [
        "data = pd.pivot_table(df,index = ['LGCYINVESTORID'], columns = ['INSTRID'],values=['PCTPORTFOLIO']).fillna(0)\n",
        "X = np.array(data)"
      ],
      "execution_count": null,
      "outputs": []
    },
    {
      "cell_type": "code",
      "metadata": {
        "id": "lPC7NzfB_vci",
        "colab": {
          "base_uri": "https://localhost:8080/",
          "height": 435
        },
        "outputId": "b60d7fb0-f773-450e-f280-102452865b28"
      },
      "source": [
        "plt.hist(X.sum(axis = 1),bins=20)"
      ],
      "execution_count": null,
      "outputs": [
        {
          "output_type": "execute_result",
          "data": {
            "text/plain": [
              "(array([4.500e+01, 3.700e+01, 4.300e+01, 3.900e+01, 3.500e+01, 4.300e+01,\n",
              "        3.400e+01, 4.300e+01, 5.300e+01, 4.800e+01, 4.300e+01, 5.900e+01,\n",
              "        7.300e+01, 6.500e+01, 1.010e+02, 1.160e+02, 1.980e+02, 5.920e+02,\n",
              "        3.114e+03, 2.000e+00]),\n",
              " array([0.00200338, 0.05695232, 0.11190126, 0.1668502 , 0.22179915,\n",
              "        0.27674809, 0.33169703, 0.38664597, 0.44159491, 0.49654385,\n",
              "        0.5514928 , 0.60644174, 0.66139068, 0.71633962, 0.77128856,\n",
              "        0.8262375 , 0.88118645, 0.93613539, 0.99108433, 1.04603327,\n",
              "        1.10098221]),\n",
              " <a list of 20 Patch objects>)"
            ]
          },
          "metadata": {
            "tags": []
          },
          "execution_count": 12
        },
        {
          "output_type": "display_data",
          "data": {
            "image/png": "[encoded data removed]",
            "text/plain": [
              "<Figure size 432x288 with 1 Axes>"
            ]
          },
          "metadata": {
            "tags": [],
            "needs_background": "light"
          }
        }
      ]
    },
    {
      "cell_type": "code",
      "metadata": {
        "id": "GvFCmw9pCrxy",
        "colab": {
          "base_uri": "https://localhost:8080/",
          "height": 34
        },
        "outputId": "ec88e02c-5039-42fd-f56f-2cf3b8e57d0b"
      },
      "source": [
        "X.shape"
      ],
      "execution_count": null,
      "outputs": [
        {
          "output_type": "execute_result",
          "data": {
            "text/plain": [
              "(4783, 10863)"
            ]
          },
          "metadata": {
            "tags": []
          },
          "execution_count": 8
        }
      ]
    },
    {
      "cell_type": "markdown",
      "metadata": {
        "id": "TodUSbgfAgRJ"
      },
      "source": [
        "## Spectural Clustering"
      ]
    },
    {
      "cell_type": "code",
      "metadata": {
        "id": "rzvNrnlBPXB9"
      },
      "source": [
        "from sklearn import metrics\n",
        "from sklearn.cluster import SpectralClustering\n",
        "\n",
        "def InternalEvaluation(data, clusters):\n",
        "    scores = {}\n",
        "    \"\"\"\n",
        "    The score is bounded between -1 for incorrect clustering and +1 for highly dense clustering. \n",
        "    Scores around zero indicate overlapping clusters.\n",
        "    The score is higher when clusters are dense and well separated, which relates to a standard concept of a cluster.\n",
        "    \"\"\"\n",
        "    scores['_silhouette_score'] =metrics.silhouette_score(data,clusters ,metric='euclidean')\n",
        "    \"\"\"\n",
        "    The score is higher when clusters are dense and well separated, which relates to a standard concept of a cluster.\n",
        "    The score is fast to compute\n",
        "    \"\"\"\n",
        "    scores['_calinski_harabaz_score'] = metrics.calinski_harabasz_score(data,clusters)\n",
        "    \"\"\"\n",
        "    Zero is the lowest possible score. Values closer to zero indicate a better partition.\n",
        "    The Davies-Boulding index is generally higher for convex clusters than other concepts of clusters, \n",
        "    such as density based clusters like those obtained from DBSCAN.\n",
        "    \"\"\"\n",
        "    scores['_davies_bouldin_score'] = metrics.davies_bouldin_score(data,clusters)\n",
        "    return scores"
      ],
      "execution_count": null,
      "outputs": []
    },
    {
      "cell_type": "code",
      "metadata": {
        "id": "4agSOtGMmrBV"
      },
      "source": [
        "def draw_scores(scores, start_k=2):\n",
        "  score_type = list(scores[0].keys())\n",
        "  n_type = len(score_type)\n",
        "  plt.figure(figsize=(8,4))\n",
        "  for i in range(n_type):\n",
        "    sc_type = score_type[i]\n",
        "    score = [sc[sc_type] for sc in scores]\n",
        "    plt.subplot(1, n_type, i+1)\n",
        "    plt.plot(range(start_k,len(score) + start_k ), score)\n",
        "    plt.title(' '.join(sc_type.split('_')).title())\n",
        "    plt.xlabel('k')\n",
        "  plt.suptitle('Metrics for Clustering')\n",
        "    "
      ],
      "execution_count": null,
      "outputs": []
    },
    {
      "cell_type": "markdown",
      "metadata": {
        "id": "ARd8G0CiSmbK"
      },
      "source": [
        "### 1. default: best k=3"
      ]
    },
    {
      "cell_type": "code",
      "metadata": {
        "id": "q5gNKY18Jupn"
      },
      "source": [
        "scores = []\n",
        "for k in range(2, 10):\n",
        "  spec = SpectralClustering(n_clusters=k).fit(X)\n",
        "  labels = spec.labels_\n",
        "  score = InternalEvaluation(X, spec.labels_)\n",
        "  scores.append(score)\n"
      ],
      "execution_count": null,
      "outputs": []
    },
    {
      "cell_type": "code",
      "metadata": {
        "id": "4duB7hl8R1OI",
        "colab": {
          "base_uri": "https://localhost:8080/",
          "height": 425
        },
        "outputId": "b23f43d0-02b8-4190-cdf8-ba754cd7ec1e"
      },
      "source": [
        "scores"
      ],
      "execution_count": null,
      "outputs": [
        {
          "output_type": "execute_result",
          "data": {
            "text/plain": [
              "[{'_calinski_harabaz_score': 132.20709052510637,\n",
              "  '_davies_bouldin_score': 0.6920825365357186,\n",
              "  '_silhouette_score': 0.57800560732365},\n",
              " {'_calinski_harabaz_score': 102.18645416439207,\n",
              "  '_davies_bouldin_score': 1.5362013725333525,\n",
              "  '_silhouette_score': 0.3129784163761604},\n",
              " {'_calinski_harabaz_score': 86.65002123761286,\n",
              "  '_davies_bouldin_score': 3.9863923468368396,\n",
              "  '_silhouette_score': -0.008774241772716384},\n",
              " {'_calinski_harabaz_score': 79.18628535667608,\n",
              "  '_davies_bouldin_score': 3.5064141104824693,\n",
              "  '_silhouette_score': -0.014829510922337771},\n",
              " {'_calinski_harabaz_score': 71.99485545743282,\n",
              "  '_davies_bouldin_score': 2.9419547423280594,\n",
              "  '_silhouette_score': -0.020763956094600283},\n",
              " {'_calinski_harabaz_score': 68.33472005734893,\n",
              "  '_davies_bouldin_score': 2.7642778267005603,\n",
              "  '_silhouette_score': -0.01978352856565068},\n",
              " {'_calinski_harabaz_score': 62.89085709530397,\n",
              "  '_davies_bouldin_score': 2.6552713447077743,\n",
              "  '_silhouette_score': -0.023921306634868578},\n",
              " {'_calinski_harabaz_score': 57.81968817462103,\n",
              "  '_davies_bouldin_score': 2.878084369004519,\n",
              "  '_silhouette_score': -0.028814682110935345}]"
            ]
          },
          "metadata": {
            "tags": []
          },
          "execution_count": 25
        }
      ]
    },
    {
      "cell_type": "code",
      "metadata": {
        "id": "FQeEGtOGmoq1",
        "colab": {
          "base_uri": "https://localhost:8080/",
          "height": 308
        },
        "outputId": "d38f00c9-a6aa-4bc2-8f99-2caf1920c9e2"
      },
      "source": [
        "draw_scores(scores)"
      ],
      "execution_count": null,
      "outputs": [
        {
          "output_type": "display_data",
          "data": {
            "image/png": "[encoded data removed]",
            "text/plain": [
              "<Figure size 576x288 with 3 Axes>"
            ]
          },
          "metadata": {
            "tags": [],
            "needs_background": "light"
          }
        }
      ]
    },
    {
      "cell_type": "code",
      "metadata": {
        "id": "J5j0Rq95NGg6"
      },
      "source": [
        "spec = SpectralClustering(n_clusters=2).fit(X)"
      ],
      "execution_count": null,
      "outputs": []
    },
    {
      "cell_type": "code",
      "metadata": {
        "id": "r39YYKUaRh1P"
      },
      "source": [
        "\n",
        "import scipy\n",
        "from scipy.sparse import csgraph\n",
        "# from scipy.sparse.linalg import eigsh\n",
        "from numpy import linalg as LA\n",
        "def eigenDecomposition(A, plot = True, topK = 5):\n",
        "    \"\"\"\n",
        "    :param A: Affinity matrix\n",
        "    :param plot: plots the sorted eigen values for visual inspection\n",
        "    :return A tuple containing:\n",
        "    - the optimal number of clusters by eigengap heuristic\n",
        "    - all eigen values\n",
        "    - all eigen vectors\n",
        "    \n",
        "    This method performs the eigen decomposition on a given affinity matrix,\n",
        "    following the steps recommended in the paper:\n",
        "    1. Construct the normalized affinity matrix: L = D−1/2ADˆ −1/2.\n",
        "    2. Find the eigenvalues and their associated eigen vectors\n",
        "    3. Identify the maximum gap which corresponds to the number of clusters\n",
        "    by eigengap heuristic\n",
        "    \n",
        "    References:\n",
        "    https://papers.nips.cc/paper/2619-self-tuning-spectral-clustering.pdf\n",
        "    http://www.kyb.mpg.de/fileadmin/user_upload/files/publications/attachments/Luxburg07_tutorial_4488%5b0%5d.pdf\n",
        "    \"\"\"\n",
        "    L = csgraph.laplacian(A, normed=True)\n",
        "    n_components = A.shape[0]\n",
        "    \n",
        "    # LM parameter : Eigenvalues with largest magnitude (eigs, eigsh), that is, largest eigenvalues in \n",
        "    # the euclidean norm of complex numbers.\n",
        "#     eigenvalues, eigenvectors = eigsh(L, k=n_components, which=\"LM\", sigma=1.0, maxiter=5000)\n",
        "    eigenvalues, eigenvectors = LA.eig(L)\n",
        "    \n",
        "    if plot:\n",
        "        plt.title('Largest eigen values of input matrix')\n",
        "        plt.scatter(np.arange(len(eigenvalues)), eigenvalues)\n",
        "        plt.grid()\n",
        "        \n",
        "    # Identify the optimal number of clusters as the index corresponding\n",
        "    # to the larger gap between eigen values\n",
        "    index_largest_gap = np.argsort(np.diff(eigenvalues))[::-1][:topK]\n",
        "    nb_clusters = index_largest_gap + 1\n",
        "        \n",
        "    return nb_clusters, eigenvalues, eigenvectors"
      ],
      "execution_count": null,
      "outputs": []
    },
    {
      "cell_type": "code",
      "metadata": {
        "id": "Lz2h5eoaePqc",
        "colab": {
          "base_uri": "https://localhost:8080/",
          "height": 34
        },
        "outputId": "79a8b73c-8a63-4a29-a8af-c9717ea6b0eb"
      },
      "source": [
        "# best k = 3\n",
        "spec = SpectralClustering(n_clusters=3).fit(X)\n",
        "labels = spec.labels_\n",
        "score = InternalEvaluation(X, spec.labels_)\n",
        "np.bincount(labels)"
      ],
      "execution_count": null,
      "outputs": [
        {
          "output_type": "execute_result",
          "data": {
            "text/plain": [
              "array([4683,   20,   80])"
            ]
          },
          "metadata": {
            "tags": []
          },
          "execution_count": 17
        }
      ]
    },
    {
      "cell_type": "code",
      "metadata": {
        "id": "nwrg1VpHoa_u",
        "colab": {
          "base_uri": "https://localhost:8080/",
          "height": 553
        },
        "outputId": "8989540c-58ea-47b8-8d32-c0235807dd5d"
      },
      "source": [
        "eigenDecomposition(spec.affinity_matrix_, plot = True, topK = 5)"
      ],
      "execution_count": null,
      "outputs": [
        {
          "output_type": "execute_result",
          "data": {
            "text/plain": [
              "(array([ 1,  2,  3, 40, 44]),\n",
              " array([3.33517785e-17, 9.93082335e-01, 9.96814297e-01, ...,\n",
              "        1.00022423e+00, 1.00022423e+00, 1.00022423e+00]),\n",
              " array([[ 0.0148117 , -0.00368839, -0.00523308, ...,  0.00170542,\n",
              "          0.00345772, -0.00014633],\n",
              "        [ 0.01486972, -0.00376305, -0.00490817, ...,  0.00412919,\n",
              "          0.00207159,  0.01587898],\n",
              "        [ 0.01483144, -0.00391105, -0.00652307, ..., -0.00043082,\n",
              "          0.00010452, -0.00658138],\n",
              "        ...,\n",
              "        [ 0.01484141, -0.00338816, -0.00197045, ..., -0.00101699,\n",
              "          0.00010076,  0.00412984],\n",
              "        [ 0.01470946,  0.00460901,  0.0111498 , ...,  0.00044227,\n",
              "          0.00121162, -0.00097367],\n",
              "        [ 0.01442161, -0.00226716,  0.00366863, ...,  0.00123248,\n",
              "         -0.00214518, -0.00418141]]))"
            ]
          },
          "metadata": {
            "tags": []
          },
          "execution_count": 26
        },
        {
          "output_type": "display_data",
          "data": {
            "image/png": "[encoded data removed]",
            "text/plain": [
              "<Figure size 432x288 with 1 Axes>"
            ]
          },
          "metadata": {
            "tags": [],
            "needs_background": "light"
          }
        }
      ]
    },
    {
      "cell_type": "code",
      "metadata": {
        "id": "sOkfJvXPehQJ",
        "colab": {
          "base_uri": "https://localhost:8080/",
          "height": 68
        },
        "outputId": "8dcb4077-cb38-4b66-daff-a05af561e8f8"
      },
      "source": [
        "score"
      ],
      "execution_count": null,
      "outputs": [
        {
          "output_type": "execute_result",
          "data": {
            "text/plain": [
              "{'_calinski_harabaz_score': 102.18645416439207,\n",
              " '_davies_bouldin_score': 1.5362013725333525,\n",
              " '_silhouette_score': 0.3129784163761604}"
            ]
          },
          "metadata": {
            "tags": []
          },
          "execution_count": 43
        }
      ]
    },
    {
      "cell_type": "markdown",
      "metadata": {
        "id": "PoVvU4IlLgSv"
      },
      "source": [
        "### 2. use nearest neighbour affinity matrix"
      ]
    },
    {
      "cell_type": "code",
      "metadata": {
        "id": "xtZDAWlDLfSj"
      },
      "source": [
        "scores = []\n",
        "for k in range(2, 10):\n",
        "  spec = SpectralClustering(n_clusters=k, affinity='nearest_neighbors').fit(X)\n",
        "  labels = spec.labels_\n",
        "  score = InternalEvaluation(X, spec.labels_)\n",
        "  scores.append(score)\n",
        "  print('finished for k = ' + k)"
      ],
      "execution_count": null,
      "outputs": []
    },
    {
      "cell_type": "code",
      "metadata": {
        "id": "vKugsDLUYf1P",
        "colab": {
          "base_uri": "https://localhost:8080/",
          "height": 308
        },
        "outputId": "f4258eb3-9c4b-4f2a-a9ce-d6e34d70ae27"
      },
      "source": [
        "draw_scores(scores)"
      ],
      "execution_count": null,
      "outputs": [
        {
          "output_type": "display_data",
          "data": {
            "image/png": "[encoded data removed]",
            "text/plain": [
              "<Figure size 576x288 with 3 Axes>"
            ]
          },
          "metadata": {
            "tags": [],
            "needs_background": "light"
          }
        }
      ]
    },
    {
      "cell_type": "code",
      "metadata": {
        "id": "2Sod-8BOgMtm",
        "colab": {
          "base_uri": "https://localhost:8080/",
          "height": 425
        },
        "outputId": "9e8b1117-50bc-47a9-a55f-c70947cd9675"
      },
      "source": [
        "scores"
      ],
      "execution_count": null,
      "outputs": [
        {
          "output_type": "execute_result",
          "data": {
            "text/plain": [
              "[{'_calinski_harabaz_score': 149.5939783428355,\n",
              "  '_davies_bouldin_score': 1.053953240079089,\n",
              "  '_silhouette_score': 0.4483040789475368},\n",
              " {'_calinski_harabaz_score': 78.97347881639634,\n",
              "  '_davies_bouldin_score': 2.3580061539787494,\n",
              "  '_silhouette_score': -0.1602945263221928},\n",
              " {'_calinski_harabaz_score': 63.47488258982095,\n",
              "  '_davies_bouldin_score': 4.776056637577438,\n",
              "  '_silhouette_score': -0.14968107908593314},\n",
              " {'_calinski_harabaz_score': 63.98774861853414,\n",
              "  '_davies_bouldin_score': 4.679725744782844,\n",
              "  '_silhouette_score': -0.13146484291827554},\n",
              " {'_calinski_harabaz_score': 63.18712060764225,\n",
              "  '_davies_bouldin_score': 4.045065667392747,\n",
              "  '_silhouette_score': -0.12999116516373363},\n",
              " {'_calinski_harabaz_score': 63.99543188310441,\n",
              "  '_davies_bouldin_score': 3.609572808844183,\n",
              "  '_silhouette_score': -0.12520541467475485},\n",
              " {'_calinski_harabaz_score': 59.31118432444346,\n",
              "  '_davies_bouldin_score': 3.3231781874419495,\n",
              "  '_silhouette_score': -0.12247838302761183},\n",
              " {'_calinski_harabaz_score': 53.50413065458185,\n",
              "  '_davies_bouldin_score': 3.2600967047715015,\n",
              "  '_silhouette_score': -0.12116779285582147}]"
            ]
          },
          "metadata": {
            "tags": []
          },
          "execution_count": 41
        }
      ]
    },
    {
      "cell_type": "markdown",
      "metadata": {
        "id": "jQmq8iFDTOhA"
      },
      "source": [
        "### 3. self-defined affinity matrix"
      ]
    },
    {
      "cell_type": "code",
      "metadata": {
        "id": "3rx-et3CTNdS"
      },
      "source": [
        "def top10overlapAffinity(X):\n",
        "  aff_matrix = np.zeros((X.shape[0],X.shape[0]),dtype=int)\n",
        "  top10 = np.argsort(X,axis=1)[:,-10:]\n",
        "  print(top10.shape)\n",
        "  for i in range(X.shape[0]):\n",
        "    for j in range(i + 1, X.shape[0]):\n",
        "      aff_matrix[i][j] = len(set(top10[i]) & set(top10[j]))\n",
        "      aff_matrix[j][i] = len(set(top10[i]) & set(top10[j]))\n",
        "  return aff_matrix\n",
        "\n",
        "aff_matrix = top10overlapAffinity(X)\n",
        "\n"
      ],
      "execution_count": null,
      "outputs": []
    },
    {
      "cell_type": "code",
      "metadata": {
        "id": "ynr6EdUGtFwH",
        "colab": {
          "base_uri": "https://localhost:8080/",
          "height": 736
        },
        "outputId": "7cb2eb40-9358-4e2b-c90f-bbcb4ee2d666"
      },
      "source": [
        "scores = []\n",
        "for k in range(2,10):\n",
        "  spec = SpectralClustering(n_clusters=k, affinity = 'precomputed').fit(aff_matrix)\n",
        "  labels = spec.labels_\n",
        "  score = InternalEvaluation(X, labels)\n",
        "  scores.append(score)\n",
        "  print('finish clustering for k = ', k)\n",
        "  print(np.bincount(labels))\n",
        "  print(score)\n",
        "draw_scores(scores)"
      ],
      "execution_count": null,
      "outputs": [
        {
          "output_type": "stream",
          "text": [
            "finish clustering for k =  2\n",
            "[ 365 4418]\n",
            "{'_silhouette_score': 0.4900338673402838, '_calinski_harabaz_score': 12.053677387707618, '_davies_bouldin_score': 14.497805734287068}\n",
            "finish clustering for k =  3\n",
            "[ 421 4324   38]\n",
            "{'_silhouette_score': -0.0015331263563580103, '_calinski_harabaz_score': 8.243394145898803, '_davies_bouldin_score': 7.680579462698681}\n",
            "finish clustering for k =  4\n",
            "[4262   31   19  471]\n",
            "{'_silhouette_score': 0.0026169507308123887, '_calinski_harabaz_score': 6.338048267268292, '_davies_bouldin_score': 7.239809784701448}\n",
            "finish clustering for k =  5\n",
            "[3461   31  495   19  777]\n",
            "{'_silhouette_score': 0.008638812824984337, '_calinski_harabaz_score': 14.775469094005993, '_davies_bouldin_score': 6.984276794642918}\n",
            "finish clustering for k =  6\n",
            "[ 494    2   33 3452   25  777]\n",
            "{'_silhouette_score': -0.291049084427292, '_calinski_harabaz_score': 11.930075838103944, '_davies_bouldin_score': 6.461383967365085}\n",
            "finish clustering for k =  7\n",
            "[4183    2   31   61  402   19   85]\n",
            "{'_silhouette_score': -0.2956621100187459, '_calinski_harabaz_score': 5.735836293510368, '_davies_bouldin_score': 6.091895478544422}\n",
            "finish clustering for k =  8\n",
            "[4166    2   31   22  390   67   19   86]\n",
            "{'_silhouette_score': -0.29457111953085513, '_calinski_harabaz_score': 5.592183992284484, '_davies_bouldin_score': 5.6804957227926}\n",
            "finish clustering for k =  9\n",
            "[4164    2   31   22   88   35   29  393   19]\n",
            "{'_silhouette_score': -0.2926753636703921, '_calinski_harabaz_score': 5.66465551177582, '_davies_bouldin_score': 5.211610257582496}\n"
          ],
          "name": "stdout"
        },
        {
          "output_type": "display_data",
          "data": {
            "image/png": "[encoded data removed]",
            "text/plain": [
              "<Figure size 576x288 with 3 Axes>"
            ]
          },
          "metadata": {
            "tags": [],
            "needs_background": "light"
          }
        }
      ]
    },
    {
      "cell_type": "code",
      "metadata": {
        "id": "M6bLz234c03p",
        "colab": {
          "base_uri": "https://localhost:8080/",
          "height": 136
        },
        "outputId": "b43b30db-95b7-4dd2-b0a9-dbb42fe0ad59"
      },
      "source": [
        "spec.affinity_matrix_.todense()"
      ],
      "execution_count": null,
      "outputs": [
        {
          "output_type": "execute_result",
          "data": {
            "text/plain": [
              "matrix([[1. , 0. , 0.5, ..., 0. , 0. , 0. ],\n",
              "        [0. , 0. , 0.5, ..., 0. , 0. , 0.5],\n",
              "        [0.5, 0.5, 1. , ..., 0. , 0. , 1. ],\n",
              "        ...,\n",
              "        [0. , 0. , 0. , ..., 1. , 0. , 0. ],\n",
              "        [0. , 0. , 0. , ..., 0. , 1. , 0. ],\n",
              "        [0. , 0.5, 1. , ..., 0. , 0. , 1. ]])"
            ]
          },
          "metadata": {
            "tags": []
          },
          "execution_count": 156
        }
      ]
    },
    {
      "cell_type": "markdown",
      "metadata": {
        "id": "UYM9NUftTAv6"
      },
      "source": [
        "### 3. PCA first"
      ]
    },
    {
      "cell_type": "code",
      "metadata": {
        "id": "G9IrcBhcRhlI"
      },
      "source": [
        "from sklearn.decomposition import PCA\n",
        "pca = PCA(n_components=0.80).fit(X)\n"
      ],
      "execution_count": null,
      "outputs": []
    },
    {
      "cell_type": "code",
      "metadata": {
        "id": "O1f3oKPSgY2-"
      },
      "source": [
        "X_pca = PCA(n_components=3).fit_transform(X)\n",
        "scores = []\n",
        "for k in range(2, 10):\n",
        "  spec = SpectralClustering(n_clusters=k).fit(X_pca)\n",
        "  labels = spec.labels_\n",
        "  score = InternalEvaluation(X_pca, spec.labels_)\n",
        "  scores.append(score)\n",
        "draw_scores(scores)"
      ],
      "execution_count": null,
      "outputs": []
    },
    {
      "cell_type": "code",
      "metadata": {
        "id": "fS_1-nT_qq6A",
        "colab": {
          "base_uri": "https://localhost:8080/",
          "height": 34
        },
        "outputId": "1454a3dc-6f1d-4e83-ba46-c3e3bddabeb2"
      },
      "source": [
        "X_pca.shape"
      ],
      "execution_count": null,
      "outputs": [
        {
          "output_type": "execute_result",
          "data": {
            "text/plain": [
              "(4783, 401)"
            ]
          },
          "metadata": {
            "tags": []
          },
          "execution_count": 56
        }
      ]
    },
    {
      "cell_type": "code",
      "metadata": {
        "id": "t8gkeNymS9v_",
        "colab": {
          "base_uri": "https://localhost:8080/",
          "height": 298
        },
        "outputId": "e799e095-9422-46ed-aade-87307f2c9918"
      },
      "source": [
        "from sklearn.decomposition import PCA\n",
        "\n",
        "for n_com in range(2, 20):\n",
        "  X_pca = PCA(n_components=n_com).fit_transform(X)\n",
        "  score = []\n",
        "  for k in range(2, 10):\n",
        "    spec = SpectralClustering(n_clusters=k).fit(X_pca)\n",
        "    labels = spec.labels_\n",
        "    score = InternalEvaluation(X_pca, spec.labels_)\n",
        "    scores_optimal.append(score)\n",
        "  print(\"n_component for PCA\", n_com)\n",
        "  draw_score(scores)"
      ],
      "execution_count": null,
      "outputs": [
        {
          "output_type": "stream",
          "text": [
            "Optimal number of clusters [ 1 15 20 22  3]\n"
          ],
          "name": "stdout"
        },
        {
          "output_type": "display_data",
          "data": {
            "image/png": "[encoded data removed]",
            "text/plain": [
              "<Figure size 432x288 with 1 Axes>"
            ]
          },
          "metadata": {
            "tags": [],
            "needs_background": "light"
          }
        }
      ]
    },
    {
      "cell_type": "code",
      "metadata": {
        "id": "Vpwkk2otZcOb",
        "colab": {
          "base_uri": "https://localhost:8080/",
          "height": 298
        },
        "outputId": "c8dbdb2b-cb64-4071-947f-6bc619a99b5f"
      },
      "source": [
        "from sklearn.decomposition import PCA\n",
        "\n",
        "X_pca = PCA(n_components=2).fit_transform(X)\n",
        "\n",
        "affinity_matrix = SpectralClustering(n_clusters=2).fit(X_pca).affinity_matrix_\n",
        "k, _,  _ = eigenDecomposition(affinity_matrix)\n",
        "print(f'Optimal number of clusters {k}')"
      ],
      "execution_count": null,
      "outputs": [
        {
          "output_type": "stream",
          "text": [
            "Optimal number of clusters [ 1  2  3  4 13]\n"
          ],
          "name": "stdout"
        },
        {
          "output_type": "display_data",
          "data": {
            "image/png": "[encoded data removed]",
            "text/plain": [
              "<Figure size 432x288 with 1 Axes>"
            ]
          },
          "metadata": {
            "tags": [],
            "needs_background": "light"
          }
        }
      ]
    },
    {
      "cell_type": "markdown",
      "metadata": {
        "id": "z_4Yf-QkpHx9"
      },
      "source": [
        "### 4. Sparse PCA first"
      ]
    },
    {
      "cell_type": "code",
      "metadata": {
        "id": "TpzgDn-Oq5C4",
        "colab": {
          "base_uri": "https://localhost:8080/",
          "height": 71
        },
        "outputId": "e4469107-54f6-48f4-b53a-c34c1b14ec47"
      },
      "source": [
        "from sklearn.decomposition import SparsePCA\n",
        "\n",
        "sparse_pca = SparsePCA(n_components=4).fit(X)\n",
        "X_sparse_pca = sparse_pca.transform(X)"
      ],
      "execution_count": null,
      "outputs": [
        {
          "output_type": "stream",
          "text": [
            "/usr/local/lib/python3.6/dist-packages/sklearn/decomposition/sparse_pca.py:170: DeprecationWarning: normalize_components=False is a backward-compatible setting that implements a non-standard definition of sparse PCA. This compatibility mode will be removed in 0.22.\n",
            "  DeprecationWarning)\n"
          ],
          "name": "stderr"
        }
      ]
    },
    {
      "cell_type": "code",
      "metadata": {
        "id": "mZrbRRZS3gNe"
      },
      "source": [
        "def getInstrName(col_index):\n",
        "  instruId = data['PCTPORTFOLIO'].columns[col_index]\n",
        "  name = df[df.INSTRID == instruId].COMNAME.iloc[0]\n",
        "  return name\n",
        "\n",
        "def getInvName(row_index):\n",
        "  invId = data.index[row_index]\n",
        "  name = df[df.LGCYINVESTORID == invId].FULLNAME.iloc[0]\n",
        "  return name"
      ],
      "execution_count": null,
      "outputs": []
    },
    {
      "cell_type": "code",
      "metadata": {
        "id": "tHUiWDTE4REQ",
        "colab": {
          "base_uri": "https://localhost:8080/",
          "height": 85
        },
        "outputId": "e9e74d66-facc-4239-ab3c-bea599214db1"
      },
      "source": [
        "for i in np.nonzero(sparse_pca.components_)[1]:\n",
        "  print(getInstrName(i))"
      ],
      "execution_count": null,
      "outputs": [
        {
          "output_type": "stream",
          "text": [
            "SPDR S&P 500 ETF Trust\n",
            "iShares Core S&P 500 ETF\n",
            "Apple Ord Shs\n",
            "Vanguard Total Stock Market Index Fund;ETF\n"
          ],
          "name": "stdout"
        }
      ]
    },
    {
      "cell_type": "code",
      "metadata": {
        "id": "VMnr-cll91Yq",
        "colab": {
          "base_uri": "https://localhost:8080/",
          "height": 34
        },
        "outputId": "d0573bad-811a-46e7-88e8-9df56e345ade"
      },
      "source": [
        "np.nonzero(sparse_pca.components_)"
      ],
      "execution_count": null,
      "outputs": [
        {
          "output_type": "execute_result",
          "data": {
            "text/plain": [
              "(array([0, 1, 2, 3]), array([4763, 1346, 4187,  711]))"
            ]
          },
          "metadata": {
            "tags": []
          },
          "execution_count": 71
        }
      ]
    },
    {
      "cell_type": "code",
      "metadata": {
        "id": "iwR5xVOb5Rwx",
        "colab": {
          "base_uri": "https://localhost:8080/",
          "height": 308
        },
        "outputId": "cefb8c92-a8a4-4900-b520-79fe9bf84f6a"
      },
      "source": [
        "scores = []\n",
        "for k in range(2, 10):\n",
        "  spec = SpectralClustering(n_clusters=k).fit(X_sparse_pca)\n",
        "  labels = spec.labels_\n",
        "  score = InternalEvaluation(X_sparse_pca, spec.labels_)\n",
        "  scores.append(score)\n",
        "draw_scores(scores)"
      ],
      "execution_count": null,
      "outputs": [
        {
          "output_type": "display_data",
          "data": {
            "image/png": "[encoded data removed]",
            "text/plain": [
              "<Figure size 576x288 with 3 Axes>"
            ]
          },
          "metadata": {
            "tags": [],
            "needs_background": "light"
          }
        }
      ]
    },
    {
      "cell_type": "code",
      "metadata": {
        "id": "krXD-0VeJsx2",
        "colab": {
          "base_uri": "https://localhost:8080/",
          "height": 770
        },
        "outputId": "414557fc-17f6-4e92-840a-7d5ef03b10a3"
      },
      "source": [
        "from sklearn.decomposition import SparsePCA\n",
        "\n",
        "sparse_pca = SparsePCA(n_components=3).fit(X)\n",
        "X_sparse_pca = sparse_pca.transform(X)\n",
        "\n",
        "scores = []\n",
        "for k in range(2, 10):\n",
        "  spec = SpectralClustering(n_clusters=k).fit(X_sparse_pca)\n",
        "  labels = spec.labels_\n",
        "  score = InternalEvaluation(X_sparse_pca, spec.labels_)\n",
        "  scores.append(score)\n",
        "  print('finish clustering for k = ', k)\n",
        "  print(np.bincount(labels))\n",
        "  print(score)\n",
        "draw_scores(scores)"
      ],
      "execution_count": null,
      "outputs": [
        {
          "output_type": "stream",
          "text": [
            "/usr/local/lib/python3.6/dist-packages/sklearn/decomposition/sparse_pca.py:170: DeprecationWarning: normalize_components=False is a backward-compatible setting that implements a non-standard definition of sparse PCA. This compatibility mode will be removed in 0.22.\n",
            "  DeprecationWarning)\n"
          ],
          "name": "stderr"
        },
        {
          "output_type": "stream",
          "text": [
            "finish clustering for k =  2\n",
            "[4639  144]\n",
            "{'_silhouette_score': 0.8217265946668683, '_calinski_harabaz_score': 1640.8202727078742, '_davies_bouldin_score': 1.158387166555947}\n",
            "finish clustering for k =  3\n",
            "[4654   73   56]\n",
            "{'_silhouette_score': 0.8303179875210749, '_calinski_harabaz_score': 2084.131071849016, '_davies_bouldin_score': 0.6177126209410745}\n",
            "finish clustering for k =  4\n",
            "[3673  981   56   73]\n",
            "{'_silhouette_score': 0.5912190424867171, '_calinski_harabaz_score': 2662.268011904768, '_davies_bouldin_score': 0.7029139068437956}\n",
            "finish clustering for k =  5\n",
            "[ 773 3139  742   73   56]\n",
            "{'_silhouette_score': 0.4997609201845723, '_calinski_harabaz_score': 2188.312529870691, '_davies_bouldin_score': 1.0641067378071696}\n",
            "finish clustering for k =  6\n",
            "[3116  766  390  382   56   73]\n",
            "{'_silhouette_score': 0.4645377197697057, '_calinski_harabaz_score': 1791.4204201120203, '_davies_bouldin_score': 1.0608158824964755}\n",
            "finish clustering for k =  7\n",
            "[3119  381    1   56  763   73  390]\n",
            "{'_silhouette_score': 0.18917566477021214, '_calinski_harabaz_score': 1492.7008911051082, '_davies_bouldin_score': 1.089094203421295}\n",
            "finish clustering for k =  8\n",
            "[ 761 3122    1  383  386    1   56   73]\n",
            "{'_silhouette_score': 0.16940675915159145, '_calinski_harabaz_score': 1279.7367504188167, '_davies_bouldin_score': 1.0884114383375088}\n",
            "finish clustering for k =  9\n",
            "[3117    1    1    1  388  764   56   73  382]\n",
            "{'_silhouette_score': 0.1646571686187652, '_calinski_harabaz_score': 1119.2600501966285, '_davies_bouldin_score': 1.1144067012175431}\n"
          ],
          "name": "stdout"
        },
        {
          "output_type": "display_data",
          "data": {
            "image/png": "[encoded data removed]",
            "text/plain": [
              "<Figure size 576x288 with 3 Axes>"
            ]
          },
          "metadata": {
            "tags": [],
            "needs_background": "light"
          }
        }
      ]
    },
    {
      "cell_type": "code",
      "metadata": {
        "id": "PGo64lzQQCyy",
        "colab": {
          "base_uri": "https://localhost:8080/",
          "height": 68
        },
        "outputId": "19522338-cecb-4857-c928-658939f75cb7"
      },
      "source": [
        "for i in np.nonzero(sparse_pca.components_)[1]:\n",
        "  print(getInstrName(i))"
      ],
      "execution_count": null,
      "outputs": [
        {
          "output_type": "stream",
          "text": [
            "SPDR S&P 500 ETF Trust\n",
            "Apple Ord Shs\n",
            "iShares Core S&P 500 ETF\n"
          ],
          "name": "stdout"
        }
      ]
    },
    {
      "cell_type": "code",
      "metadata": {
        "id": "M_FxNu7YQyHG",
        "colab": {
          "base_uri": "https://localhost:8080/",
          "height": 736
        },
        "outputId": "4b6eee51-8de7-4961-e119-55aa327ed5c2"
      },
      "source": [
        "# sparse_pca = SparsePCA(n_components=3).fit(X)\n",
        "# X_sparse_pca = sparse_pca.transform(X)\n",
        "\n",
        "scores = []\n",
        "for k in range(2, 10):\n",
        "  spec = SpectralClustering(n_clusters=k, affinity='nearest_neighbors', n_neighbors= 400).fit(X_sparse_pca)\n",
        "  labels = spec.labels_\n",
        "  score = InternalEvaluation(X_sparse_pca, spec.labels_)\n",
        "  scores.append(score)\n",
        "  print('finish clustering for k = ', k)\n",
        "  print(np.bincount(labels))\n",
        "  print(score)\n",
        "draw_scores(scores)"
      ],
      "execution_count": null,
      "outputs": [
        {
          "output_type": "stream",
          "text": [
            "finish clustering for k =  2\n",
            "[2909 1874]\n",
            "{'_silhouette_score': 0.3857967520555982, '_calinski_harabaz_score': 380.72347898778145, '_davies_bouldin_score': 1.605985859917771}\n",
            "finish clustering for k =  3\n",
            "[2692 1548  543]\n",
            "{'_silhouette_score': 0.32489308758134183, '_calinski_harabaz_score': 626.8664458085199, '_davies_bouldin_score': 1.5584874182203003}\n",
            "finish clustering for k =  4\n",
            "[1116 2670  469  528]\n",
            "{'_silhouette_score': 0.33619091701548637, '_calinski_harabaz_score': 586.4376441114653, '_davies_bouldin_score': 1.4900416560000806}\n",
            "finish clustering for k =  5\n",
            "[2702  317  478  534  752]\n",
            "{'_silhouette_score': 0.4193916959661287, '_calinski_harabaz_score': 504.18315026124867, '_davies_bouldin_score': 1.3482444156311089}\n",
            "finish clustering for k =  6\n",
            "[2569  594  301  406  459  454]\n",
            "{'_silhouette_score': 0.4142113861423985, '_calinski_harabaz_score': 507.2684360635581, '_davies_bouldin_score': 1.3102259865180437}\n",
            "finish clustering for k =  7\n",
            "[ 400 2566  349  434  313  432  289]\n",
            "{'_silhouette_score': 0.42041013745651706, '_calinski_harabaz_score': 465.1467399599511, '_davies_bouldin_score': 1.2055397311652014}\n",
            "finish clustering for k =  8\n",
            "[ 307 2560  252  333  286  343  330  372]\n",
            "{'_silhouette_score': 0.47086865814264417, '_calinski_harabaz_score': 549.1577591529806, '_davies_bouldin_score': 1.162665044269494}\n",
            "finish clustering for k =  9\n",
            "[ 303 2467  298  274  247  368  320  221  285]\n",
            "{'_silhouette_score': 0.46776037094838036, '_calinski_harabaz_score': 546.1421358112485, '_davies_bouldin_score': 1.2029779178182318}\n"
          ],
          "name": "stdout"
        },
        {
          "output_type": "display_data",
          "data": {
            "image/png": "[encoded data removed]",
            "text/plain": [
              "<Figure size 576x288 with 3 Axes>"
            ]
          },
          "metadata": {
            "tags": [],
            "needs_background": "light"
          }
        }
      ]
    },
    {
      "cell_type": "code",
      "metadata": {
        "id": "HsUMHcsoSxiK"
      },
      "source": [
        "# Best k = 4\n",
        "spec = SpectralClustering(n_clusters=4, affinity='nearest_neighbors', n_neighbors= 400).fit(X_sparse_pca)\n",
        "labels = spec.labels_"
      ],
      "execution_count": null,
      "outputs": []
    },
    {
      "cell_type": "code",
      "metadata": {
        "id": "BClMRAjNDupb"
      },
      "source": [
        "# company name for each cluster\n",
        "cluster_result = pd.DataFrame({'labels': labels, 'INVESTORID': data.index})\n",
        "inv_name = df.drop_duplicates(subset = 'LGCYINVESTORID')[['LGCYINVESTORID', 'FULLNAME','EQASSETHOLDVAL']]\n",
        "cluster_result = pd.merge(cluster_result,inv_name, left_on = 'INVESTORID', right_on='LGCYINVESTORID')"
      ],
      "execution_count": null,
      "outputs": []
    },
    {
      "cell_type": "code",
      "metadata": {
        "id": "DsL5v889GwAk",
        "colab": {
          "base_uri": "https://localhost:8080/",
          "height": 765
        },
        "outputId": "f3e90c8c-0c1a-4013-d9fd-e75d22aac9f0"
      },
      "source": [
        "for i in range(max(cluster_result.labels)+1):\n",
        "  print(cluster_result[cluster_result.labels == i].sort_values(by = 'EQASSETHOLDVAL',ascending=False)['FULLNAME'].head(10))"
      ],
      "execution_count": null,
      "outputs": [
        {
          "output_type": "stream",
          "text": [
            "672                        The Vanguard Group, Inc.\n",
            "534     BlackRock Institutional Trust Company, N.A.\n",
            "491               State Street Global Advisors (US)\n",
            "305      Fidelity Management & Research Company LLC\n",
            "933        Norges Bank Investment Management (NBIM)\n",
            "1792               Geode Capital Management, L.L.C.\n",
            "42                       JP Morgan Asset Management\n",
            "275                                      Nuveen LLC\n",
            "417                       BofA Global Research (US)\n",
            "614       BlackRock Investment Management (UK) Ltd.\n",
            "Name: FULLNAME, dtype: object\n",
            "294                              Dodge & Cox\n",
            "599                    Baillie Gifford & Co.\n",
            "453              PRIMECAP Management Company\n",
            "948               Temasek Holdings Pte. Ltd.\n",
            "1099            Renaissance Technologies LLC\n",
            "983     Artisan Partners Limited Partnership\n",
            "995                          Boston Partners\n",
            "442                               PIMCO (US)\n",
            "627         Daiwa Asset Management Co., Ltd.\n",
            "612         M & G Investment Management Ltd.\n",
            "Name: FULLNAME, dtype: object\n",
            "49                          Berkshire Hathaway Inc.\n",
            "1848                 Invesco Capital Management LLC\n",
            "2939     BlackRock Asset Management Ireland Limited\n",
            "796                     Schweizerische Nationalbank\n",
            "48      California State Teachers Retirement System\n",
            "1015            Rhumbline Advisers Ltd. Partnership\n",
            "620                   Asset Management One USA Inc.\n",
            "429      New York State Teachers' Retirement System\n",
            "449           Amundi Pioneer Asset Management, Inc.\n",
            "2475              Magellan Asset Management Limited\n",
            "Name: FULLNAME, dtype: object\n",
            "452                T. Rowe Price Associates, Inc.\n",
            "2553            Capital Research Global Investors\n",
            "532            Wellington Management Company, LLP\n",
            "2552                      Capital World Investors\n",
            "293               Dimensional Fund Advisors, L.P.\n",
            "398                     MFS Investment Management\n",
            "363                        Invesco Advisers, Inc.\n",
            "3343              Capital International Investors\n",
            "2514                 Managed Account Advisors LLC\n",
            "589     Schroder Investment Management Ltd. (SIM)\n",
            "Name: FULLNAME, dtype: object\n"
          ],
          "name": "stdout"
        }
      ]
    },
    {
      "cell_type": "code",
      "metadata": {
        "id": "uc8YyYhpGc5a",
        "colab": {
          "base_uri": "https://localhost:8080/",
          "height": 359
        },
        "outputId": "7f085e8b-3498-43b5-903e-58fafc5ddd91"
      },
      "source": [
        "cluster_result[cluster_result.labels == 1].sort_values(by = 'EQASSETHOLDVAL',ascending=False)[].head(10)"
      ],
      "execution_count": null,
      "outputs": [
        {
          "output_type": "execute_result",
          "data": {
            "text/html": [
              "<div>\n",
              "<style scoped>\n",
              "    .dataframe tbody tr th:only-of-type {\n",
              "        vertical-align: middle;\n",
              "    }\n",
              "\n",
              "    .dataframe tbody tr th {\n",
              "        vertical-align: top;\n",
              "    }\n",
              "\n",
              "    .dataframe thead th {\n",
              "        text-align: right;\n",
              "    }\n",
              "</style>\n",
              "<table border=\"1\" class=\"dataframe\">\n",
              "  <thead>\n",
              "    <tr style=\"text-align: right;\">\n",
              "      <th></th>\n",
              "      <th>labels</th>\n",
              "      <th>INVESTORID</th>\n",
              "      <th>LGCYINVESTORID</th>\n",
              "      <th>FULLNAME</th>\n",
              "      <th>EQASSETHOLDVAL</th>\n",
              "    </tr>\n",
              "  </thead>\n",
              "  <tbody>\n",
              "    <tr>\n",
              "      <th>294</th>\n",
              "      <td>1</td>\n",
              "      <td>2002659</td>\n",
              "      <td>2002659</td>\n",
              "      <td>Dodge &amp; Cox</td>\n",
              "      <td>1.829425e+11</td>\n",
              "    </tr>\n",
              "    <tr>\n",
              "      <th>599</th>\n",
              "      <td>1</td>\n",
              "      <td>2003751</td>\n",
              "      <td>2003751</td>\n",
              "      <td>Baillie Gifford &amp; Co.</td>\n",
              "      <td>1.763340e+11</td>\n",
              "    </tr>\n",
              "    <tr>\n",
              "      <th>453</th>\n",
              "      <td>1</td>\n",
              "      <td>2003132</td>\n",
              "      <td>2003132</td>\n",
              "      <td>PRIMECAP Management Company</td>\n",
              "      <td>1.505200e+11</td>\n",
              "    </tr>\n",
              "    <tr>\n",
              "      <th>948</th>\n",
              "      <td>1</td>\n",
              "      <td>2006130</td>\n",
              "      <td>2006130</td>\n",
              "      <td>Temasek Holdings Pte. Ltd.</td>\n",
              "      <td>1.244961e+11</td>\n",
              "    </tr>\n",
              "    <tr>\n",
              "      <th>1099</th>\n",
              "      <td>1</td>\n",
              "      <td>2007217</td>\n",
              "      <td>2007217</td>\n",
              "      <td>Renaissance Technologies LLC</td>\n",
              "      <td>9.768455e+10</td>\n",
              "    </tr>\n",
              "    <tr>\n",
              "      <th>983</th>\n",
              "      <td>1</td>\n",
              "      <td>2006474</td>\n",
              "      <td>2006474</td>\n",
              "      <td>Artisan Partners Limited Partnership</td>\n",
              "      <td>9.238393e+10</td>\n",
              "    </tr>\n",
              "    <tr>\n",
              "      <th>995</th>\n",
              "      <td>1</td>\n",
              "      <td>2006623</td>\n",
              "      <td>2006623</td>\n",
              "      <td>Boston Partners</td>\n",
              "      <td>9.034172e+10</td>\n",
              "    </tr>\n",
              "    <tr>\n",
              "      <th>442</th>\n",
              "      <td>1</td>\n",
              "      <td>2003101</td>\n",
              "      <td>2003101</td>\n",
              "      <td>PIMCO (US)</td>\n",
              "      <td>8.678696e+10</td>\n",
              "    </tr>\n",
              "    <tr>\n",
              "      <th>627</th>\n",
              "      <td>1</td>\n",
              "      <td>2003905</td>\n",
              "      <td>2003905</td>\n",
              "      <td>Daiwa Asset Management Co., Ltd.</td>\n",
              "      <td>8.460481e+10</td>\n",
              "    </tr>\n",
              "    <tr>\n",
              "      <th>612</th>\n",
              "      <td>1</td>\n",
              "      <td>2003811</td>\n",
              "      <td>2003811</td>\n",
              "      <td>M &amp; G Investment Management Ltd.</td>\n",
              "      <td>8.322903e+10</td>\n",
              "    </tr>\n",
              "  </tbody>\n",
              "</table>\n",
              "</div>"
            ],
            "text/plain": [
              "      labels  INVESTORID  ...                              FULLNAME EQASSETHOLDVAL\n",
              "294        1     2002659  ...                           Dodge & Cox   1.829425e+11\n",
              "599        1     2003751  ...                 Baillie Gifford & Co.   1.763340e+11\n",
              "453        1     2003132  ...           PRIMECAP Management Company   1.505200e+11\n",
              "948        1     2006130  ...            Temasek Holdings Pte. Ltd.   1.244961e+11\n",
              "1099       1     2007217  ...          Renaissance Technologies LLC   9.768455e+10\n",
              "983        1     2006474  ...  Artisan Partners Limited Partnership   9.238393e+10\n",
              "995        1     2006623  ...                       Boston Partners   9.034172e+10\n",
              "442        1     2003101  ...                            PIMCO (US)   8.678696e+10\n",
              "627        1     2003905  ...      Daiwa Asset Management Co., Ltd.   8.460481e+10\n",
              "612        1     2003811  ...      M & G Investment Management Ltd.   8.322903e+10\n",
              "\n",
              "[10 rows x 5 columns]"
            ]
          },
          "metadata": {
            "tags": []
          },
          "execution_count": 55
        }
      ]
    },
    {
      "cell_type": "code",
      "metadata": {
        "id": "T6EJy36YGrLm",
        "colab": {
          "base_uri": "https://localhost:8080/",
          "height": 419
        },
        "outputId": "5c0d560a-cc75-4bc0-f508-2e975bb5550b"
      },
      "source": [
        "cluster_result[cluster_result.labels == 2].sort_values(by = 'EQASSETHOLDVAL',ascending=False)"
      ],
      "execution_count": null,
      "outputs": [
        {
          "output_type": "execute_result",
          "data": {
            "text/html": [
              "<div>\n",
              "<style scoped>\n",
              "    .dataframe tbody tr th:only-of-type {\n",
              "        vertical-align: middle;\n",
              "    }\n",
              "\n",
              "    .dataframe tbody tr th {\n",
              "        vertical-align: top;\n",
              "    }\n",
              "\n",
              "    .dataframe thead th {\n",
              "        text-align: right;\n",
              "    }\n",
              "</style>\n",
              "<table border=\"1\" class=\"dataframe\">\n",
              "  <thead>\n",
              "    <tr style=\"text-align: right;\">\n",
              "      <th></th>\n",
              "      <th>labels</th>\n",
              "      <th>INVESTORID</th>\n",
              "      <th>LGCYINVESTORID</th>\n",
              "      <th>FULLNAME</th>\n",
              "      <th>EQASSETHOLDVAL</th>\n",
              "    </tr>\n",
              "  </thead>\n",
              "  <tbody>\n",
              "    <tr>\n",
              "      <th>49</th>\n",
              "      <td>2</td>\n",
              "      <td>2002019</td>\n",
              "      <td>2002019</td>\n",
              "      <td>Berkshire Hathaway Inc.</td>\n",
              "      <td>2.213258e+11</td>\n",
              "    </tr>\n",
              "    <tr>\n",
              "      <th>1848</th>\n",
              "      <td>2</td>\n",
              "      <td>2655110</td>\n",
              "      <td>2655110</td>\n",
              "      <td>Invesco Capital Management LLC</td>\n",
              "      <td>1.619110e+11</td>\n",
              "    </tr>\n",
              "    <tr>\n",
              "      <th>2939</th>\n",
              "      <td>2</td>\n",
              "      <td>5505145</td>\n",
              "      <td>5505145</td>\n",
              "      <td>BlackRock Asset Management Ireland Limited</td>\n",
              "      <td>1.088215e+11</td>\n",
              "    </tr>\n",
              "    <tr>\n",
              "      <th>796</th>\n",
              "      <td>2</td>\n",
              "      <td>2004635</td>\n",
              "      <td>2004635</td>\n",
              "      <td>Schweizerische Nationalbank</td>\n",
              "      <td>9.789906e+10</td>\n",
              "    </tr>\n",
              "    <tr>\n",
              "      <th>48</th>\n",
              "      <td>2</td>\n",
              "      <td>2002015</td>\n",
              "      <td>2002015</td>\n",
              "      <td>California State Teachers Retirement System</td>\n",
              "      <td>5.310888e+10</td>\n",
              "    </tr>\n",
              "    <tr>\n",
              "      <th>...</th>\n",
              "      <td>...</td>\n",
              "      <td>...</td>\n",
              "      <td>...</td>\n",
              "      <td>...</td>\n",
              "      <td>...</td>\n",
              "    </tr>\n",
              "    <tr>\n",
              "      <th>2182</th>\n",
              "      <td>2</td>\n",
              "      <td>3657538</td>\n",
              "      <td>3657538</td>\n",
              "      <td>First Western Capital Management Company</td>\n",
              "      <td>2.245011e+07</td>\n",
              "    </tr>\n",
              "    <tr>\n",
              "      <th>1495</th>\n",
              "      <td>2</td>\n",
              "      <td>2479376</td>\n",
              "      <td>2479376</td>\n",
              "      <td>CAZ Investments, L.P.</td>\n",
              "      <td>2.192884e+07</td>\n",
              "    </tr>\n",
              "    <tr>\n",
              "      <th>4715</th>\n",
              "      <td>2</td>\n",
              "      <td>9998101</td>\n",
              "      <td>9998101</td>\n",
              "      <td>Miller-Green Financial Services.Inc</td>\n",
              "      <td>2.130727e+07</td>\n",
              "    </tr>\n",
              "    <tr>\n",
              "      <th>1764</th>\n",
              "      <td>2</td>\n",
              "      <td>2614227</td>\n",
              "      <td>2614227</td>\n",
              "      <td>R.G. Niederhoffer Capital Management, Inc.</td>\n",
              "      <td>1.685702e+07</td>\n",
              "    </tr>\n",
              "    <tr>\n",
              "      <th>1988</th>\n",
              "      <td>2</td>\n",
              "      <td>2911325</td>\n",
              "      <td>2911325</td>\n",
              "      <td>Solaris Asset Management, LLC</td>\n",
              "      <td>1.244059e+07</td>\n",
              "    </tr>\n",
              "  </tbody>\n",
              "</table>\n",
              "<p>641 rows × 5 columns</p>\n",
              "</div>"
            ],
            "text/plain": [
              "      labels  ...  EQASSETHOLDVAL\n",
              "49         2  ...    2.213258e+11\n",
              "1848       2  ...    1.619110e+11\n",
              "2939       2  ...    1.088215e+11\n",
              "796        2  ...    9.789906e+10\n",
              "48         2  ...    5.310888e+10\n",
              "...      ...  ...             ...\n",
              "2182       2  ...    2.245011e+07\n",
              "1495       2  ...    2.192884e+07\n",
              "4715       2  ...    2.130727e+07\n",
              "1764       2  ...    1.685702e+07\n",
              "1988       2  ...    1.244059e+07\n",
              "\n",
              "[641 rows x 5 columns]"
            ]
          },
          "metadata": {
            "tags": []
          },
          "execution_count": 52
        }
      ]
    },
    {
      "cell_type": "code",
      "metadata": {
        "id": "YEItRQyKGtuh"
      },
      "source": [
        "cluster_result[cluster_result.labels == 1].sort_values(by = 'EQASSETHOLDVAL',ascending=False)"
      ],
      "execution_count": null,
      "outputs": []
    },
    {
      "cell_type": "code",
      "metadata": {
        "id": "HsF5Wr_3ZOes",
        "colab": {
          "base_uri": "https://localhost:8080/",
          "height": 297
        },
        "outputId": "d6fd6755-11c8-46cd-bc37-3685823cf85b"
      },
      "source": [
        "r# plot the result\n",
        "\n",
        "\n",
        "from itertools import cycle, islice\n",
        "from matplotlib import rcParams\n",
        "colors = np.array(list(islice(cycle(['#377eb8', '#ff7f00', '#4daf4a',\n",
        "                                      '#f781bf', '#a65628', '#984ea3',\n",
        "                                      '#999999', '#e41a1c', '#dede00']),\n",
        "                              int(max(labels) + 1))))\n",
        "\n",
        "fig = plt.figure()\n",
        "ax = plt.axes(projection='3d')\n",
        "components = np.nonzero(sparse_pca.components_)[1]\n",
        "for i in range(1,max(labels) + 1):\n",
        "  index = (labels == i)\n",
        "  ax.scatter3D(X[index,components[0]],X[index,components[1]], X[index,components[2]],color=colors[i],label= 'cluster %i' %i )\n",
        "\n",
        "x_name = getInstrName(components[0])\n",
        "y_name = getInstrName(components[1])\n",
        "z_name = getInstrName(components[2])\n",
        "ax.set_xlabel(x_name,labelpad=2)\n",
        "ax.set_ylabel(y_name,labelpad=2)\n",
        "ax.set_zlabel(z_name,labelpad=2)\n",
        "ax.legend()\n",
        "# rcParams['axes.labelpad'] = 10\n",
        "plt.tight_layout()"
      ],
      "execution_count": null,
      "outputs": [
        {
          "output_type": "display_data",
          "data": {
            "image/png": "[encoded data removed]",
            "text/plain": [
              "<Figure size 432x288 with 1 Axes>"
            ]
          },
          "metadata": {
            "tags": [],
            "needs_background": "light"
          }
        }
      ]
    },
    {
      "cell_type": "code",
      "metadata": {
        "id": "IdenmJkRBXzp",
        "colab": {
          "base_uri": "https://localhost:8080/",
          "height": 34
        },
        "outputId": "6f0a4dcc-a6bc-4d52-9f08-ab9ac6274fef"
      },
      "source": [
        "np.bincount(labels)"
      ],
      "execution_count": null,
      "outputs": [
        {
          "output_type": "execute_result",
          "data": {
            "text/plain": [
              "array([1451, 2027,  641,  664])"
            ]
          },
          "metadata": {
            "tags": []
          },
          "execution_count": 33
        }
      ]
    },
    {
      "cell_type": "code",
      "metadata": {
        "id": "SGdbwG8C__sr",
        "colab": {
          "base_uri": "https://localhost:8080/",
          "height": 297
        },
        "outputId": "d48b5791-cca7-4112-fcba-b78e86437b1b"
      },
      "source": [
        "from itertools import cycle, islice\n",
        "from matplotlib import rcParams\n",
        "colors = np.array(list(islice(cycle(['#377eb8', '#ff7f00', '#4daf4a',\n",
        "                                      '#f781bf', '#a65628', '#984ea3',\n",
        "                                      '#999999', '#e41a1c', '#dede00']),\n",
        "                              int(max(labels) + 1))))\n",
        "\n",
        "fig = plt.figure()\n",
        "ax = plt.axes(projection='3d')\n",
        "components = np.nonzero(sparse_pca.components_)[1]\n",
        "for i in range(max(labels)+1):\n",
        "  if i == 2:\n",
        "    continue\n",
        "  index = (labels == i)\n",
        "  ax.scatter3D(X[index,components[0]],X[index,components[1]], X[index,components[2]],color=colors[i],label= 'cluster %i' %i )\n",
        "\n",
        "x_name = getInstrName(components[0])\n",
        "y_name = getInstrName(components[1])\n",
        "z_name = getInstrName(components[2])\n",
        "ax.set_xlabel(x_name,labelpad=2)\n",
        "ax.set_ylabel(y_name,labelpad=2)\n",
        "ax.set_zlabel(z_name,labelpad=2)\n",
        "ax.legend()\n",
        "# rcParams['axes.labelpad'] = 10\n",
        "plt.tight_layout()"
      ],
      "execution_count": null,
      "outputs": [
        {
          "output_type": "display_data",
          "data": {
            "image/png": "[encoded data removed]",
            "text/plain": [
              "<Figure size 432x288 with 1 Axes>"
            ]
          },
          "metadata": {
            "tags": [],
            "needs_background": "light"
          }
        }
      ]
    },
    {
      "cell_type": "markdown",
      "metadata": {
        "id": "NPd3jENUPCin"
      },
      "source": [
        "### 4. normalize the pct"
      ]
    },
    {
      "cell_type": "code",
      "metadata": {
        "id": "jgdM2xohPQ27",
        "colab": {
          "base_uri": "https://localhost:8080/",
          "height": 71
        },
        "outputId": "a9d60d2f-0f22-440b-b099-77d15d468b83"
      },
      "source": [
        "X_normalize = np.array(X)/np.sum(X, axis = 1)[:, np.newaxis]"
      ],
      "execution_count": null,
      "outputs": [
        {
          "output_type": "stream",
          "text": [
            "/usr/local/lib/python3.6/dist-packages/ipykernel_launcher.py:1: FutureWarning: Support for multi-dimensional indexing (e.g. `obj[:, None]`) is deprecated and will be removed in a future version.  Convert to a numpy array before indexing instead.\n",
            "  \"\"\"Entry point for launching an IPython kernel.\n"
          ],
          "name": "stderr"
        }
      ]
    },
    {
      "cell_type": "code",
      "metadata": {
        "id": "V6raKLy9eI4a"
      },
      "source": [
        "scores = []\n",
        "for k in range(2, 10):\n",
        "  spec = SpectralClustering(n_clusters=k).fit(X_normalize)\n",
        "  labels = spec.labels_\n",
        "  score = InternalEvaluation(X_normalize, spec.labels_)\n",
        "  scores.append(score)"
      ],
      "execution_count": null,
      "outputs": []
    },
    {
      "cell_type": "code",
      "metadata": {
        "id": "8X13Hw90GDDw",
        "colab": {
          "base_uri": "https://localhost:8080/",
          "height": 308
        },
        "outputId": "0932b0b2-c1af-4829-cf72-8c36a9888823"
      },
      "source": [
        "draw_scores(scores)"
      ],
      "execution_count": null,
      "outputs": [
        {
          "output_type": "display_data",
          "data": {
            "image/png": "[encoded data removed]",
            "text/plain": [
              "<Figure size 576x288 with 3 Axes>"
            ]
          },
          "metadata": {
            "tags": [],
            "needs_background": "light"
          }
        }
      ]
    },
    {
      "cell_type": "code",
      "metadata": {
        "id": "Zt0nE8eXRQp5"
      },
      "source": [
        "spec = SpectralClustering(n_clusters=4).fit(X_normalize)\n",
        "labels = spec.labels_\n",
        "score = InternalEvaluation(X_normalize, spec.labels_)"
      ],
      "execution_count": null,
      "outputs": []
    },
    {
      "cell_type": "code",
      "metadata": {
        "id": "LiAvSqzfRU07",
        "colab": {
          "base_uri": "https://localhost:8080/",
          "height": 68
        },
        "outputId": "80a3c302-e7e2-463d-cc5b-79214981d629"
      },
      "source": [
        "score"
      ],
      "execution_count": null,
      "outputs": [
        {
          "output_type": "execute_result",
          "data": {
            "text/plain": [
              "{'_calinski_harabaz_score': 85.6522466524546,\n",
              " '_davies_bouldin_score': 1.5073915535380815,\n",
              " '_silhouette_score': 0.29444459163130793}"
            ]
          },
          "metadata": {
            "tags": []
          },
          "execution_count": 19
        }
      ]
    },
    {
      "cell_type": "code",
      "metadata": {
        "id": "HmvcnYy1Rrk6"
      },
      "source": [
        "spec = SpectralClustering(n_clusters=8).fit(X_normalize)\n",
        "labels = spec.labels_\n",
        "score = InternalEvaluation(X_normalize, spec.labels_)"
      ],
      "execution_count": null,
      "outputs": []
    },
    {
      "cell_type": "code",
      "metadata": {
        "id": "H5kcxTobRwIy",
        "colab": {
          "base_uri": "https://localhost:8080/",
          "height": 68
        },
        "outputId": "c3f30179-f44d-4a66-d7db-05fda2f538df"
      },
      "source": [
        "score"
      ],
      "execution_count": null,
      "outputs": [
        {
          "output_type": "execute_result",
          "data": {
            "text/plain": [
              "{'_calinski_harabaz_score': 61.82283750413565,\n",
              " '_davies_bouldin_score': 2.740618889284282,\n",
              " '_silhouette_score': -0.0039136309851786535}"
            ]
          },
          "metadata": {
            "tags": []
          },
          "execution_count": 22
        }
      ]
    },
    {
      "cell_type": "code",
      "metadata": {
        "id": "n0dSa5YlSUS8"
      },
      "source": [
        ""
      ],
      "execution_count": null,
      "outputs": []
    }
  ]
}