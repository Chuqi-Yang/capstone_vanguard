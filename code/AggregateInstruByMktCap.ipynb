{
  "nbformat": 4,
  "nbformat_minor": 0,
  "metadata": {
    "colab": {
      "name": "AggregateInstruByMktCap.ipynb",
      "provenance": [],
      "collapsed_sections": []
    },
    "kernelspec": {
      "name": "python3",
      "display_name": "Python 3"
    },
    "widgets": {
      "application/vnd.jupyter.widget-state+json": {
        "324a6bb793d3483fbc8493752cef9030": {
          "model_module": "@jupyter-widgets/controls",
          "model_name": "HBoxModel",
          "state": {
            "_view_name": "HBoxView",
            "_dom_classes": [],
            "_model_name": "HBoxModel",
            "_view_module": "@jupyter-widgets/controls",
            "_model_module_version": "1.5.0",
            "_view_count": null,
            "_view_module_version": "1.5.0",
            "box_style": "",
            "layout": "IPY_MODEL_a281dfb717ba4780bd24cc8bb1f3525b",
            "_model_module": "@jupyter-widgets/controls",
            "children": [
              "IPY_MODEL_a9601a7c70ac496997b518bc49710f68",
              "IPY_MODEL_57dade10bdfd4996ab2e46620f98391a"
            ]
          }
        },
        "a281dfb717ba4780bd24cc8bb1f3525b": {
          "model_module": "@jupyter-widgets/base",
          "model_name": "LayoutModel",
          "state": {
            "_view_name": "LayoutView",
            "grid_template_rows": null,
            "right": null,
            "justify_content": null,
            "_view_module": "@jupyter-widgets/base",
            "overflow": null,
            "_model_module_version": "1.2.0",
            "_view_count": null,
            "flex_flow": null,
            "width": null,
            "min_width": null,
            "border": null,
            "align_items": null,
            "bottom": null,
            "_model_module": "@jupyter-widgets/base",
            "top": null,
            "grid_column": null,
            "overflow_y": null,
            "overflow_x": null,
            "grid_auto_flow": null,
            "grid_area": null,
            "grid_template_columns": null,
            "flex": null,
            "_model_name": "LayoutModel",
            "justify_items": null,
            "grid_row": null,
            "max_height": null,
            "align_content": null,
            "visibility": null,
            "align_self": null,
            "height": null,
            "min_height": null,
            "padding": null,
            "grid_auto_rows": null,
            "grid_gap": null,
            "max_width": null,
            "order": null,
            "_view_module_version": "1.2.0",
            "grid_template_areas": null,
            "object_position": null,
            "object_fit": null,
            "grid_auto_columns": null,
            "margin": null,
            "display": null,
            "left": null
          }
        },
        "a9601a7c70ac496997b518bc49710f68": {
          "model_module": "@jupyter-widgets/controls",
          "model_name": "FloatProgressModel",
          "state": {
            "_view_name": "ProgressView",
            "style": "IPY_MODEL_52dde44b988342979a5fe666e411d844",
            "_dom_classes": [],
            "description": "100%",
            "_model_name": "FloatProgressModel",
            "bar_style": "success",
            "max": 184,
            "_view_module": "@jupyter-widgets/controls",
            "_model_module_version": "1.5.0",
            "value": 184,
            "_view_count": null,
            "_view_module_version": "1.5.0",
            "orientation": "horizontal",
            "min": 0,
            "description_tooltip": null,
            "_model_module": "@jupyter-widgets/controls",
            "layout": "IPY_MODEL_5bcdef24424f4d4aa80f2ecd2f0acdb7"
          }
        },
        "57dade10bdfd4996ab2e46620f98391a": {
          "model_module": "@jupyter-widgets/controls",
          "model_name": "HTMLModel",
          "state": {
            "_view_name": "HTMLView",
            "style": "IPY_MODEL_0694deb4bb4345df93116643fe7bd077",
            "_dom_classes": [],
            "description": "",
            "_model_name": "HTMLModel",
            "placeholder": "​",
            "_view_module": "@jupyter-widgets/controls",
            "_model_module_version": "1.5.0",
            "value": " 184/184 [02:43&lt;00:00,  1.12it/s]",
            "_view_count": null,
            "_view_module_version": "1.5.0",
            "description_tooltip": null,
            "_model_module": "@jupyter-widgets/controls",
            "layout": "IPY_MODEL_80376052ecb8427786c9e73146d048e4"
          }
        },
        "52dde44b988342979a5fe666e411d844": {
          "model_module": "@jupyter-widgets/controls",
          "model_name": "ProgressStyleModel",
          "state": {
            "_view_name": "StyleView",
            "_model_name": "ProgressStyleModel",
            "description_width": "initial",
            "_view_module": "@jupyter-widgets/base",
            "_model_module_version": "1.5.0",
            "_view_count": null,
            "_view_module_version": "1.2.0",
            "bar_color": null,
            "_model_module": "@jupyter-widgets/controls"
          }
        },
        "5bcdef24424f4d4aa80f2ecd2f0acdb7": {
          "model_module": "@jupyter-widgets/base",
          "model_name": "LayoutModel",
          "state": {
            "_view_name": "LayoutView",
            "grid_template_rows": null,
            "right": null,
            "justify_content": null,
            "_view_module": "@jupyter-widgets/base",
            "overflow": null,
            "_model_module_version": "1.2.0",
            "_view_count": null,
            "flex_flow": null,
            "width": null,
            "min_width": null,
            "border": null,
            "align_items": null,
            "bottom": null,
            "_model_module": "@jupyter-widgets/base",
            "top": null,
            "grid_column": null,
            "overflow_y": null,
            "overflow_x": null,
            "grid_auto_flow": null,
            "grid_area": null,
            "grid_template_columns": null,
            "flex": null,
            "_model_name": "LayoutModel",
            "justify_items": null,
            "grid_row": null,
            "max_height": null,
            "align_content": null,
            "visibility": null,
            "align_self": null,
            "height": null,
            "min_height": null,
            "padding": null,
            "grid_auto_rows": null,
            "grid_gap": null,
            "max_width": null,
            "order": null,
            "_view_module_version": "1.2.0",
            "grid_template_areas": null,
            "object_position": null,
            "object_fit": null,
            "grid_auto_columns": null,
            "margin": null,
            "display": null,
            "left": null
          }
        },
        "0694deb4bb4345df93116643fe7bd077": {
          "model_module": "@jupyter-widgets/controls",
          "model_name": "DescriptionStyleModel",
          "state": {
            "_view_name": "StyleView",
            "_model_name": "DescriptionStyleModel",
            "description_width": "",
            "_view_module": "@jupyter-widgets/base",
            "_model_module_version": "1.5.0",
            "_view_count": null,
            "_view_module_version": "1.2.0",
            "_model_module": "@jupyter-widgets/controls"
          }
        },
        "80376052ecb8427786c9e73146d048e4": {
          "model_module": "@jupyter-widgets/base",
          "model_name": "LayoutModel",
          "state": {
            "_view_name": "LayoutView",
            "grid_template_rows": null,
            "right": null,
            "justify_content": null,
            "_view_module": "@jupyter-widgets/base",
            "overflow": null,
            "_model_module_version": "1.2.0",
            "_view_count": null,
            "flex_flow": null,
            "width": null,
            "min_width": null,
            "border": null,
            "align_items": null,
            "bottom": null,
            "_model_module": "@jupyter-widgets/base",
            "top": null,
            "grid_column": null,
            "overflow_y": null,
            "overflow_x": null,
            "grid_auto_flow": null,
            "grid_area": null,
            "grid_template_columns": null,
            "flex": null,
            "_model_name": "LayoutModel",
            "justify_items": null,
            "grid_row": null,
            "max_height": null,
            "align_content": null,
            "visibility": null,
            "align_self": null,
            "height": null,
            "min_height": null,
            "padding": null,
            "grid_auto_rows": null,
            "grid_gap": null,
            "max_width": null,
            "order": null,
            "_view_module_version": "1.2.0",
            "grid_template_areas": null,
            "object_position": null,
            "object_fit": null,
            "grid_auto_columns": null,
            "margin": null,
            "display": null,
            "left": null
          }
        },
        "452f86d2300c422293203113337c34f6": {
          "model_module": "@jupyter-widgets/controls",
          "model_name": "HBoxModel",
          "state": {
            "_view_name": "HBoxView",
            "_dom_classes": [],
            "_model_name": "HBoxModel",
            "_view_module": "@jupyter-widgets/controls",
            "_model_module_version": "1.5.0",
            "_view_count": null,
            "_view_module_version": "1.5.0",
            "box_style": "",
            "layout": "IPY_MODEL_086de259d4014be09571c830a79732a8",
            "_model_module": "@jupyter-widgets/controls",
            "children": [
              "IPY_MODEL_5c064d6646ba4894a5f22d2213698216",
              "IPY_MODEL_9f5c85a79cb84c0e9e97f6e0767aecb9"
            ]
          }
        },
        "086de259d4014be09571c830a79732a8": {
          "model_module": "@jupyter-widgets/base",
          "model_name": "LayoutModel",
          "state": {
            "_view_name": "LayoutView",
            "grid_template_rows": null,
            "right": null,
            "justify_content": null,
            "_view_module": "@jupyter-widgets/base",
            "overflow": null,
            "_model_module_version": "1.2.0",
            "_view_count": null,
            "flex_flow": null,
            "width": null,
            "min_width": null,
            "border": null,
            "align_items": null,
            "bottom": null,
            "_model_module": "@jupyter-widgets/base",
            "top": null,
            "grid_column": null,
            "overflow_y": null,
            "overflow_x": null,
            "grid_auto_flow": null,
            "grid_area": null,
            "grid_template_columns": null,
            "flex": null,
            "_model_name": "LayoutModel",
            "justify_items": null,
            "grid_row": null,
            "max_height": null,
            "align_content": null,
            "visibility": null,
            "align_self": null,
            "height": null,
            "min_height": null,
            "padding": null,
            "grid_auto_rows": null,
            "grid_gap": null,
            "max_width": null,
            "order": null,
            "_view_module_version": "1.2.0",
            "grid_template_areas": null,
            "object_position": null,
            "object_fit": null,
            "grid_auto_columns": null,
            "margin": null,
            "display": null,
            "left": null
          }
        },
        "5c064d6646ba4894a5f22d2213698216": {
          "model_module": "@jupyter-widgets/controls",
          "model_name": "FloatProgressModel",
          "state": {
            "_view_name": "ProgressView",
            "style": "IPY_MODEL_a465b97b1a8d4d01a021a5e34231bfcf",
            "_dom_classes": [],
            "description": "100%",
            "_model_name": "FloatProgressModel",
            "bar_style": "success",
            "max": 229,
            "_view_module": "@jupyter-widgets/controls",
            "_model_module_version": "1.5.0",
            "value": 229,
            "_view_count": null,
            "_view_module_version": "1.5.0",
            "orientation": "horizontal",
            "min": 0,
            "description_tooltip": null,
            "_model_module": "@jupyter-widgets/controls",
            "layout": "IPY_MODEL_96ca23c4a5ee486c9ca14dfe36097920"
          }
        },
        "9f5c85a79cb84c0e9e97f6e0767aecb9": {
          "model_module": "@jupyter-widgets/controls",
          "model_name": "HTMLModel",
          "state": {
            "_view_name": "HTMLView",
            "style": "IPY_MODEL_422d6e86f0d54c98a9d25bc14dab284d",
            "_dom_classes": [],
            "description": "",
            "_model_name": "HTMLModel",
            "placeholder": "​",
            "_view_module": "@jupyter-widgets/controls",
            "_model_module_version": "1.5.0",
            "value": " 229/229 [00:09&lt;00:00, 25.23it/s]",
            "_view_count": null,
            "_view_module_version": "1.5.0",
            "description_tooltip": null,
            "_model_module": "@jupyter-widgets/controls",
            "layout": "IPY_MODEL_9b530c841b8f4025b5f5f987a19a4f81"
          }
        },
        "a465b97b1a8d4d01a021a5e34231bfcf": {
          "model_module": "@jupyter-widgets/controls",
          "model_name": "ProgressStyleModel",
          "state": {
            "_view_name": "StyleView",
            "_model_name": "ProgressStyleModel",
            "description_width": "initial",
            "_view_module": "@jupyter-widgets/base",
            "_model_module_version": "1.5.0",
            "_view_count": null,
            "_view_module_version": "1.2.0",
            "bar_color": null,
            "_model_module": "@jupyter-widgets/controls"
          }
        },
        "96ca23c4a5ee486c9ca14dfe36097920": {
          "model_module": "@jupyter-widgets/base",
          "model_name": "LayoutModel",
          "state": {
            "_view_name": "LayoutView",
            "grid_template_rows": null,
            "right": null,
            "justify_content": null,
            "_view_module": "@jupyter-widgets/base",
            "overflow": null,
            "_model_module_version": "1.2.0",
            "_view_count": null,
            "flex_flow": null,
            "width": null,
            "min_width": null,
            "border": null,
            "align_items": null,
            "bottom": null,
            "_model_module": "@jupyter-widgets/base",
            "top": null,
            "grid_column": null,
            "overflow_y": null,
            "overflow_x": null,
            "grid_auto_flow": null,
            "grid_area": null,
            "grid_template_columns": null,
            "flex": null,
            "_model_name": "LayoutModel",
            "justify_items": null,
            "grid_row": null,
            "max_height": null,
            "align_content": null,
            "visibility": null,
            "align_self": null,
            "height": null,
            "min_height": null,
            "padding": null,
            "grid_auto_rows": null,
            "grid_gap": null,
            "max_width": null,
            "order": null,
            "_view_module_version": "1.2.0",
            "grid_template_areas": null,
            "object_position": null,
            "object_fit": null,
            "grid_auto_columns": null,
            "margin": null,
            "display": null,
            "left": null
          }
        },
        "422d6e86f0d54c98a9d25bc14dab284d": {
          "model_module": "@jupyter-widgets/controls",
          "model_name": "DescriptionStyleModel",
          "state": {
            "_view_name": "StyleView",
            "_model_name": "DescriptionStyleModel",
            "description_width": "",
            "_view_module": "@jupyter-widgets/base",
            "_model_module_version": "1.5.0",
            "_view_count": null,
            "_view_module_version": "1.2.0",
            "_model_module": "@jupyter-widgets/controls"
          }
        },
        "9b530c841b8f4025b5f5f987a19a4f81": {
          "model_module": "@jupyter-widgets/base",
          "model_name": "LayoutModel",
          "state": {
            "_view_name": "LayoutView",
            "grid_template_rows": null,
            "right": null,
            "justify_content": null,
            "_view_module": "@jupyter-widgets/base",
            "overflow": null,
            "_model_module_version": "1.2.0",
            "_view_count": null,
            "flex_flow": null,
            "width": null,
            "min_width": null,
            "border": null,
            "align_items": null,
            "bottom": null,
            "_model_module": "@jupyter-widgets/base",
            "top": null,
            "grid_column": null,
            "overflow_y": null,
            "overflow_x": null,
            "grid_auto_flow": null,
            "grid_area": null,
            "grid_template_columns": null,
            "flex": null,
            "_model_name": "LayoutModel",
            "justify_items": null,
            "grid_row": null,
            "max_height": null,
            "align_content": null,
            "visibility": null,
            "align_self": null,
            "height": null,
            "min_height": null,
            "padding": null,
            "grid_auto_rows": null,
            "grid_gap": null,
            "max_width": null,
            "order": null,
            "_view_module_version": "1.2.0",
            "grid_template_areas": null,
            "object_position": null,
            "object_fit": null,
            "grid_auto_columns": null,
            "margin": null,
            "display": null,
            "left": null
          }
        }
      }
    }
  },
  "cells": [
    {
      "cell_type": "code",
      "metadata": {
        "id": "FzQZhDJp9fWH",
        "outputId": "df81ffd5-8ccb-4adb-c148-148a93f3a6fa",
        "colab": {
          "base_uri": "https://localhost:8080/"
        }
      },
      "source": [
        "from google.colab import drive\n",
        "drive.mount('/content/drive')"
      ],
      "execution_count": 1,
      "outputs": [
        {
          "output_type": "stream",
          "text": [
            "Mounted at /content/drive\n"
          ],
          "name": "stdout"
        }
      ]
    },
    {
      "cell_type": "code",
      "metadata": {
        "id": "alAW0VDl9jEp"
      },
      "source": [
        "import os\n",
        "os.chdir(\"/content/drive/My Drive/Capstone\") "
      ],
      "execution_count": 2,
      "outputs": []
    },
    {
      "cell_type": "code",
      "metadata": {
        "id": "Tb0ckZDM9vcD"
      },
      "source": [
        "import pandas as pd\n",
        "import numpy as np\n",
        "from tqdm.notebook import tqdm"
      ],
      "execution_count": 4,
      "outputs": []
    },
    {
      "cell_type": "code",
      "metadata": {
        "id": "D2xCi2Zz9xlm"
      },
      "source": [
        "df = pd.read_csv('./portfolio_13F_new.csv')"
      ],
      "execution_count": 5,
      "outputs": []
    },
    {
      "cell_type": "code",
      "metadata": {
        "id": "DKZo9pVmnHJy",
        "outputId": "5644600b-acfd-4cf7-ca47-23e158f6a7a2",
        "colab": {
          "base_uri": "https://localhost:8080/"
        }
      },
      "source": [
        "len(df['INSTRID'].value_counts())"
      ],
      "execution_count": 6,
      "outputs": [
        {
          "output_type": "execute_result",
          "data": {
            "text/plain": [
              "11013"
            ]
          },
          "metadata": {
            "tags": []
          },
          "execution_count": 6
        }
      ]
    },
    {
      "cell_type": "code",
      "metadata": {
        "id": "urfr4wUToNTb",
        "outputId": "58ae4986-c185-4ccf-a2e0-2af69c786ae2",
        "colab": {
          "base_uri": "https://localhost:8080/",
          "height": 374
        }
      },
      "source": [
        "df.head()"
      ],
      "execution_count": 7,
      "outputs": [
        {
          "output_type": "execute_result",
          "data": {
            "text/html": [
              "<div>\n",
              "<style scoped>\n",
              "    .dataframe tbody tr th:only-of-type {\n",
              "        vertical-align: middle;\n",
              "    }\n",
              "\n",
              "    .dataframe tbody tr th {\n",
              "        vertical-align: top;\n",
              "    }\n",
              "\n",
              "    .dataframe thead th {\n",
              "        text-align: right;\n",
              "    }\n",
              "</style>\n",
              "<table border=\"1\" class=\"dataframe\">\n",
              "  <thead>\n",
              "    <tr style=\"text-align: right;\">\n",
              "      <th></th>\n",
              "      <th>INSTRID</th>\n",
              "      <th>COMNAME</th>\n",
              "      <th>LGCYINVESTORID</th>\n",
              "      <th>FULLNAME</th>\n",
              "      <th>HOLDDATE</th>\n",
              "      <th>SHSHLDVAL</th>\n",
              "      <th>SHSHLDVAL_Sum_ByQuarter</th>\n",
              "      <th>PCTPORTFOLIO_13F</th>\n",
              "    </tr>\n",
              "  </thead>\n",
              "  <tbody>\n",
              "    <tr>\n",
              "      <th>0</th>\n",
              "      <td>8589934603</td>\n",
              "      <td>First Trust Consumer Discretionary AlphaDEX ETF</td>\n",
              "      <td>2003020</td>\n",
              "      <td>BofA Global Research (US)</td>\n",
              "      <td>2020-06-30 00:00:00</td>\n",
              "      <td>15119117.23</td>\n",
              "      <td>3.439259e+11</td>\n",
              "      <td>0.000044</td>\n",
              "    </tr>\n",
              "    <tr>\n",
              "      <th>1</th>\n",
              "      <td>8589934603</td>\n",
              "      <td>First Trust Consumer Discretionary AlphaDEX ETF</td>\n",
              "      <td>2003020</td>\n",
              "      <td>BofA Global Research (US)</td>\n",
              "      <td>2017-06-30 00:00:00</td>\n",
              "      <td>12815061.00</td>\n",
              "      <td>2.976255e+11</td>\n",
              "      <td>0.000043</td>\n",
              "    </tr>\n",
              "    <tr>\n",
              "      <th>2</th>\n",
              "      <td>8589934603</td>\n",
              "      <td>First Trust Consumer Discretionary AlphaDEX ETF</td>\n",
              "      <td>2003020</td>\n",
              "      <td>BofA Global Research (US)</td>\n",
              "      <td>2017-12-31 00:00:00</td>\n",
              "      <td>14477360.58</td>\n",
              "      <td>3.230778e+11</td>\n",
              "      <td>0.000045</td>\n",
              "    </tr>\n",
              "    <tr>\n",
              "      <th>3</th>\n",
              "      <td>8589934603</td>\n",
              "      <td>First Trust Consumer Discretionary AlphaDEX ETF</td>\n",
              "      <td>2003020</td>\n",
              "      <td>BofA Global Research (US)</td>\n",
              "      <td>2018-03-31 00:00:00</td>\n",
              "      <td>12468032.28</td>\n",
              "      <td>3.066132e+11</td>\n",
              "      <td>0.000041</td>\n",
              "    </tr>\n",
              "    <tr>\n",
              "      <th>4</th>\n",
              "      <td>8589934603</td>\n",
              "      <td>First Trust Consumer Discretionary AlphaDEX ETF</td>\n",
              "      <td>2003020</td>\n",
              "      <td>BofA Global Research (US)</td>\n",
              "      <td>2017-03-31 00:00:00</td>\n",
              "      <td>16205549.78</td>\n",
              "      <td>2.879759e+11</td>\n",
              "      <td>0.000056</td>\n",
              "    </tr>\n",
              "  </tbody>\n",
              "</table>\n",
              "</div>"
            ],
            "text/plain": [
              "      INSTRID  ... PCTPORTFOLIO_13F\n",
              "0  8589934603  ...         0.000044\n",
              "1  8589934603  ...         0.000043\n",
              "2  8589934603  ...         0.000045\n",
              "3  8589934603  ...         0.000041\n",
              "4  8589934603  ...         0.000056\n",
              "\n",
              "[5 rows x 8 columns]"
            ]
          },
          "metadata": {
            "tags": []
          },
          "execution_count": 7
        }
      ]
    },
    {
      "cell_type": "code",
      "metadata": {
        "id": "UvO22qMH-kdU",
        "outputId": "52dde95f-604f-41c4-9109-685307cc77aa",
        "colab": {
          "base_uri": "https://localhost:8080/",
          "height": 204
        }
      },
      "source": [
        "mktcap = pd.read_csv('./MktCap_MktCapSize_20160630_20200630.csv')\n",
        "mktcap.head()"
      ],
      "execution_count": 8,
      "outputs": [
        {
          "output_type": "execute_result",
          "data": {
            "text/html": [
              "<div>\n",
              "<style scoped>\n",
              "    .dataframe tbody tr th:only-of-type {\n",
              "        vertical-align: middle;\n",
              "    }\n",
              "\n",
              "    .dataframe tbody tr th {\n",
              "        vertical-align: top;\n",
              "    }\n",
              "\n",
              "    .dataframe thead th {\n",
              "        text-align: right;\n",
              "    }\n",
              "</style>\n",
              "<table border=\"1\" class=\"dataframe\">\n",
              "  <thead>\n",
              "    <tr style=\"text-align: right;\">\n",
              "      <th></th>\n",
              "      <th>InstrId</th>\n",
              "      <th>EffectDate</th>\n",
              "      <th>PrcCloseAct</th>\n",
              "      <th>NumOfShOut</th>\n",
              "      <th>MktCap</th>\n",
              "      <th>MktCapSize</th>\n",
              "    </tr>\n",
              "  </thead>\n",
              "  <tbody>\n",
              "    <tr>\n",
              "      <th>0</th>\n",
              "      <td>8589934595</td>\n",
              "      <td>2016-06-30</td>\n",
              "      <td>0.02</td>\n",
              "      <td>29520523</td>\n",
              "      <td>5.904105e+05</td>\n",
              "      <td>NanoCap</td>\n",
              "    </tr>\n",
              "    <tr>\n",
              "      <th>1</th>\n",
              "      <td>8589934597</td>\n",
              "      <td>2016-06-30</td>\n",
              "      <td>18.51</td>\n",
              "      <td>16347483</td>\n",
              "      <td>3.025919e+08</td>\n",
              "      <td>SmallCap</td>\n",
              "    </tr>\n",
              "    <tr>\n",
              "      <th>2</th>\n",
              "      <td>8589934599</td>\n",
              "      <td>2016-06-30</td>\n",
              "      <td>0.07</td>\n",
              "      <td>40000000</td>\n",
              "      <td>2.800000e+06</td>\n",
              "      <td>NanoCap</td>\n",
              "    </tr>\n",
              "    <tr>\n",
              "      <th>3</th>\n",
              "      <td>8589934600</td>\n",
              "      <td>2016-06-30</td>\n",
              "      <td>1.21</td>\n",
              "      <td>2750000</td>\n",
              "      <td>3.327500e+06</td>\n",
              "      <td>NanoCap</td>\n",
              "    </tr>\n",
              "    <tr>\n",
              "      <th>4</th>\n",
              "      <td>8589934603</td>\n",
              "      <td>2016-06-30</td>\n",
              "      <td>33.72</td>\n",
              "      <td>50700002</td>\n",
              "      <td>1.709604e+09</td>\n",
              "      <td>SmallCap</td>\n",
              "    </tr>\n",
              "  </tbody>\n",
              "</table>\n",
              "</div>"
            ],
            "text/plain": [
              "      InstrId  EffectDate  PrcCloseAct  NumOfShOut        MktCap MktCapSize\n",
              "0  8589934595  2016-06-30         0.02    29520523  5.904105e+05    NanoCap\n",
              "1  8589934597  2016-06-30        18.51    16347483  3.025919e+08   SmallCap\n",
              "2  8589934599  2016-06-30         0.07    40000000  2.800000e+06    NanoCap\n",
              "3  8589934600  2016-06-30         1.21     2750000  3.327500e+06    NanoCap\n",
              "4  8589934603  2016-06-30        33.72    50700002  1.709604e+09   SmallCap"
            ]
          },
          "metadata": {
            "tags": []
          },
          "execution_count": 8
        }
      ]
    },
    {
      "cell_type": "code",
      "metadata": {
        "id": "S-VQuCa9nU-H",
        "outputId": "d5677dce-3426-4f4d-f654-a755f29dbd58",
        "colab": {
          "base_uri": "https://localhost:8080/"
        }
      },
      "source": [
        "len(mktcap['InstrId'].value_counts())"
      ],
      "execution_count": 9,
      "outputs": [
        {
          "output_type": "execute_result",
          "data": {
            "text/plain": [
              "123113"
            ]
          },
          "metadata": {
            "tags": []
          },
          "execution_count": 9
        }
      ]
    },
    {
      "cell_type": "code",
      "metadata": {
        "id": "dsfpABXnyAKf"
      },
      "source": [
        "df['LGCYINVESTORID'] = df['LGCYINVESTORID'].astype(str)\n",
        "df['INSTRID'] = df['INSTRID'].astype(str)\n",
        "df['HOLDDATE'] = df['HOLDDATE'].str.replace(r' 00:00:00', '')\n",
        "# df['LGCYINVESTORID_HOLDDATE'] =  df_sub[['LGCYINVESTORID', 'HOLDDATE']].apply(lambda x: '_'.join(x), axis=1)"
      ],
      "execution_count": 10,
      "outputs": []
    },
    {
      "cell_type": "code",
      "metadata": {
        "id": "ZfATy749yAT4",
        "outputId": "73e7f51a-0f69-406d-f721-9e60f55aa641",
        "colab": {
          "base_uri": "https://localhost:8080/",
          "height": 374
        }
      },
      "source": [
        "df.head()"
      ],
      "execution_count": 11,
      "outputs": [
        {
          "output_type": "execute_result",
          "data": {
            "text/html": [
              "<div>\n",
              "<style scoped>\n",
              "    .dataframe tbody tr th:only-of-type {\n",
              "        vertical-align: middle;\n",
              "    }\n",
              "\n",
              "    .dataframe tbody tr th {\n",
              "        vertical-align: top;\n",
              "    }\n",
              "\n",
              "    .dataframe thead th {\n",
              "        text-align: right;\n",
              "    }\n",
              "</style>\n",
              "<table border=\"1\" class=\"dataframe\">\n",
              "  <thead>\n",
              "    <tr style=\"text-align: right;\">\n",
              "      <th></th>\n",
              "      <th>INSTRID</th>\n",
              "      <th>COMNAME</th>\n",
              "      <th>LGCYINVESTORID</th>\n",
              "      <th>FULLNAME</th>\n",
              "      <th>HOLDDATE</th>\n",
              "      <th>SHSHLDVAL</th>\n",
              "      <th>SHSHLDVAL_Sum_ByQuarter</th>\n",
              "      <th>PCTPORTFOLIO_13F</th>\n",
              "    </tr>\n",
              "  </thead>\n",
              "  <tbody>\n",
              "    <tr>\n",
              "      <th>0</th>\n",
              "      <td>8589934603</td>\n",
              "      <td>First Trust Consumer Discretionary AlphaDEX ETF</td>\n",
              "      <td>2003020</td>\n",
              "      <td>BofA Global Research (US)</td>\n",
              "      <td>2020-06-30</td>\n",
              "      <td>15119117.23</td>\n",
              "      <td>3.439259e+11</td>\n",
              "      <td>0.000044</td>\n",
              "    </tr>\n",
              "    <tr>\n",
              "      <th>1</th>\n",
              "      <td>8589934603</td>\n",
              "      <td>First Trust Consumer Discretionary AlphaDEX ETF</td>\n",
              "      <td>2003020</td>\n",
              "      <td>BofA Global Research (US)</td>\n",
              "      <td>2017-06-30</td>\n",
              "      <td>12815061.00</td>\n",
              "      <td>2.976255e+11</td>\n",
              "      <td>0.000043</td>\n",
              "    </tr>\n",
              "    <tr>\n",
              "      <th>2</th>\n",
              "      <td>8589934603</td>\n",
              "      <td>First Trust Consumer Discretionary AlphaDEX ETF</td>\n",
              "      <td>2003020</td>\n",
              "      <td>BofA Global Research (US)</td>\n",
              "      <td>2017-12-31</td>\n",
              "      <td>14477360.58</td>\n",
              "      <td>3.230778e+11</td>\n",
              "      <td>0.000045</td>\n",
              "    </tr>\n",
              "    <tr>\n",
              "      <th>3</th>\n",
              "      <td>8589934603</td>\n",
              "      <td>First Trust Consumer Discretionary AlphaDEX ETF</td>\n",
              "      <td>2003020</td>\n",
              "      <td>BofA Global Research (US)</td>\n",
              "      <td>2018-03-31</td>\n",
              "      <td>12468032.28</td>\n",
              "      <td>3.066132e+11</td>\n",
              "      <td>0.000041</td>\n",
              "    </tr>\n",
              "    <tr>\n",
              "      <th>4</th>\n",
              "      <td>8589934603</td>\n",
              "      <td>First Trust Consumer Discretionary AlphaDEX ETF</td>\n",
              "      <td>2003020</td>\n",
              "      <td>BofA Global Research (US)</td>\n",
              "      <td>2017-03-31</td>\n",
              "      <td>16205549.78</td>\n",
              "      <td>2.879759e+11</td>\n",
              "      <td>0.000056</td>\n",
              "    </tr>\n",
              "  </tbody>\n",
              "</table>\n",
              "</div>"
            ],
            "text/plain": [
              "      INSTRID  ... PCTPORTFOLIO_13F\n",
              "0  8589934603  ...         0.000044\n",
              "1  8589934603  ...         0.000043\n",
              "2  8589934603  ...         0.000045\n",
              "3  8589934603  ...         0.000041\n",
              "4  8589934603  ...         0.000056\n",
              "\n",
              "[5 rows x 8 columns]"
            ]
          },
          "metadata": {
            "tags": []
          },
          "execution_count": 11
        }
      ]
    },
    {
      "cell_type": "code",
      "metadata": {
        "id": "lGBNfpc6Vsgd",
        "outputId": "16278f61-15d1-4d85-bb18-7a91198c235b",
        "colab": {
          "base_uri": "https://localhost:8080/"
        }
      },
      "source": [
        "len(df['LGCYINVESTORID'].value_counts())"
      ],
      "execution_count": 12,
      "outputs": [
        {
          "output_type": "execute_result",
          "data": {
            "text/plain": [
              "229"
            ]
          },
          "metadata": {
            "tags": []
          },
          "execution_count": 12
        }
      ]
    },
    {
      "cell_type": "code",
      "metadata": {
        "id": "tyg6pgaUV2PR"
      },
      "source": [
        "active_list = pd.read_csv('./active_investor_list.csv')\n",
        "active_list['LgcyInvestorId'] = active_list['LgcyInvestorId'].astype(str)"
      ],
      "execution_count": 13,
      "outputs": []
    },
    {
      "cell_type": "code",
      "metadata": {
        "id": "98xWFInGV2XI",
        "outputId": "8adfa6d2-ba33-444f-87a6-3a6b1288fb0e",
        "colab": {
          "base_uri": "https://localhost:8080/",
          "height": 204
        }
      },
      "source": [
        "active_list.head()"
      ],
      "execution_count": 14,
      "outputs": [
        {
          "output_type": "execute_result",
          "data": {
            "text/html": [
              "<div>\n",
              "<style scoped>\n",
              "    .dataframe tbody tr th:only-of-type {\n",
              "        vertical-align: middle;\n",
              "    }\n",
              "\n",
              "    .dataframe tbody tr th {\n",
              "        vertical-align: top;\n",
              "    }\n",
              "\n",
              "    .dataframe thead th {\n",
              "        text-align: right;\n",
              "    }\n",
              "</style>\n",
              "<table border=\"1\" class=\"dataframe\">\n",
              "  <thead>\n",
              "    <tr style=\"text-align: right;\">\n",
              "      <th></th>\n",
              "      <th>LgcyInvestorId</th>\n",
              "      <th>ActivePct</th>\n",
              "      <th>RecordCount</th>\n",
              "      <th>isActive</th>\n",
              "      <th>FULLNAME</th>\n",
              "    </tr>\n",
              "  </thead>\n",
              "  <tbody>\n",
              "    <tr>\n",
              "      <th>0</th>\n",
              "      <td>2000264</td>\n",
              "      <td>1.000000</td>\n",
              "      <td>23</td>\n",
              "      <td>True</td>\n",
              "      <td>Lone Pine Capital, L.L.C.</td>\n",
              "    </tr>\n",
              "    <tr>\n",
              "      <th>1</th>\n",
              "      <td>2001934</td>\n",
              "      <td>0.693642</td>\n",
              "      <td>346</td>\n",
              "      <td>True</td>\n",
              "      <td>Voya Investment Management LLC</td>\n",
              "    </tr>\n",
              "    <tr>\n",
              "      <th>2</th>\n",
              "      <td>2001935</td>\n",
              "      <td>1.000000</td>\n",
              "      <td>6</td>\n",
              "      <td>True</td>\n",
              "      <td>UBS Financial Services, Inc.</td>\n",
              "    </tr>\n",
              "    <tr>\n",
              "      <th>3</th>\n",
              "      <td>2001989</td>\n",
              "      <td>0.904762</td>\n",
              "      <td>21</td>\n",
              "      <td>True</td>\n",
              "      <td>Ariel Investments, LLC</td>\n",
              "    </tr>\n",
              "    <tr>\n",
              "      <th>4</th>\n",
              "      <td>2001999</td>\n",
              "      <td>0.890733</td>\n",
              "      <td>723</td>\n",
              "      <td>True</td>\n",
              "      <td>JP Morgan Asset Management</td>\n",
              "    </tr>\n",
              "  </tbody>\n",
              "</table>\n",
              "</div>"
            ],
            "text/plain": [
              "  LgcyInvestorId  ActivePct  ...  isActive                        FULLNAME\n",
              "0        2000264   1.000000  ...      True       Lone Pine Capital, L.L.C.\n",
              "1        2001934   0.693642  ...      True  Voya Investment Management LLC\n",
              "2        2001935   1.000000  ...      True    UBS Financial Services, Inc.\n",
              "3        2001989   0.904762  ...      True          Ariel Investments, LLC\n",
              "4        2001999   0.890733  ...      True      JP Morgan Asset Management\n",
              "\n",
              "[5 rows x 5 columns]"
            ]
          },
          "metadata": {
            "tags": []
          },
          "execution_count": 14
        }
      ]
    },
    {
      "cell_type": "code",
      "metadata": {
        "id": "kpVdXdKVV2eQ",
        "outputId": "c84f9f98-07a3-4f55-d6c9-598073060beb",
        "colab": {
          "base_uri": "https://localhost:8080/"
        }
      },
      "source": [
        "active_inv = active_list[active_list['isActive'] == True]['LgcyInvestorId'].values.tolist()\n",
        "len(active_inv)"
      ],
      "execution_count": 15,
      "outputs": [
        {
          "output_type": "execute_result",
          "data": {
            "text/plain": [
              "184"
            ]
          },
          "metadata": {
            "tags": []
          },
          "execution_count": 15
        }
      ]
    },
    {
      "cell_type": "code",
      "metadata": {
        "id": "M2sX5htfWvFV",
        "outputId": "4bf1d02b-9582-40b2-e619-0f4ab7c0cb24",
        "colab": {
          "base_uri": "https://localhost:8080/",
          "height": 895
        }
      },
      "source": [
        "active_df = df[df['LGCYINVESTORID'].isin(active_inv)]\n",
        "active_df"
      ],
      "execution_count": 17,
      "outputs": [
        {
          "output_type": "execute_result",
          "data": {
            "text/html": [
              "<div>\n",
              "<style scoped>\n",
              "    .dataframe tbody tr th:only-of-type {\n",
              "        vertical-align: middle;\n",
              "    }\n",
              "\n",
              "    .dataframe tbody tr th {\n",
              "        vertical-align: top;\n",
              "    }\n",
              "\n",
              "    .dataframe thead th {\n",
              "        text-align: right;\n",
              "    }\n",
              "</style>\n",
              "<table border=\"1\" class=\"dataframe\">\n",
              "  <thead>\n",
              "    <tr style=\"text-align: right;\">\n",
              "      <th></th>\n",
              "      <th>INSTRID</th>\n",
              "      <th>COMNAME</th>\n",
              "      <th>LGCYINVESTORID</th>\n",
              "      <th>FULLNAME</th>\n",
              "      <th>HOLDDATE</th>\n",
              "      <th>SHSHLDVAL</th>\n",
              "      <th>SHSHLDVAL_Sum_ByQuarter</th>\n",
              "      <th>PCTPORTFOLIO_13F</th>\n",
              "    </tr>\n",
              "  </thead>\n",
              "  <tbody>\n",
              "    <tr>\n",
              "      <th>38</th>\n",
              "      <td>8589934707</td>\n",
              "      <td>Hill International Ord Shs</td>\n",
              "      <td>2578454</td>\n",
              "      <td>Two Sigma Investments, LP</td>\n",
              "      <td>2016-09-30</td>\n",
              "      <td>446330.98</td>\n",
              "      <td>4.708608e+10</td>\n",
              "      <td>9.479043e-06</td>\n",
              "    </tr>\n",
              "    <tr>\n",
              "      <th>40</th>\n",
              "      <td>8589934707</td>\n",
              "      <td>Hill International Ord Shs</td>\n",
              "      <td>2578454</td>\n",
              "      <td>Two Sigma Investments, LP</td>\n",
              "      <td>2016-12-31</td>\n",
              "      <td>260038.65</td>\n",
              "      <td>4.931067e+10</td>\n",
              "      <td>5.273476e-06</td>\n",
              "    </tr>\n",
              "    <tr>\n",
              "      <th>60</th>\n",
              "      <td>8589934707</td>\n",
              "      <td>Hill International Ord Shs</td>\n",
              "      <td>2003003</td>\n",
              "      <td>BlackRock Investment Management, LLC</td>\n",
              "      <td>2016-09-30</td>\n",
              "      <td>672788.01</td>\n",
              "      <td>8.125913e+10</td>\n",
              "      <td>8.279538e-06</td>\n",
              "    </tr>\n",
              "    <tr>\n",
              "      <th>61</th>\n",
              "      <td>8589934707</td>\n",
              "      <td>Hill International Ord Shs</td>\n",
              "      <td>2003003</td>\n",
              "      <td>BlackRock Investment Management, LLC</td>\n",
              "      <td>2016-06-30</td>\n",
              "      <td>596832.94</td>\n",
              "      <td>7.890116e+10</td>\n",
              "      <td>7.564311e-06</td>\n",
              "    </tr>\n",
              "    <tr>\n",
              "      <th>62</th>\n",
              "      <td>8589934707</td>\n",
              "      <td>Hill International Ord Shs</td>\n",
              "      <td>2003003</td>\n",
              "      <td>BlackRock Investment Management, LLC</td>\n",
              "      <td>2020-06-30</td>\n",
              "      <td>16703.28</td>\n",
              "      <td>1.117799e+11</td>\n",
              "      <td>1.494301e-07</td>\n",
              "    </tr>\n",
              "    <tr>\n",
              "      <th>...</th>\n",
              "      <td>...</td>\n",
              "      <td>...</td>\n",
              "      <td>...</td>\n",
              "      <td>...</td>\n",
              "      <td>...</td>\n",
              "      <td>...</td>\n",
              "      <td>...</td>\n",
              "      <td>...</td>\n",
              "    </tr>\n",
              "    <tr>\n",
              "      <th>3737805</th>\n",
              "      <td>25769769830</td>\n",
              "      <td>Brookfield Business Partners Units</td>\n",
              "      <td>2002713</td>\n",
              "      <td>U.S. Bancorp Asset Management, Inc.</td>\n",
              "      <td>2019-03-31</td>\n",
              "      <td>2857.01</td>\n",
              "      <td>3.463121e+10</td>\n",
              "      <td>8.249814e-08</td>\n",
              "    </tr>\n",
              "    <tr>\n",
              "      <th>3737806</th>\n",
              "      <td>25769769830</td>\n",
              "      <td>Brookfield Business Partners Units</td>\n",
              "      <td>2002713</td>\n",
              "      <td>U.S. Bancorp Asset Management, Inc.</td>\n",
              "      <td>2017-12-31</td>\n",
              "      <td>2478.24</td>\n",
              "      <td>3.268584e+10</td>\n",
              "      <td>7.581999e-08</td>\n",
              "    </tr>\n",
              "    <tr>\n",
              "      <th>3737807</th>\n",
              "      <td>25769769830</td>\n",
              "      <td>Brookfield Business Partners Units</td>\n",
              "      <td>2002713</td>\n",
              "      <td>U.S. Bancorp Asset Management, Inc.</td>\n",
              "      <td>2017-06-30</td>\n",
              "      <td>2624.43</td>\n",
              "      <td>2.994941e+10</td>\n",
              "      <td>8.762876e-08</td>\n",
              "    </tr>\n",
              "    <tr>\n",
              "      <th>3737808</th>\n",
              "      <td>25769769830</td>\n",
              "      <td>Brookfield Business Partners Units</td>\n",
              "      <td>2002713</td>\n",
              "      <td>U.S. Bancorp Asset Management, Inc.</td>\n",
              "      <td>2018-03-31</td>\n",
              "      <td>2595.62</td>\n",
              "      <td>3.256537e+10</td>\n",
              "      <td>7.970491e-08</td>\n",
              "    </tr>\n",
              "    <tr>\n",
              "      <th>3737809</th>\n",
              "      <td>25769769830</td>\n",
              "      <td>Brookfield Business Partners Units</td>\n",
              "      <td>2002713</td>\n",
              "      <td>U.S. Bancorp Asset Management, Inc.</td>\n",
              "      <td>2017-09-30</td>\n",
              "      <td>2136.84</td>\n",
              "      <td>3.120467e+10</td>\n",
              "      <td>6.847822e-08</td>\n",
              "    </tr>\n",
              "  </tbody>\n",
              "</table>\n",
              "<p>2370475 rows × 8 columns</p>\n",
              "</div>"
            ],
            "text/plain": [
              "             INSTRID  ... PCTPORTFOLIO_13F\n",
              "38        8589934707  ...     9.479043e-06\n",
              "40        8589934707  ...     5.273476e-06\n",
              "60        8589934707  ...     8.279538e-06\n",
              "61        8589934707  ...     7.564311e-06\n",
              "62        8589934707  ...     1.494301e-07\n",
              "...              ...  ...              ...\n",
              "3737805  25769769830  ...     8.249814e-08\n",
              "3737806  25769769830  ...     7.581999e-08\n",
              "3737807  25769769830  ...     8.762876e-08\n",
              "3737808  25769769830  ...     7.970491e-08\n",
              "3737809  25769769830  ...     6.847822e-08\n",
              "\n",
              "[2370475 rows x 8 columns]"
            ]
          },
          "metadata": {
            "tags": []
          },
          "execution_count": 17
        }
      ]
    },
    {
      "cell_type": "code",
      "metadata": {
        "id": "TmeEQqTEyAch"
      },
      "source": [
        "mktcap['InstrId'] = mktcap['InstrId'].astype(str)"
      ],
      "execution_count": 18,
      "outputs": []
    },
    {
      "cell_type": "code",
      "metadata": {
        "id": "8aePbu27yAj0"
      },
      "source": [
        "merge = pd.merge(active_df, mktcap, how='inner', left_on=['INSTRID', 'HOLDDATE'], right_on=['InstrId', 'EffectDate'])"
      ],
      "execution_count": 19,
      "outputs": []
    },
    {
      "cell_type": "code",
      "metadata": {
        "id": "pKs68KO6yArR",
        "outputId": "4d4cf488-4a97-45f6-bc26-1f28f5e3bf9f",
        "colab": {
          "base_uri": "https://localhost:8080/",
          "height": 1000
        }
      },
      "source": [
        "merge.drop(columns=['InstrId', 'EffectDate'])"
      ],
      "execution_count": 20,
      "outputs": [
        {
          "output_type": "execute_result",
          "data": {
            "text/html": [
              "<div>\n",
              "<style scoped>\n",
              "    .dataframe tbody tr th:only-of-type {\n",
              "        vertical-align: middle;\n",
              "    }\n",
              "\n",
              "    .dataframe tbody tr th {\n",
              "        vertical-align: top;\n",
              "    }\n",
              "\n",
              "    .dataframe thead th {\n",
              "        text-align: right;\n",
              "    }\n",
              "</style>\n",
              "<table border=\"1\" class=\"dataframe\">\n",
              "  <thead>\n",
              "    <tr style=\"text-align: right;\">\n",
              "      <th></th>\n",
              "      <th>INSTRID</th>\n",
              "      <th>COMNAME</th>\n",
              "      <th>LGCYINVESTORID</th>\n",
              "      <th>FULLNAME</th>\n",
              "      <th>HOLDDATE</th>\n",
              "      <th>SHSHLDVAL</th>\n",
              "      <th>SHSHLDVAL_Sum_ByQuarter</th>\n",
              "      <th>PCTPORTFOLIO_13F</th>\n",
              "      <th>PrcCloseAct</th>\n",
              "      <th>NumOfShOut</th>\n",
              "      <th>MktCap</th>\n",
              "      <th>MktCapSize</th>\n",
              "    </tr>\n",
              "  </thead>\n",
              "  <tbody>\n",
              "    <tr>\n",
              "      <th>0</th>\n",
              "      <td>8589934707</td>\n",
              "      <td>Hill International Ord Shs</td>\n",
              "      <td>2578454</td>\n",
              "      <td>Two Sigma Investments, LP</td>\n",
              "      <td>2016-09-30</td>\n",
              "      <td>446330.98</td>\n",
              "      <td>4.708608e+10</td>\n",
              "      <td>9.479043e-06</td>\n",
              "      <td>4.6100</td>\n",
              "      <td>51748900</td>\n",
              "      <td>2.385624e+08</td>\n",
              "      <td>MicroCap</td>\n",
              "    </tr>\n",
              "    <tr>\n",
              "      <th>1</th>\n",
              "      <td>8589934707</td>\n",
              "      <td>Hill International Ord Shs</td>\n",
              "      <td>2003003</td>\n",
              "      <td>BlackRock Investment Management, LLC</td>\n",
              "      <td>2016-09-30</td>\n",
              "      <td>672788.01</td>\n",
              "      <td>8.125913e+10</td>\n",
              "      <td>8.279538e-06</td>\n",
              "      <td>4.6100</td>\n",
              "      <td>51748900</td>\n",
              "      <td>2.385624e+08</td>\n",
              "      <td>MicroCap</td>\n",
              "    </tr>\n",
              "    <tr>\n",
              "      <th>2</th>\n",
              "      <td>8589934707</td>\n",
              "      <td>Hill International Ord Shs</td>\n",
              "      <td>2002468</td>\n",
              "      <td>Northern Trust Investments, Inc.</td>\n",
              "      <td>2016-09-30</td>\n",
              "      <td>1535346.67</td>\n",
              "      <td>1.993541e+11</td>\n",
              "      <td>7.701607e-06</td>\n",
              "      <td>4.6100</td>\n",
              "      <td>51748900</td>\n",
              "      <td>2.385624e+08</td>\n",
              "      <td>MicroCap</td>\n",
              "    </tr>\n",
              "    <tr>\n",
              "      <th>3</th>\n",
              "      <td>8589934707</td>\n",
              "      <td>Hill International Ord Shs</td>\n",
              "      <td>2002658</td>\n",
              "      <td>Dimensional Fund Advisors, L.P.</td>\n",
              "      <td>2016-09-30</td>\n",
              "      <td>9591602.88</td>\n",
              "      <td>1.849165e+11</td>\n",
              "      <td>5.186991e-05</td>\n",
              "      <td>4.6100</td>\n",
              "      <td>51748900</td>\n",
              "      <td>2.385624e+08</td>\n",
              "      <td>MicroCap</td>\n",
              "    </tr>\n",
              "    <tr>\n",
              "      <th>4</th>\n",
              "      <td>8589934707</td>\n",
              "      <td>Hill International Ord Shs</td>\n",
              "      <td>2003171</td>\n",
              "      <td>AXA Rosenberg Investment Management LLC</td>\n",
              "      <td>2016-09-30</td>\n",
              "      <td>741490.84</td>\n",
              "      <td>1.320253e+10</td>\n",
              "      <td>5.616276e-05</td>\n",
              "      <td>4.6100</td>\n",
              "      <td>51748900</td>\n",
              "      <td>2.385624e+08</td>\n",
              "      <td>MicroCap</td>\n",
              "    </tr>\n",
              "    <tr>\n",
              "      <th>...</th>\n",
              "      <td>...</td>\n",
              "      <td>...</td>\n",
              "      <td>...</td>\n",
              "      <td>...</td>\n",
              "      <td>...</td>\n",
              "      <td>...</td>\n",
              "      <td>...</td>\n",
              "      <td>...</td>\n",
              "      <td>...</td>\n",
              "      <td>...</td>\n",
              "      <td>...</td>\n",
              "      <td>...</td>\n",
              "    </tr>\n",
              "    <tr>\n",
              "      <th>2370081</th>\n",
              "      <td>25769769830</td>\n",
              "      <td>Brookfield Business Partners Units</td>\n",
              "      <td>2003332</td>\n",
              "      <td>Principal Global Investors (Equity)</td>\n",
              "      <td>2020-06-30</td>\n",
              "      <td>16655037.65</td>\n",
              "      <td>1.135159e+11</td>\n",
              "      <td>1.467199e-04</td>\n",
              "      <td>30.7891</td>\n",
              "      <td>80890655</td>\n",
              "      <td>2.490550e+09</td>\n",
              "      <td>MidCap</td>\n",
              "    </tr>\n",
              "    <tr>\n",
              "      <th>2370082</th>\n",
              "      <td>25769769830</td>\n",
              "      <td>Brookfield Business Partners Units</td>\n",
              "      <td>2002389</td>\n",
              "      <td>Paloma Partners Management Company</td>\n",
              "      <td>2020-06-30</td>\n",
              "      <td>223374.68</td>\n",
              "      <td>4.704608e+09</td>\n",
              "      <td>4.747998e-05</td>\n",
              "      <td>30.7891</td>\n",
              "      <td>80890655</td>\n",
              "      <td>2.490550e+09</td>\n",
              "      <td>MidCap</td>\n",
              "    </tr>\n",
              "    <tr>\n",
              "      <th>2370083</th>\n",
              "      <td>25769769830</td>\n",
              "      <td>Brookfield Business Partners Units</td>\n",
              "      <td>2002713</td>\n",
              "      <td>U.S. Bancorp Asset Management, Inc.</td>\n",
              "      <td>2020-06-30</td>\n",
              "      <td>2216.81</td>\n",
              "      <td>3.809195e+10</td>\n",
              "      <td>5.819629e-08</td>\n",
              "      <td>30.7891</td>\n",
              "      <td>80890655</td>\n",
              "      <td>2.490550e+09</td>\n",
              "      <td>MidCap</td>\n",
              "    </tr>\n",
              "    <tr>\n",
              "      <th>2370084</th>\n",
              "      <td>44645091900</td>\n",
              "      <td>Entergy Arkansas First Mortgage Bonds 4.90% Se...</td>\n",
              "      <td>2002848</td>\n",
              "      <td>Columbia Threadneedle Investments (US)</td>\n",
              "      <td>2016-12-31</td>\n",
              "      <td>251356.42</td>\n",
              "      <td>1.665482e+11</td>\n",
              "      <td>1.509211e-06</td>\n",
              "      <td>21.7700</td>\n",
              "      <td>8000000</td>\n",
              "      <td>1.741600e+08</td>\n",
              "      <td>MicroCap</td>\n",
              "    </tr>\n",
              "    <tr>\n",
              "      <th>2370085</th>\n",
              "      <td>44645091900</td>\n",
              "      <td>Entergy Arkansas First Mortgage Bonds 4.90% Se...</td>\n",
              "      <td>2002848</td>\n",
              "      <td>Columbia Threadneedle Investments (US)</td>\n",
              "      <td>2016-09-30</td>\n",
              "      <td>277013.88</td>\n",
              "      <td>1.615652e+11</td>\n",
              "      <td>1.714564e-06</td>\n",
              "      <td>25.7400</td>\n",
              "      <td>8000000</td>\n",
              "      <td>2.059200e+08</td>\n",
              "      <td>MicroCap</td>\n",
              "    </tr>\n",
              "  </tbody>\n",
              "</table>\n",
              "<p>2370086 rows × 12 columns</p>\n",
              "</div>"
            ],
            "text/plain": [
              "             INSTRID  ... MktCapSize\n",
              "0         8589934707  ...   MicroCap\n",
              "1         8589934707  ...   MicroCap\n",
              "2         8589934707  ...   MicroCap\n",
              "3         8589934707  ...   MicroCap\n",
              "4         8589934707  ...   MicroCap\n",
              "...              ...  ...        ...\n",
              "2370081  25769769830  ...     MidCap\n",
              "2370082  25769769830  ...     MidCap\n",
              "2370083  25769769830  ...     MidCap\n",
              "2370084  44645091900  ...   MicroCap\n",
              "2370085  44645091900  ...   MicroCap\n",
              "\n",
              "[2370086 rows x 12 columns]"
            ]
          },
          "metadata": {
            "tags": []
          },
          "execution_count": 20
        }
      ]
    },
    {
      "cell_type": "code",
      "metadata": {
        "id": "pFgqEBa8pMr9",
        "outputId": "6a3cae75-cb0c-4e88-95a6-2eafb5975b16",
        "colab": {
          "base_uri": "https://localhost:8080/"
        }
      },
      "source": [
        "len(merge['INSTRID'].value_counts())"
      ],
      "execution_count": 21,
      "outputs": [
        {
          "output_type": "execute_result",
          "data": {
            "text/plain": [
              "10931"
            ]
          },
          "metadata": {
            "tags": []
          },
          "execution_count": 21
        }
      ]
    },
    {
      "cell_type": "code",
      "metadata": {
        "id": "aGw5SnFY5-7M"
      },
      "source": [
        "agg_mktcap_pivot = pd.pivot_table(merge,index = ['LGCYINVESTORID', 'HOLDDATE'], columns = ['MktCapSize'],values=['PCTPORTFOLIO_13F'],aggfunc=[np.sum],fill_value=0)\n",
        "# inves_instr_pivot.columns = inves_instr_pivot.columns.droplevel()"
      ],
      "execution_count": 92,
      "outputs": []
    },
    {
      "cell_type": "code",
      "metadata": {
        "id": "aH2GH0z_p1nh",
        "outputId": "31d12a8e-43b5-4e55-fb5c-3e6a715b27fc",
        "colab": {
          "base_uri": "https://localhost:8080/",
          "height": 512
        }
      },
      "source": [
        "agg_mktcap_pivot"
      ],
      "execution_count": 93,
      "outputs": [
        {
          "output_type": "execute_result",
          "data": {
            "text/html": [
              "<div>\n",
              "<style scoped>\n",
              "    .dataframe tbody tr th:only-of-type {\n",
              "        vertical-align: middle;\n",
              "    }\n",
              "\n",
              "    .dataframe tbody tr th {\n",
              "        vertical-align: top;\n",
              "    }\n",
              "\n",
              "    .dataframe thead tr th {\n",
              "        text-align: left;\n",
              "    }\n",
              "\n",
              "    .dataframe thead tr:last-of-type th {\n",
              "        text-align: right;\n",
              "    }\n",
              "</style>\n",
              "<table border=\"1\" class=\"dataframe\">\n",
              "  <thead>\n",
              "    <tr>\n",
              "      <th></th>\n",
              "      <th></th>\n",
              "      <th colspan=\"6\" halign=\"left\">sum</th>\n",
              "    </tr>\n",
              "    <tr>\n",
              "      <th></th>\n",
              "      <th></th>\n",
              "      <th colspan=\"6\" halign=\"left\">PCTPORTFOLIO_13F</th>\n",
              "    </tr>\n",
              "    <tr>\n",
              "      <th></th>\n",
              "      <th>MktCapSize</th>\n",
              "      <th>LargeCap</th>\n",
              "      <th>MegaCap</th>\n",
              "      <th>MicroCap</th>\n",
              "      <th>MidCap</th>\n",
              "      <th>NanoCap</th>\n",
              "      <th>SmallCap</th>\n",
              "    </tr>\n",
              "    <tr>\n",
              "      <th>LGCYINVESTORID</th>\n",
              "      <th>HOLDDATE</th>\n",
              "      <th></th>\n",
              "      <th></th>\n",
              "      <th></th>\n",
              "      <th></th>\n",
              "      <th></th>\n",
              "      <th></th>\n",
              "    </tr>\n",
              "  </thead>\n",
              "  <tbody>\n",
              "    <tr>\n",
              "      <th rowspan=\"5\" valign=\"top\">10075382</th>\n",
              "      <th>2018-12-31</th>\n",
              "      <td>0.786460</td>\n",
              "      <td>0.085594</td>\n",
              "      <td>0.000000</td>\n",
              "      <td>0.127904</td>\n",
              "      <td>0.000000e+00</td>\n",
              "      <td>0.000041</td>\n",
              "    </tr>\n",
              "    <tr>\n",
              "      <th>2019-03-31</th>\n",
              "      <td>0.776636</td>\n",
              "      <td>0.111391</td>\n",
              "      <td>0.000000</td>\n",
              "      <td>0.111974</td>\n",
              "      <td>0.000000e+00</td>\n",
              "      <td>0.000000</td>\n",
              "    </tr>\n",
              "    <tr>\n",
              "      <th>2019-06-30</th>\n",
              "      <td>0.768383</td>\n",
              "      <td>0.180804</td>\n",
              "      <td>0.000000</td>\n",
              "      <td>0.050812</td>\n",
              "      <td>0.000000e+00</td>\n",
              "      <td>0.000000</td>\n",
              "    </tr>\n",
              "    <tr>\n",
              "      <th>2019-09-30</th>\n",
              "      <td>0.723701</td>\n",
              "      <td>0.211930</td>\n",
              "      <td>0.000000</td>\n",
              "      <td>0.064368</td>\n",
              "      <td>0.000000e+00</td>\n",
              "      <td>0.000000</td>\n",
              "    </tr>\n",
              "    <tr>\n",
              "      <th>2019-12-31</th>\n",
              "      <td>0.728066</td>\n",
              "      <td>0.231642</td>\n",
              "      <td>0.000000</td>\n",
              "      <td>0.038943</td>\n",
              "      <td>0.000000e+00</td>\n",
              "      <td>0.001348</td>\n",
              "    </tr>\n",
              "    <tr>\n",
              "      <th>...</th>\n",
              "      <th>...</th>\n",
              "      <td>...</td>\n",
              "      <td>...</td>\n",
              "      <td>...</td>\n",
              "      <td>...</td>\n",
              "      <td>...</td>\n",
              "      <td>...</td>\n",
              "    </tr>\n",
              "    <tr>\n",
              "      <th rowspan=\"5\" valign=\"top\">9113038</th>\n",
              "      <th>2019-06-30</th>\n",
              "      <td>0.481773</td>\n",
              "      <td>0.304416</td>\n",
              "      <td>0.000592</td>\n",
              "      <td>0.169023</td>\n",
              "      <td>0.000000e+00</td>\n",
              "      <td>0.044197</td>\n",
              "    </tr>\n",
              "    <tr>\n",
              "      <th>2019-09-30</th>\n",
              "      <td>0.486167</td>\n",
              "      <td>0.302835</td>\n",
              "      <td>0.001159</td>\n",
              "      <td>0.162581</td>\n",
              "      <td>0.000000e+00</td>\n",
              "      <td>0.047257</td>\n",
              "    </tr>\n",
              "    <tr>\n",
              "      <th>2019-12-31</th>\n",
              "      <td>0.477020</td>\n",
              "      <td>0.312607</td>\n",
              "      <td>0.000588</td>\n",
              "      <td>0.167541</td>\n",
              "      <td>0.000000e+00</td>\n",
              "      <td>0.042244</td>\n",
              "    </tr>\n",
              "    <tr>\n",
              "      <th>2020-03-31</th>\n",
              "      <td>0.494611</td>\n",
              "      <td>0.283755</td>\n",
              "      <td>0.003212</td>\n",
              "      <td>0.157769</td>\n",
              "      <td>1.581639e-05</td>\n",
              "      <td>0.060636</td>\n",
              "    </tr>\n",
              "    <tr>\n",
              "      <th>2020-06-30</th>\n",
              "      <td>0.472083</td>\n",
              "      <td>0.316396</td>\n",
              "      <td>0.001672</td>\n",
              "      <td>0.157907</td>\n",
              "      <td>1.421072e-07</td>\n",
              "      <td>0.051942</td>\n",
              "    </tr>\n",
              "  </tbody>\n",
              "</table>\n",
              "<p>2996 rows × 6 columns</p>\n",
              "</div>"
            ],
            "text/plain": [
              "                                       sum            ...                        \n",
              "                          PCTPORTFOLIO_13F            ...                        \n",
              "MktCapSize                        LargeCap   MegaCap  ...       NanoCap  SmallCap\n",
              "LGCYINVESTORID HOLDDATE                               ...                        \n",
              "10075382       2018-12-31         0.786460  0.085594  ...  0.000000e+00  0.000041\n",
              "               2019-03-31         0.776636  0.111391  ...  0.000000e+00  0.000000\n",
              "               2019-06-30         0.768383  0.180804  ...  0.000000e+00  0.000000\n",
              "               2019-09-30         0.723701  0.211930  ...  0.000000e+00  0.000000\n",
              "               2019-12-31         0.728066  0.231642  ...  0.000000e+00  0.001348\n",
              "...                                    ...       ...  ...           ...       ...\n",
              "9113038        2019-06-30         0.481773  0.304416  ...  0.000000e+00  0.044197\n",
              "               2019-09-30         0.486167  0.302835  ...  0.000000e+00  0.047257\n",
              "               2019-12-31         0.477020  0.312607  ...  0.000000e+00  0.042244\n",
              "               2020-03-31         0.494611  0.283755  ...  1.581639e-05  0.060636\n",
              "               2020-06-30         0.472083  0.316396  ...  1.421072e-07  0.051942\n",
              "\n",
              "[2996 rows x 6 columns]"
            ]
          },
          "metadata": {
            "tags": []
          },
          "execution_count": 93
        }
      ]
    },
    {
      "cell_type": "code",
      "metadata": {
        "id": "MHwwlgLKT8Tt",
        "outputId": "fe3bb019-77ed-4a96-d736-6a35a452c04f",
        "colab": {
          "base_uri": "https://localhost:8080/"
        }
      },
      "source": [
        "investor_set = set(agg_mktcap_pivot.index.get_level_values('LGCYINVESTORID'))\n",
        "print(len(investor_set))"
      ],
      "execution_count": 94,
      "outputs": [
        {
          "output_type": "stream",
          "text": [
            "184\n"
          ],
          "name": "stdout"
        }
      ]
    },
    {
      "cell_type": "code",
      "metadata": {
        "id": "--CQt5cFVHG2",
        "outputId": "927f9d5e-956a-4d36-af34-1825b6d0f5b9",
        "colab": {
          "base_uri": "https://localhost:8080/"
        }
      },
      "source": [
        "holddate_set = set(agg_mktcap_pivot.index.get_level_values('HOLDDATE'))\n",
        "print(len(holddate_set))"
      ],
      "execution_count": 95,
      "outputs": [
        {
          "output_type": "stream",
          "text": [
            "17\n"
          ],
          "name": "stdout"
        }
      ]
    },
    {
      "cell_type": "code",
      "metadata": {
        "id": "omCcIs9oVWpn",
        "outputId": "d6c424d2-6e42-4492-e391-6e5d99c02dbb",
        "colab": {
          "base_uri": "https://localhost:8080/"
        }
      },
      "source": [
        "print(len(investor_set)*len(holddate_set))\n",
        "print(len(agg_mktcap_pivot))"
      ],
      "execution_count": 96,
      "outputs": [
        {
          "output_type": "stream",
          "text": [
            "3128\n",
            "2996\n"
          ],
          "name": "stdout"
        }
      ]
    },
    {
      "cell_type": "code",
      "metadata": {
        "id": "g0FXn4xcWTku",
        "outputId": "d75cc927-5911-4deb-909e-51f9d8df4338",
        "colab": {
          "base_uri": "https://localhost:8080/"
        }
      },
      "source": [
        "agg_mktcap_pivot[agg_mktcap_pivot.index.get_level_values('LGCYINVESTORID') == '10075382'].index.get_level_values('HOLDDATE').to_list()"
      ],
      "execution_count": 97,
      "outputs": [
        {
          "output_type": "execute_result",
          "data": {
            "text/plain": [
              "['2018-12-31',\n",
              " '2019-03-31',\n",
              " '2019-06-30',\n",
              " '2019-09-30',\n",
              " '2019-12-31',\n",
              " '2020-03-31',\n",
              " '2020-06-30']"
            ]
          },
          "metadata": {
            "tags": []
          },
          "execution_count": 97
        }
      ]
    },
    {
      "cell_type": "code",
      "metadata": {
        "id": "L4_njAAbrn0n"
      },
      "source": [
        "mktcap_cat = ['PctLargeCap', 'MegaCap', 'MicroCap', 'MidCap', 'NanoCap', 'SmallCap']"
      ],
      "execution_count": 98,
      "outputs": []
    },
    {
      "cell_type": "code",
      "metadata": {
        "id": "8rTVflYmbzZR"
      },
      "source": [
        "agg_mktcap_pivot.columns = mktcap_cat"
      ],
      "execution_count": 99,
      "outputs": []
    },
    {
      "cell_type": "code",
      "metadata": {
        "id": "pncAQAcOgLov"
      },
      "source": [
        "agg_mktcap_pivot = agg_mktcap_pivot.reset_index()"
      ],
      "execution_count": 100,
      "outputs": []
    },
    {
      "cell_type": "code",
      "metadata": {
        "id": "PwNlgm9FTzzS",
        "outputId": "40b4a8e5-ea13-41e4-95a8-09aacf275f21",
        "colab": {
          "base_uri": "https://localhost:8080/"
        }
      },
      "source": [
        "for inv in investor_set:\n",
        "  holddates = set(agg_mktcap_pivot[agg_mktcap_pivot['LGCYINVESTORID']==inv]['HOLDDATE'].to_list())\n",
        "  if len(holddates) < len(holddate_set):\n",
        "    print('Investor ID:', inv, ' missing:')\n",
        "    print(holddate_set - holddates)\n",
        "    missing_dates = holddate_set - holddates\n",
        "    for md in missing_dates:\n",
        "      agg_mktcap_pivot = agg_mktcap_pivot.append([{'LGCYINVESTORID': inv, 'HOLDDATE':md}])"
      ],
      "execution_count": 101,
      "outputs": [
        {
          "output_type": "stream",
          "text": [
            "Investor ID: 2930530  missing:\n",
            "{'2017-12-31'}\n",
            "Investor ID: 5206490  missing:\n",
            "{'2020-03-31', '2020-06-30'}\n",
            "Investor ID: 5308615  missing:\n",
            "{'2016-12-31', '2016-09-30', '2017-09-30', '2017-06-30', '2017-03-31'}\n",
            "Investor ID: 2003597  missing:\n",
            "{'2018-09-30', '2016-06-30', '2016-12-31', '2018-06-30', '2016-09-30', '2017-09-30', '2017-06-30', '2017-12-31', '2018-03-31', '2017-03-31'}\n",
            "Investor ID: 2502059  missing:\n",
            "{'2020-03-31'}\n",
            "Investor ID: 2646754  missing:\n",
            "{'2018-09-30', '2016-12-31', '2018-06-30', '2016-09-30', '2017-09-30', '2017-06-30', '2017-12-31', '2019-09-30', '2017-03-31', '2019-06-30', '2019-03-31', '2018-12-31', '2018-03-31', '2016-06-30'}\n",
            "Investor ID: 3965008  missing:\n",
            "{'2020-03-31', '2020-06-30', '2016-06-30'}\n",
            "Investor ID: 5200477  missing:\n",
            "{'2018-09-30', '2016-06-30', '2016-12-31', '2018-06-30', '2019-12-31', '2016-09-30', '2017-06-30', '2017-09-30', '2017-12-31', '2018-03-31', '2020-03-31', '2020-06-30', '2017-03-31'}\n",
            "Investor ID: 4962258  missing:\n",
            "{'2018-09-30', '2016-12-31', '2018-06-30', '2016-09-30', '2017-09-30', '2017-06-30', '2017-12-31', '2019-09-30', '2017-03-31', '2019-06-30', '2019-03-31', '2018-12-31', '2018-03-31', '2016-06-30'}\n",
            "Investor ID: 10075382  missing:\n",
            "{'2018-09-30', '2016-06-30', '2016-12-31', '2018-06-30', '2016-09-30', '2017-09-30', '2017-06-30', '2017-12-31', '2018-03-31', '2017-03-31'}\n",
            "Investor ID: 2275507  missing:\n",
            "{'2016-06-30', '2016-12-31', '2016-09-30', '2017-09-30', '2017-06-30', '2017-03-31'}\n",
            "Investor ID: 10110259  missing:\n",
            "{'2018-09-30', '2016-06-30', '2016-12-31', '2018-06-30', '2016-09-30', '2017-09-30', '2017-06-30', '2018-12-31', '2017-12-31', '2018-03-31', '2017-03-31'}\n",
            "Investor ID: 2420555  missing:\n",
            "{'2016-09-30', '2016-06-30'}\n",
            "Investor ID: 4059340  missing:\n",
            "{'2020-03-31'}\n",
            "Investor ID: 5986931  missing:\n",
            "{'2016-09-30', '2016-06-30'}\n",
            "Investor ID: 2536411  missing:\n",
            "{'2018-09-30', '2016-12-31', '2018-06-30', '2016-09-30', '2017-09-30', '2017-06-30', '2017-12-31', '2020-03-31', '2019-09-30', '2017-03-31', '2019-06-30', '2019-03-31', '2018-12-31', '2018-03-31', '2020-06-30', '2016-06-30'}\n",
            "Investor ID: 7016524  missing:\n",
            "{'2016-06-30', '2016-12-31', '2016-09-30', '2017-09-30', '2017-06-30', '2017-12-31', '2017-03-31'}\n",
            "Investor ID: 2007683  missing:\n",
            "{'2019-12-31', '2020-03-31', '2020-06-30'}\n",
            "Investor ID: 6139212  missing:\n",
            "{'2019-03-31', '2019-06-30', '2019-12-31', '2020-06-30', '2019-09-30'}\n",
            "Investor ID: 9113038  missing:\n",
            "{'2016-06-30', '2016-12-31', '2016-09-30', '2017-09-30', '2017-06-30', '2017-03-31'}\n"
          ],
          "name": "stdout"
        }
      ]
    },
    {
      "cell_type": "code",
      "metadata": {
        "id": "na9o1xtNh9hA"
      },
      "source": [
        "agg_mktcap_pivot = agg_mktcap_pivot.fillna(0)"
      ],
      "execution_count": 102,
      "outputs": []
    },
    {
      "cell_type": "code",
      "metadata": {
        "id": "fcXgaOIWrGHl",
        "outputId": "3d391d1e-400b-450e-d8e3-7b4cc0e400af",
        "colab": {
          "base_uri": "https://localhost:8080/",
          "height": 204
        }
      },
      "source": [
        "agg_mktcap_pivot.head()"
      ],
      "execution_count": 104,
      "outputs": [
        {
          "output_type": "execute_result",
          "data": {
            "text/html": [
              "<div>\n",
              "<style scoped>\n",
              "    .dataframe tbody tr th:only-of-type {\n",
              "        vertical-align: middle;\n",
              "    }\n",
              "\n",
              "    .dataframe tbody tr th {\n",
              "        vertical-align: top;\n",
              "    }\n",
              "\n",
              "    .dataframe thead th {\n",
              "        text-align: right;\n",
              "    }\n",
              "</style>\n",
              "<table border=\"1\" class=\"dataframe\">\n",
              "  <thead>\n",
              "    <tr style=\"text-align: right;\">\n",
              "      <th></th>\n",
              "      <th>LGCYINVESTORID</th>\n",
              "      <th>HOLDDATE</th>\n",
              "      <th>PctLargeCap</th>\n",
              "      <th>MegaCap</th>\n",
              "      <th>MicroCap</th>\n",
              "      <th>MidCap</th>\n",
              "      <th>NanoCap</th>\n",
              "      <th>SmallCap</th>\n",
              "    </tr>\n",
              "  </thead>\n",
              "  <tbody>\n",
              "    <tr>\n",
              "      <th>0</th>\n",
              "      <td>10075382</td>\n",
              "      <td>2018-12-31</td>\n",
              "      <td>0.786460</td>\n",
              "      <td>0.085594</td>\n",
              "      <td>0.0</td>\n",
              "      <td>0.127904</td>\n",
              "      <td>0.0</td>\n",
              "      <td>0.000041</td>\n",
              "    </tr>\n",
              "    <tr>\n",
              "      <th>1</th>\n",
              "      <td>10075382</td>\n",
              "      <td>2019-03-31</td>\n",
              "      <td>0.776636</td>\n",
              "      <td>0.111391</td>\n",
              "      <td>0.0</td>\n",
              "      <td>0.111974</td>\n",
              "      <td>0.0</td>\n",
              "      <td>0.000000</td>\n",
              "    </tr>\n",
              "    <tr>\n",
              "      <th>2</th>\n",
              "      <td>10075382</td>\n",
              "      <td>2019-06-30</td>\n",
              "      <td>0.768383</td>\n",
              "      <td>0.180804</td>\n",
              "      <td>0.0</td>\n",
              "      <td>0.050812</td>\n",
              "      <td>0.0</td>\n",
              "      <td>0.000000</td>\n",
              "    </tr>\n",
              "    <tr>\n",
              "      <th>3</th>\n",
              "      <td>10075382</td>\n",
              "      <td>2019-09-30</td>\n",
              "      <td>0.723701</td>\n",
              "      <td>0.211930</td>\n",
              "      <td>0.0</td>\n",
              "      <td>0.064368</td>\n",
              "      <td>0.0</td>\n",
              "      <td>0.000000</td>\n",
              "    </tr>\n",
              "    <tr>\n",
              "      <th>4</th>\n",
              "      <td>10075382</td>\n",
              "      <td>2019-12-31</td>\n",
              "      <td>0.728066</td>\n",
              "      <td>0.231642</td>\n",
              "      <td>0.0</td>\n",
              "      <td>0.038943</td>\n",
              "      <td>0.0</td>\n",
              "      <td>0.001348</td>\n",
              "    </tr>\n",
              "  </tbody>\n",
              "</table>\n",
              "</div>"
            ],
            "text/plain": [
              "  LGCYINVESTORID    HOLDDATE  PctLargeCap  ...    MidCap  NanoCap  SmallCap\n",
              "0       10075382  2018-12-31     0.786460  ...  0.127904      0.0  0.000041\n",
              "1       10075382  2019-03-31     0.776636  ...  0.111974      0.0  0.000000\n",
              "2       10075382  2019-06-30     0.768383  ...  0.050812      0.0  0.000000\n",
              "3       10075382  2019-09-30     0.723701  ...  0.064368      0.0  0.000000\n",
              "4       10075382  2019-12-31     0.728066  ...  0.038943      0.0  0.001348\n",
              "\n",
              "[5 rows x 8 columns]"
            ]
          },
          "metadata": {
            "tags": []
          },
          "execution_count": 104
        }
      ]
    },
    {
      "cell_type": "code",
      "metadata": {
        "id": "SsuxXp985_Ac"
      },
      "source": [
        "agg_mktcap_pivot.to_csv('./aggregated_mktcap_pct.csv', index=False)"
      ],
      "execution_count": null,
      "outputs": []
    },
    {
      "cell_type": "code",
      "metadata": {
        "id": "cRPRmqGGrn4k"
      },
      "source": [
        "def cal_distance(invID_1, invID_2, agg_mktcap_pivot = agg_mktcap_pivot):\n",
        "  distance = []\n",
        "  for cat in mktcap_cat:\n",
        "    ts_inv_1 = agg_mktcap_pivot[agg_mktcap_pivot['LGCYINVESTORID'] == invID_1][cat].values\n",
        "    ts_inv_2 = agg_mktcap_pivot[agg_mktcap_pivot['LGCYINVESTORID'] == invID_2][cat].values\n",
        "    distance.append(np.linalg.norm(ts_inv_1-ts_inv_2))\n",
        "  return np.mean(distance)"
      ],
      "execution_count": 110,
      "outputs": []
    },
    {
      "cell_type": "code",
      "metadata": {
        "id": "Jm88UgV4Y1eq"
      },
      "source": [
        "investor_list = list(set(merge['LGCYINVESTORID']))\n",
        "# len(investor_list)"
      ],
      "execution_count": 106,
      "outputs": []
    },
    {
      "cell_type": "code",
      "metadata": {
        "id": "qdMiEhhQYt77",
        "outputId": "974508f6-0db6-4090-a785-199f76d5fe56",
        "colab": {
          "base_uri": "https://localhost:8080/",
          "height": 66,
          "referenced_widgets": [
            "324a6bb793d3483fbc8493752cef9030",
            "a281dfb717ba4780bd24cc8bb1f3525b",
            "a9601a7c70ac496997b518bc49710f68",
            "57dade10bdfd4996ab2e46620f98391a",
            "52dde44b988342979a5fe666e411d844",
            "5bcdef24424f4d4aa80f2ecd2f0acdb7",
            "0694deb4bb4345df93116643fe7bd077",
            "80376052ecb8427786c9e73146d048e4"
          ]
        }
      },
      "source": [
        "distance_matrix = np.zeros((len(investor_list), len(investor_list)))\n",
        "for i in tqdm(range(len(investor_list))):\n",
        "  for j in range(i+1, len(investor_list)):\n",
        "    distance_matrix[i][j] = cal_distance(investor_list[i], investor_list[j])\n",
        "    distance_matrix[j][i] = distance_matrix[i][j]"
      ],
      "execution_count": 111,
      "outputs": [
        {
          "output_type": "display_data",
          "data": {
            "application/vnd.jupyter.widget-view+json": {
              "model_id": "324a6bb793d3483fbc8493752cef9030",
              "version_minor": 0,
              "version_major": 2
            },
            "text/plain": [
              "HBox(children=(FloatProgress(value=0.0, max=184.0), HTML(value='')))"
            ]
          },
          "metadata": {
            "tags": []
          }
        },
        {
          "output_type": "stream",
          "text": [
            "\n"
          ],
          "name": "stdout"
        }
      ]
    },
    {
      "cell_type": "code",
      "metadata": {
        "id": "3L2-x5bJZ-9-",
        "outputId": "aab14167-774d-4d9f-b2fc-117ac442dc78",
        "colab": {
          "base_uri": "https://localhost:8080/"
        }
      },
      "source": [
        "distance_matrix"
      ],
      "execution_count": 112,
      "outputs": [
        {
          "output_type": "execute_result",
          "data": {
            "text/plain": [
              "array([[0.        , 0.50909254, 1.24277933, ..., 0.50230091, 0.24039319,\n",
              "        0.16793423],\n",
              "       [0.50909254, 0.        , 0.99643481, ..., 0.46847486, 0.55268867,\n",
              "        0.40085093],\n",
              "       [1.24277933, 0.99643481, 0.        , ..., 1.00854499, 1.22381757,\n",
              "        1.10690499],\n",
              "       ...,\n",
              "       [0.50230091, 0.46847486, 1.00854499, ..., 0.        , 0.52825776,\n",
              "        0.45372385],\n",
              "       [0.24039319, 0.55268867, 1.22381757, ..., 0.52825776, 0.        ,\n",
              "        0.29955141],\n",
              "       [0.16793423, 0.40085093, 1.10690499, ..., 0.45372385, 0.29955141,\n",
              "        0.        ]])"
            ]
          },
          "metadata": {
            "tags": []
          },
          "execution_count": 112
        }
      ]
    },
    {
      "cell_type": "code",
      "metadata": {
        "id": "gvCZfmMiY6n2"
      },
      "source": [
        "distance_matrix_df = pd.DataFrame(distance_matrix)"
      ],
      "execution_count": 113,
      "outputs": []
    },
    {
      "cell_type": "code",
      "metadata": {
        "id": "dfl3eQrIY6qZ",
        "outputId": "82769380-7ca2-4969-fac5-aa29a134e73a",
        "colab": {
          "base_uri": "https://localhost:8080/",
          "height": 253
        }
      },
      "source": [
        "distance_matrix_df.head()"
      ],
      "execution_count": 116,
      "outputs": [
        {
          "output_type": "execute_result",
          "data": {
            "text/html": [
              "<div>\n",
              "<style scoped>\n",
              "    .dataframe tbody tr th:only-of-type {\n",
              "        vertical-align: middle;\n",
              "    }\n",
              "\n",
              "    .dataframe tbody tr th {\n",
              "        vertical-align: top;\n",
              "    }\n",
              "\n",
              "    .dataframe thead th {\n",
              "        text-align: right;\n",
              "    }\n",
              "</style>\n",
              "<table border=\"1\" class=\"dataframe\">\n",
              "  <thead>\n",
              "    <tr style=\"text-align: right;\">\n",
              "      <th></th>\n",
              "      <th>2003710</th>\n",
              "      <th>5206490</th>\n",
              "      <th>2930530</th>\n",
              "      <th>2004490</th>\n",
              "      <th>2006430</th>\n",
              "      <th>2002142</th>\n",
              "      <th>4924814</th>\n",
              "      <th>2001999</th>\n",
              "      <th>2002947</th>\n",
              "      <th>2004627</th>\n",
              "      <th>2003800</th>\n",
              "      <th>2001935</th>\n",
              "      <th>5308615</th>\n",
              "      <th>2452904</th>\n",
              "      <th>2003332</th>\n",
              "      <th>2003597</th>\n",
              "      <th>2529162</th>\n",
              "      <th>2002158</th>\n",
              "      <th>5206923</th>\n",
              "      <th>2004282</th>\n",
              "      <th>2412347</th>\n",
              "      <th>2002875</th>\n",
              "      <th>2502059</th>\n",
              "      <th>5050280</th>\n",
              "      <th>2625886</th>\n",
              "      <th>2002628</th>\n",
              "      <th>2002921</th>\n",
              "      <th>5529187</th>\n",
              "      <th>2002975</th>\n",
              "      <th>2004887</th>\n",
              "      <th>2449877</th>\n",
              "      <th>2004134</th>\n",
              "      <th>2575181</th>\n",
              "      <th>2005893</th>\n",
              "      <th>2455426</th>\n",
              "      <th>3015075</th>\n",
              "      <th>2002819</th>\n",
              "      <th>2646754</th>\n",
              "      <th>2001934</th>\n",
              "      <th>2003819</th>\n",
              "      <th>...</th>\n",
              "      <th>2113769</th>\n",
              "      <th>5986931</th>\n",
              "      <th>2007217</th>\n",
              "      <th>2785553</th>\n",
              "      <th>2002713</th>\n",
              "      <th>2006033</th>\n",
              "      <th>2004523</th>\n",
              "      <th>2007403</th>\n",
              "      <th>2536411</th>\n",
              "      <th>2004318</th>\n",
              "      <th>7016524</th>\n",
              "      <th>2003003</th>\n",
              "      <th>2002451</th>\n",
              "      <th>2003838</th>\n",
              "      <th>2620417</th>\n",
              "      <th>2003101</th>\n",
              "      <th>2003171</th>\n",
              "      <th>2006588</th>\n",
              "      <th>2002180</th>\n",
              "      <th>2005821</th>\n",
              "      <th>5205742</th>\n",
              "      <th>2006922</th>\n",
              "      <th>2003294</th>\n",
              "      <th>2578454</th>\n",
              "      <th>2003230</th>\n",
              "      <th>2490230</th>\n",
              "      <th>2002867</th>\n",
              "      <th>2002801</th>\n",
              "      <th>2906273</th>\n",
              "      <th>2005801</th>\n",
              "      <th>2006955</th>\n",
              "      <th>2007683</th>\n",
              "      <th>2007039</th>\n",
              "      <th>2004000</th>\n",
              "      <th>2247678</th>\n",
              "      <th>6921752</th>\n",
              "      <th>6139212</th>\n",
              "      <th>9113038</th>\n",
              "      <th>4040011</th>\n",
              "      <th>2003354</th>\n",
              "    </tr>\n",
              "  </thead>\n",
              "  <tbody>\n",
              "    <tr>\n",
              "      <th>2003710</th>\n",
              "      <td>0.000000</td>\n",
              "      <td>0.509093</td>\n",
              "      <td>1.242779</td>\n",
              "      <td>0.394200</td>\n",
              "      <td>1.040254</td>\n",
              "      <td>0.158446</td>\n",
              "      <td>1.161986</td>\n",
              "      <td>0.172539</td>\n",
              "      <td>0.446653</td>\n",
              "      <td>0.185420</td>\n",
              "      <td>0.054327</td>\n",
              "      <td>0.216783</td>\n",
              "      <td>0.876947</td>\n",
              "      <td>0.549795</td>\n",
              "      <td>0.330080</td>\n",
              "      <td>0.564718</td>\n",
              "      <td>0.480378</td>\n",
              "      <td>0.206758</td>\n",
              "      <td>0.360280</td>\n",
              "      <td>0.533095</td>\n",
              "      <td>0.552986</td>\n",
              "      <td>0.172986</td>\n",
              "      <td>0.848882</td>\n",
              "      <td>0.273353</td>\n",
              "      <td>0.821388</td>\n",
              "      <td>0.148086</td>\n",
              "      <td>0.149879</td>\n",
              "      <td>0.253527</td>\n",
              "      <td>0.189398</td>\n",
              "      <td>0.508881</td>\n",
              "      <td>0.288534</td>\n",
              "      <td>0.245198</td>\n",
              "      <td>0.379033</td>\n",
              "      <td>0.514540</td>\n",
              "      <td>0.193307</td>\n",
              "      <td>1.022811</td>\n",
              "      <td>0.159554</td>\n",
              "      <td>0.657331</td>\n",
              "      <td>0.250448</td>\n",
              "      <td>0.050423</td>\n",
              "      <td>...</td>\n",
              "      <td>0.241158</td>\n",
              "      <td>1.246076</td>\n",
              "      <td>0.571354</td>\n",
              "      <td>0.214605</td>\n",
              "      <td>0.087683</td>\n",
              "      <td>0.210751</td>\n",
              "      <td>1.189464</td>\n",
              "      <td>0.448782</td>\n",
              "      <td>0.681872</td>\n",
              "      <td>1.410602</td>\n",
              "      <td>1.299881</td>\n",
              "      <td>0.167352</td>\n",
              "      <td>0.215302</td>\n",
              "      <td>0.394419</td>\n",
              "      <td>0.927089</td>\n",
              "      <td>0.516881</td>\n",
              "      <td>0.126878</td>\n",
              "      <td>0.932344</td>\n",
              "      <td>0.485838</td>\n",
              "      <td>0.318736</td>\n",
              "      <td>0.921086</td>\n",
              "      <td>0.354014</td>\n",
              "      <td>0.311166</td>\n",
              "      <td>0.380324</td>\n",
              "      <td>0.572769</td>\n",
              "      <td>1.018972</td>\n",
              "      <td>0.235661</td>\n",
              "      <td>0.152434</td>\n",
              "      <td>1.365069</td>\n",
              "      <td>0.611091</td>\n",
              "      <td>0.838101</td>\n",
              "      <td>0.648030</td>\n",
              "      <td>0.193986</td>\n",
              "      <td>0.054906</td>\n",
              "      <td>0.214409</td>\n",
              "      <td>0.667783</td>\n",
              "      <td>0.411153</td>\n",
              "      <td>0.502301</td>\n",
              "      <td>0.240393</td>\n",
              "      <td>0.167934</td>\n",
              "    </tr>\n",
              "    <tr>\n",
              "      <th>5206490</th>\n",
              "      <td>0.509093</td>\n",
              "      <td>0.000000</td>\n",
              "      <td>0.996435</td>\n",
              "      <td>0.366505</td>\n",
              "      <td>0.783352</td>\n",
              "      <td>0.450786</td>\n",
              "      <td>0.861755</td>\n",
              "      <td>0.400034</td>\n",
              "      <td>0.413662</td>\n",
              "      <td>0.484749</td>\n",
              "      <td>0.478067</td>\n",
              "      <td>0.372851</td>\n",
              "      <td>0.789567</td>\n",
              "      <td>0.404148</td>\n",
              "      <td>0.383423</td>\n",
              "      <td>0.520471</td>\n",
              "      <td>0.483324</td>\n",
              "      <td>0.456852</td>\n",
              "      <td>0.473015</td>\n",
              "      <td>0.454253</td>\n",
              "      <td>0.404043</td>\n",
              "      <td>0.404286</td>\n",
              "      <td>0.755571</td>\n",
              "      <td>0.436967</td>\n",
              "      <td>0.668733</td>\n",
              "      <td>0.491060</td>\n",
              "      <td>0.431365</td>\n",
              "      <td>0.411977</td>\n",
              "      <td>0.471344</td>\n",
              "      <td>0.406680</td>\n",
              "      <td>0.418242</td>\n",
              "      <td>0.389955</td>\n",
              "      <td>0.399636</td>\n",
              "      <td>0.436081</td>\n",
              "      <td>0.401441</td>\n",
              "      <td>0.757787</td>\n",
              "      <td>0.440383</td>\n",
              "      <td>0.704498</td>\n",
              "      <td>0.398503</td>\n",
              "      <td>0.480636</td>\n",
              "      <td>...</td>\n",
              "      <td>0.416060</td>\n",
              "      <td>0.913156</td>\n",
              "      <td>0.398457</td>\n",
              "      <td>0.466988</td>\n",
              "      <td>0.461462</td>\n",
              "      <td>0.485834</td>\n",
              "      <td>0.918443</td>\n",
              "      <td>0.362751</td>\n",
              "      <td>0.670895</td>\n",
              "      <td>1.117937</td>\n",
              "      <td>1.108371</td>\n",
              "      <td>0.410708</td>\n",
              "      <td>0.405497</td>\n",
              "      <td>0.409247</td>\n",
              "      <td>0.733606</td>\n",
              "      <td>0.391289</td>\n",
              "      <td>0.419085</td>\n",
              "      <td>0.629870</td>\n",
              "      <td>0.417767</td>\n",
              "      <td>0.430085</td>\n",
              "      <td>0.683899</td>\n",
              "      <td>0.389521</td>\n",
              "      <td>0.353462</td>\n",
              "      <td>0.373228</td>\n",
              "      <td>0.444179</td>\n",
              "      <td>0.711317</td>\n",
              "      <td>0.384491</td>\n",
              "      <td>0.437568</td>\n",
              "      <td>1.069408</td>\n",
              "      <td>0.536206</td>\n",
              "      <td>0.552513</td>\n",
              "      <td>0.573427</td>\n",
              "      <td>0.419040</td>\n",
              "      <td>0.478099</td>\n",
              "      <td>0.499075</td>\n",
              "      <td>0.586739</td>\n",
              "      <td>0.467229</td>\n",
              "      <td>0.468475</td>\n",
              "      <td>0.552689</td>\n",
              "      <td>0.400851</td>\n",
              "    </tr>\n",
              "    <tr>\n",
              "      <th>2930530</th>\n",
              "      <td>1.242779</td>\n",
              "      <td>0.996435</td>\n",
              "      <td>0.000000</td>\n",
              "      <td>0.929828</td>\n",
              "      <td>1.036060</td>\n",
              "      <td>1.163532</td>\n",
              "      <td>1.029400</td>\n",
              "      <td>1.103564</td>\n",
              "      <td>0.875322</td>\n",
              "      <td>1.212612</td>\n",
              "      <td>1.208295</td>\n",
              "      <td>1.088234</td>\n",
              "      <td>0.986769</td>\n",
              "      <td>0.832996</td>\n",
              "      <td>0.970565</td>\n",
              "      <td>0.988439</td>\n",
              "      <td>1.072718</td>\n",
              "      <td>1.134756</td>\n",
              "      <td>1.099547</td>\n",
              "      <td>0.896505</td>\n",
              "      <td>0.846339</td>\n",
              "      <td>1.098886</td>\n",
              "      <td>1.160034</td>\n",
              "      <td>1.087809</td>\n",
              "      <td>0.694752</td>\n",
              "      <td>1.237509</td>\n",
              "      <td>1.168060</td>\n",
              "      <td>1.133216</td>\n",
              "      <td>1.209118</td>\n",
              "      <td>1.008422</td>\n",
              "      <td>1.051478</td>\n",
              "      <td>1.043613</td>\n",
              "      <td>0.925807</td>\n",
              "      <td>0.859167</td>\n",
              "      <td>1.096764</td>\n",
              "      <td>1.015117</td>\n",
              "      <td>1.156381</td>\n",
              "      <td>1.049397</td>\n",
              "      <td>1.041454</td>\n",
              "      <td>1.212534</td>\n",
              "      <td>...</td>\n",
              "      <td>1.039935</td>\n",
              "      <td>1.099346</td>\n",
              "      <td>0.881449</td>\n",
              "      <td>1.142394</td>\n",
              "      <td>1.192563</td>\n",
              "      <td>1.222466</td>\n",
              "      <td>0.725942</td>\n",
              "      <td>0.987425</td>\n",
              "      <td>0.928708</td>\n",
              "      <td>1.308642</td>\n",
              "      <td>1.399303</td>\n",
              "      <td>1.117285</td>\n",
              "      <td>1.067662</td>\n",
              "      <td>0.971727</td>\n",
              "      <td>0.672509</td>\n",
              "      <td>0.934188</td>\n",
              "      <td>1.145616</td>\n",
              "      <td>0.871806</td>\n",
              "      <td>0.969776</td>\n",
              "      <td>1.016416</td>\n",
              "      <td>0.797374</td>\n",
              "      <td>0.949228</td>\n",
              "      <td>1.026481</td>\n",
              "      <td>0.947135</td>\n",
              "      <td>0.790653</td>\n",
              "      <td>0.654773</td>\n",
              "      <td>1.042316</td>\n",
              "      <td>1.132134</td>\n",
              "      <td>1.107297</td>\n",
              "      <td>0.845822</td>\n",
              "      <td>0.763643</td>\n",
              "      <td>0.974999</td>\n",
              "      <td>1.089561</td>\n",
              "      <td>1.207560</td>\n",
              "      <td>1.151542</td>\n",
              "      <td>0.933921</td>\n",
              "      <td>1.100486</td>\n",
              "      <td>1.008545</td>\n",
              "      <td>1.223818</td>\n",
              "      <td>1.106905</td>\n",
              "    </tr>\n",
              "    <tr>\n",
              "      <th>2004490</th>\n",
              "      <td>0.394200</td>\n",
              "      <td>0.366505</td>\n",
              "      <td>0.929828</td>\n",
              "      <td>0.000000</td>\n",
              "      <td>0.771061</td>\n",
              "      <td>0.321386</td>\n",
              "      <td>0.832681</td>\n",
              "      <td>0.234451</td>\n",
              "      <td>0.127784</td>\n",
              "      <td>0.386751</td>\n",
              "      <td>0.355443</td>\n",
              "      <td>0.201179</td>\n",
              "      <td>0.733013</td>\n",
              "      <td>0.248178</td>\n",
              "      <td>0.091458</td>\n",
              "      <td>0.571939</td>\n",
              "      <td>0.360523</td>\n",
              "      <td>0.329471</td>\n",
              "      <td>0.394091</td>\n",
              "      <td>0.265780</td>\n",
              "      <td>0.177544</td>\n",
              "      <td>0.231601</td>\n",
              "      <td>0.743741</td>\n",
              "      <td>0.266314</td>\n",
              "      <td>0.528293</td>\n",
              "      <td>0.384372</td>\n",
              "      <td>0.303579</td>\n",
              "      <td>0.272683</td>\n",
              "      <td>0.364385</td>\n",
              "      <td>0.306915</td>\n",
              "      <td>0.217848</td>\n",
              "      <td>0.166272</td>\n",
              "      <td>0.085418</td>\n",
              "      <td>0.182669</td>\n",
              "      <td>0.219737</td>\n",
              "      <td>0.734598</td>\n",
              "      <td>0.311220</td>\n",
              "      <td>0.720684</td>\n",
              "      <td>0.172290</td>\n",
              "      <td>0.360721</td>\n",
              "      <td>...</td>\n",
              "      <td>0.191980</td>\n",
              "      <td>0.957764</td>\n",
              "      <td>0.199389</td>\n",
              "      <td>0.314599</td>\n",
              "      <td>0.336290</td>\n",
              "      <td>0.385129</td>\n",
              "      <td>0.839576</td>\n",
              "      <td>0.205393</td>\n",
              "      <td>0.693063</td>\n",
              "      <td>1.169129</td>\n",
              "      <td>1.194371</td>\n",
              "      <td>0.238952</td>\n",
              "      <td>0.203081</td>\n",
              "      <td>0.176441</td>\n",
              "      <td>0.628346</td>\n",
              "      <td>0.274941</td>\n",
              "      <td>0.280819</td>\n",
              "      <td>0.587986</td>\n",
              "      <td>0.231381</td>\n",
              "      <td>0.215515</td>\n",
              "      <td>0.594894</td>\n",
              "      <td>0.160256</td>\n",
              "      <td>0.134029</td>\n",
              "      <td>0.109819</td>\n",
              "      <td>0.234349</td>\n",
              "      <td>0.659674</td>\n",
              "      <td>0.171316</td>\n",
              "      <td>0.289349</td>\n",
              "      <td>1.046234</td>\n",
              "      <td>0.389953</td>\n",
              "      <td>0.492395</td>\n",
              "      <td>0.532750</td>\n",
              "      <td>0.222896</td>\n",
              "      <td>0.354178</td>\n",
              "      <td>0.320553</td>\n",
              "      <td>0.390189</td>\n",
              "      <td>0.506814</td>\n",
              "      <td>0.485797</td>\n",
              "      <td>0.446376</td>\n",
              "      <td>0.238950</td>\n",
              "    </tr>\n",
              "    <tr>\n",
              "      <th>2006430</th>\n",
              "      <td>1.040254</td>\n",
              "      <td>0.783352</td>\n",
              "      <td>1.036060</td>\n",
              "      <td>0.771061</td>\n",
              "      <td>0.000000</td>\n",
              "      <td>0.975406</td>\n",
              "      <td>0.760786</td>\n",
              "      <td>0.913941</td>\n",
              "      <td>0.788067</td>\n",
              "      <td>1.024682</td>\n",
              "      <td>1.008480</td>\n",
              "      <td>0.876381</td>\n",
              "      <td>0.938746</td>\n",
              "      <td>0.735841</td>\n",
              "      <td>0.817005</td>\n",
              "      <td>0.978588</td>\n",
              "      <td>0.813049</td>\n",
              "      <td>0.963754</td>\n",
              "      <td>0.901405</td>\n",
              "      <td>0.721198</td>\n",
              "      <td>0.707992</td>\n",
              "      <td>0.922035</td>\n",
              "      <td>1.066405</td>\n",
              "      <td>0.941647</td>\n",
              "      <td>0.705987</td>\n",
              "      <td>1.011175</td>\n",
              "      <td>0.948898</td>\n",
              "      <td>0.901772</td>\n",
              "      <td>0.991030</td>\n",
              "      <td>0.811086</td>\n",
              "      <td>0.887908</td>\n",
              "      <td>0.883208</td>\n",
              "      <td>0.811289</td>\n",
              "      <td>0.753020</td>\n",
              "      <td>0.908758</td>\n",
              "      <td>0.626327</td>\n",
              "      <td>0.948985</td>\n",
              "      <td>1.049034</td>\n",
              "      <td>0.880022</td>\n",
              "      <td>1.008241</td>\n",
              "      <td>...</td>\n",
              "      <td>0.884162</td>\n",
              "      <td>0.712099</td>\n",
              "      <td>0.649694</td>\n",
              "      <td>0.999537</td>\n",
              "      <td>0.988391</td>\n",
              "      <td>1.002775</td>\n",
              "      <td>0.882094</td>\n",
              "      <td>0.746610</td>\n",
              "      <td>0.924576</td>\n",
              "      <td>1.013220</td>\n",
              "      <td>1.024370</td>\n",
              "      <td>0.919054</td>\n",
              "      <td>0.907264</td>\n",
              "      <td>0.829027</td>\n",
              "      <td>1.008028</td>\n",
              "      <td>0.814426</td>\n",
              "      <td>0.951678</td>\n",
              "      <td>0.524799</td>\n",
              "      <td>0.736878</td>\n",
              "      <td>0.913493</td>\n",
              "      <td>0.846627</td>\n",
              "      <td>0.821932</td>\n",
              "      <td>0.819245</td>\n",
              "      <td>0.776222</td>\n",
              "      <td>0.751212</td>\n",
              "      <td>0.722842</td>\n",
              "      <td>0.867833</td>\n",
              "      <td>0.961992</td>\n",
              "      <td>0.856460</td>\n",
              "      <td>0.916023</td>\n",
              "      <td>0.765012</td>\n",
              "      <td>1.048237</td>\n",
              "      <td>0.904827</td>\n",
              "      <td>1.003366</td>\n",
              "      <td>0.967477</td>\n",
              "      <td>0.733538</td>\n",
              "      <td>1.038387</td>\n",
              "      <td>0.962139</td>\n",
              "      <td>1.077488</td>\n",
              "      <td>0.919508</td>\n",
              "    </tr>\n",
              "  </tbody>\n",
              "</table>\n",
              "<p>5 rows × 184 columns</p>\n",
              "</div>"
            ],
            "text/plain": [
              "          2003710   5206490   2930530  ...   9113038   4040011   2003354\n",
              "2003710  0.000000  0.509093  1.242779  ...  0.502301  0.240393  0.167934\n",
              "5206490  0.509093  0.000000  0.996435  ...  0.468475  0.552689  0.400851\n",
              "2930530  1.242779  0.996435  0.000000  ...  1.008545  1.223818  1.106905\n",
              "2004490  0.394200  0.366505  0.929828  ...  0.485797  0.446376  0.238950\n",
              "2006430  1.040254  0.783352  1.036060  ...  0.962139  1.077488  0.919508\n",
              "\n",
              "[5 rows x 184 columns]"
            ]
          },
          "metadata": {
            "tags": []
          },
          "execution_count": 116
        }
      ]
    },
    {
      "cell_type": "code",
      "metadata": {
        "id": "JWDgh7JKY6uh"
      },
      "source": [
        "distance_matrix_df.columns = investor_list\n",
        "distance_matrix_df.index = investor_list"
      ],
      "execution_count": 115,
      "outputs": []
    },
    {
      "cell_type": "code",
      "metadata": {
        "id": "XJ8LokRodZvV"
      },
      "source": [
        "distance_matrix_df.to_csv('./distance_matrix_df_by_pct_mktcap.csv')"
      ],
      "execution_count": 117,
      "outputs": []
    },
    {
      "cell_type": "code",
      "metadata": {
        "id": "fq9IXWF6dZx8"
      },
      "source": [
        ""
      ],
      "execution_count": null,
      "outputs": []
    },
    {
      "cell_type": "code",
      "metadata": {
        "id": "6Q1SP-8YdZ11"
      },
      "source": [
        "############################################### "
      ],
      "execution_count": null,
      "outputs": []
    },
    {
      "cell_type": "code",
      "metadata": {
        "id": "EQCgohtSseD2"
      },
      "source": [
        "vanguard_id = '2004260'\n",
        "investor_list = list(set(merge['LGCYINVESTORID']))"
      ],
      "execution_count": null,
      "outputs": []
    },
    {
      "cell_type": "code",
      "metadata": {
        "id": "KiENJuWOseII",
        "outputId": "cf3c6b7a-d7e7-4bc8-b53f-59b7f07f6ea8",
        "colab": {
          "base_uri": "https://localhost:8080/"
        }
      },
      "source": [
        "cal_distance(vanguard_id, '10061989')"
      ],
      "execution_count": null,
      "outputs": [
        {
          "output_type": "execute_result",
          "data": {
            "text/plain": [
              "0.4254830753347956"
            ]
          },
          "metadata": {
            "tags": []
          },
          "execution_count": 22
        }
      ]
    },
    {
      "cell_type": "code",
      "metadata": {
        "id": "NmuaFbK0seMj",
        "outputId": "33208819-c9d6-407f-a059-a5f1b92eaf74",
        "colab": {
          "base_uri": "https://localhost:8080/",
          "height": 66,
          "referenced_widgets": [
            "452f86d2300c422293203113337c34f6",
            "086de259d4014be09571c830a79732a8",
            "5c064d6646ba4894a5f22d2213698216",
            "9f5c85a79cb84c0e9e97f6e0767aecb9",
            "a465b97b1a8d4d01a021a5e34231bfcf",
            "96ca23c4a5ee486c9ca14dfe36097920",
            "422d6e86f0d54c98a9d25bc14dab284d",
            "9b530c841b8f4025b5f5f987a19a4f81"
          ]
        }
      },
      "source": [
        "distance_to_vanguard_list = []\n",
        "for investor in tqdm(investor_list):\n",
        "  distance_to_vanguard = cal_distance(investor, vanguard_id)\n",
        "  distance_to_vanguard_list.append(distance_to_vanguard)\n",
        "\n",
        "distance_to_vanguard_df = pd.DataFrame({\n",
        "    'investor_id': investor_list,\n",
        "    'distance_to_vanguard': distance_to_vanguard_list\n",
        "})"
      ],
      "execution_count": null,
      "outputs": [
        {
          "output_type": "display_data",
          "data": {
            "application/vnd.jupyter.widget-view+json": {
              "model_id": "452f86d2300c422293203113337c34f6",
              "version_minor": 0,
              "version_major": 2
            },
            "text/plain": [
              "HBox(children=(FloatProgress(value=0.0, max=229.0), HTML(value='')))"
            ]
          },
          "metadata": {
            "tags": []
          }
        },
        {
          "output_type": "stream",
          "text": [
            "\n"
          ],
          "name": "stdout"
        }
      ]
    },
    {
      "cell_type": "code",
      "metadata": {
        "id": "sr6_z1nmtZnl"
      },
      "source": [
        "distance_to_vanguard_df = distance_to_vanguard_df.merge(merge[['LGCYINVESTORID','FULLNAME']], how='inner', left_on='investor_id', right_on='LGCYINVESTORID')"
      ],
      "execution_count": null,
      "outputs": []
    },
    {
      "cell_type": "code",
      "metadata": {
        "id": "tjyr7FaluPqA"
      },
      "source": [
        "distance_to_vanguard_df = distance_to_vanguard_df.drop_duplicates(subset='investor_id').drop(columns='investor_id')"
      ],
      "execution_count": null,
      "outputs": []
    },
    {
      "cell_type": "code",
      "metadata": {
        "id": "SDYQXDYSvXjz"
      },
      "source": [
        "distance_to_vanguard_df = distance_to_vanguard_df.sort_values(by='distance_to_vanguard')"
      ],
      "execution_count": null,
      "outputs": []
    },
    {
      "cell_type": "code",
      "metadata": {
        "id": "gSYQ915hvXvP",
        "outputId": "a104584d-93d7-4f84-a6d3-c90b7e10d033",
        "colab": {
          "base_uri": "https://localhost:8080/",
          "height": 419
        }
      },
      "source": [
        "distance_to_vanguard_df"
      ],
      "execution_count": null,
      "outputs": [
        {
          "output_type": "execute_result",
          "data": {
            "text/html": [
              "<div>\n",
              "<style scoped>\n",
              "    .dataframe tbody tr th:only-of-type {\n",
              "        vertical-align: middle;\n",
              "    }\n",
              "\n",
              "    .dataframe tbody tr th {\n",
              "        vertical-align: top;\n",
              "    }\n",
              "\n",
              "    .dataframe thead th {\n",
              "        text-align: right;\n",
              "    }\n",
              "</style>\n",
              "<table border=\"1\" class=\"dataframe\">\n",
              "  <thead>\n",
              "    <tr style=\"text-align: right;\">\n",
              "      <th></th>\n",
              "      <th>distance_to_vanguard</th>\n",
              "      <th>LGCYINVESTORID</th>\n",
              "      <th>FULLNAME</th>\n",
              "    </tr>\n",
              "  </thead>\n",
              "  <tbody>\n",
              "    <tr>\n",
              "      <th>1981677</th>\n",
              "      <td>0.000000</td>\n",
              "      <td>2004260</td>\n",
              "      <td>The Vanguard Group, Inc.</td>\n",
              "    </tr>\n",
              "    <tr>\n",
              "      <th>1461563</th>\n",
              "      <td>0.027857</td>\n",
              "      <td>2002506</td>\n",
              "      <td>BNY Mellon Asset Management</td>\n",
              "    </tr>\n",
              "    <tr>\n",
              "      <th>707576</th>\n",
              "      <td>0.029248</td>\n",
              "      <td>2003131</td>\n",
              "      <td>T. Rowe Price Associates, Inc.</td>\n",
              "    </tr>\n",
              "    <tr>\n",
              "      <th>1576774</th>\n",
              "      <td>0.029891</td>\n",
              "      <td>2003003</td>\n",
              "      <td>BlackRock Investment Management, LLC</td>\n",
              "    </tr>\n",
              "    <tr>\n",
              "      <th>1255342</th>\n",
              "      <td>0.032800</td>\n",
              "      <td>2455426</td>\n",
              "      <td>Adage Capital Management, L.P.</td>\n",
              "    </tr>\n",
              "    <tr>\n",
              "      <th>...</th>\n",
              "      <td>...</td>\n",
              "      <td>...</td>\n",
              "      <td>...</td>\n",
              "    </tr>\n",
              "    <tr>\n",
              "      <th>1645962</th>\n",
              "      <td>1.121646</td>\n",
              "      <td>4889409</td>\n",
              "      <td>Centerbridge Partners, L.P.</td>\n",
              "    </tr>\n",
              "    <tr>\n",
              "      <th>2702089</th>\n",
              "      <td>1.210031</td>\n",
              "      <td>2906273</td>\n",
              "      <td>Great Point Partners, LLC</td>\n",
              "    </tr>\n",
              "    <tr>\n",
              "      <th>1055623</th>\n",
              "      <td>1.230583</td>\n",
              "      <td>7016524</td>\n",
              "      <td>Hartford Funds Management Company, LLC</td>\n",
              "    </tr>\n",
              "    <tr>\n",
              "      <th>454805</th>\n",
              "      <td>1.271799</td>\n",
              "      <td>2004318</td>\n",
              "      <td>CarVal Investors L.P.</td>\n",
              "    </tr>\n",
              "    <tr>\n",
              "      <th>2238875</th>\n",
              "      <td>1.306624</td>\n",
              "      <td>2494658</td>\n",
              "      <td>The Carlyle Group</td>\n",
              "    </tr>\n",
              "  </tbody>\n",
              "</table>\n",
              "<p>229 rows × 3 columns</p>\n",
              "</div>"
            ],
            "text/plain": [
              "         distance_to_vanguard  ...                                FULLNAME\n",
              "1981677              0.000000  ...                The Vanguard Group, Inc.\n",
              "1461563              0.027857  ...             BNY Mellon Asset Management\n",
              "707576               0.029248  ...          T. Rowe Price Associates, Inc.\n",
              "1576774              0.029891  ...    BlackRock Investment Management, LLC\n",
              "1255342              0.032800  ...          Adage Capital Management, L.P.\n",
              "...                       ...  ...                                     ...\n",
              "1645962              1.121646  ...             Centerbridge Partners, L.P.\n",
              "2702089              1.210031  ...               Great Point Partners, LLC\n",
              "1055623              1.230583  ...  Hartford Funds Management Company, LLC\n",
              "454805               1.271799  ...                   CarVal Investors L.P.\n",
              "2238875              1.306624  ...                       The Carlyle Group\n",
              "\n",
              "[229 rows x 3 columns]"
            ]
          },
          "metadata": {
            "tags": []
          },
          "execution_count": 27
        }
      ]
    },
    {
      "cell_type": "code",
      "metadata": {
        "id": "V_VyI2ylvvjT"
      },
      "source": [
        "distance_to_vanguard_df.to_csv('./distance_to_vanguard_by_aggregating_mktcap.csv', index=False)"
      ],
      "execution_count": null,
      "outputs": []
    }
  ]
}